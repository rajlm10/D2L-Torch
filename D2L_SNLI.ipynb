{
  "nbformat": 4,
  "nbformat_minor": 0,
  "metadata": {
    "colab": {
      "name": "D2L_SNLI.ipynb",
      "provenance": [],
      "authorship_tag": "ABX9TyMlPi6jmqxebA1B4mMcxz/+",
      "include_colab_link": true
    },
    "kernelspec": {
      "name": "python3",
      "display_name": "Python 3"
    },
    "language_info": {
      "name": "python"
    },
    "accelerator": "GPU",
    "gpuClass": "standard"
  },
  "cells": [
    {
      "cell_type": "markdown",
      "metadata": {
        "id": "view-in-github",
        "colab_type": "text"
      },
      "source": [
        "<a href=\"https://colab.research.google.com/github/rajlm10/D2L-Torch/blob/main/D2L_SNLI.ipynb\" target=\"_parent\"><img src=\"https://colab.research.google.com/assets/colab-badge.svg\" alt=\"Open In Colab\"/></a>"
      ]
    },
    {
      "cell_type": "code",
      "execution_count": 1,
      "metadata": {
        "colab": {
          "base_uri": "https://localhost:8080/"
        },
        "id": "nxz02SvxRweP",
        "outputId": "ea242db2-a55e-40b3-9f6b-57a3b8e73857"
      },
      "outputs": [
        {
          "output_type": "stream",
          "name": "stdout",
          "text": [
            "\u001b[K     |████████████████████████████████| 82 kB 271 kB/s \n",
            "\u001b[K     |████████████████████████████████| 61 kB 5.9 MB/s \n",
            "\u001b[K     |████████████████████████████████| 9.9 MB 21.7 MB/s \n",
            "\u001b[K     |████████████████████████████████| 15.7 MB 48.6 MB/s \n",
            "\u001b[K     |████████████████████████████████| 11.2 MB 28.4 MB/s \n",
            "\u001b[K     |████████████████████████████████| 930 kB 55.0 MB/s \n",
            "\u001b[31mERROR: pip's dependency resolver does not currently take into account all the packages that are installed. This behaviour is the source of the following dependency conflicts.\n",
            "google-colab 1.0.0 requires requests~=2.23.0, but you have requests 2.25.1 which is incompatible.\n",
            "datascience 0.10.6 requires folium==0.2.1, but you have folium 0.8.3 which is incompatible.\n",
            "albumentations 0.1.12 requires imgaug<0.2.7,>=0.2.5, but you have imgaug 0.2.9 which is incompatible.\u001b[0m\n",
            "\u001b[?25h"
          ]
        }
      ],
      "source": [
        "!pip install d2l -q "
      ]
    },
    {
      "cell_type": "code",
      "source": [
        "!pip install -q torchinfo"
      ],
      "metadata": {
        "id": "QuzGr8QdeTlj"
      },
      "execution_count": 28,
      "outputs": []
    },
    {
      "cell_type": "code",
      "source": [
        "import os\n",
        "import re\n",
        "import torch\n",
        "from torch import nn\n",
        "from torch.nn import functional as F\n",
        "from d2l import torch as d2l\n",
        "import nltk\n",
        "import collections\n",
        "import multiprocessing\n",
        "from torchinfo import summary\n",
        "nltk.download('punkt')"
      ],
      "metadata": {
        "colab": {
          "base_uri": "https://localhost:8080/"
        },
        "id": "Q0_NCK7FSFXj",
        "outputId": "4d47b451-0e64-41f3-cb65-db5483799812"
      },
      "execution_count": 29,
      "outputs": [
        {
          "output_type": "stream",
          "name": "stderr",
          "text": [
            "[nltk_data] Downloading package punkt to /root/nltk_data...\n",
            "[nltk_data]   Package punkt is already up-to-date!\n"
          ]
        },
        {
          "output_type": "execute_result",
          "data": {
            "text/plain": [
              "True"
            ]
          },
          "metadata": {},
          "execution_count": 29
        }
      ]
    },
    {
      "cell_type": "code",
      "source": [
        "d2l.DATA_HUB['SNLI'] = ( 'https://nlp.stanford.edu/projects/snli/snli_1.0.zip', '9fcde07509c7e87ec61c640c1b2753d9041758e4')\n",
        "data_dir = d2l.download_extract('SNLI')"
      ],
      "metadata": {
        "colab": {
          "base_uri": "https://localhost:8080/"
        },
        "id": "Z4gWQL2QSHqr",
        "outputId": "0bc9bef7-10d3-4d1a-a828-0647de4514a5"
      },
      "execution_count": 2,
      "outputs": [
        {
          "output_type": "stream",
          "name": "stdout",
          "text": [
            "Downloading ../data/snli_1.0.zip from https://nlp.stanford.edu/projects/snli/snli_1.0.zip...\n"
          ]
        }
      ]
    },
    {
      "cell_type": "markdown",
      "source": [
        "#Creating the dataset"
      ],
      "metadata": {
        "id": "uopQmjIaSLYT"
      }
    },
    {
      "cell_type": "code",
      "source": [
        "class Vocab:\n",
        "  def __init__(self, tokens=None, min_freq=0, reserved_tokens=None):\n",
        "    if tokens is None:\n",
        "      tokens = []\n",
        "    if reserved_tokens is None: \n",
        "      reserved_tokens = []\n",
        "    # Sort according to frequencies\n",
        "    counter = count_corpus(tokens)\n",
        "    self._token_freqs = sorted(counter.items(), key=lambda x: x[1],reverse=True)\n",
        "\n",
        "    #Build vocab on init\n",
        "    self.idx_to_token=['<unk>']+reserved_tokens #List\n",
        "    self.token_to_idx={token:idx for idx,token in enumerate(self.idx_to_token)} #Dict\n",
        "\n",
        "    for token,freq in self._token_freqs:\n",
        "      #Don't include tokens with freq<min_freq in the vocab\n",
        "      if freq<min_freq:\n",
        "        break\n",
        "      if token not in self.idx_to_token:\n",
        "        self.idx_to_token.append(token)\n",
        "        self.token_to_idx[token]=len(self.idx_to_token)-1\n",
        "\n",
        "  def __len__(self):\n",
        "    return len(self.idx_to_token)\n",
        "\n",
        "  @property\n",
        "  def unk(self):\n",
        "    # Index for the unknown token\n",
        "    return 0\n",
        "  \n",
        "  @property\n",
        "  def token_freqs(self):\n",
        "    # Counter object \n",
        "    return self._token_freqs\n",
        "  \n",
        "  def __getitem__(self,tokens):\n",
        "    if not isinstance(tokens, (list, tuple)):\n",
        "      return self.token_to_idx.get(tokens, self.unk) \n",
        "    #If tokens is a list \n",
        "    return [self.__getitem__(token) for token in tokens]\n",
        "\n",
        "  def to_tokens(self, indices):\n",
        "    if not isinstance(indices, (list, tuple)):\n",
        "      return self.idx_to_token[indices]\n",
        "    #If indices is a list\n",
        "    return [self.idx_to_token[index] for index in indices]\n",
        "\n",
        "\n",
        "def count_corpus(tokens):\n",
        "  \"\"\"Count token frequencies.\"\"\"\n",
        "  # Here `tokens` is a 1D list or 2D list\n",
        "  if len(tokens) == 0 or isinstance(tokens[0], list):\n",
        "    # Flatten a list of token lists into a 1D list\n",
        "    tokens = [token for line in tokens for token in line]\n",
        "  #If its already a 1D list,return  \n",
        "  return collections.Counter(tokens)"
      ],
      "metadata": {
        "id": "7YMnf9UITcPT"
      },
      "execution_count": 5,
      "outputs": []
    },
    {
      "cell_type": "code",
      "source": [
        "def truncate_pad(line, num_steps, padding_token):\n",
        "  \"\"\"Truncate or pad sequences.\"\"\"\n",
        "  #Line is a list of tokens\n",
        "  if len(line) > num_steps:\n",
        "    return line[:num_steps] # Truncate\n",
        "  return line + [padding_token] * (num_steps - len(line)) # Pad"
      ],
      "metadata": {
        "id": "qacYbg-EUADm"
      },
      "execution_count": 7,
      "outputs": []
    },
    {
      "cell_type": "code",
      "source": [
        "def read_snli(data_dir, is_train):\n",
        "  \"\"\"Read the SNLI dataset into premises, hypotheses, and labels.\"\"\" \n",
        "  def extract_text(s):\n",
        "    # Remove information that will not be used by us\n",
        "    s = re.sub('\\\\(', '', s)\n",
        "    s = re.sub('\\\\)', '', s)\n",
        "    # Substitute two or more consecutive whitespace with space \n",
        "    s = re.sub('\\\\s{2,}', ' ', s)\n",
        "    return s.strip()\n",
        "\n",
        "  label_set = {'entailment': 0, 'contradiction': 1, 'neutral': 2} \n",
        "  file_name = os.path.join(data_dir, 'snli_1.0_train.txt' if is_train else 'snli_1.0_test.txt') \n",
        "  \n",
        "  with open(file_name, 'r') as f:\n",
        "    rows = [row.split('\\t') for row in f.readlines()[1:]]\n",
        "    premises = [extract_text(row[1]) for row in rows if row[0] in label_set] \n",
        "    hypotheses = [extract_text(row[2]) for row in rows if row[0] in label_set] \n",
        "    labels = [label_set[row[0]] for row in rows if row[0] in label_set]\n",
        "  return premises, hypotheses, labels"
      ],
      "metadata": {
        "id": "soEMPTMTSNTR"
      },
      "execution_count": 3,
      "outputs": []
    },
    {
      "cell_type": "code",
      "source": [
        "train_data = read_snli(data_dir, is_train=True)\n",
        "train_tokens=[nltk.tokenize.word_tokenize(sentence_1 + \" \" + sentence_2) for sentence_1,sentence_2 in zip(train_data[0],train_data[1])]\n"
      ],
      "metadata": {
        "id": "YL4v42vVU7SP"
      },
      "execution_count": null,
      "outputs": []
    },
    {
      "cell_type": "code",
      "source": [
        "d2l.set_figsize()\n",
        "d2l.plt.xlabel('# tokens per review')\n",
        "d2l.plt.ylabel('count')\n",
        "d2l.plt.hist([len(line) for line in train_tokens], bins=range(0, 80, 10));"
      ],
      "metadata": {
        "colab": {
          "base_uri": "https://localhost:8080/",
          "height": 262
        },
        "id": "NpT97pbMWbdf",
        "outputId": "5e8bab97-e1ae-4839-a5f1-d73112edd1e0"
      },
      "execution_count": 17,
      "outputs": [
        {
          "output_type": "display_data",
          "data": {
            "text/plain": [
              "<Figure size 252x180 with 1 Axes>"
            ],
            "image/svg+xml": "<?xml version=\"1.0\" encoding=\"utf-8\" standalone=\"no\"?>\n<!DOCTYPE svg PUBLIC \"-//W3C//DTD SVG 1.1//EN\"\n  \"http://www.w3.org/Graphics/SVG/1.1/DTD/svg11.dtd\">\n<svg xmlns:xlink=\"http://www.w3.org/1999/xlink\" width=\"268.553125pt\" height=\"180.65625pt\" viewBox=\"0 0 268.553125 180.65625\" xmlns=\"http://www.w3.org/2000/svg\" version=\"1.1\">\n <metadata>\n  <rdf:RDF xmlns:dc=\"http://purl.org/dc/elements/1.1/\" xmlns:cc=\"http://creativecommons.org/ns#\" xmlns:rdf=\"http://www.w3.org/1999/02/22-rdf-syntax-ns#\">\n   <cc:Work>\n    <dc:type rdf:resource=\"http://purl.org/dc/dcmitype/StillImage\"/>\n    <dc:date>2022-06-24T20:14:39.731235</dc:date>\n    <dc:format>image/svg+xml</dc:format>\n    <dc:creator>\n     <cc:Agent>\n      <dc:title>Matplotlib v3.5.1, https://matplotlib.org/</dc:title>\n     </cc:Agent>\n    </dc:creator>\n   </cc:Work>\n  </rdf:RDF>\n </metadata>\n <defs>\n  <style type=\"text/css\">*{stroke-linejoin: round; stroke-linecap: butt}</style>\n </defs>\n <g id=\"figure_1\">\n  <g id=\"patch_1\">\n   <path d=\"M 0 180.65625 \nL 268.553125 180.65625 \nL 268.553125 0 \nL 0 0 \nL 0 180.65625 \nz\n\" style=\"fill: none\"/>\n  </g>\n  <g id=\"axes_1\">\n   <g id=\"patch_2\">\n    <path d=\"M 66.053125 143.1 \nL 261.353125 143.1 \nL 261.353125 7.2 \nL 66.053125 7.2 \nz\n\" style=\"fill: #ffffff\"/>\n   </g>\n   <g id=\"patch_3\">\n    <path d=\"M 74.930398 143.1 \nL 100.294034 143.1 \nL 100.294034 142.331675 \nL 74.930398 142.331675 \nz\n\" clip-path=\"url(#pa15bd0d70b)\" style=\"fill: #1f77b4\"/>\n   </g>\n   <g id=\"patch_4\">\n    <path d=\"M 100.294034 143.1 \nL 125.65767 143.1 \nL 125.65767 26.080568 \nL 100.294034 26.080568 \nz\n\" clip-path=\"url(#pa15bd0d70b)\" style=\"fill: #1f77b4\"/>\n   </g>\n   <g id=\"patch_5\">\n    <path d=\"M 125.65767 143.1 \nL 151.021307 143.1 \nL 151.021307 13.671429 \nL 125.65767 13.671429 \nz\n\" clip-path=\"url(#pa15bd0d70b)\" style=\"fill: #1f77b4\"/>\n   </g>\n   <g id=\"patch_6\">\n    <path d=\"M 151.021307 143.1 \nL 176.384943 143.1 \nL 176.384943 108.617052 \nL 151.021307 108.617052 \nz\n\" clip-path=\"url(#pa15bd0d70b)\" style=\"fill: #1f77b4\"/>\n   </g>\n   <g id=\"patch_7\">\n    <path d=\"M 176.384943 143.1 \nL 201.74858 143.1 \nL 201.74858 136.729961 \nL 176.384943 136.729961 \nz\n\" clip-path=\"url(#pa15bd0d70b)\" style=\"fill: #1f77b4\"/>\n   </g>\n   <g id=\"patch_8\">\n    <path d=\"M 201.74858 143.1 \nL 227.112216 143.1 \nL 227.112216 142.008114 \nL 201.74858 142.008114 \nz\n\" clip-path=\"url(#pa15bd0d70b)\" style=\"fill: #1f77b4\"/>\n   </g>\n   <g id=\"patch_9\">\n    <path d=\"M 227.112216 143.1 \nL 252.475852 143.1 \nL 252.475852 142.853377 \nL 227.112216 142.853377 \nz\n\" clip-path=\"url(#pa15bd0d70b)\" style=\"fill: #1f77b4\"/>\n   </g>\n   <g id=\"matplotlib.axis_1\">\n    <g id=\"xtick_1\">\n     <g id=\"line2d_1\">\n      <defs>\n       <path id=\"mcd4becc807\" d=\"M 0 0 \nL 0 3.5 \n\" style=\"stroke: #000000; stroke-width: 0.8\"/>\n      </defs>\n      <g>\n       <use xlink:href=\"#mcd4becc807\" x=\"74.930398\" y=\"143.1\" style=\"stroke: #000000; stroke-width: 0.8\"/>\n      </g>\n     </g>\n     <g id=\"text_1\">\n      <!-- 0 -->\n      <g transform=\"translate(71.749148 157.698438)scale(0.1 -0.1)\">\n       <defs>\n        <path id=\"DejaVuSans-30\" d=\"M 2034 4250 \nQ 1547 4250 1301 3770 \nQ 1056 3291 1056 2328 \nQ 1056 1369 1301 889 \nQ 1547 409 2034 409 \nQ 2525 409 2770 889 \nQ 3016 1369 3016 2328 \nQ 3016 3291 2770 3770 \nQ 2525 4250 2034 4250 \nz\nM 2034 4750 \nQ 2819 4750 3233 4129 \nQ 3647 3509 3647 2328 \nQ 3647 1150 3233 529 \nQ 2819 -91 2034 -91 \nQ 1250 -91 836 529 \nQ 422 1150 422 2328 \nQ 422 3509 836 4129 \nQ 1250 4750 2034 4750 \nz\n\" transform=\"scale(0.015625)\"/>\n       </defs>\n       <use xlink:href=\"#DejaVuSans-30\"/>\n      </g>\n     </g>\n    </g>\n    <g id=\"xtick_2\">\n     <g id=\"line2d_2\">\n      <g>\n       <use xlink:href=\"#mcd4becc807\" x=\"125.65767\" y=\"143.1\" style=\"stroke: #000000; stroke-width: 0.8\"/>\n      </g>\n     </g>\n     <g id=\"text_2\">\n      <!-- 20 -->\n      <g transform=\"translate(119.29517 157.698438)scale(0.1 -0.1)\">\n       <defs>\n        <path id=\"DejaVuSans-32\" d=\"M 1228 531 \nL 3431 531 \nL 3431 0 \nL 469 0 \nL 469 531 \nQ 828 903 1448 1529 \nQ 2069 2156 2228 2338 \nQ 2531 2678 2651 2914 \nQ 2772 3150 2772 3378 \nQ 2772 3750 2511 3984 \nQ 2250 4219 1831 4219 \nQ 1534 4219 1204 4116 \nQ 875 4013 500 3803 \nL 500 4441 \nQ 881 4594 1212 4672 \nQ 1544 4750 1819 4750 \nQ 2544 4750 2975 4387 \nQ 3406 4025 3406 3419 \nQ 3406 3131 3298 2873 \nQ 3191 2616 2906 2266 \nQ 2828 2175 2409 1742 \nQ 1991 1309 1228 531 \nz\n\" transform=\"scale(0.015625)\"/>\n       </defs>\n       <use xlink:href=\"#DejaVuSans-32\"/>\n       <use xlink:href=\"#DejaVuSans-30\" x=\"63.623047\"/>\n      </g>\n     </g>\n    </g>\n    <g id=\"xtick_3\">\n     <g id=\"line2d_3\">\n      <g>\n       <use xlink:href=\"#mcd4becc807\" x=\"176.384943\" y=\"143.1\" style=\"stroke: #000000; stroke-width: 0.8\"/>\n      </g>\n     </g>\n     <g id=\"text_3\">\n      <!-- 40 -->\n      <g transform=\"translate(170.022443 157.698438)scale(0.1 -0.1)\">\n       <defs>\n        <path id=\"DejaVuSans-34\" d=\"M 2419 4116 \nL 825 1625 \nL 2419 1625 \nL 2419 4116 \nz\nM 2253 4666 \nL 3047 4666 \nL 3047 1625 \nL 3713 1625 \nL 3713 1100 \nL 3047 1100 \nL 3047 0 \nL 2419 0 \nL 2419 1100 \nL 313 1100 \nL 313 1709 \nL 2253 4666 \nz\n\" transform=\"scale(0.015625)\"/>\n       </defs>\n       <use xlink:href=\"#DejaVuSans-34\"/>\n       <use xlink:href=\"#DejaVuSans-30\" x=\"63.623047\"/>\n      </g>\n     </g>\n    </g>\n    <g id=\"xtick_4\">\n     <g id=\"line2d_4\">\n      <g>\n       <use xlink:href=\"#mcd4becc807\" x=\"227.112216\" y=\"143.1\" style=\"stroke: #000000; stroke-width: 0.8\"/>\n      </g>\n     </g>\n     <g id=\"text_4\">\n      <!-- 60 -->\n      <g transform=\"translate(220.749716 157.698438)scale(0.1 -0.1)\">\n       <defs>\n        <path id=\"DejaVuSans-36\" d=\"M 2113 2584 \nQ 1688 2584 1439 2293 \nQ 1191 2003 1191 1497 \nQ 1191 994 1439 701 \nQ 1688 409 2113 409 \nQ 2538 409 2786 701 \nQ 3034 994 3034 1497 \nQ 3034 2003 2786 2293 \nQ 2538 2584 2113 2584 \nz\nM 3366 4563 \nL 3366 3988 \nQ 3128 4100 2886 4159 \nQ 2644 4219 2406 4219 \nQ 1781 4219 1451 3797 \nQ 1122 3375 1075 2522 \nQ 1259 2794 1537 2939 \nQ 1816 3084 2150 3084 \nQ 2853 3084 3261 2657 \nQ 3669 2231 3669 1497 \nQ 3669 778 3244 343 \nQ 2819 -91 2113 -91 \nQ 1303 -91 875 529 \nQ 447 1150 447 2328 \nQ 447 3434 972 4092 \nQ 1497 4750 2381 4750 \nQ 2619 4750 2861 4703 \nQ 3103 4656 3366 4563 \nz\n\" transform=\"scale(0.015625)\"/>\n       </defs>\n       <use xlink:href=\"#DejaVuSans-36\"/>\n       <use xlink:href=\"#DejaVuSans-30\" x=\"63.623047\"/>\n      </g>\n     </g>\n    </g>\n    <g id=\"text_5\">\n     <!-- # tokens per review -->\n     <g transform=\"translate(113.322656 171.376563)scale(0.1 -0.1)\">\n      <defs>\n       <path id=\"DejaVuSans-23\" d=\"M 3272 2816 \nL 2363 2816 \nL 2100 1772 \nL 3016 1772 \nL 3272 2816 \nz\nM 2803 4594 \nL 2478 3297 \nL 3391 3297 \nL 3719 4594 \nL 4219 4594 \nL 3897 3297 \nL 4872 3297 \nL 4872 2816 \nL 3775 2816 \nL 3519 1772 \nL 4513 1772 \nL 4513 1294 \nL 3397 1294 \nL 3072 0 \nL 2572 0 \nL 2894 1294 \nL 1978 1294 \nL 1656 0 \nL 1153 0 \nL 1478 1294 \nL 494 1294 \nL 494 1772 \nL 1594 1772 \nL 1856 2816 \nL 850 2816 \nL 850 3297 \nL 1978 3297 \nL 2297 4594 \nL 2803 4594 \nz\n\" transform=\"scale(0.015625)\"/>\n       <path id=\"DejaVuSans-20\" transform=\"scale(0.015625)\"/>\n       <path id=\"DejaVuSans-74\" d=\"M 1172 4494 \nL 1172 3500 \nL 2356 3500 \nL 2356 3053 \nL 1172 3053 \nL 1172 1153 \nQ 1172 725 1289 603 \nQ 1406 481 1766 481 \nL 2356 481 \nL 2356 0 \nL 1766 0 \nQ 1100 0 847 248 \nQ 594 497 594 1153 \nL 594 3053 \nL 172 3053 \nL 172 3500 \nL 594 3500 \nL 594 4494 \nL 1172 4494 \nz\n\" transform=\"scale(0.015625)\"/>\n       <path id=\"DejaVuSans-6f\" d=\"M 1959 3097 \nQ 1497 3097 1228 2736 \nQ 959 2375 959 1747 \nQ 959 1119 1226 758 \nQ 1494 397 1959 397 \nQ 2419 397 2687 759 \nQ 2956 1122 2956 1747 \nQ 2956 2369 2687 2733 \nQ 2419 3097 1959 3097 \nz\nM 1959 3584 \nQ 2709 3584 3137 3096 \nQ 3566 2609 3566 1747 \nQ 3566 888 3137 398 \nQ 2709 -91 1959 -91 \nQ 1206 -91 779 398 \nQ 353 888 353 1747 \nQ 353 2609 779 3096 \nQ 1206 3584 1959 3584 \nz\n\" transform=\"scale(0.015625)\"/>\n       <path id=\"DejaVuSans-6b\" d=\"M 581 4863 \nL 1159 4863 \nL 1159 1991 \nL 2875 3500 \nL 3609 3500 \nL 1753 1863 \nL 3688 0 \nL 2938 0 \nL 1159 1709 \nL 1159 0 \nL 581 0 \nL 581 4863 \nz\n\" transform=\"scale(0.015625)\"/>\n       <path id=\"DejaVuSans-65\" d=\"M 3597 1894 \nL 3597 1613 \nL 953 1613 \nQ 991 1019 1311 708 \nQ 1631 397 2203 397 \nQ 2534 397 2845 478 \nQ 3156 559 3463 722 \nL 3463 178 \nQ 3153 47 2828 -22 \nQ 2503 -91 2169 -91 \nQ 1331 -91 842 396 \nQ 353 884 353 1716 \nQ 353 2575 817 3079 \nQ 1281 3584 2069 3584 \nQ 2775 3584 3186 3129 \nQ 3597 2675 3597 1894 \nz\nM 3022 2063 \nQ 3016 2534 2758 2815 \nQ 2500 3097 2075 3097 \nQ 1594 3097 1305 2825 \nQ 1016 2553 972 2059 \nL 3022 2063 \nz\n\" transform=\"scale(0.015625)\"/>\n       <path id=\"DejaVuSans-6e\" d=\"M 3513 2113 \nL 3513 0 \nL 2938 0 \nL 2938 2094 \nQ 2938 2591 2744 2837 \nQ 2550 3084 2163 3084 \nQ 1697 3084 1428 2787 \nQ 1159 2491 1159 1978 \nL 1159 0 \nL 581 0 \nL 581 3500 \nL 1159 3500 \nL 1159 2956 \nQ 1366 3272 1645 3428 \nQ 1925 3584 2291 3584 \nQ 2894 3584 3203 3211 \nQ 3513 2838 3513 2113 \nz\n\" transform=\"scale(0.015625)\"/>\n       <path id=\"DejaVuSans-73\" d=\"M 2834 3397 \nL 2834 2853 \nQ 2591 2978 2328 3040 \nQ 2066 3103 1784 3103 \nQ 1356 3103 1142 2972 \nQ 928 2841 928 2578 \nQ 928 2378 1081 2264 \nQ 1234 2150 1697 2047 \nL 1894 2003 \nQ 2506 1872 2764 1633 \nQ 3022 1394 3022 966 \nQ 3022 478 2636 193 \nQ 2250 -91 1575 -91 \nQ 1294 -91 989 -36 \nQ 684 19 347 128 \nL 347 722 \nQ 666 556 975 473 \nQ 1284 391 1588 391 \nQ 1994 391 2212 530 \nQ 2431 669 2431 922 \nQ 2431 1156 2273 1281 \nQ 2116 1406 1581 1522 \nL 1381 1569 \nQ 847 1681 609 1914 \nQ 372 2147 372 2553 \nQ 372 3047 722 3315 \nQ 1072 3584 1716 3584 \nQ 2034 3584 2315 3537 \nQ 2597 3491 2834 3397 \nz\n\" transform=\"scale(0.015625)\"/>\n       <path id=\"DejaVuSans-70\" d=\"M 1159 525 \nL 1159 -1331 \nL 581 -1331 \nL 581 3500 \nL 1159 3500 \nL 1159 2969 \nQ 1341 3281 1617 3432 \nQ 1894 3584 2278 3584 \nQ 2916 3584 3314 3078 \nQ 3713 2572 3713 1747 \nQ 3713 922 3314 415 \nQ 2916 -91 2278 -91 \nQ 1894 -91 1617 61 \nQ 1341 213 1159 525 \nz\nM 3116 1747 \nQ 3116 2381 2855 2742 \nQ 2594 3103 2138 3103 \nQ 1681 3103 1420 2742 \nQ 1159 2381 1159 1747 \nQ 1159 1113 1420 752 \nQ 1681 391 2138 391 \nQ 2594 391 2855 752 \nQ 3116 1113 3116 1747 \nz\n\" transform=\"scale(0.015625)\"/>\n       <path id=\"DejaVuSans-72\" d=\"M 2631 2963 \nQ 2534 3019 2420 3045 \nQ 2306 3072 2169 3072 \nQ 1681 3072 1420 2755 \nQ 1159 2438 1159 1844 \nL 1159 0 \nL 581 0 \nL 581 3500 \nL 1159 3500 \nL 1159 2956 \nQ 1341 3275 1631 3429 \nQ 1922 3584 2338 3584 \nQ 2397 3584 2469 3576 \nQ 2541 3569 2628 3553 \nL 2631 2963 \nz\n\" transform=\"scale(0.015625)\"/>\n       <path id=\"DejaVuSans-76\" d=\"M 191 3500 \nL 800 3500 \nL 1894 563 \nL 2988 3500 \nL 3597 3500 \nL 2284 0 \nL 1503 0 \nL 191 3500 \nz\n\" transform=\"scale(0.015625)\"/>\n       <path id=\"DejaVuSans-69\" d=\"M 603 3500 \nL 1178 3500 \nL 1178 0 \nL 603 0 \nL 603 3500 \nz\nM 603 4863 \nL 1178 4863 \nL 1178 4134 \nL 603 4134 \nL 603 4863 \nz\n\" transform=\"scale(0.015625)\"/>\n       <path id=\"DejaVuSans-77\" d=\"M 269 3500 \nL 844 3500 \nL 1563 769 \nL 2278 3500 \nL 2956 3500 \nL 3675 769 \nL 4391 3500 \nL 4966 3500 \nL 4050 0 \nL 3372 0 \nL 2619 2869 \nL 1863 0 \nL 1184 0 \nL 269 3500 \nz\n\" transform=\"scale(0.015625)\"/>\n      </defs>\n      <use xlink:href=\"#DejaVuSans-23\"/>\n      <use xlink:href=\"#DejaVuSans-20\" x=\"83.789062\"/>\n      <use xlink:href=\"#DejaVuSans-74\" x=\"115.576172\"/>\n      <use xlink:href=\"#DejaVuSans-6f\" x=\"154.785156\"/>\n      <use xlink:href=\"#DejaVuSans-6b\" x=\"215.966797\"/>\n      <use xlink:href=\"#DejaVuSans-65\" x=\"270.251953\"/>\n      <use xlink:href=\"#DejaVuSans-6e\" x=\"331.775391\"/>\n      <use xlink:href=\"#DejaVuSans-73\" x=\"395.154297\"/>\n      <use xlink:href=\"#DejaVuSans-20\" x=\"447.253906\"/>\n      <use xlink:href=\"#DejaVuSans-70\" x=\"479.041016\"/>\n      <use xlink:href=\"#DejaVuSans-65\" x=\"542.517578\"/>\n      <use xlink:href=\"#DejaVuSans-72\" x=\"604.041016\"/>\n      <use xlink:href=\"#DejaVuSans-20\" x=\"645.154297\"/>\n      <use xlink:href=\"#DejaVuSans-72\" x=\"676.941406\"/>\n      <use xlink:href=\"#DejaVuSans-65\" x=\"715.804688\"/>\n      <use xlink:href=\"#DejaVuSans-76\" x=\"777.328125\"/>\n      <use xlink:href=\"#DejaVuSans-69\" x=\"836.507812\"/>\n      <use xlink:href=\"#DejaVuSans-65\" x=\"864.291016\"/>\n      <use xlink:href=\"#DejaVuSans-77\" x=\"925.814453\"/>\n     </g>\n    </g>\n   </g>\n   <g id=\"matplotlib.axis_2\">\n    <g id=\"ytick_1\">\n     <g id=\"line2d_5\">\n      <defs>\n       <path id=\"m1377ad0523\" d=\"M 0 0 \nL -3.5 0 \n\" style=\"stroke: #000000; stroke-width: 0.8\"/>\n      </defs>\n      <g>\n       <use xlink:href=\"#m1377ad0523\" x=\"66.053125\" y=\"143.1\" style=\"stroke: #000000; stroke-width: 0.8\"/>\n      </g>\n     </g>\n     <g id=\"text_6\">\n      <!-- 0 -->\n      <g transform=\"translate(52.690625 146.899219)scale(0.1 -0.1)\">\n       <use xlink:href=\"#DejaVuSans-30\"/>\n      </g>\n     </g>\n    </g>\n    <g id=\"ytick_2\">\n     <g id=\"line2d_6\">\n      <g>\n       <use xlink:href=\"#m1377ad0523\" x=\"66.053125\" y=\"116.751393\" style=\"stroke: #000000; stroke-width: 0.8\"/>\n      </g>\n     </g>\n     <g id=\"text_7\">\n      <!-- 50000 -->\n      <g transform=\"translate(27.240625 120.550612)scale(0.1 -0.1)\">\n       <defs>\n        <path id=\"DejaVuSans-35\" d=\"M 691 4666 \nL 3169 4666 \nL 3169 4134 \nL 1269 4134 \nL 1269 2991 \nQ 1406 3038 1543 3061 \nQ 1681 3084 1819 3084 \nQ 2600 3084 3056 2656 \nQ 3513 2228 3513 1497 \nQ 3513 744 3044 326 \nQ 2575 -91 1722 -91 \nQ 1428 -91 1123 -41 \nQ 819 9 494 109 \nL 494 744 \nQ 775 591 1075 516 \nQ 1375 441 1709 441 \nQ 2250 441 2565 725 \nQ 2881 1009 2881 1497 \nQ 2881 1984 2565 2268 \nQ 2250 2553 1709 2553 \nQ 1456 2553 1204 2497 \nQ 953 2441 691 2322 \nL 691 4666 \nz\n\" transform=\"scale(0.015625)\"/>\n       </defs>\n       <use xlink:href=\"#DejaVuSans-35\"/>\n       <use xlink:href=\"#DejaVuSans-30\" x=\"63.623047\"/>\n       <use xlink:href=\"#DejaVuSans-30\" x=\"127.246094\"/>\n       <use xlink:href=\"#DejaVuSans-30\" x=\"190.869141\"/>\n       <use xlink:href=\"#DejaVuSans-30\" x=\"254.492188\"/>\n      </g>\n     </g>\n    </g>\n    <g id=\"ytick_3\">\n     <g id=\"line2d_7\">\n      <g>\n       <use xlink:href=\"#m1377ad0523\" x=\"66.053125\" y=\"90.402787\" style=\"stroke: #000000; stroke-width: 0.8\"/>\n      </g>\n     </g>\n     <g id=\"text_8\">\n      <!-- 100000 -->\n      <g transform=\"translate(20.878125 94.202006)scale(0.1 -0.1)\">\n       <defs>\n        <path id=\"DejaVuSans-31\" d=\"M 794 531 \nL 1825 531 \nL 1825 4091 \nL 703 3866 \nL 703 4441 \nL 1819 4666 \nL 2450 4666 \nL 2450 531 \nL 3481 531 \nL 3481 0 \nL 794 0 \nL 794 531 \nz\n\" transform=\"scale(0.015625)\"/>\n       </defs>\n       <use xlink:href=\"#DejaVuSans-31\"/>\n       <use xlink:href=\"#DejaVuSans-30\" x=\"63.623047\"/>\n       <use xlink:href=\"#DejaVuSans-30\" x=\"127.246094\"/>\n       <use xlink:href=\"#DejaVuSans-30\" x=\"190.869141\"/>\n       <use xlink:href=\"#DejaVuSans-30\" x=\"254.492188\"/>\n       <use xlink:href=\"#DejaVuSans-30\" x=\"318.115234\"/>\n      </g>\n     </g>\n    </g>\n    <g id=\"ytick_4\">\n     <g id=\"line2d_8\">\n      <g>\n       <use xlink:href=\"#m1377ad0523\" x=\"66.053125\" y=\"64.05418\" style=\"stroke: #000000; stroke-width: 0.8\"/>\n      </g>\n     </g>\n     <g id=\"text_9\">\n      <!-- 150000 -->\n      <g transform=\"translate(20.878125 67.853399)scale(0.1 -0.1)\">\n       <use xlink:href=\"#DejaVuSans-31\"/>\n       <use xlink:href=\"#DejaVuSans-35\" x=\"63.623047\"/>\n       <use xlink:href=\"#DejaVuSans-30\" x=\"127.246094\"/>\n       <use xlink:href=\"#DejaVuSans-30\" x=\"190.869141\"/>\n       <use xlink:href=\"#DejaVuSans-30\" x=\"254.492188\"/>\n       <use xlink:href=\"#DejaVuSans-30\" x=\"318.115234\"/>\n      </g>\n     </g>\n    </g>\n    <g id=\"ytick_5\">\n     <g id=\"line2d_9\">\n      <g>\n       <use xlink:href=\"#m1377ad0523\" x=\"66.053125\" y=\"37.705574\" style=\"stroke: #000000; stroke-width: 0.8\"/>\n      </g>\n     </g>\n     <g id=\"text_10\">\n      <!-- 200000 -->\n      <g transform=\"translate(20.878125 41.504792)scale(0.1 -0.1)\">\n       <use xlink:href=\"#DejaVuSans-32\"/>\n       <use xlink:href=\"#DejaVuSans-30\" x=\"63.623047\"/>\n       <use xlink:href=\"#DejaVuSans-30\" x=\"127.246094\"/>\n       <use xlink:href=\"#DejaVuSans-30\" x=\"190.869141\"/>\n       <use xlink:href=\"#DejaVuSans-30\" x=\"254.492188\"/>\n       <use xlink:href=\"#DejaVuSans-30\" x=\"318.115234\"/>\n      </g>\n     </g>\n    </g>\n    <g id=\"ytick_6\">\n     <g id=\"line2d_10\">\n      <g>\n       <use xlink:href=\"#m1377ad0523\" x=\"66.053125\" y=\"11.356967\" style=\"stroke: #000000; stroke-width: 0.8\"/>\n      </g>\n     </g>\n     <g id=\"text_11\">\n      <!-- 250000 -->\n      <g transform=\"translate(20.878125 15.156186)scale(0.1 -0.1)\">\n       <use xlink:href=\"#DejaVuSans-32\"/>\n       <use xlink:href=\"#DejaVuSans-35\" x=\"63.623047\"/>\n       <use xlink:href=\"#DejaVuSans-30\" x=\"127.246094\"/>\n       <use xlink:href=\"#DejaVuSans-30\" x=\"190.869141\"/>\n       <use xlink:href=\"#DejaVuSans-30\" x=\"254.492188\"/>\n       <use xlink:href=\"#DejaVuSans-30\" x=\"318.115234\"/>\n      </g>\n     </g>\n    </g>\n    <g id=\"text_12\">\n     <!-- count -->\n     <g transform=\"translate(14.798438 89.25625)rotate(-90)scale(0.1 -0.1)\">\n      <defs>\n       <path id=\"DejaVuSans-63\" d=\"M 3122 3366 \nL 3122 2828 \nQ 2878 2963 2633 3030 \nQ 2388 3097 2138 3097 \nQ 1578 3097 1268 2742 \nQ 959 2388 959 1747 \nQ 959 1106 1268 751 \nQ 1578 397 2138 397 \nQ 2388 397 2633 464 \nQ 2878 531 3122 666 \nL 3122 134 \nQ 2881 22 2623 -34 \nQ 2366 -91 2075 -91 \nQ 1284 -91 818 406 \nQ 353 903 353 1747 \nQ 353 2603 823 3093 \nQ 1294 3584 2113 3584 \nQ 2378 3584 2631 3529 \nQ 2884 3475 3122 3366 \nz\n\" transform=\"scale(0.015625)\"/>\n       <path id=\"DejaVuSans-75\" d=\"M 544 1381 \nL 544 3500 \nL 1119 3500 \nL 1119 1403 \nQ 1119 906 1312 657 \nQ 1506 409 1894 409 \nQ 2359 409 2629 706 \nQ 2900 1003 2900 1516 \nL 2900 3500 \nL 3475 3500 \nL 3475 0 \nL 2900 0 \nL 2900 538 \nQ 2691 219 2414 64 \nQ 2138 -91 1772 -91 \nQ 1169 -91 856 284 \nQ 544 659 544 1381 \nz\nM 1991 3584 \nL 1991 3584 \nz\n\" transform=\"scale(0.015625)\"/>\n      </defs>\n      <use xlink:href=\"#DejaVuSans-63\"/>\n      <use xlink:href=\"#DejaVuSans-6f\" x=\"54.980469\"/>\n      <use xlink:href=\"#DejaVuSans-75\" x=\"116.162109\"/>\n      <use xlink:href=\"#DejaVuSans-6e\" x=\"179.541016\"/>\n      <use xlink:href=\"#DejaVuSans-74\" x=\"242.919922\"/>\n     </g>\n    </g>\n   </g>\n   <g id=\"patch_10\">\n    <path d=\"M 66.053125 143.1 \nL 66.053125 7.2 \n\" style=\"fill: none; stroke: #000000; stroke-width: 0.8; stroke-linejoin: miter; stroke-linecap: square\"/>\n   </g>\n   <g id=\"patch_11\">\n    <path d=\"M 261.353125 143.1 \nL 261.353125 7.2 \n\" style=\"fill: none; stroke: #000000; stroke-width: 0.8; stroke-linejoin: miter; stroke-linecap: square\"/>\n   </g>\n   <g id=\"patch_12\">\n    <path d=\"M 66.053125 143.1 \nL 261.353125 143.1 \n\" style=\"fill: none; stroke: #000000; stroke-width: 0.8; stroke-linejoin: miter; stroke-linecap: square\"/>\n   </g>\n   <g id=\"patch_13\">\n    <path d=\"M 66.053125 7.2 \nL 261.353125 7.2 \n\" style=\"fill: none; stroke: #000000; stroke-width: 0.8; stroke-linejoin: miter; stroke-linecap: square\"/>\n   </g>\n  </g>\n </g>\n <defs>\n  <clipPath id=\"pa15bd0d70b\">\n   <rect x=\"66.053125\" y=\"7.2\" width=\"195.3\" height=\"135.9\"/>\n  </clipPath>\n </defs>\n</svg>\n"
          },
          "metadata": {
            "needs_background": "light"
          }
        }
      ]
    },
    {
      "cell_type": "code",
      "source": [
        "class SNLIDataset(torch.utils.data.Dataset):\n",
        "  \"\"\"A customized dataset to load the SNLI dataset.\"\"\" \n",
        "  def __init__(self, dataset, num_steps, vocab=None):\n",
        "    self.num_steps = num_steps\n",
        "    all_premise_tokens = [nltk.tokenize.word_tokenize(sentence) for sentence in dataset[0]] \n",
        "    all_hypothesis_tokens = [nltk.tokenize.word_tokenize(sentence) for sentence in dataset[1]] \n",
        "    \n",
        "    if vocab is None:\n",
        "      self.vocab = d2l.Vocab(all_premise_tokens + all_hypothesis_tokens, min_freq=5, reserved_tokens=['<pad>'])\n",
        "    else:\n",
        "      self.vocab = vocab\n",
        "    self.premises = self._pad(all_premise_tokens) \n",
        "    self.hypotheses = self._pad(all_hypothesis_tokens) \n",
        "    self.labels = torch.tensor(dataset[2])\n",
        "    print('read ' + str(len(self.premises)) + ' examples')\n",
        "  \n",
        "  def _pad(self, lines):\n",
        "    return torch.tensor([d2l.truncate_pad(self.vocab[line], self.num_steps, self.vocab['<pad>']) for line in lines])\n",
        "  \n",
        "  def __getitem__(self, idx):\n",
        "    return (self.premises[idx], self.hypotheses[idx]), self.labels[idx]\n",
        "  \n",
        "  def __len__(self):\n",
        "    return len(self.premises)"
      ],
      "metadata": {
        "id": "UN8Oa0hgSmyG"
      },
      "execution_count": 8,
      "outputs": []
    },
    {
      "cell_type": "code",
      "source": [
        "def load_data_snli(batch_size, num_steps=50):\n",
        "  \"\"\"Download the SNLI dataset and return data iterators and vocabulary.\"\"\" \n",
        "  num_workers = multiprocessing.cpu_count()\n",
        "  data_dir = d2l.download_extract('SNLI')\n",
        "  train_data = read_snli(data_dir, True)\n",
        "  test_data = read_snli(data_dir, False)\n",
        "  train_set = SNLIDataset(train_data, num_steps)\n",
        "  test_set = SNLIDataset(test_data, num_steps, train_set.vocab)\n",
        "  train_iter = torch.utils.data.DataLoader(train_set, batch_size,shuffle=True,num_workers=num_workers) \n",
        "  test_iter = torch.utils.data.DataLoader(test_set, batch_size,shuffle=False,num_workers=num_workers) \n",
        "  return train_iter, test_iter, train_set.vocab"
      ],
      "metadata": {
        "id": "45rAnPpAUEMe"
      },
      "execution_count": 10,
      "outputs": []
    },
    {
      "cell_type": "code",
      "source": [
        "train_iter, test_iter, vocab = load_data_snli(128, 64) \n",
        "len(vocab)"
      ],
      "metadata": {
        "colab": {
          "base_uri": "https://localhost:8080/"
        },
        "id": "GpoH32rRUlMB",
        "outputId": "45977da1-0f9b-4034-f042-8c58edc9e89b"
      },
      "execution_count": 18,
      "outputs": [
        {
          "output_type": "stream",
          "name": "stdout",
          "text": [
            "read 549367 examples\n",
            "read 9824 examples\n"
          ]
        },
        {
          "output_type": "execute_result",
          "data": {
            "text/plain": [
              "18676"
            ]
          },
          "metadata": {},
          "execution_count": 18
        }
      ]
    },
    {
      "cell_type": "code",
      "source": [
        "for X, Y in train_iter: \n",
        "  print(X[0].shape,type(X[0]),X[0][0].shape,type(X[0][0])) \n",
        "  print(X[1].shape) \n",
        "  print(Y.shape) \n",
        "  break"
      ],
      "metadata": {
        "colab": {
          "base_uri": "https://localhost:8080/"
        },
        "id": "lGuXyDLUWqR5",
        "outputId": "569039b1-d189-4b81-c4df-74247763e67d"
      },
      "execution_count": 36,
      "outputs": [
        {
          "output_type": "stream",
          "name": "stdout",
          "text": [
            "torch.Size([128, 64]) <class 'torch.Tensor'> torch.Size([64]) <class 'torch.Tensor'>\n",
            "torch.Size([128, 64])\n",
            "torch.Size([128])\n"
          ]
        }
      ]
    },
    {
      "cell_type": "markdown",
      "source": [
        "# The Model\n",
        "\n",
        "![image.png](data:image/png;base64,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)"
      ],
      "metadata": {
        "id": "-NZTKxv2W6wx"
      }
    },
    {
      "cell_type": "markdown",
      "source": [
        "## Attending\n",
        "\n",
        "The first step is to align tokens in one text sequence to each token in the other sequence. Suppose that the premise is “i do need sleep” and the hypothesis is “i am tired”. Due to semantical similarity, we may wish to align “i” in the hypothesis with “i” in the premise, and align “tired” in the hypothesis with “sleep” in the premise. Likewise, we may wish to align “i” in the premise with “i” in the hypothesis, and align “need” and “sleep” in the premise with “tired” in the hypothesis. Note that such alignment is soft using weighted average, where ideally large weights are associated with the tokens to be aligned.\n",
        "\n",
        "Now we describe the soft alignment using attention mechanisms in more detail. Denote by premise_tokens = (a1, . . . , am) and hypothesis_tokens = (b1, . . . , bn) the premise and hypothesis, whose number of tokens are m and n, respectively, where ai,bj ∈ Rd (i = 1,...,m,j = 1,...,n) is a d-dimensional word vector. \n",
        "\n",
        "For soft alignment, we compute the attention weights eij ∈ R as\n",
        "eij = f(ai).⊤ f(bj),  where the function f is an MLP defined in the following mlp function. The output dimension of f is specified by the num_hiddens argument of mlp."
      ],
      "metadata": {
        "id": "07cYqdkBXFmt"
      }
    },
    {
      "cell_type": "markdown",
      "source": [
        "It should be highlighted that f takes inputs ai and bj separately rather than takes a pair of them together as the input. This decomposition trick leads to only m + n applications (linear complexity) of f rather than mn applications (quadratic complexity)."
      ],
      "metadata": {
        "id": "pIolAvpdXxqM"
      }
    },
    {
      "cell_type": "code",
      "source": [
        "def mlp(num_inputs, num_hiddens, flatten): \n",
        "  net = []\n",
        "  net.append(nn.Dropout(0.2)) \n",
        "  net.append(nn.Linear(num_inputs, num_hiddens)) \n",
        "  net.append(nn.ReLU())\n",
        "  \n",
        "  if flatten:\n",
        "    net.append(nn.Flatten(start_dim=1)) \n",
        "  \n",
        "  net.append(nn.Dropout(0.2)) \n",
        "  net.append(nn.Linear(num_hiddens, num_hiddens)) \n",
        "  net.append(nn.ReLU())\n",
        "  \n",
        "  if flatten: \n",
        "    net.append(nn.Flatten(start_dim=1))\n",
        "  \n",
        "  return nn.Sequential(*net)"
      ],
      "metadata": {
        "id": "lzhl9IA6W8tp"
      },
      "execution_count": 21,
      "outputs": []
    },
    {
      "cell_type": "code",
      "source": [
        "class Attend(nn.Module):\n",
        "  def __init__(self, num_inputs, num_hiddens, **kwargs):\n",
        "    super(Attend, self).__init__(**kwargs)\n",
        "    self.f = mlp(num_inputs, num_hiddens, flatten=False)\n",
        "\n",
        "  def forward(self, premises, hypotheses):\n",
        "  # premises/hypothesis -> batch_size, len_premises/len_hypotheses, embed_dims\n",
        "  # shape-> batch_size, len_premises/len_hypotheses, num_hiddens\n",
        "    f_premises = self.f(premises)\n",
        "    f_hypotheses = self.f(hypotheses)\n",
        "    # e-> (`batch_size`, len_premises,len_hypotheses)\n",
        "    e = torch.bmm(f_premises, f_hypotheses.permute(0, 2, 1))\n",
        "\n",
        "    # (`batch_size`, len_premises,`embed_size`)\n",
        "    aligned_hypotheses = torch.bmm(F.softmax(e, dim=-1), hypotheses)\n",
        "\n",
        "    # (`batch_size`, len_hypotheses,`embed_size`)   \n",
        "    aligned_premises = torch.bmm(F.softmax(e.permute(0, 2, 1), dim=-1), premises)\n",
        "    \n",
        "    return aligned_hypotheses, aligned_premises"
      ],
      "metadata": {
        "id": "Usw6afGcYM99"
      },
      "execution_count": 23,
      "outputs": []
    },
    {
      "cell_type": "markdown",
      "source": [
        "## Comparing\n",
        "\n",
        "In the next step, we compare a token in one sequence with the other sequence that is softly aligned with that token. Note that in soft alignment, all the tokens from one sequence, though with probably different attention weights, will be compared with a token in the other sequence. For example, suppose that the attending step determines that “need” and “sleep” in the premise are both aligned with “tired” in the hypothesis, the pair “tired–need sleep” will be compared.\n",
        "\n",
        "In the comparing step, we feed the concatenation of tokens from one sequence and aligned tokens from the other sequence into a function g (an MLP)"
      ],
      "metadata": {
        "id": "mhZ_EbiSZ2Lu"
      }
    },
    {
      "cell_type": "code",
      "source": [
        "class Compare(nn.Module):\n",
        "  def __init__(self, num_inputs, num_hiddens, **kwargs):\n",
        "    super(Compare, self).__init__(**kwargs)\n",
        "    self.g = mlp(num_inputs, num_hiddens, flatten=False)\n",
        "\n",
        "  def forward(self, premises, hypotheses, aligned_hypotheses, aligned_premises):\n",
        "    #batch_size,len_premises,2*embed_size\n",
        "    V_premises = self.g(torch.cat([premises, aligned_hypotheses], dim=2)) \n",
        "    #batch_size,len_hypotheses,2*embed_size\n",
        "    V_hypotheses = self.g(torch.cat([hypotheses, aligned_premises], dim=2))\n",
        "\n",
        "    return V_premises, V_hypotheses"
      ],
      "metadata": {
        "id": "c0HubmoparmO"
      },
      "execution_count": 25,
      "outputs": []
    },
    {
      "cell_type": "markdown",
      "source": [
        "## Aggregating\n",
        "\n",
        "With two sets of comparison vectors V_premises,i (i = 1,...,m) and V_hypotheses,j (j = 1,...,n) on hand, in the last step we will aggregate such information to infer the logical relationship. We begin by summing up both sets:\n",
        "Next we feed the concatenation of both summarization results into function h (an MLP) to obtain\n",
        "the classification result of the logical relationship:\n",
        "y = h([V_premises,V_hypotheses])."
      ],
      "metadata": {
        "id": "Om-NC8yrbeK6"
      }
    },
    {
      "cell_type": "code",
      "source": [
        "class Aggregate(nn.Module):\n",
        "  def __init__(self, num_inputs, num_hiddens, num_outputs, **kwargs):\n",
        "    super(Aggregate, self).__init__(**kwargs)\n",
        "    self.h = mlp(num_inputs, num_hiddens, flatten=True) \n",
        "    self.linear = nn.Linear(num_hiddens, num_outputs)\n",
        "\n",
        "  def forward(self, V_premises, V_hypotheses):\n",
        "    # Sum up both sets of comparison vectors\n",
        "    #batch_size, embed_dim\n",
        "    V_premises = V_premises.sum(dim=1)\n",
        "    #batch_size, embed_dim\n",
        "    V_hypotheses = V_hypotheses.sum(dim=1)\n",
        "    # Feed the concatenation of both summarization results into an MLP \n",
        "    \n",
        "    #batch_size,1,4*embed_dims -> batch_size,num_hiddens -> batch_size, num_outputs\n",
        "    Y_hat = self.linear(self.h(torch.cat([V_premises, V_hypotheses], dim=1)))\n",
        "    return Y_hat"
      ],
      "metadata": {
        "id": "l91L0G1acCET"
      },
      "execution_count": 26,
      "outputs": []
    },
    {
      "cell_type": "markdown",
      "source": [
        "## Putting Together"
      ],
      "metadata": {
        "id": "Zv5XQhE8dT5v"
      }
    },
    {
      "cell_type": "code",
      "source": [
        "class DecomposableAttention(nn.Module):\n",
        "  def __init__(self, vocab, embed_size, num_hiddens, num_inputs_attend=100,num_inputs_compare=200, num_inputs_agg=400, **kwargs): \n",
        "    super(DecomposableAttention, self).__init__(**kwargs) \n",
        "    self.embedding = nn.Embedding(len(vocab), embed_size)\n",
        "    self.attend = Attend(num_inputs_attend, num_hiddens)\n",
        "    self.compare = Compare(num_inputs_compare, num_hiddens)\n",
        "    # There are 3 possible outputs: entailment, contradiction, and neutral \n",
        "    self.aggregate = Aggregate(num_inputs_agg, num_hiddens, num_outputs=3)\n",
        "\n",
        "  def forward(self, X):\n",
        "    premises, hypotheses = X\n",
        "    #batch_size,len_premises,embed_dim\n",
        "    premises_embedded = self.embedding(premises)\n",
        "    #batch_size,len_hypotheses,embed_dim\n",
        "    hypotheses_embedded = self.embedding(hypotheses)\n",
        "    #batch_size,len_hypotheses/len_premises,embed_dim\n",
        "    aligned_hypotheses, aligned_premises = self.attend(premises_embedded, hypotheses_embedded)\n",
        "    #batch_size,len_hypotheses/len_premises,2*embed_dim\n",
        "    V_premises, V_hypotheses = self.compare(premises_embedded, hypotheses_embedded, aligned_hypotheses, aligned_premises) \n",
        "    #batch_size,3\n",
        "    Y_hat = self.aggregate(V_premises, V_hypotheses)\n",
        "    return Y_hat\n"
      ],
      "metadata": {
        "id": "hJWdgD7LdWao"
      },
      "execution_count": 27,
      "outputs": []
    },
    {
      "cell_type": "markdown",
      "source": [
        "# Training"
      ],
      "metadata": {
        "id": "NESWCME6e-0j"
      }
    },
    {
      "cell_type": "markdown",
      "source": [
        "## Initiate with Glove and unfreeze embeddings"
      ],
      "metadata": {
        "id": "xr2xD61rfP1H"
      }
    },
    {
      "cell_type": "code",
      "source": [
        "embed_size, num_hiddens, devices = 100, 200, d2l.try_all_gpus() \n",
        "net = DecomposableAttention(vocab, embed_size, num_hiddens) \n",
        "glove_embedding = d2l.TokenEmbedding('glove.6b.100d')\n",
        "embeds = glove_embedding[vocab.idx_to_token] \n",
        "net.embedding.weight.data.copy_(embeds);\n",
        "summary(net)"
      ],
      "metadata": {
        "colab": {
          "base_uri": "https://localhost:8080/"
        },
        "id": "-CqOwoHke_8R",
        "outputId": "c8649297-f15e-45fd-a2d7-4f36d2737947"
      },
      "execution_count": 60,
      "outputs": [
        {
          "output_type": "execute_result",
          "data": {
            "text/plain": [
              "=================================================================\n",
              "Layer (type:depth-idx)                   Param #\n",
              "=================================================================\n",
              "DecomposableAttention                    --\n",
              "├─Embedding: 1-1                         1,867,600\n",
              "├─Attend: 1-2                            --\n",
              "│    └─Sequential: 2-1                   --\n",
              "│    │    └─Dropout: 3-1                 --\n",
              "│    │    └─Linear: 3-2                  20,200\n",
              "│    │    └─ReLU: 3-3                    --\n",
              "│    │    └─Dropout: 3-4                 --\n",
              "│    │    └─Linear: 3-5                  40,200\n",
              "│    │    └─ReLU: 3-6                    --\n",
              "├─Compare: 1-3                           --\n",
              "│    └─Sequential: 2-2                   --\n",
              "│    │    └─Dropout: 3-7                 --\n",
              "│    │    └─Linear: 3-8                  40,200\n",
              "│    │    └─ReLU: 3-9                    --\n",
              "│    │    └─Dropout: 3-10                --\n",
              "│    │    └─Linear: 3-11                 40,200\n",
              "│    │    └─ReLU: 3-12                   --\n",
              "├─Aggregate: 1-4                         --\n",
              "│    └─Sequential: 2-3                   --\n",
              "│    │    └─Dropout: 3-13                --\n",
              "│    │    └─Linear: 3-14                 80,200\n",
              "│    │    └─ReLU: 3-15                   --\n",
              "│    │    └─Flatten: 3-16                --\n",
              "│    │    └─Dropout: 3-17                --\n",
              "│    │    └─Linear: 3-18                 40,200\n",
              "│    │    └─ReLU: 3-19                   --\n",
              "│    │    └─Flatten: 3-20                --\n",
              "│    └─Linear: 2-4                       603\n",
              "=================================================================\n",
              "Total params: 2,129,403\n",
              "Trainable params: 2,129,403\n",
              "Non-trainable params: 0\n",
              "================================================================="
            ]
          },
          "metadata": {},
          "execution_count": 60
        }
      ]
    },
    {
      "cell_type": "code",
      "source": [
        "def evaluate_accuracy_gpu(net, data_iter, device=None):\n",
        "  if isinstance(net, nn.Module):\n",
        "    net.eval() # Set the model to evaluation mode \n",
        "    if not device:\n",
        "      device = next(iter(net.parameters())).device \n",
        "\n",
        "  # No. of correct predictions, no. of predictions \n",
        "  metric = d2l.Accumulator(2)\n",
        "  with torch.no_grad():\n",
        "    for X, y in data_iter:\n",
        "      X = [x.to(devices[0]) for x in X]\n",
        "      y = y.to(device) \n",
        "      metric.add(d2l.accuracy(net(X), y), y.numel())\n",
        "  return metric[0] / metric[1]\n",
        "\n",
        "def train_batch(net,X,y,loss,optimizer,devices):\n",
        "  X = [x.to(devices[0]) for x in X]\n",
        "  y = y.to(devices[0])\n",
        "  net.train()\n",
        "  optimizer.zero_grad()\n",
        "  pred = net(X)\n",
        "  l = loss(pred, y)\n",
        "  l.sum().backward()\n",
        "  optimizer.step()\n",
        "  train_loss_sum = l.sum() \n",
        "  train_acc_sum = d2l.accuracy(pred, y) \n",
        "  return train_loss_sum, train_acc_sum\n",
        "\n",
        "def train(net, train_iter, test_iter, loss, trainer, num_epochs,devices=d2l.try_all_gpus()):\n",
        "  timer, num_batches = d2l.Timer(), len(train_iter)\n",
        "  net = nn.DataParallel(net, device_ids=devices).to(devices[0])\n",
        "  for epoch in range(num_epochs):\n",
        "    # Sum of training loss, sum of training accuracy, no. of examples, no. of predictions\n",
        "    metric = d2l.Accumulator(4)\n",
        "    for i, (features, labels) in enumerate(train_iter):\n",
        "      timer.start()\n",
        "      l,acc=train_batch(net,features,labels,loss,trainer,devices)\n",
        "      metric.add(l, acc, labels.shape[0], labels.numel())\n",
        "      timer.stop()\n",
        "    test_acc = evaluate_accuracy_gpu(net, test_iter)\n",
        "    print(f'epoch {epoch+1}: loss {metric[0] / metric[2]:.3f}, train acc 'f'{metric[1] / metric[3]:.3f}, test acc {test_acc:.3f}') \n",
        "  print(f'{metric[2] * num_epochs / timer.sum():.1f} examples/sec on 'f'{str(devices)}')"
      ],
      "metadata": {
        "id": "h7nmk7gXgFct"
      },
      "execution_count": 48,
      "outputs": []
    },
    {
      "cell_type": "code",
      "source": [
        "lr, num_epochs = 0.001, 10\n",
        "trainer = torch.optim.Adam(net.parameters(), lr=lr)\n",
        "loss = nn.CrossEntropyLoss(reduction=\"none\")"
      ],
      "metadata": {
        "id": "qalOukTsgE6B"
      },
      "execution_count": 61,
      "outputs": []
    },
    {
      "cell_type": "code",
      "source": [
        "train(net, train_iter, test_iter, loss, trainer, num_epochs, devices)"
      ],
      "metadata": {
        "colab": {
          "base_uri": "https://localhost:8080/"
        },
        "id": "qPrmVLtPgXDn",
        "outputId": "a279932c-037d-4638-eeb2-0371f9e1b3f0"
      },
      "execution_count": 62,
      "outputs": [
        {
          "output_type": "stream",
          "name": "stdout",
          "text": [
            "epoch 1: loss 0.724, train acc 0.685, test acc 0.785\n",
            "epoch 2: loss 0.569, train acc 0.772, test acc 0.805\n",
            "epoch 3: loss 0.526, train acc 0.792, test acc 0.810\n",
            "epoch 4: loss 0.502, train acc 0.802, test acc 0.817\n",
            "epoch 5: loss 0.486, train acc 0.810, test acc 0.812\n",
            "epoch 6: loss 0.473, train acc 0.815, test acc 0.821\n",
            "epoch 7: loss 0.463, train acc 0.820, test acc 0.821\n",
            "epoch 8: loss 0.454, train acc 0.824, test acc 0.822\n",
            "epoch 9: loss 0.446, train acc 0.827, test acc 0.826\n",
            "epoch 10: loss 0.440, train acc 0.829, test acc 0.825\n",
            "11287.5 examples/sec on [device(type='cuda', index=0)]\n"
          ]
        }
      ]
    },
    {
      "cell_type": "markdown",
      "source": [
        "### Predict"
      ],
      "metadata": {
        "id": "ddBV8-RLmQN8"
      }
    },
    {
      "cell_type": "code",
      "source": [
        "def predict_snli(net, vocab, premise, hypothesis):\n",
        "  \"\"\"Predict the logical relationship between the premise and hypothesis.\"\"\" \n",
        "  net.eval()\n",
        "  premise = torch.tensor(vocab[nltk.tokenize.word_tokenize(premise)], device=d2l.try_gpu())\n",
        "  hypothesis = torch.tensor(vocab[nltk.tokenize.word_tokenize(hypothesis)], device=d2l.try_gpu())\n",
        "  label = torch.argmax(net([premise.reshape((1, -1)),hypothesis.reshape((1, -1))]), dim=1)\n",
        "  return 'entailment' if label == 0 else 'contradiction' if label == 1 else 'neutral'"
      ],
      "metadata": {
        "id": "MuXxClXEmR0v"
      },
      "execution_count": 54,
      "outputs": []
    },
    {
      "cell_type": "code",
      "source": [
        "predict_snli(net, vocab, \"He has gone out for a walk\", \"He is driving right now\")"
      ],
      "metadata": {
        "colab": {
          "base_uri": "https://localhost:8080/",
          "height": 35
        },
        "id": "DrDJE8KBmSQe",
        "outputId": "c358703f-87d2-4e3d-d898-0fcbe7d7e048"
      },
      "execution_count": 66,
      "outputs": [
        {
          "output_type": "execute_result",
          "data": {
            "text/plain": [
              "'contradiction'"
            ],
            "application/vnd.google.colaboratory.intrinsic+json": {
              "type": "string"
            }
          },
          "metadata": {},
          "execution_count": 66
        }
      ]
    },
    {
      "cell_type": "code",
      "source": [
        "predict_snli(net, vocab, \"He has gone out for a walk\", \"He is ten years old\")"
      ],
      "metadata": {
        "colab": {
          "base_uri": "https://localhost:8080/",
          "height": 35
        },
        "id": "BF5riTgUmT1Q",
        "outputId": "bb9796a9-fe98-41b8-b839-5612ab20df33"
      },
      "execution_count": 67,
      "outputs": [
        {
          "output_type": "execute_result",
          "data": {
            "text/plain": [
              "'neutral'"
            ],
            "application/vnd.google.colaboratory.intrinsic+json": {
              "type": "string"
            }
          },
          "metadata": {},
          "execution_count": 67
        }
      ]
    },
    {
      "cell_type": "code",
      "source": [
        "predict_snli(net, vocab, \"He has gone out for a walk\", \"He is not driving\")"
      ],
      "metadata": {
        "colab": {
          "base_uri": "https://localhost:8080/",
          "height": 35
        },
        "id": "H0UglcTamVpZ",
        "outputId": "c3e2bd1f-f96f-46b2-f1fa-1b15cd8e16bb"
      },
      "execution_count": 70,
      "outputs": [
        {
          "output_type": "execute_result",
          "data": {
            "text/plain": [
              "'entailment'"
            ],
            "application/vnd.google.colaboratory.intrinsic+json": {
              "type": "string"
            }
          },
          "metadata": {},
          "execution_count": 70
        }
      ]
    },
    {
      "cell_type": "markdown",
      "source": [
        "## Freeze embeddings\n"
      ],
      "metadata": {
        "id": "hyDXUTmPjai7"
      }
    },
    {
      "cell_type": "code",
      "source": [
        "embed_size, num_hiddens, devices = 100, 200, d2l.try_all_gpus() \n",
        "net = DecomposableAttention(vocab, embed_size, num_hiddens) \n",
        "glove_embedding = d2l.TokenEmbedding('glove.6b.100d')\n",
        "embeds = glove_embedding[vocab.idx_to_token] \n",
        "net.embedding.weight.data.copy_(embeds);\n",
        "net.embedding.weight.requires_grad = False\n",
        "summary(net)"
      ],
      "metadata": {
        "colab": {
          "base_uri": "https://localhost:8080/"
        },
        "id": "3nyVJHf6jdA1",
        "outputId": "a25abc1b-f406-4456-da79-4babeaaa1ca0"
      },
      "execution_count": 51,
      "outputs": [
        {
          "output_type": "execute_result",
          "data": {
            "text/plain": [
              "=================================================================\n",
              "Layer (type:depth-idx)                   Param #\n",
              "=================================================================\n",
              "DecomposableAttention                    --\n",
              "├─Embedding: 1-1                         (1,867,600)\n",
              "├─Attend: 1-2                            --\n",
              "│    └─Sequential: 2-1                   --\n",
              "│    │    └─Dropout: 3-1                 --\n",
              "│    │    └─Linear: 3-2                  20,200\n",
              "│    │    └─ReLU: 3-3                    --\n",
              "│    │    └─Dropout: 3-4                 --\n",
              "│    │    └─Linear: 3-5                  40,200\n",
              "│    │    └─ReLU: 3-6                    --\n",
              "├─Compare: 1-3                           --\n",
              "│    └─Sequential: 2-2                   --\n",
              "│    │    └─Dropout: 3-7                 --\n",
              "│    │    └─Linear: 3-8                  40,200\n",
              "│    │    └─ReLU: 3-9                    --\n",
              "│    │    └─Dropout: 3-10                --\n",
              "│    │    └─Linear: 3-11                 40,200\n",
              "│    │    └─ReLU: 3-12                   --\n",
              "├─Aggregate: 1-4                         --\n",
              "│    └─Sequential: 2-3                   --\n",
              "│    │    └─Dropout: 3-13                --\n",
              "│    │    └─Linear: 3-14                 80,200\n",
              "│    │    └─ReLU: 3-15                   --\n",
              "│    │    └─Flatten: 3-16                --\n",
              "│    │    └─Dropout: 3-17                --\n",
              "│    │    └─Linear: 3-18                 40,200\n",
              "│    │    └─ReLU: 3-19                   --\n",
              "│    │    └─Flatten: 3-20                --\n",
              "│    └─Linear: 2-4                       603\n",
              "=================================================================\n",
              "Total params: 2,129,403\n",
              "Trainable params: 261,803\n",
              "Non-trainable params: 1,867,600\n",
              "================================================================="
            ]
          },
          "metadata": {},
          "execution_count": 51
        }
      ]
    },
    {
      "cell_type": "code",
      "source": [
        "lr, num_epochs = 0.001, 10\n",
        "trainer = torch.optim.Adam(net.parameters(), lr=lr)\n",
        "loss = nn.CrossEntropyLoss(reduction=\"none\")"
      ],
      "metadata": {
        "id": "BXAV8hqAjdtc"
      },
      "execution_count": 52,
      "outputs": []
    },
    {
      "cell_type": "code",
      "source": [
        "train(net, train_iter, test_iter, loss, trainer, num_epochs, devices)"
      ],
      "metadata": {
        "colab": {
          "base_uri": "https://localhost:8080/"
        },
        "id": "MlxxrOEXjjQR",
        "outputId": "aea3eece-328f-405c-adb6-a680e2d9f024"
      },
      "execution_count": 53,
      "outputs": [
        {
          "output_type": "stream",
          "name": "stdout",
          "text": [
            "epoch 1: loss 0.795, train acc 0.646, test acc 0.742\n",
            "epoch 2: loss 0.681, train acc 0.717, test acc 0.766\n",
            "epoch 3: loss 0.654, train acc 0.730, test acc 0.771\n",
            "epoch 4: loss 0.641, train acc 0.737, test acc 0.776\n",
            "epoch 5: loss 0.633, train acc 0.741, test acc 0.779\n",
            "epoch 6: loss 0.625, train acc 0.744, test acc 0.780\n",
            "epoch 7: loss 0.619, train acc 0.747, test acc 0.781\n",
            "epoch 8: loss 0.615, train acc 0.749, test acc 0.782\n",
            "epoch 9: loss 0.612, train acc 0.750, test acc 0.790\n",
            "epoch 10: loss 0.610, train acc 0.751, test acc 0.794\n",
            "14054.4 examples/sec on [device(type='cuda', index=0)]\n"
          ]
        }
      ]
    }
  ]
}