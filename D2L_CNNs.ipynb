{
  "nbformat": 4,
  "nbformat_minor": 0,
  "metadata": {
    "colab": {
      "name": "D2L_CNNs.ipynb",
      "provenance": [],
      "authorship_tag": "ABX9TyOb4X7N5+YddXHB9jNNeSjx",
      "include_colab_link": true
    },
    "kernelspec": {
      "name": "python3",
      "display_name": "Python 3"
    },
    "language_info": {
      "name": "python"
    },
    "accelerator": "GPU",
    "widgets": {
      "application/vnd.jupyter.widget-state+json": {
        "423e1999b732427b9ecf62b030058395": {
          "model_module": "@jupyter-widgets/controls",
          "model_name": "HBoxModel",
          "model_module_version": "1.5.0",
          "state": {
            "_dom_classes": [],
            "_model_module": "@jupyter-widgets/controls",
            "_model_module_version": "1.5.0",
            "_model_name": "HBoxModel",
            "_view_count": null,
            "_view_module": "@jupyter-widgets/controls",
            "_view_module_version": "1.5.0",
            "_view_name": "HBoxView",
            "box_style": "",
            "children": [
              "IPY_MODEL_9ef243152ca24453b9600f3dd5b037af",
              "IPY_MODEL_559571b408f04bf1a762e2fcae49d4e3",
              "IPY_MODEL_a3d11eff04a849779bd4e683b599621b"
            ],
            "layout": "IPY_MODEL_347f2b12249f4fa69350e10ba87e2c4d"
          }
        },
        "9ef243152ca24453b9600f3dd5b037af": {
          "model_module": "@jupyter-widgets/controls",
          "model_name": "HTMLModel",
          "model_module_version": "1.5.0",
          "state": {
            "_dom_classes": [],
            "_model_module": "@jupyter-widgets/controls",
            "_model_module_version": "1.5.0",
            "_model_name": "HTMLModel",
            "_view_count": null,
            "_view_module": "@jupyter-widgets/controls",
            "_view_module_version": "1.5.0",
            "_view_name": "HTMLView",
            "description": "",
            "description_tooltip": null,
            "layout": "IPY_MODEL_86bdc905f6d44398a89deecf5958409c",
            "placeholder": "​",
            "style": "IPY_MODEL_006b4dc3b1e741019fd1fe362be05237",
            "value": ""
          }
        },
        "559571b408f04bf1a762e2fcae49d4e3": {
          "model_module": "@jupyter-widgets/controls",
          "model_name": "FloatProgressModel",
          "model_module_version": "1.5.0",
          "state": {
            "_dom_classes": [],
            "_model_module": "@jupyter-widgets/controls",
            "_model_module_version": "1.5.0",
            "_model_name": "FloatProgressModel",
            "_view_count": null,
            "_view_module": "@jupyter-widgets/controls",
            "_view_module_version": "1.5.0",
            "_view_name": "ProgressView",
            "bar_style": "success",
            "description": "",
            "description_tooltip": null,
            "layout": "IPY_MODEL_74bb4223f34f4426a57f0bad84352c5b",
            "max": 26421880,
            "min": 0,
            "orientation": "horizontal",
            "style": "IPY_MODEL_08923cd31d8746fd904b4d9537e72eac",
            "value": 26421880
          }
        },
        "a3d11eff04a849779bd4e683b599621b": {
          "model_module": "@jupyter-widgets/controls",
          "model_name": "HTMLModel",
          "model_module_version": "1.5.0",
          "state": {
            "_dom_classes": [],
            "_model_module": "@jupyter-widgets/controls",
            "_model_module_version": "1.5.0",
            "_model_name": "HTMLModel",
            "_view_count": null,
            "_view_module": "@jupyter-widgets/controls",
            "_view_module_version": "1.5.0",
            "_view_name": "HTMLView",
            "description": "",
            "description_tooltip": null,
            "layout": "IPY_MODEL_340056e94bb0419bb1549775a8c184e7",
            "placeholder": "​",
            "style": "IPY_MODEL_8b2f2846baf44f24b947f7f383c0c2e6",
            "value": " 26422272/? [00:04&lt;00:00, 9209192.48it/s]"
          }
        },
        "347f2b12249f4fa69350e10ba87e2c4d": {
          "model_module": "@jupyter-widgets/base",
          "model_name": "LayoutModel",
          "model_module_version": "1.2.0",
          "state": {
            "_model_module": "@jupyter-widgets/base",
            "_model_module_version": "1.2.0",
            "_model_name": "LayoutModel",
            "_view_count": null,
            "_view_module": "@jupyter-widgets/base",
            "_view_module_version": "1.2.0",
            "_view_name": "LayoutView",
            "align_content": null,
            "align_items": null,
            "align_self": null,
            "border": null,
            "bottom": null,
            "display": null,
            "flex": null,
            "flex_flow": null,
            "grid_area": null,
            "grid_auto_columns": null,
            "grid_auto_flow": null,
            "grid_auto_rows": null,
            "grid_column": null,
            "grid_gap": null,
            "grid_row": null,
            "grid_template_areas": null,
            "grid_template_columns": null,
            "grid_template_rows": null,
            "height": null,
            "justify_content": null,
            "justify_items": null,
            "left": null,
            "margin": null,
            "max_height": null,
            "max_width": null,
            "min_height": null,
            "min_width": null,
            "object_fit": null,
            "object_position": null,
            "order": null,
            "overflow": null,
            "overflow_x": null,
            "overflow_y": null,
            "padding": null,
            "right": null,
            "top": null,
            "visibility": null,
            "width": null
          }
        },
        "86bdc905f6d44398a89deecf5958409c": {
          "model_module": "@jupyter-widgets/base",
          "model_name": "LayoutModel",
          "model_module_version": "1.2.0",
          "state": {
            "_model_module": "@jupyter-widgets/base",
            "_model_module_version": "1.2.0",
            "_model_name": "LayoutModel",
            "_view_count": null,
            "_view_module": "@jupyter-widgets/base",
            "_view_module_version": "1.2.0",
            "_view_name": "LayoutView",
            "align_content": null,
            "align_items": null,
            "align_self": null,
            "border": null,
            "bottom": null,
            "display": null,
            "flex": null,
            "flex_flow": null,
            "grid_area": null,
            "grid_auto_columns": null,
            "grid_auto_flow": null,
            "grid_auto_rows": null,
            "grid_column": null,
            "grid_gap": null,
            "grid_row": null,
            "grid_template_areas": null,
            "grid_template_columns": null,
            "grid_template_rows": null,
            "height": null,
            "justify_content": null,
            "justify_items": null,
            "left": null,
            "margin": null,
            "max_height": null,
            "max_width": null,
            "min_height": null,
            "min_width": null,
            "object_fit": null,
            "object_position": null,
            "order": null,
            "overflow": null,
            "overflow_x": null,
            "overflow_y": null,
            "padding": null,
            "right": null,
            "top": null,
            "visibility": null,
            "width": null
          }
        },
        "006b4dc3b1e741019fd1fe362be05237": {
          "model_module": "@jupyter-widgets/controls",
          "model_name": "DescriptionStyleModel",
          "model_module_version": "1.5.0",
          "state": {
            "_model_module": "@jupyter-widgets/controls",
            "_model_module_version": "1.5.0",
            "_model_name": "DescriptionStyleModel",
            "_view_count": null,
            "_view_module": "@jupyter-widgets/base",
            "_view_module_version": "1.2.0",
            "_view_name": "StyleView",
            "description_width": ""
          }
        },
        "74bb4223f34f4426a57f0bad84352c5b": {
          "model_module": "@jupyter-widgets/base",
          "model_name": "LayoutModel",
          "model_module_version": "1.2.0",
          "state": {
            "_model_module": "@jupyter-widgets/base",
            "_model_module_version": "1.2.0",
            "_model_name": "LayoutModel",
            "_view_count": null,
            "_view_module": "@jupyter-widgets/base",
            "_view_module_version": "1.2.0",
            "_view_name": "LayoutView",
            "align_content": null,
            "align_items": null,
            "align_self": null,
            "border": null,
            "bottom": null,
            "display": null,
            "flex": null,
            "flex_flow": null,
            "grid_area": null,
            "grid_auto_columns": null,
            "grid_auto_flow": null,
            "grid_auto_rows": null,
            "grid_column": null,
            "grid_gap": null,
            "grid_row": null,
            "grid_template_areas": null,
            "grid_template_columns": null,
            "grid_template_rows": null,
            "height": null,
            "justify_content": null,
            "justify_items": null,
            "left": null,
            "margin": null,
            "max_height": null,
            "max_width": null,
            "min_height": null,
            "min_width": null,
            "object_fit": null,
            "object_position": null,
            "order": null,
            "overflow": null,
            "overflow_x": null,
            "overflow_y": null,
            "padding": null,
            "right": null,
            "top": null,
            "visibility": null,
            "width": null
          }
        },
        "08923cd31d8746fd904b4d9537e72eac": {
          "model_module": "@jupyter-widgets/controls",
          "model_name": "ProgressStyleModel",
          "model_module_version": "1.5.0",
          "state": {
            "_model_module": "@jupyter-widgets/controls",
            "_model_module_version": "1.5.0",
            "_model_name": "ProgressStyleModel",
            "_view_count": null,
            "_view_module": "@jupyter-widgets/base",
            "_view_module_version": "1.2.0",
            "_view_name": "StyleView",
            "bar_color": null,
            "description_width": ""
          }
        },
        "340056e94bb0419bb1549775a8c184e7": {
          "model_module": "@jupyter-widgets/base",
          "model_name": "LayoutModel",
          "model_module_version": "1.2.0",
          "state": {
            "_model_module": "@jupyter-widgets/base",
            "_model_module_version": "1.2.0",
            "_model_name": "LayoutModel",
            "_view_count": null,
            "_view_module": "@jupyter-widgets/base",
            "_view_module_version": "1.2.0",
            "_view_name": "LayoutView",
            "align_content": null,
            "align_items": null,
            "align_self": null,
            "border": null,
            "bottom": null,
            "display": null,
            "flex": null,
            "flex_flow": null,
            "grid_area": null,
            "grid_auto_columns": null,
            "grid_auto_flow": null,
            "grid_auto_rows": null,
            "grid_column": null,
            "grid_gap": null,
            "grid_row": null,
            "grid_template_areas": null,
            "grid_template_columns": null,
            "grid_template_rows": null,
            "height": null,
            "justify_content": null,
            "justify_items": null,
            "left": null,
            "margin": null,
            "max_height": null,
            "max_width": null,
            "min_height": null,
            "min_width": null,
            "object_fit": null,
            "object_position": null,
            "order": null,
            "overflow": null,
            "overflow_x": null,
            "overflow_y": null,
            "padding": null,
            "right": null,
            "top": null,
            "visibility": null,
            "width": null
          }
        },
        "8b2f2846baf44f24b947f7f383c0c2e6": {
          "model_module": "@jupyter-widgets/controls",
          "model_name": "DescriptionStyleModel",
          "model_module_version": "1.5.0",
          "state": {
            "_model_module": "@jupyter-widgets/controls",
            "_model_module_version": "1.5.0",
            "_model_name": "DescriptionStyleModel",
            "_view_count": null,
            "_view_module": "@jupyter-widgets/base",
            "_view_module_version": "1.2.0",
            "_view_name": "StyleView",
            "description_width": ""
          }
        },
        "f989305f4b7d49a3a527cfc01b635333": {
          "model_module": "@jupyter-widgets/controls",
          "model_name": "HBoxModel",
          "model_module_version": "1.5.0",
          "state": {
            "_dom_classes": [],
            "_model_module": "@jupyter-widgets/controls",
            "_model_module_version": "1.5.0",
            "_model_name": "HBoxModel",
            "_view_count": null,
            "_view_module": "@jupyter-widgets/controls",
            "_view_module_version": "1.5.0",
            "_view_name": "HBoxView",
            "box_style": "",
            "children": [
              "IPY_MODEL_b26c0b67fe8e4d12800df0fbb9042d49",
              "IPY_MODEL_86429a8e64b9413abd9ce7eeb7b567f3",
              "IPY_MODEL_03ab45fb83444078a0ab4e60370b8eae"
            ],
            "layout": "IPY_MODEL_3ca48bb0413648169b9ebcb320dbfd6e"
          }
        },
        "b26c0b67fe8e4d12800df0fbb9042d49": {
          "model_module": "@jupyter-widgets/controls",
          "model_name": "HTMLModel",
          "model_module_version": "1.5.0",
          "state": {
            "_dom_classes": [],
            "_model_module": "@jupyter-widgets/controls",
            "_model_module_version": "1.5.0",
            "_model_name": "HTMLModel",
            "_view_count": null,
            "_view_module": "@jupyter-widgets/controls",
            "_view_module_version": "1.5.0",
            "_view_name": "HTMLView",
            "description": "",
            "description_tooltip": null,
            "layout": "IPY_MODEL_85ee8de03ed84043894a3f9328361d7c",
            "placeholder": "​",
            "style": "IPY_MODEL_661e19b7eef6471e9ee5dee9484e906d",
            "value": ""
          }
        },
        "86429a8e64b9413abd9ce7eeb7b567f3": {
          "model_module": "@jupyter-widgets/controls",
          "model_name": "FloatProgressModel",
          "model_module_version": "1.5.0",
          "state": {
            "_dom_classes": [],
            "_model_module": "@jupyter-widgets/controls",
            "_model_module_version": "1.5.0",
            "_model_name": "FloatProgressModel",
            "_view_count": null,
            "_view_module": "@jupyter-widgets/controls",
            "_view_module_version": "1.5.0",
            "_view_name": "ProgressView",
            "bar_style": "success",
            "description": "",
            "description_tooltip": null,
            "layout": "IPY_MODEL_7e4eeb1a44bb479a8a947bda9e2af9b5",
            "max": 29515,
            "min": 0,
            "orientation": "horizontal",
            "style": "IPY_MODEL_540b941a8046443d9550a7637569850c",
            "value": 29515
          }
        },
        "03ab45fb83444078a0ab4e60370b8eae": {
          "model_module": "@jupyter-widgets/controls",
          "model_name": "HTMLModel",
          "model_module_version": "1.5.0",
          "state": {
            "_dom_classes": [],
            "_model_module": "@jupyter-widgets/controls",
            "_model_module_version": "1.5.0",
            "_model_name": "HTMLModel",
            "_view_count": null,
            "_view_module": "@jupyter-widgets/controls",
            "_view_module_version": "1.5.0",
            "_view_name": "HTMLView",
            "description": "",
            "description_tooltip": null,
            "layout": "IPY_MODEL_d46f4911de7a454994963f38ef18fcae",
            "placeholder": "​",
            "style": "IPY_MODEL_1e7bc5b43bcf4abc86f59e5dad8d8091",
            "value": " 29696/? [00:00&lt;00:00, 56061.13it/s]"
          }
        },
        "3ca48bb0413648169b9ebcb320dbfd6e": {
          "model_module": "@jupyter-widgets/base",
          "model_name": "LayoutModel",
          "model_module_version": "1.2.0",
          "state": {
            "_model_module": "@jupyter-widgets/base",
            "_model_module_version": "1.2.0",
            "_model_name": "LayoutModel",
            "_view_count": null,
            "_view_module": "@jupyter-widgets/base",
            "_view_module_version": "1.2.0",
            "_view_name": "LayoutView",
            "align_content": null,
            "align_items": null,
            "align_self": null,
            "border": null,
            "bottom": null,
            "display": null,
            "flex": null,
            "flex_flow": null,
            "grid_area": null,
            "grid_auto_columns": null,
            "grid_auto_flow": null,
            "grid_auto_rows": null,
            "grid_column": null,
            "grid_gap": null,
            "grid_row": null,
            "grid_template_areas": null,
            "grid_template_columns": null,
            "grid_template_rows": null,
            "height": null,
            "justify_content": null,
            "justify_items": null,
            "left": null,
            "margin": null,
            "max_height": null,
            "max_width": null,
            "min_height": null,
            "min_width": null,
            "object_fit": null,
            "object_position": null,
            "order": null,
            "overflow": null,
            "overflow_x": null,
            "overflow_y": null,
            "padding": null,
            "right": null,
            "top": null,
            "visibility": null,
            "width": null
          }
        },
        "85ee8de03ed84043894a3f9328361d7c": {
          "model_module": "@jupyter-widgets/base",
          "model_name": "LayoutModel",
          "model_module_version": "1.2.0",
          "state": {
            "_model_module": "@jupyter-widgets/base",
            "_model_module_version": "1.2.0",
            "_model_name": "LayoutModel",
            "_view_count": null,
            "_view_module": "@jupyter-widgets/base",
            "_view_module_version": "1.2.0",
            "_view_name": "LayoutView",
            "align_content": null,
            "align_items": null,
            "align_self": null,
            "border": null,
            "bottom": null,
            "display": null,
            "flex": null,
            "flex_flow": null,
            "grid_area": null,
            "grid_auto_columns": null,
            "grid_auto_flow": null,
            "grid_auto_rows": null,
            "grid_column": null,
            "grid_gap": null,
            "grid_row": null,
            "grid_template_areas": null,
            "grid_template_columns": null,
            "grid_template_rows": null,
            "height": null,
            "justify_content": null,
            "justify_items": null,
            "left": null,
            "margin": null,
            "max_height": null,
            "max_width": null,
            "min_height": null,
            "min_width": null,
            "object_fit": null,
            "object_position": null,
            "order": null,
            "overflow": null,
            "overflow_x": null,
            "overflow_y": null,
            "padding": null,
            "right": null,
            "top": null,
            "visibility": null,
            "width": null
          }
        },
        "661e19b7eef6471e9ee5dee9484e906d": {
          "model_module": "@jupyter-widgets/controls",
          "model_name": "DescriptionStyleModel",
          "model_module_version": "1.5.0",
          "state": {
            "_model_module": "@jupyter-widgets/controls",
            "_model_module_version": "1.5.0",
            "_model_name": "DescriptionStyleModel",
            "_view_count": null,
            "_view_module": "@jupyter-widgets/base",
            "_view_module_version": "1.2.0",
            "_view_name": "StyleView",
            "description_width": ""
          }
        },
        "7e4eeb1a44bb479a8a947bda9e2af9b5": {
          "model_module": "@jupyter-widgets/base",
          "model_name": "LayoutModel",
          "model_module_version": "1.2.0",
          "state": {
            "_model_module": "@jupyter-widgets/base",
            "_model_module_version": "1.2.0",
            "_model_name": "LayoutModel",
            "_view_count": null,
            "_view_module": "@jupyter-widgets/base",
            "_view_module_version": "1.2.0",
            "_view_name": "LayoutView",
            "align_content": null,
            "align_items": null,
            "align_self": null,
            "border": null,
            "bottom": null,
            "display": null,
            "flex": null,
            "flex_flow": null,
            "grid_area": null,
            "grid_auto_columns": null,
            "grid_auto_flow": null,
            "grid_auto_rows": null,
            "grid_column": null,
            "grid_gap": null,
            "grid_row": null,
            "grid_template_areas": null,
            "grid_template_columns": null,
            "grid_template_rows": null,
            "height": null,
            "justify_content": null,
            "justify_items": null,
            "left": null,
            "margin": null,
            "max_height": null,
            "max_width": null,
            "min_height": null,
            "min_width": null,
            "object_fit": null,
            "object_position": null,
            "order": null,
            "overflow": null,
            "overflow_x": null,
            "overflow_y": null,
            "padding": null,
            "right": null,
            "top": null,
            "visibility": null,
            "width": null
          }
        },
        "540b941a8046443d9550a7637569850c": {
          "model_module": "@jupyter-widgets/controls",
          "model_name": "ProgressStyleModel",
          "model_module_version": "1.5.0",
          "state": {
            "_model_module": "@jupyter-widgets/controls",
            "_model_module_version": "1.5.0",
            "_model_name": "ProgressStyleModel",
            "_view_count": null,
            "_view_module": "@jupyter-widgets/base",
            "_view_module_version": "1.2.0",
            "_view_name": "StyleView",
            "bar_color": null,
            "description_width": ""
          }
        },
        "d46f4911de7a454994963f38ef18fcae": {
          "model_module": "@jupyter-widgets/base",
          "model_name": "LayoutModel",
          "model_module_version": "1.2.0",
          "state": {
            "_model_module": "@jupyter-widgets/base",
            "_model_module_version": "1.2.0",
            "_model_name": "LayoutModel",
            "_view_count": null,
            "_view_module": "@jupyter-widgets/base",
            "_view_module_version": "1.2.0",
            "_view_name": "LayoutView",
            "align_content": null,
            "align_items": null,
            "align_self": null,
            "border": null,
            "bottom": null,
            "display": null,
            "flex": null,
            "flex_flow": null,
            "grid_area": null,
            "grid_auto_columns": null,
            "grid_auto_flow": null,
            "grid_auto_rows": null,
            "grid_column": null,
            "grid_gap": null,
            "grid_row": null,
            "grid_template_areas": null,
            "grid_template_columns": null,
            "grid_template_rows": null,
            "height": null,
            "justify_content": null,
            "justify_items": null,
            "left": null,
            "margin": null,
            "max_height": null,
            "max_width": null,
            "min_height": null,
            "min_width": null,
            "object_fit": null,
            "object_position": null,
            "order": null,
            "overflow": null,
            "overflow_x": null,
            "overflow_y": null,
            "padding": null,
            "right": null,
            "top": null,
            "visibility": null,
            "width": null
          }
        },
        "1e7bc5b43bcf4abc86f59e5dad8d8091": {
          "model_module": "@jupyter-widgets/controls",
          "model_name": "DescriptionStyleModel",
          "model_module_version": "1.5.0",
          "state": {
            "_model_module": "@jupyter-widgets/controls",
            "_model_module_version": "1.5.0",
            "_model_name": "DescriptionStyleModel",
            "_view_count": null,
            "_view_module": "@jupyter-widgets/base",
            "_view_module_version": "1.2.0",
            "_view_name": "StyleView",
            "description_width": ""
          }
        },
        "e746932856254161b25300e5118d762f": {
          "model_module": "@jupyter-widgets/controls",
          "model_name": "HBoxModel",
          "model_module_version": "1.5.0",
          "state": {
            "_dom_classes": [],
            "_model_module": "@jupyter-widgets/controls",
            "_model_module_version": "1.5.0",
            "_model_name": "HBoxModel",
            "_view_count": null,
            "_view_module": "@jupyter-widgets/controls",
            "_view_module_version": "1.5.0",
            "_view_name": "HBoxView",
            "box_style": "",
            "children": [
              "IPY_MODEL_78dbcc82112846c2a62f3a2c6a983f82",
              "IPY_MODEL_a9e48426b4164092a7fa61e4edef958a",
              "IPY_MODEL_a673229be48948959a563f33b288a58c"
            ],
            "layout": "IPY_MODEL_67329017694f4ec1950c7275aec80584"
          }
        },
        "78dbcc82112846c2a62f3a2c6a983f82": {
          "model_module": "@jupyter-widgets/controls",
          "model_name": "HTMLModel",
          "model_module_version": "1.5.0",
          "state": {
            "_dom_classes": [],
            "_model_module": "@jupyter-widgets/controls",
            "_model_module_version": "1.5.0",
            "_model_name": "HTMLModel",
            "_view_count": null,
            "_view_module": "@jupyter-widgets/controls",
            "_view_module_version": "1.5.0",
            "_view_name": "HTMLView",
            "description": "",
            "description_tooltip": null,
            "layout": "IPY_MODEL_3064cecc6f90498cb86aeb88c4e2fecf",
            "placeholder": "​",
            "style": "IPY_MODEL_de168cf705084740bffa9a696746f8c3",
            "value": ""
          }
        },
        "a9e48426b4164092a7fa61e4edef958a": {
          "model_module": "@jupyter-widgets/controls",
          "model_name": "FloatProgressModel",
          "model_module_version": "1.5.0",
          "state": {
            "_dom_classes": [],
            "_model_module": "@jupyter-widgets/controls",
            "_model_module_version": "1.5.0",
            "_model_name": "FloatProgressModel",
            "_view_count": null,
            "_view_module": "@jupyter-widgets/controls",
            "_view_module_version": "1.5.0",
            "_view_name": "ProgressView",
            "bar_style": "success",
            "description": "",
            "description_tooltip": null,
            "layout": "IPY_MODEL_14a834f849274f9cb176fdfc9c56c3ef",
            "max": 4422102,
            "min": 0,
            "orientation": "horizontal",
            "style": "IPY_MODEL_eaf572342e7e49b7b1e246772243ca1f",
            "value": 4422102
          }
        },
        "a673229be48948959a563f33b288a58c": {
          "model_module": "@jupyter-widgets/controls",
          "model_name": "HTMLModel",
          "model_module_version": "1.5.0",
          "state": {
            "_dom_classes": [],
            "_model_module": "@jupyter-widgets/controls",
            "_model_module_version": "1.5.0",
            "_model_name": "HTMLModel",
            "_view_count": null,
            "_view_module": "@jupyter-widgets/controls",
            "_view_module_version": "1.5.0",
            "_view_name": "HTMLView",
            "description": "",
            "description_tooltip": null,
            "layout": "IPY_MODEL_02af379b8ec84c32a2c83850a25c0851",
            "placeholder": "​",
            "style": "IPY_MODEL_00480f274e7b473cafe6511a37e07a3c",
            "value": " 4422656/? [00:02&lt;00:00, 3052977.54it/s]"
          }
        },
        "67329017694f4ec1950c7275aec80584": {
          "model_module": "@jupyter-widgets/base",
          "model_name": "LayoutModel",
          "model_module_version": "1.2.0",
          "state": {
            "_model_module": "@jupyter-widgets/base",
            "_model_module_version": "1.2.0",
            "_model_name": "LayoutModel",
            "_view_count": null,
            "_view_module": "@jupyter-widgets/base",
            "_view_module_version": "1.2.0",
            "_view_name": "LayoutView",
            "align_content": null,
            "align_items": null,
            "align_self": null,
            "border": null,
            "bottom": null,
            "display": null,
            "flex": null,
            "flex_flow": null,
            "grid_area": null,
            "grid_auto_columns": null,
            "grid_auto_flow": null,
            "grid_auto_rows": null,
            "grid_column": null,
            "grid_gap": null,
            "grid_row": null,
            "grid_template_areas": null,
            "grid_template_columns": null,
            "grid_template_rows": null,
            "height": null,
            "justify_content": null,
            "justify_items": null,
            "left": null,
            "margin": null,
            "max_height": null,
            "max_width": null,
            "min_height": null,
            "min_width": null,
            "object_fit": null,
            "object_position": null,
            "order": null,
            "overflow": null,
            "overflow_x": null,
            "overflow_y": null,
            "padding": null,
            "right": null,
            "top": null,
            "visibility": null,
            "width": null
          }
        },
        "3064cecc6f90498cb86aeb88c4e2fecf": {
          "model_module": "@jupyter-widgets/base",
          "model_name": "LayoutModel",
          "model_module_version": "1.2.0",
          "state": {
            "_model_module": "@jupyter-widgets/base",
            "_model_module_version": "1.2.0",
            "_model_name": "LayoutModel",
            "_view_count": null,
            "_view_module": "@jupyter-widgets/base",
            "_view_module_version": "1.2.0",
            "_view_name": "LayoutView",
            "align_content": null,
            "align_items": null,
            "align_self": null,
            "border": null,
            "bottom": null,
            "display": null,
            "flex": null,
            "flex_flow": null,
            "grid_area": null,
            "grid_auto_columns": null,
            "grid_auto_flow": null,
            "grid_auto_rows": null,
            "grid_column": null,
            "grid_gap": null,
            "grid_row": null,
            "grid_template_areas": null,
            "grid_template_columns": null,
            "grid_template_rows": null,
            "height": null,
            "justify_content": null,
            "justify_items": null,
            "left": null,
            "margin": null,
            "max_height": null,
            "max_width": null,
            "min_height": null,
            "min_width": null,
            "object_fit": null,
            "object_position": null,
            "order": null,
            "overflow": null,
            "overflow_x": null,
            "overflow_y": null,
            "padding": null,
            "right": null,
            "top": null,
            "visibility": null,
            "width": null
          }
        },
        "de168cf705084740bffa9a696746f8c3": {
          "model_module": "@jupyter-widgets/controls",
          "model_name": "DescriptionStyleModel",
          "model_module_version": "1.5.0",
          "state": {
            "_model_module": "@jupyter-widgets/controls",
            "_model_module_version": "1.5.0",
            "_model_name": "DescriptionStyleModel",
            "_view_count": null,
            "_view_module": "@jupyter-widgets/base",
            "_view_module_version": "1.2.0",
            "_view_name": "StyleView",
            "description_width": ""
          }
        },
        "14a834f849274f9cb176fdfc9c56c3ef": {
          "model_module": "@jupyter-widgets/base",
          "model_name": "LayoutModel",
          "model_module_version": "1.2.0",
          "state": {
            "_model_module": "@jupyter-widgets/base",
            "_model_module_version": "1.2.0",
            "_model_name": "LayoutModel",
            "_view_count": null,
            "_view_module": "@jupyter-widgets/base",
            "_view_module_version": "1.2.0",
            "_view_name": "LayoutView",
            "align_content": null,
            "align_items": null,
            "align_self": null,
            "border": null,
            "bottom": null,
            "display": null,
            "flex": null,
            "flex_flow": null,
            "grid_area": null,
            "grid_auto_columns": null,
            "grid_auto_flow": null,
            "grid_auto_rows": null,
            "grid_column": null,
            "grid_gap": null,
            "grid_row": null,
            "grid_template_areas": null,
            "grid_template_columns": null,
            "grid_template_rows": null,
            "height": null,
            "justify_content": null,
            "justify_items": null,
            "left": null,
            "margin": null,
            "max_height": null,
            "max_width": null,
            "min_height": null,
            "min_width": null,
            "object_fit": null,
            "object_position": null,
            "order": null,
            "overflow": null,
            "overflow_x": null,
            "overflow_y": null,
            "padding": null,
            "right": null,
            "top": null,
            "visibility": null,
            "width": null
          }
        },
        "eaf572342e7e49b7b1e246772243ca1f": {
          "model_module": "@jupyter-widgets/controls",
          "model_name": "ProgressStyleModel",
          "model_module_version": "1.5.0",
          "state": {
            "_model_module": "@jupyter-widgets/controls",
            "_model_module_version": "1.5.0",
            "_model_name": "ProgressStyleModel",
            "_view_count": null,
            "_view_module": "@jupyter-widgets/base",
            "_view_module_version": "1.2.0",
            "_view_name": "StyleView",
            "bar_color": null,
            "description_width": ""
          }
        },
        "02af379b8ec84c32a2c83850a25c0851": {
          "model_module": "@jupyter-widgets/base",
          "model_name": "LayoutModel",
          "model_module_version": "1.2.0",
          "state": {
            "_model_module": "@jupyter-widgets/base",
            "_model_module_version": "1.2.0",
            "_model_name": "LayoutModel",
            "_view_count": null,
            "_view_module": "@jupyter-widgets/base",
            "_view_module_version": "1.2.0",
            "_view_name": "LayoutView",
            "align_content": null,
            "align_items": null,
            "align_self": null,
            "border": null,
            "bottom": null,
            "display": null,
            "flex": null,
            "flex_flow": null,
            "grid_area": null,
            "grid_auto_columns": null,
            "grid_auto_flow": null,
            "grid_auto_rows": null,
            "grid_column": null,
            "grid_gap": null,
            "grid_row": null,
            "grid_template_areas": null,
            "grid_template_columns": null,
            "grid_template_rows": null,
            "height": null,
            "justify_content": null,
            "justify_items": null,
            "left": null,
            "margin": null,
            "max_height": null,
            "max_width": null,
            "min_height": null,
            "min_width": null,
            "object_fit": null,
            "object_position": null,
            "order": null,
            "overflow": null,
            "overflow_x": null,
            "overflow_y": null,
            "padding": null,
            "right": null,
            "top": null,
            "visibility": null,
            "width": null
          }
        },
        "00480f274e7b473cafe6511a37e07a3c": {
          "model_module": "@jupyter-widgets/controls",
          "model_name": "DescriptionStyleModel",
          "model_module_version": "1.5.0",
          "state": {
            "_model_module": "@jupyter-widgets/controls",
            "_model_module_version": "1.5.0",
            "_model_name": "DescriptionStyleModel",
            "_view_count": null,
            "_view_module": "@jupyter-widgets/base",
            "_view_module_version": "1.2.0",
            "_view_name": "StyleView",
            "description_width": ""
          }
        },
        "150c9a0ebd9d4eeea80c33a7d7f5ec13": {
          "model_module": "@jupyter-widgets/controls",
          "model_name": "HBoxModel",
          "model_module_version": "1.5.0",
          "state": {
            "_dom_classes": [],
            "_model_module": "@jupyter-widgets/controls",
            "_model_module_version": "1.5.0",
            "_model_name": "HBoxModel",
            "_view_count": null,
            "_view_module": "@jupyter-widgets/controls",
            "_view_module_version": "1.5.0",
            "_view_name": "HBoxView",
            "box_style": "",
            "children": [
              "IPY_MODEL_52f13134dce94d2bb653d2ab297f9367",
              "IPY_MODEL_13da983e656b4c45b36413d6574e02f8",
              "IPY_MODEL_a8f31af3ac734cda8100c781af2e58d7"
            ],
            "layout": "IPY_MODEL_f07b1d2e954c406ca84913ee37b6deed"
          }
        },
        "52f13134dce94d2bb653d2ab297f9367": {
          "model_module": "@jupyter-widgets/controls",
          "model_name": "HTMLModel",
          "model_module_version": "1.5.0",
          "state": {
            "_dom_classes": [],
            "_model_module": "@jupyter-widgets/controls",
            "_model_module_version": "1.5.0",
            "_model_name": "HTMLModel",
            "_view_count": null,
            "_view_module": "@jupyter-widgets/controls",
            "_view_module_version": "1.5.0",
            "_view_name": "HTMLView",
            "description": "",
            "description_tooltip": null,
            "layout": "IPY_MODEL_a28dc18c30c24636949b4c41be44c1e5",
            "placeholder": "​",
            "style": "IPY_MODEL_4c0a0fd2dce741b7b282964bf35a180d",
            "value": ""
          }
        },
        "13da983e656b4c45b36413d6574e02f8": {
          "model_module": "@jupyter-widgets/controls",
          "model_name": "FloatProgressModel",
          "model_module_version": "1.5.0",
          "state": {
            "_dom_classes": [],
            "_model_module": "@jupyter-widgets/controls",
            "_model_module_version": "1.5.0",
            "_model_name": "FloatProgressModel",
            "_view_count": null,
            "_view_module": "@jupyter-widgets/controls",
            "_view_module_version": "1.5.0",
            "_view_name": "ProgressView",
            "bar_style": "success",
            "description": "",
            "description_tooltip": null,
            "layout": "IPY_MODEL_18dbc06dd4e44e29a14860341017cf14",
            "max": 5148,
            "min": 0,
            "orientation": "horizontal",
            "style": "IPY_MODEL_edf11dbc0ae94ee4acce39f3d4ec682d",
            "value": 5148
          }
        },
        "a8f31af3ac734cda8100c781af2e58d7": {
          "model_module": "@jupyter-widgets/controls",
          "model_name": "HTMLModel",
          "model_module_version": "1.5.0",
          "state": {
            "_dom_classes": [],
            "_model_module": "@jupyter-widgets/controls",
            "_model_module_version": "1.5.0",
            "_model_name": "HTMLModel",
            "_view_count": null,
            "_view_module": "@jupyter-widgets/controls",
            "_view_module_version": "1.5.0",
            "_view_name": "HTMLView",
            "description": "",
            "description_tooltip": null,
            "layout": "IPY_MODEL_6762e92146f743139c069b051db6d279",
            "placeholder": "​",
            "style": "IPY_MODEL_519313b6b51347089d3d334fc0f6894d",
            "value": " 6144/? [00:00&lt;00:00, 147427.88it/s]"
          }
        },
        "f07b1d2e954c406ca84913ee37b6deed": {
          "model_module": "@jupyter-widgets/base",
          "model_name": "LayoutModel",
          "model_module_version": "1.2.0",
          "state": {
            "_model_module": "@jupyter-widgets/base",
            "_model_module_version": "1.2.0",
            "_model_name": "LayoutModel",
            "_view_count": null,
            "_view_module": "@jupyter-widgets/base",
            "_view_module_version": "1.2.0",
            "_view_name": "LayoutView",
            "align_content": null,
            "align_items": null,
            "align_self": null,
            "border": null,
            "bottom": null,
            "display": null,
            "flex": null,
            "flex_flow": null,
            "grid_area": null,
            "grid_auto_columns": null,
            "grid_auto_flow": null,
            "grid_auto_rows": null,
            "grid_column": null,
            "grid_gap": null,
            "grid_row": null,
            "grid_template_areas": null,
            "grid_template_columns": null,
            "grid_template_rows": null,
            "height": null,
            "justify_content": null,
            "justify_items": null,
            "left": null,
            "margin": null,
            "max_height": null,
            "max_width": null,
            "min_height": null,
            "min_width": null,
            "object_fit": null,
            "object_position": null,
            "order": null,
            "overflow": null,
            "overflow_x": null,
            "overflow_y": null,
            "padding": null,
            "right": null,
            "top": null,
            "visibility": null,
            "width": null
          }
        },
        "a28dc18c30c24636949b4c41be44c1e5": {
          "model_module": "@jupyter-widgets/base",
          "model_name": "LayoutModel",
          "model_module_version": "1.2.0",
          "state": {
            "_model_module": "@jupyter-widgets/base",
            "_model_module_version": "1.2.0",
            "_model_name": "LayoutModel",
            "_view_count": null,
            "_view_module": "@jupyter-widgets/base",
            "_view_module_version": "1.2.0",
            "_view_name": "LayoutView",
            "align_content": null,
            "align_items": null,
            "align_self": null,
            "border": null,
            "bottom": null,
            "display": null,
            "flex": null,
            "flex_flow": null,
            "grid_area": null,
            "grid_auto_columns": null,
            "grid_auto_flow": null,
            "grid_auto_rows": null,
            "grid_column": null,
            "grid_gap": null,
            "grid_row": null,
            "grid_template_areas": null,
            "grid_template_columns": null,
            "grid_template_rows": null,
            "height": null,
            "justify_content": null,
            "justify_items": null,
            "left": null,
            "margin": null,
            "max_height": null,
            "max_width": null,
            "min_height": null,
            "min_width": null,
            "object_fit": null,
            "object_position": null,
            "order": null,
            "overflow": null,
            "overflow_x": null,
            "overflow_y": null,
            "padding": null,
            "right": null,
            "top": null,
            "visibility": null,
            "width": null
          }
        },
        "4c0a0fd2dce741b7b282964bf35a180d": {
          "model_module": "@jupyter-widgets/controls",
          "model_name": "DescriptionStyleModel",
          "model_module_version": "1.5.0",
          "state": {
            "_model_module": "@jupyter-widgets/controls",
            "_model_module_version": "1.5.0",
            "_model_name": "DescriptionStyleModel",
            "_view_count": null,
            "_view_module": "@jupyter-widgets/base",
            "_view_module_version": "1.2.0",
            "_view_name": "StyleView",
            "description_width": ""
          }
        },
        "18dbc06dd4e44e29a14860341017cf14": {
          "model_module": "@jupyter-widgets/base",
          "model_name": "LayoutModel",
          "model_module_version": "1.2.0",
          "state": {
            "_model_module": "@jupyter-widgets/base",
            "_model_module_version": "1.2.0",
            "_model_name": "LayoutModel",
            "_view_count": null,
            "_view_module": "@jupyter-widgets/base",
            "_view_module_version": "1.2.0",
            "_view_name": "LayoutView",
            "align_content": null,
            "align_items": null,
            "align_self": null,
            "border": null,
            "bottom": null,
            "display": null,
            "flex": null,
            "flex_flow": null,
            "grid_area": null,
            "grid_auto_columns": null,
            "grid_auto_flow": null,
            "grid_auto_rows": null,
            "grid_column": null,
            "grid_gap": null,
            "grid_row": null,
            "grid_template_areas": null,
            "grid_template_columns": null,
            "grid_template_rows": null,
            "height": null,
            "justify_content": null,
            "justify_items": null,
            "left": null,
            "margin": null,
            "max_height": null,
            "max_width": null,
            "min_height": null,
            "min_width": null,
            "object_fit": null,
            "object_position": null,
            "order": null,
            "overflow": null,
            "overflow_x": null,
            "overflow_y": null,
            "padding": null,
            "right": null,
            "top": null,
            "visibility": null,
            "width": null
          }
        },
        "edf11dbc0ae94ee4acce39f3d4ec682d": {
          "model_module": "@jupyter-widgets/controls",
          "model_name": "ProgressStyleModel",
          "model_module_version": "1.5.0",
          "state": {
            "_model_module": "@jupyter-widgets/controls",
            "_model_module_version": "1.5.0",
            "_model_name": "ProgressStyleModel",
            "_view_count": null,
            "_view_module": "@jupyter-widgets/base",
            "_view_module_version": "1.2.0",
            "_view_name": "StyleView",
            "bar_color": null,
            "description_width": ""
          }
        },
        "6762e92146f743139c069b051db6d279": {
          "model_module": "@jupyter-widgets/base",
          "model_name": "LayoutModel",
          "model_module_version": "1.2.0",
          "state": {
            "_model_module": "@jupyter-widgets/base",
            "_model_module_version": "1.2.0",
            "_model_name": "LayoutModel",
            "_view_count": null,
            "_view_module": "@jupyter-widgets/base",
            "_view_module_version": "1.2.0",
            "_view_name": "LayoutView",
            "align_content": null,
            "align_items": null,
            "align_self": null,
            "border": null,
            "bottom": null,
            "display": null,
            "flex": null,
            "flex_flow": null,
            "grid_area": null,
            "grid_auto_columns": null,
            "grid_auto_flow": null,
            "grid_auto_rows": null,
            "grid_column": null,
            "grid_gap": null,
            "grid_row": null,
            "grid_template_areas": null,
            "grid_template_columns": null,
            "grid_template_rows": null,
            "height": null,
            "justify_content": null,
            "justify_items": null,
            "left": null,
            "margin": null,
            "max_height": null,
            "max_width": null,
            "min_height": null,
            "min_width": null,
            "object_fit": null,
            "object_position": null,
            "order": null,
            "overflow": null,
            "overflow_x": null,
            "overflow_y": null,
            "padding": null,
            "right": null,
            "top": null,
            "visibility": null,
            "width": null
          }
        },
        "519313b6b51347089d3d334fc0f6894d": {
          "model_module": "@jupyter-widgets/controls",
          "model_name": "DescriptionStyleModel",
          "model_module_version": "1.5.0",
          "state": {
            "_model_module": "@jupyter-widgets/controls",
            "_model_module_version": "1.5.0",
            "_model_name": "DescriptionStyleModel",
            "_view_count": null,
            "_view_module": "@jupyter-widgets/base",
            "_view_module_version": "1.2.0",
            "_view_name": "StyleView",
            "description_width": ""
          }
        },
        "70e75721e91940e7901b1a93bdcf7856": {
          "model_module": "@jupyter-widgets/controls",
          "model_name": "HBoxModel",
          "model_module_version": "1.5.0",
          "state": {
            "_dom_classes": [],
            "_model_module": "@jupyter-widgets/controls",
            "_model_module_version": "1.5.0",
            "_model_name": "HBoxModel",
            "_view_count": null,
            "_view_module": "@jupyter-widgets/controls",
            "_view_module_version": "1.5.0",
            "_view_name": "HBoxView",
            "box_style": "",
            "children": [
              "IPY_MODEL_ae909749df8c4446bd413ac66796aeeb",
              "IPY_MODEL_09b0466c6e62413c9b6cec8e12d65aaa",
              "IPY_MODEL_4da9c97f12ff40a9a6800be035e4fba6"
            ],
            "layout": "IPY_MODEL_927a4b777b254785b4542e2b28245b53"
          }
        },
        "ae909749df8c4446bd413ac66796aeeb": {
          "model_module": "@jupyter-widgets/controls",
          "model_name": "HTMLModel",
          "model_module_version": "1.5.0",
          "state": {
            "_dom_classes": [],
            "_model_module": "@jupyter-widgets/controls",
            "_model_module_version": "1.5.0",
            "_model_name": "HTMLModel",
            "_view_count": null,
            "_view_module": "@jupyter-widgets/controls",
            "_view_module_version": "1.5.0",
            "_view_name": "HTMLView",
            "description": "",
            "description_tooltip": null,
            "layout": "IPY_MODEL_d8b13844b63045cda79f7d2f2b243a42",
            "placeholder": "​",
            "style": "IPY_MODEL_51398103410645909b57051e68249bd0",
            "value": ""
          }
        },
        "09b0466c6e62413c9b6cec8e12d65aaa": {
          "model_module": "@jupyter-widgets/controls",
          "model_name": "FloatProgressModel",
          "model_module_version": "1.5.0",
          "state": {
            "_dom_classes": [],
            "_model_module": "@jupyter-widgets/controls",
            "_model_module_version": "1.5.0",
            "_model_name": "FloatProgressModel",
            "_view_count": null,
            "_view_module": "@jupyter-widgets/controls",
            "_view_module_version": "1.5.0",
            "_view_name": "ProgressView",
            "bar_style": "success",
            "description": "",
            "description_tooltip": null,
            "layout": "IPY_MODEL_28f234234aa1471ba44f545b1efbfbb3",
            "max": 26421880,
            "min": 0,
            "orientation": "horizontal",
            "style": "IPY_MODEL_904380572e0a416486688fbd4bb8a4d5",
            "value": 26421880
          }
        },
        "4da9c97f12ff40a9a6800be035e4fba6": {
          "model_module": "@jupyter-widgets/controls",
          "model_name": "HTMLModel",
          "model_module_version": "1.5.0",
          "state": {
            "_dom_classes": [],
            "_model_module": "@jupyter-widgets/controls",
            "_model_module_version": "1.5.0",
            "_model_name": "HTMLModel",
            "_view_count": null,
            "_view_module": "@jupyter-widgets/controls",
            "_view_module_version": "1.5.0",
            "_view_name": "HTMLView",
            "description": "",
            "description_tooltip": null,
            "layout": "IPY_MODEL_f7f358cadd3e49b79efdca062ac9dc3e",
            "placeholder": "​",
            "style": "IPY_MODEL_30419f1f5f4e4e99a1211732fb99933e",
            "value": " 26422272/? [00:00&lt;00:00, 70482505.30it/s]"
          }
        },
        "927a4b777b254785b4542e2b28245b53": {
          "model_module": "@jupyter-widgets/base",
          "model_name": "LayoutModel",
          "model_module_version": "1.2.0",
          "state": {
            "_model_module": "@jupyter-widgets/base",
            "_model_module_version": "1.2.0",
            "_model_name": "LayoutModel",
            "_view_count": null,
            "_view_module": "@jupyter-widgets/base",
            "_view_module_version": "1.2.0",
            "_view_name": "LayoutView",
            "align_content": null,
            "align_items": null,
            "align_self": null,
            "border": null,
            "bottom": null,
            "display": null,
            "flex": null,
            "flex_flow": null,
            "grid_area": null,
            "grid_auto_columns": null,
            "grid_auto_flow": null,
            "grid_auto_rows": null,
            "grid_column": null,
            "grid_gap": null,
            "grid_row": null,
            "grid_template_areas": null,
            "grid_template_columns": null,
            "grid_template_rows": null,
            "height": null,
            "justify_content": null,
            "justify_items": null,
            "left": null,
            "margin": null,
            "max_height": null,
            "max_width": null,
            "min_height": null,
            "min_width": null,
            "object_fit": null,
            "object_position": null,
            "order": null,
            "overflow": null,
            "overflow_x": null,
            "overflow_y": null,
            "padding": null,
            "right": null,
            "top": null,
            "visibility": null,
            "width": null
          }
        },
        "d8b13844b63045cda79f7d2f2b243a42": {
          "model_module": "@jupyter-widgets/base",
          "model_name": "LayoutModel",
          "model_module_version": "1.2.0",
          "state": {
            "_model_module": "@jupyter-widgets/base",
            "_model_module_version": "1.2.0",
            "_model_name": "LayoutModel",
            "_view_count": null,
            "_view_module": "@jupyter-widgets/base",
            "_view_module_version": "1.2.0",
            "_view_name": "LayoutView",
            "align_content": null,
            "align_items": null,
            "align_self": null,
            "border": null,
            "bottom": null,
            "display": null,
            "flex": null,
            "flex_flow": null,
            "grid_area": null,
            "grid_auto_columns": null,
            "grid_auto_flow": null,
            "grid_auto_rows": null,
            "grid_column": null,
            "grid_gap": null,
            "grid_row": null,
            "grid_template_areas": null,
            "grid_template_columns": null,
            "grid_template_rows": null,
            "height": null,
            "justify_content": null,
            "justify_items": null,
            "left": null,
            "margin": null,
            "max_height": null,
            "max_width": null,
            "min_height": null,
            "min_width": null,
            "object_fit": null,
            "object_position": null,
            "order": null,
            "overflow": null,
            "overflow_x": null,
            "overflow_y": null,
            "padding": null,
            "right": null,
            "top": null,
            "visibility": null,
            "width": null
          }
        },
        "51398103410645909b57051e68249bd0": {
          "model_module": "@jupyter-widgets/controls",
          "model_name": "DescriptionStyleModel",
          "model_module_version": "1.5.0",
          "state": {
            "_model_module": "@jupyter-widgets/controls",
            "_model_module_version": "1.5.0",
            "_model_name": "DescriptionStyleModel",
            "_view_count": null,
            "_view_module": "@jupyter-widgets/base",
            "_view_module_version": "1.2.0",
            "_view_name": "StyleView",
            "description_width": ""
          }
        },
        "28f234234aa1471ba44f545b1efbfbb3": {
          "model_module": "@jupyter-widgets/base",
          "model_name": "LayoutModel",
          "model_module_version": "1.2.0",
          "state": {
            "_model_module": "@jupyter-widgets/base",
            "_model_module_version": "1.2.0",
            "_model_name": "LayoutModel",
            "_view_count": null,
            "_view_module": "@jupyter-widgets/base",
            "_view_module_version": "1.2.0",
            "_view_name": "LayoutView",
            "align_content": null,
            "align_items": null,
            "align_self": null,
            "border": null,
            "bottom": null,
            "display": null,
            "flex": null,
            "flex_flow": null,
            "grid_area": null,
            "grid_auto_columns": null,
            "grid_auto_flow": null,
            "grid_auto_rows": null,
            "grid_column": null,
            "grid_gap": null,
            "grid_row": null,
            "grid_template_areas": null,
            "grid_template_columns": null,
            "grid_template_rows": null,
            "height": null,
            "justify_content": null,
            "justify_items": null,
            "left": null,
            "margin": null,
            "max_height": null,
            "max_width": null,
            "min_height": null,
            "min_width": null,
            "object_fit": null,
            "object_position": null,
            "order": null,
            "overflow": null,
            "overflow_x": null,
            "overflow_y": null,
            "padding": null,
            "right": null,
            "top": null,
            "visibility": null,
            "width": null
          }
        },
        "904380572e0a416486688fbd4bb8a4d5": {
          "model_module": "@jupyter-widgets/controls",
          "model_name": "ProgressStyleModel",
          "model_module_version": "1.5.0",
          "state": {
            "_model_module": "@jupyter-widgets/controls",
            "_model_module_version": "1.5.0",
            "_model_name": "ProgressStyleModel",
            "_view_count": null,
            "_view_module": "@jupyter-widgets/base",
            "_view_module_version": "1.2.0",
            "_view_name": "StyleView",
            "bar_color": null,
            "description_width": ""
          }
        },
        "f7f358cadd3e49b79efdca062ac9dc3e": {
          "model_module": "@jupyter-widgets/base",
          "model_name": "LayoutModel",
          "model_module_version": "1.2.0",
          "state": {
            "_model_module": "@jupyter-widgets/base",
            "_model_module_version": "1.2.0",
            "_model_name": "LayoutModel",
            "_view_count": null,
            "_view_module": "@jupyter-widgets/base",
            "_view_module_version": "1.2.0",
            "_view_name": "LayoutView",
            "align_content": null,
            "align_items": null,
            "align_self": null,
            "border": null,
            "bottom": null,
            "display": null,
            "flex": null,
            "flex_flow": null,
            "grid_area": null,
            "grid_auto_columns": null,
            "grid_auto_flow": null,
            "grid_auto_rows": null,
            "grid_column": null,
            "grid_gap": null,
            "grid_row": null,
            "grid_template_areas": null,
            "grid_template_columns": null,
            "grid_template_rows": null,
            "height": null,
            "justify_content": null,
            "justify_items": null,
            "left": null,
            "margin": null,
            "max_height": null,
            "max_width": null,
            "min_height": null,
            "min_width": null,
            "object_fit": null,
            "object_position": null,
            "order": null,
            "overflow": null,
            "overflow_x": null,
            "overflow_y": null,
            "padding": null,
            "right": null,
            "top": null,
            "visibility": null,
            "width": null
          }
        },
        "30419f1f5f4e4e99a1211732fb99933e": {
          "model_module": "@jupyter-widgets/controls",
          "model_name": "DescriptionStyleModel",
          "model_module_version": "1.5.0",
          "state": {
            "_model_module": "@jupyter-widgets/controls",
            "_model_module_version": "1.5.0",
            "_model_name": "DescriptionStyleModel",
            "_view_count": null,
            "_view_module": "@jupyter-widgets/base",
            "_view_module_version": "1.2.0",
            "_view_name": "StyleView",
            "description_width": ""
          }
        },
        "4ad9212c98244ba7910ac6ad8aa9fe5b": {
          "model_module": "@jupyter-widgets/controls",
          "model_name": "HBoxModel",
          "model_module_version": "1.5.0",
          "state": {
            "_dom_classes": [],
            "_model_module": "@jupyter-widgets/controls",
            "_model_module_version": "1.5.0",
            "_model_name": "HBoxModel",
            "_view_count": null,
            "_view_module": "@jupyter-widgets/controls",
            "_view_module_version": "1.5.0",
            "_view_name": "HBoxView",
            "box_style": "",
            "children": [
              "IPY_MODEL_0f9e90cd791f45b994bb743b1859f60d",
              "IPY_MODEL_ebb01311b97b49fa9d8a82043bbf6168",
              "IPY_MODEL_313b5f2d199e43818a35b3c5e10a3a1e"
            ],
            "layout": "IPY_MODEL_c2326c2f56474f619fd242ea34610c50"
          }
        },
        "0f9e90cd791f45b994bb743b1859f60d": {
          "model_module": "@jupyter-widgets/controls",
          "model_name": "HTMLModel",
          "model_module_version": "1.5.0",
          "state": {
            "_dom_classes": [],
            "_model_module": "@jupyter-widgets/controls",
            "_model_module_version": "1.5.0",
            "_model_name": "HTMLModel",
            "_view_count": null,
            "_view_module": "@jupyter-widgets/controls",
            "_view_module_version": "1.5.0",
            "_view_name": "HTMLView",
            "description": "",
            "description_tooltip": null,
            "layout": "IPY_MODEL_59f84936b9fd41ea9be9742137f5a16d",
            "placeholder": "​",
            "style": "IPY_MODEL_d0b761af025c483c98e37333ba765776",
            "value": ""
          }
        },
        "ebb01311b97b49fa9d8a82043bbf6168": {
          "model_module": "@jupyter-widgets/controls",
          "model_name": "FloatProgressModel",
          "model_module_version": "1.5.0",
          "state": {
            "_dom_classes": [],
            "_model_module": "@jupyter-widgets/controls",
            "_model_module_version": "1.5.0",
            "_model_name": "FloatProgressModel",
            "_view_count": null,
            "_view_module": "@jupyter-widgets/controls",
            "_view_module_version": "1.5.0",
            "_view_name": "ProgressView",
            "bar_style": "success",
            "description": "",
            "description_tooltip": null,
            "layout": "IPY_MODEL_e318ac18466a4bbaa33ce377941b6a6d",
            "max": 29515,
            "min": 0,
            "orientation": "horizontal",
            "style": "IPY_MODEL_9e9b48fc5a2247bd8f4c947e3ae2e3bf",
            "value": 29515
          }
        },
        "313b5f2d199e43818a35b3c5e10a3a1e": {
          "model_module": "@jupyter-widgets/controls",
          "model_name": "HTMLModel",
          "model_module_version": "1.5.0",
          "state": {
            "_dom_classes": [],
            "_model_module": "@jupyter-widgets/controls",
            "_model_module_version": "1.5.0",
            "_model_name": "HTMLModel",
            "_view_count": null,
            "_view_module": "@jupyter-widgets/controls",
            "_view_module_version": "1.5.0",
            "_view_name": "HTMLView",
            "description": "",
            "description_tooltip": null,
            "layout": "IPY_MODEL_3df67c6809434dbb82cb5992398d1142",
            "placeholder": "​",
            "style": "IPY_MODEL_88e488ec35a64db481dee5e4290fca7f",
            "value": " 29696/? [00:00&lt;00:00, 782517.24it/s]"
          }
        },
        "c2326c2f56474f619fd242ea34610c50": {
          "model_module": "@jupyter-widgets/base",
          "model_name": "LayoutModel",
          "model_module_version": "1.2.0",
          "state": {
            "_model_module": "@jupyter-widgets/base",
            "_model_module_version": "1.2.0",
            "_model_name": "LayoutModel",
            "_view_count": null,
            "_view_module": "@jupyter-widgets/base",
            "_view_module_version": "1.2.0",
            "_view_name": "LayoutView",
            "align_content": null,
            "align_items": null,
            "align_self": null,
            "border": null,
            "bottom": null,
            "display": null,
            "flex": null,
            "flex_flow": null,
            "grid_area": null,
            "grid_auto_columns": null,
            "grid_auto_flow": null,
            "grid_auto_rows": null,
            "grid_column": null,
            "grid_gap": null,
            "grid_row": null,
            "grid_template_areas": null,
            "grid_template_columns": null,
            "grid_template_rows": null,
            "height": null,
            "justify_content": null,
            "justify_items": null,
            "left": null,
            "margin": null,
            "max_height": null,
            "max_width": null,
            "min_height": null,
            "min_width": null,
            "object_fit": null,
            "object_position": null,
            "order": null,
            "overflow": null,
            "overflow_x": null,
            "overflow_y": null,
            "padding": null,
            "right": null,
            "top": null,
            "visibility": null,
            "width": null
          }
        },
        "59f84936b9fd41ea9be9742137f5a16d": {
          "model_module": "@jupyter-widgets/base",
          "model_name": "LayoutModel",
          "model_module_version": "1.2.0",
          "state": {
            "_model_module": "@jupyter-widgets/base",
            "_model_module_version": "1.2.0",
            "_model_name": "LayoutModel",
            "_view_count": null,
            "_view_module": "@jupyter-widgets/base",
            "_view_module_version": "1.2.0",
            "_view_name": "LayoutView",
            "align_content": null,
            "align_items": null,
            "align_self": null,
            "border": null,
            "bottom": null,
            "display": null,
            "flex": null,
            "flex_flow": null,
            "grid_area": null,
            "grid_auto_columns": null,
            "grid_auto_flow": null,
            "grid_auto_rows": null,
            "grid_column": null,
            "grid_gap": null,
            "grid_row": null,
            "grid_template_areas": null,
            "grid_template_columns": null,
            "grid_template_rows": null,
            "height": null,
            "justify_content": null,
            "justify_items": null,
            "left": null,
            "margin": null,
            "max_height": null,
            "max_width": null,
            "min_height": null,
            "min_width": null,
            "object_fit": null,
            "object_position": null,
            "order": null,
            "overflow": null,
            "overflow_x": null,
            "overflow_y": null,
            "padding": null,
            "right": null,
            "top": null,
            "visibility": null,
            "width": null
          }
        },
        "d0b761af025c483c98e37333ba765776": {
          "model_module": "@jupyter-widgets/controls",
          "model_name": "DescriptionStyleModel",
          "model_module_version": "1.5.0",
          "state": {
            "_model_module": "@jupyter-widgets/controls",
            "_model_module_version": "1.5.0",
            "_model_name": "DescriptionStyleModel",
            "_view_count": null,
            "_view_module": "@jupyter-widgets/base",
            "_view_module_version": "1.2.0",
            "_view_name": "StyleView",
            "description_width": ""
          }
        },
        "e318ac18466a4bbaa33ce377941b6a6d": {
          "model_module": "@jupyter-widgets/base",
          "model_name": "LayoutModel",
          "model_module_version": "1.2.0",
          "state": {
            "_model_module": "@jupyter-widgets/base",
            "_model_module_version": "1.2.0",
            "_model_name": "LayoutModel",
            "_view_count": null,
            "_view_module": "@jupyter-widgets/base",
            "_view_module_version": "1.2.0",
            "_view_name": "LayoutView",
            "align_content": null,
            "align_items": null,
            "align_self": null,
            "border": null,
            "bottom": null,
            "display": null,
            "flex": null,
            "flex_flow": null,
            "grid_area": null,
            "grid_auto_columns": null,
            "grid_auto_flow": null,
            "grid_auto_rows": null,
            "grid_column": null,
            "grid_gap": null,
            "grid_row": null,
            "grid_template_areas": null,
            "grid_template_columns": null,
            "grid_template_rows": null,
            "height": null,
            "justify_content": null,
            "justify_items": null,
            "left": null,
            "margin": null,
            "max_height": null,
            "max_width": null,
            "min_height": null,
            "min_width": null,
            "object_fit": null,
            "object_position": null,
            "order": null,
            "overflow": null,
            "overflow_x": null,
            "overflow_y": null,
            "padding": null,
            "right": null,
            "top": null,
            "visibility": null,
            "width": null
          }
        },
        "9e9b48fc5a2247bd8f4c947e3ae2e3bf": {
          "model_module": "@jupyter-widgets/controls",
          "model_name": "ProgressStyleModel",
          "model_module_version": "1.5.0",
          "state": {
            "_model_module": "@jupyter-widgets/controls",
            "_model_module_version": "1.5.0",
            "_model_name": "ProgressStyleModel",
            "_view_count": null,
            "_view_module": "@jupyter-widgets/base",
            "_view_module_version": "1.2.0",
            "_view_name": "StyleView",
            "bar_color": null,
            "description_width": ""
          }
        },
        "3df67c6809434dbb82cb5992398d1142": {
          "model_module": "@jupyter-widgets/base",
          "model_name": "LayoutModel",
          "model_module_version": "1.2.0",
          "state": {
            "_model_module": "@jupyter-widgets/base",
            "_model_module_version": "1.2.0",
            "_model_name": "LayoutModel",
            "_view_count": null,
            "_view_module": "@jupyter-widgets/base",
            "_view_module_version": "1.2.0",
            "_view_name": "LayoutView",
            "align_content": null,
            "align_items": null,
            "align_self": null,
            "border": null,
            "bottom": null,
            "display": null,
            "flex": null,
            "flex_flow": null,
            "grid_area": null,
            "grid_auto_columns": null,
            "grid_auto_flow": null,
            "grid_auto_rows": null,
            "grid_column": null,
            "grid_gap": null,
            "grid_row": null,
            "grid_template_areas": null,
            "grid_template_columns": null,
            "grid_template_rows": null,
            "height": null,
            "justify_content": null,
            "justify_items": null,
            "left": null,
            "margin": null,
            "max_height": null,
            "max_width": null,
            "min_height": null,
            "min_width": null,
            "object_fit": null,
            "object_position": null,
            "order": null,
            "overflow": null,
            "overflow_x": null,
            "overflow_y": null,
            "padding": null,
            "right": null,
            "top": null,
            "visibility": null,
            "width": null
          }
        },
        "88e488ec35a64db481dee5e4290fca7f": {
          "model_module": "@jupyter-widgets/controls",
          "model_name": "DescriptionStyleModel",
          "model_module_version": "1.5.0",
          "state": {
            "_model_module": "@jupyter-widgets/controls",
            "_model_module_version": "1.5.0",
            "_model_name": "DescriptionStyleModel",
            "_view_count": null,
            "_view_module": "@jupyter-widgets/base",
            "_view_module_version": "1.2.0",
            "_view_name": "StyleView",
            "description_width": ""
          }
        },
        "235a68f6d2c146d6b5de0de3dc37fb1d": {
          "model_module": "@jupyter-widgets/controls",
          "model_name": "HBoxModel",
          "model_module_version": "1.5.0",
          "state": {
            "_dom_classes": [],
            "_model_module": "@jupyter-widgets/controls",
            "_model_module_version": "1.5.0",
            "_model_name": "HBoxModel",
            "_view_count": null,
            "_view_module": "@jupyter-widgets/controls",
            "_view_module_version": "1.5.0",
            "_view_name": "HBoxView",
            "box_style": "",
            "children": [
              "IPY_MODEL_f025c461b41e40fdbdac0e6583e610f6",
              "IPY_MODEL_8307bfd7ca5645ed8a83bf5f9dcbfc4f",
              "IPY_MODEL_d95400c9ef3340719c1858c5b0ab71a4"
            ],
            "layout": "IPY_MODEL_8c7c8bff59664d5791172b9519d83c57"
          }
        },
        "f025c461b41e40fdbdac0e6583e610f6": {
          "model_module": "@jupyter-widgets/controls",
          "model_name": "HTMLModel",
          "model_module_version": "1.5.0",
          "state": {
            "_dom_classes": [],
            "_model_module": "@jupyter-widgets/controls",
            "_model_module_version": "1.5.0",
            "_model_name": "HTMLModel",
            "_view_count": null,
            "_view_module": "@jupyter-widgets/controls",
            "_view_module_version": "1.5.0",
            "_view_name": "HTMLView",
            "description": "",
            "description_tooltip": null,
            "layout": "IPY_MODEL_3f942ecb2baa40e2a523d3110bbf268a",
            "placeholder": "​",
            "style": "IPY_MODEL_8a1605fb074c497f907d83a18a01052b",
            "value": ""
          }
        },
        "8307bfd7ca5645ed8a83bf5f9dcbfc4f": {
          "model_module": "@jupyter-widgets/controls",
          "model_name": "FloatProgressModel",
          "model_module_version": "1.5.0",
          "state": {
            "_dom_classes": [],
            "_model_module": "@jupyter-widgets/controls",
            "_model_module_version": "1.5.0",
            "_model_name": "FloatProgressModel",
            "_view_count": null,
            "_view_module": "@jupyter-widgets/controls",
            "_view_module_version": "1.5.0",
            "_view_name": "ProgressView",
            "bar_style": "success",
            "description": "",
            "description_tooltip": null,
            "layout": "IPY_MODEL_24a843425cb84d658f8d0e5fe99e5543",
            "max": 4422102,
            "min": 0,
            "orientation": "horizontal",
            "style": "IPY_MODEL_fc9f845383fa407da713d6bb7791a684",
            "value": 4422102
          }
        },
        "d95400c9ef3340719c1858c5b0ab71a4": {
          "model_module": "@jupyter-widgets/controls",
          "model_name": "HTMLModel",
          "model_module_version": "1.5.0",
          "state": {
            "_dom_classes": [],
            "_model_module": "@jupyter-widgets/controls",
            "_model_module_version": "1.5.0",
            "_model_name": "HTMLModel",
            "_view_count": null,
            "_view_module": "@jupyter-widgets/controls",
            "_view_module_version": "1.5.0",
            "_view_name": "HTMLView",
            "description": "",
            "description_tooltip": null,
            "layout": "IPY_MODEL_933b380f1fd740ec89a0ced652edb461",
            "placeholder": "​",
            "style": "IPY_MODEL_ad7dade3ac5c4f20bea87f93dcc5894c",
            "value": " 4422656/? [00:00&lt;00:00, 6062157.71it/s]"
          }
        },
        "8c7c8bff59664d5791172b9519d83c57": {
          "model_module": "@jupyter-widgets/base",
          "model_name": "LayoutModel",
          "model_module_version": "1.2.0",
          "state": {
            "_model_module": "@jupyter-widgets/base",
            "_model_module_version": "1.2.0",
            "_model_name": "LayoutModel",
            "_view_count": null,
            "_view_module": "@jupyter-widgets/base",
            "_view_module_version": "1.2.0",
            "_view_name": "LayoutView",
            "align_content": null,
            "align_items": null,
            "align_self": null,
            "border": null,
            "bottom": null,
            "display": null,
            "flex": null,
            "flex_flow": null,
            "grid_area": null,
            "grid_auto_columns": null,
            "grid_auto_flow": null,
            "grid_auto_rows": null,
            "grid_column": null,
            "grid_gap": null,
            "grid_row": null,
            "grid_template_areas": null,
            "grid_template_columns": null,
            "grid_template_rows": null,
            "height": null,
            "justify_content": null,
            "justify_items": null,
            "left": null,
            "margin": null,
            "max_height": null,
            "max_width": null,
            "min_height": null,
            "min_width": null,
            "object_fit": null,
            "object_position": null,
            "order": null,
            "overflow": null,
            "overflow_x": null,
            "overflow_y": null,
            "padding": null,
            "right": null,
            "top": null,
            "visibility": null,
            "width": null
          }
        },
        "3f942ecb2baa40e2a523d3110bbf268a": {
          "model_module": "@jupyter-widgets/base",
          "model_name": "LayoutModel",
          "model_module_version": "1.2.0",
          "state": {
            "_model_module": "@jupyter-widgets/base",
            "_model_module_version": "1.2.0",
            "_model_name": "LayoutModel",
            "_view_count": null,
            "_view_module": "@jupyter-widgets/base",
            "_view_module_version": "1.2.0",
            "_view_name": "LayoutView",
            "align_content": null,
            "align_items": null,
            "align_self": null,
            "border": null,
            "bottom": null,
            "display": null,
            "flex": null,
            "flex_flow": null,
            "grid_area": null,
            "grid_auto_columns": null,
            "grid_auto_flow": null,
            "grid_auto_rows": null,
            "grid_column": null,
            "grid_gap": null,
            "grid_row": null,
            "grid_template_areas": null,
            "grid_template_columns": null,
            "grid_template_rows": null,
            "height": null,
            "justify_content": null,
            "justify_items": null,
            "left": null,
            "margin": null,
            "max_height": null,
            "max_width": null,
            "min_height": null,
            "min_width": null,
            "object_fit": null,
            "object_position": null,
            "order": null,
            "overflow": null,
            "overflow_x": null,
            "overflow_y": null,
            "padding": null,
            "right": null,
            "top": null,
            "visibility": null,
            "width": null
          }
        },
        "8a1605fb074c497f907d83a18a01052b": {
          "model_module": "@jupyter-widgets/controls",
          "model_name": "DescriptionStyleModel",
          "model_module_version": "1.5.0",
          "state": {
            "_model_module": "@jupyter-widgets/controls",
            "_model_module_version": "1.5.0",
            "_model_name": "DescriptionStyleModel",
            "_view_count": null,
            "_view_module": "@jupyter-widgets/base",
            "_view_module_version": "1.2.0",
            "_view_name": "StyleView",
            "description_width": ""
          }
        },
        "24a843425cb84d658f8d0e5fe99e5543": {
          "model_module": "@jupyter-widgets/base",
          "model_name": "LayoutModel",
          "model_module_version": "1.2.0",
          "state": {
            "_model_module": "@jupyter-widgets/base",
            "_model_module_version": "1.2.0",
            "_model_name": "LayoutModel",
            "_view_count": null,
            "_view_module": "@jupyter-widgets/base",
            "_view_module_version": "1.2.0",
            "_view_name": "LayoutView",
            "align_content": null,
            "align_items": null,
            "align_self": null,
            "border": null,
            "bottom": null,
            "display": null,
            "flex": null,
            "flex_flow": null,
            "grid_area": null,
            "grid_auto_columns": null,
            "grid_auto_flow": null,
            "grid_auto_rows": null,
            "grid_column": null,
            "grid_gap": null,
            "grid_row": null,
            "grid_template_areas": null,
            "grid_template_columns": null,
            "grid_template_rows": null,
            "height": null,
            "justify_content": null,
            "justify_items": null,
            "left": null,
            "margin": null,
            "max_height": null,
            "max_width": null,
            "min_height": null,
            "min_width": null,
            "object_fit": null,
            "object_position": null,
            "order": null,
            "overflow": null,
            "overflow_x": null,
            "overflow_y": null,
            "padding": null,
            "right": null,
            "top": null,
            "visibility": null,
            "width": null
          }
        },
        "fc9f845383fa407da713d6bb7791a684": {
          "model_module": "@jupyter-widgets/controls",
          "model_name": "ProgressStyleModel",
          "model_module_version": "1.5.0",
          "state": {
            "_model_module": "@jupyter-widgets/controls",
            "_model_module_version": "1.5.0",
            "_model_name": "ProgressStyleModel",
            "_view_count": null,
            "_view_module": "@jupyter-widgets/base",
            "_view_module_version": "1.2.0",
            "_view_name": "StyleView",
            "bar_color": null,
            "description_width": ""
          }
        },
        "933b380f1fd740ec89a0ced652edb461": {
          "model_module": "@jupyter-widgets/base",
          "model_name": "LayoutModel",
          "model_module_version": "1.2.0",
          "state": {
            "_model_module": "@jupyter-widgets/base",
            "_model_module_version": "1.2.0",
            "_model_name": "LayoutModel",
            "_view_count": null,
            "_view_module": "@jupyter-widgets/base",
            "_view_module_version": "1.2.0",
            "_view_name": "LayoutView",
            "align_content": null,
            "align_items": null,
            "align_self": null,
            "border": null,
            "bottom": null,
            "display": null,
            "flex": null,
            "flex_flow": null,
            "grid_area": null,
            "grid_auto_columns": null,
            "grid_auto_flow": null,
            "grid_auto_rows": null,
            "grid_column": null,
            "grid_gap": null,
            "grid_row": null,
            "grid_template_areas": null,
            "grid_template_columns": null,
            "grid_template_rows": null,
            "height": null,
            "justify_content": null,
            "justify_items": null,
            "left": null,
            "margin": null,
            "max_height": null,
            "max_width": null,
            "min_height": null,
            "min_width": null,
            "object_fit": null,
            "object_position": null,
            "order": null,
            "overflow": null,
            "overflow_x": null,
            "overflow_y": null,
            "padding": null,
            "right": null,
            "top": null,
            "visibility": null,
            "width": null
          }
        },
        "ad7dade3ac5c4f20bea87f93dcc5894c": {
          "model_module": "@jupyter-widgets/controls",
          "model_name": "DescriptionStyleModel",
          "model_module_version": "1.5.0",
          "state": {
            "_model_module": "@jupyter-widgets/controls",
            "_model_module_version": "1.5.0",
            "_model_name": "DescriptionStyleModel",
            "_view_count": null,
            "_view_module": "@jupyter-widgets/base",
            "_view_module_version": "1.2.0",
            "_view_name": "StyleView",
            "description_width": ""
          }
        },
        "ea1ab81de76e4cf38ed6b9bc37d6d8d6": {
          "model_module": "@jupyter-widgets/controls",
          "model_name": "HBoxModel",
          "model_module_version": "1.5.0",
          "state": {
            "_dom_classes": [],
            "_model_module": "@jupyter-widgets/controls",
            "_model_module_version": "1.5.0",
            "_model_name": "HBoxModel",
            "_view_count": null,
            "_view_module": "@jupyter-widgets/controls",
            "_view_module_version": "1.5.0",
            "_view_name": "HBoxView",
            "box_style": "",
            "children": [
              "IPY_MODEL_9e68d40c24434c398286fceb5754dc02",
              "IPY_MODEL_bd46c7e81e3d430e9bf79b02df8689ee",
              "IPY_MODEL_244795c43e154ae0b153bd3ec721a5a0"
            ],
            "layout": "IPY_MODEL_2d0f9ba7776c496ba3cc5bf864cb33c6"
          }
        },
        "9e68d40c24434c398286fceb5754dc02": {
          "model_module": "@jupyter-widgets/controls",
          "model_name": "HTMLModel",
          "model_module_version": "1.5.0",
          "state": {
            "_dom_classes": [],
            "_model_module": "@jupyter-widgets/controls",
            "_model_module_version": "1.5.0",
            "_model_name": "HTMLModel",
            "_view_count": null,
            "_view_module": "@jupyter-widgets/controls",
            "_view_module_version": "1.5.0",
            "_view_name": "HTMLView",
            "description": "",
            "description_tooltip": null,
            "layout": "IPY_MODEL_85e648a7dd344dd6b1a47b80a658512a",
            "placeholder": "​",
            "style": "IPY_MODEL_1bbc483cbf65427c9bb05e701ec5b34c",
            "value": ""
          }
        },
        "bd46c7e81e3d430e9bf79b02df8689ee": {
          "model_module": "@jupyter-widgets/controls",
          "model_name": "FloatProgressModel",
          "model_module_version": "1.5.0",
          "state": {
            "_dom_classes": [],
            "_model_module": "@jupyter-widgets/controls",
            "_model_module_version": "1.5.0",
            "_model_name": "FloatProgressModel",
            "_view_count": null,
            "_view_module": "@jupyter-widgets/controls",
            "_view_module_version": "1.5.0",
            "_view_name": "ProgressView",
            "bar_style": "success",
            "description": "",
            "description_tooltip": null,
            "layout": "IPY_MODEL_3795b0916a354ba7aebd0b270708d25d",
            "max": 5148,
            "min": 0,
            "orientation": "horizontal",
            "style": "IPY_MODEL_607172d1ab39402882cfb02b1982b37a",
            "value": 5148
          }
        },
        "244795c43e154ae0b153bd3ec721a5a0": {
          "model_module": "@jupyter-widgets/controls",
          "model_name": "HTMLModel",
          "model_module_version": "1.5.0",
          "state": {
            "_dom_classes": [],
            "_model_module": "@jupyter-widgets/controls",
            "_model_module_version": "1.5.0",
            "_model_name": "HTMLModel",
            "_view_count": null,
            "_view_module": "@jupyter-widgets/controls",
            "_view_module_version": "1.5.0",
            "_view_name": "HTMLView",
            "description": "",
            "description_tooltip": null,
            "layout": "IPY_MODEL_87bbc21549ab45cab7d6ccdbb9d40cf3",
            "placeholder": "​",
            "style": "IPY_MODEL_ac42fa76d20e4229a147bcd331aff570",
            "value": " 6144/? [00:00&lt;00:00, 106763.41it/s]"
          }
        },
        "2d0f9ba7776c496ba3cc5bf864cb33c6": {
          "model_module": "@jupyter-widgets/base",
          "model_name": "LayoutModel",
          "model_module_version": "1.2.0",
          "state": {
            "_model_module": "@jupyter-widgets/base",
            "_model_module_version": "1.2.0",
            "_model_name": "LayoutModel",
            "_view_count": null,
            "_view_module": "@jupyter-widgets/base",
            "_view_module_version": "1.2.0",
            "_view_name": "LayoutView",
            "align_content": null,
            "align_items": null,
            "align_self": null,
            "border": null,
            "bottom": null,
            "display": null,
            "flex": null,
            "flex_flow": null,
            "grid_area": null,
            "grid_auto_columns": null,
            "grid_auto_flow": null,
            "grid_auto_rows": null,
            "grid_column": null,
            "grid_gap": null,
            "grid_row": null,
            "grid_template_areas": null,
            "grid_template_columns": null,
            "grid_template_rows": null,
            "height": null,
            "justify_content": null,
            "justify_items": null,
            "left": null,
            "margin": null,
            "max_height": null,
            "max_width": null,
            "min_height": null,
            "min_width": null,
            "object_fit": null,
            "object_position": null,
            "order": null,
            "overflow": null,
            "overflow_x": null,
            "overflow_y": null,
            "padding": null,
            "right": null,
            "top": null,
            "visibility": null,
            "width": null
          }
        },
        "85e648a7dd344dd6b1a47b80a658512a": {
          "model_module": "@jupyter-widgets/base",
          "model_name": "LayoutModel",
          "model_module_version": "1.2.0",
          "state": {
            "_model_module": "@jupyter-widgets/base",
            "_model_module_version": "1.2.0",
            "_model_name": "LayoutModel",
            "_view_count": null,
            "_view_module": "@jupyter-widgets/base",
            "_view_module_version": "1.2.0",
            "_view_name": "LayoutView",
            "align_content": null,
            "align_items": null,
            "align_self": null,
            "border": null,
            "bottom": null,
            "display": null,
            "flex": null,
            "flex_flow": null,
            "grid_area": null,
            "grid_auto_columns": null,
            "grid_auto_flow": null,
            "grid_auto_rows": null,
            "grid_column": null,
            "grid_gap": null,
            "grid_row": null,
            "grid_template_areas": null,
            "grid_template_columns": null,
            "grid_template_rows": null,
            "height": null,
            "justify_content": null,
            "justify_items": null,
            "left": null,
            "margin": null,
            "max_height": null,
            "max_width": null,
            "min_height": null,
            "min_width": null,
            "object_fit": null,
            "object_position": null,
            "order": null,
            "overflow": null,
            "overflow_x": null,
            "overflow_y": null,
            "padding": null,
            "right": null,
            "top": null,
            "visibility": null,
            "width": null
          }
        },
        "1bbc483cbf65427c9bb05e701ec5b34c": {
          "model_module": "@jupyter-widgets/controls",
          "model_name": "DescriptionStyleModel",
          "model_module_version": "1.5.0",
          "state": {
            "_model_module": "@jupyter-widgets/controls",
            "_model_module_version": "1.5.0",
            "_model_name": "DescriptionStyleModel",
            "_view_count": null,
            "_view_module": "@jupyter-widgets/base",
            "_view_module_version": "1.2.0",
            "_view_name": "StyleView",
            "description_width": ""
          }
        },
        "3795b0916a354ba7aebd0b270708d25d": {
          "model_module": "@jupyter-widgets/base",
          "model_name": "LayoutModel",
          "model_module_version": "1.2.0",
          "state": {
            "_model_module": "@jupyter-widgets/base",
            "_model_module_version": "1.2.0",
            "_model_name": "LayoutModel",
            "_view_count": null,
            "_view_module": "@jupyter-widgets/base",
            "_view_module_version": "1.2.0",
            "_view_name": "LayoutView",
            "align_content": null,
            "align_items": null,
            "align_self": null,
            "border": null,
            "bottom": null,
            "display": null,
            "flex": null,
            "flex_flow": null,
            "grid_area": null,
            "grid_auto_columns": null,
            "grid_auto_flow": null,
            "grid_auto_rows": null,
            "grid_column": null,
            "grid_gap": null,
            "grid_row": null,
            "grid_template_areas": null,
            "grid_template_columns": null,
            "grid_template_rows": null,
            "height": null,
            "justify_content": null,
            "justify_items": null,
            "left": null,
            "margin": null,
            "max_height": null,
            "max_width": null,
            "min_height": null,
            "min_width": null,
            "object_fit": null,
            "object_position": null,
            "order": null,
            "overflow": null,
            "overflow_x": null,
            "overflow_y": null,
            "padding": null,
            "right": null,
            "top": null,
            "visibility": null,
            "width": null
          }
        },
        "607172d1ab39402882cfb02b1982b37a": {
          "model_module": "@jupyter-widgets/controls",
          "model_name": "ProgressStyleModel",
          "model_module_version": "1.5.0",
          "state": {
            "_model_module": "@jupyter-widgets/controls",
            "_model_module_version": "1.5.0",
            "_model_name": "ProgressStyleModel",
            "_view_count": null,
            "_view_module": "@jupyter-widgets/base",
            "_view_module_version": "1.2.0",
            "_view_name": "StyleView",
            "bar_color": null,
            "description_width": ""
          }
        },
        "87bbc21549ab45cab7d6ccdbb9d40cf3": {
          "model_module": "@jupyter-widgets/base",
          "model_name": "LayoutModel",
          "model_module_version": "1.2.0",
          "state": {
            "_model_module": "@jupyter-widgets/base",
            "_model_module_version": "1.2.0",
            "_model_name": "LayoutModel",
            "_view_count": null,
            "_view_module": "@jupyter-widgets/base",
            "_view_module_version": "1.2.0",
            "_view_name": "LayoutView",
            "align_content": null,
            "align_items": null,
            "align_self": null,
            "border": null,
            "bottom": null,
            "display": null,
            "flex": null,
            "flex_flow": null,
            "grid_area": null,
            "grid_auto_columns": null,
            "grid_auto_flow": null,
            "grid_auto_rows": null,
            "grid_column": null,
            "grid_gap": null,
            "grid_row": null,
            "grid_template_areas": null,
            "grid_template_columns": null,
            "grid_template_rows": null,
            "height": null,
            "justify_content": null,
            "justify_items": null,
            "left": null,
            "margin": null,
            "max_height": null,
            "max_width": null,
            "min_height": null,
            "min_width": null,
            "object_fit": null,
            "object_position": null,
            "order": null,
            "overflow": null,
            "overflow_x": null,
            "overflow_y": null,
            "padding": null,
            "right": null,
            "top": null,
            "visibility": null,
            "width": null
          }
        },
        "ac42fa76d20e4229a147bcd331aff570": {
          "model_module": "@jupyter-widgets/controls",
          "model_name": "DescriptionStyleModel",
          "model_module_version": "1.5.0",
          "state": {
            "_model_module": "@jupyter-widgets/controls",
            "_model_module_version": "1.5.0",
            "_model_name": "DescriptionStyleModel",
            "_view_count": null,
            "_view_module": "@jupyter-widgets/base",
            "_view_module_version": "1.2.0",
            "_view_name": "StyleView",
            "description_width": ""
          }
        }
      }
    }
  },
  "cells": [
    {
      "cell_type": "markdown",
      "metadata": {
        "id": "view-in-github",
        "colab_type": "text"
      },
      "source": [
        "<a href=\"https://colab.research.google.com/github/rajlm10/D2L-Torch/blob/main/D2L_CNNs.ipynb\" target=\"_parent\"><img src=\"https://colab.research.google.com/assets/colab-badge.svg\" alt=\"Open In Colab\"/></a>"
      ]
    },
    {
      "cell_type": "code",
      "execution_count": 1,
      "metadata": {
        "id": "GnxbebtEM7j5"
      },
      "outputs": [],
      "source": [
        "import torch\n",
        "from torch import nn\n",
        "import torchvision\n",
        "from torchvision import transforms\n",
        "from torch.utils import data"
      ]
    },
    {
      "cell_type": "markdown",
      "source": [
        "#Utils "
      ],
      "metadata": {
        "id": "6JMZBYEqOgVb"
      }
    },
    {
      "cell_type": "code",
      "source": [
        "import multiprocessing\n",
        "def get_workers():\n",
        "  return multiprocessing.cpu_count()\n"
      ],
      "metadata": {
        "id": "9efuaBydNBLz"
      },
      "execution_count": 2,
      "outputs": []
    },
    {
      "cell_type": "code",
      "source": [
        "class Accumulator: \n",
        "  \"\"\"For accumulating sums over `n` variables.\"\"\" \n",
        "  def __init__(self, n):\n",
        "    self.data = [0.0] * n \n",
        "    \n",
        "  def add(self, *args):\n",
        "    self.data = [a + float(b) for a, b in zip(self.data, args)] \n",
        "    \n",
        "  def reset(self):\n",
        "    self.data = [0.0] * len(self.data)\n",
        "  \n",
        "  def __getitem__(self, idx): \n",
        "    return self.data[idx]"
      ],
      "metadata": {
        "id": "eivMCoJLNWU4"
      },
      "execution_count": 3,
      "outputs": []
    },
    {
      "cell_type": "code",
      "source": [
        "def load_fashion_mnist(batch_size,resize=None):\n",
        "  trans=[transforms.ToTensor()]\n",
        "  if resize:\n",
        "    trans.insert(0,transforms.Resize(resize))\n",
        "  trans=transforms.Compose(trans)\n",
        "\n",
        "  mnist_train=torchvision.datasets.FashionMNIST(root=\"../data\", train=True, transform=trans, download=True)\n",
        "  mnist_test=torchvision.datasets.FashionMNIST(root=\"../data\", train=False, transform=trans, download=True)\n",
        "\n",
        "  return data.DataLoader(mnist_train,batch_size,shuffle=True,num_workers=get_workers()),data.DataLoader(mnist_test,batch_size,shuffle=False,num_workers=get_workers())\n",
        "\n"
      ],
      "metadata": {
        "id": "foYW7vqONZHI"
      },
      "execution_count": 4,
      "outputs": []
    },
    {
      "cell_type": "code",
      "source": [
        "def accuracy(y_hat,y):\n",
        "  \"\"\"Compute the number of correct predictions.\"\"\" \n",
        "  if y_hat.shape[0]>1 and y_hat.shape[1]>1:\n",
        "    y_hat=y_hat.argmax(axis=1)\n",
        "  cmp=y_hat.type(y.dtype)==y\n",
        "  return float(cmp.type(y.dtype).sum())"
      ],
      "metadata": {
        "id": "b5LjV-dSNdPF"
      },
      "execution_count": 5,
      "outputs": []
    },
    {
      "cell_type": "code",
      "source": [
        "def evaluate_accuracy_gpu(net,test_iter,device=None):\n",
        "  \"\"\"Compute the accuracy for a model on a dataset using a GPU.\"\"\"\n",
        "  if isinstance (net,nn.Module):\n",
        "    net.eval()\n",
        "    if not device:\n",
        "      device=next(iter(net.parameters())).device\n",
        "\n",
        "    # No. of correct predictions, no. of predictions \n",
        "    metric =Accumulator(2)\n",
        "\n",
        "    with torch.no_grad():\n",
        "      for X,y in test_iter:\n",
        "        if isinstance(X, list):\n",
        "          # Required for BERT Fine-tuning (to be covered later) \n",
        "          X = [x.to(device) for x in X]\n",
        "\n",
        "        else:\n",
        "          X=X.to(device)\n",
        "        \n",
        "        y=y.to(device)\n",
        "        metric.add(accuracy(net(X), y), y.numel())\n",
        "      \n",
        "    return metric[0] / metric[1]"
      ],
      "metadata": {
        "id": "Wn9rSMQeNfR8"
      },
      "execution_count": 6,
      "outputs": []
    },
    {
      "cell_type": "code",
      "source": [
        "def try_gpu(i=0):\n",
        "  \"\"\"Return gpu(i) if exists, otherwise return cpu().\"\"\" \n",
        "  if torch.cuda.device_count() >= i + 1:\n",
        "    return torch.device(f'cuda:{i}') \n",
        "  return torch.device('cpu')"
      ],
      "metadata": {
        "id": "HWSiZH_xNobp"
      },
      "execution_count": 7,
      "outputs": []
    },
    {
      "cell_type": "code",
      "source": [
        "def train(net,train_iter,test_iter,loss,optimizer,num_epochs,learning_rate,device):\n",
        "  def init_weights(layer):\n",
        "    if isinstance(layer,nn.Linear) or isinstance(layer,nn.Conv2d):\n",
        "      nn.init.xavier_uniform_(layer.weight)\n",
        "  net.apply(init_weights)\n",
        "  print('training on', device)\n",
        "  net.to(device)\n",
        "\n",
        "  for epoch in range(num_epochs):\n",
        "    metric=Accumulator(3) # Sum of training loss, sum of training accuracy, no. of examples\n",
        "    net.train()\n",
        "\n",
        "    for X,y in train_iter:\n",
        "      X,y=X.to(device), y.to(device)\n",
        "      optimizer.zero_grad()\n",
        "      y_hat=net(X)\n",
        "      l=loss(y_hat,y)\n",
        "      l.backward()\n",
        "      optimizer.step()\n",
        "\n",
        "      with torch.no_grad():\n",
        "        metric.add(l * X.shape[0], accuracy(y_hat, y), X.shape[0])\n",
        "\n",
        "      train_l = metric[0] / metric[2]\n",
        "      train_acc = metric[1] / metric[2]\n",
        "\n",
        "    test_acc = evaluate_accuracy_gpu(net, test_iter)\n",
        "\n",
        "    print(f'epcoch:{epoch+1} 'f'loss {train_l:.3f}, train acc {train_acc:.3f},'f'test acc {test_acc:.3f}')"
      ],
      "metadata": {
        "id": "95dN6njONsQ6"
      },
      "execution_count": 8,
      "outputs": []
    },
    {
      "cell_type": "markdown",
      "source": [
        "# AlexNet \n",
        "\n",
        "![image.png](data:image/png;base64,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)"
      ],
      "metadata": {
        "id": "qIGWX9PtOjdk"
      }
    },
    {
      "cell_type": "code",
      "source": [
        "net=nn.Sequential(\n",
        "    nn.Conv2d(1,96,kernel_size=11,stride=4,padding=1),nn.ReLU(),\n",
        "    nn.MaxPool2d(kernel_size=3,stride=2),\n",
        "    nn.Conv2d(96,256,kernel_size=5,padding=2),nn.ReLU(),\n",
        "    nn.MaxPool2d(kernel_size=3,stride=2),\n",
        "    nn.Conv2d(256,384,kernel_size=3,padding=1),nn.ReLU(),\n",
        "    nn.Conv2d(384,384,kernel_size=3,padding=1),nn.ReLU(),\n",
        "    nn.Conv2d(384,256,kernel_size=3,padding=1),nn.ReLU(),\n",
        "    nn.MaxPool2d(kernel_size=3,stride=2),\n",
        "    nn.Flatten(),\n",
        "    nn.Linear(6400, 4096), nn.ReLU(),\n",
        "    nn.Dropout(p=0.5),\n",
        "    nn.Linear(4096, 4096), nn.ReLU(),\n",
        "    nn.Dropout(p=0.5),\n",
        "    nn.Linear(4096, 10)\n",
        "    )\n"
      ],
      "metadata": {
        "id": "ekCU6MqPOxcx"
      },
      "execution_count": null,
      "outputs": []
    },
    {
      "cell_type": "code",
      "source": [
        "X = torch.randn(1, 1, 224, 224) \n",
        "for layer in net:\n",
        "  X=layer(X)\n",
        "  print(layer.__class__.__name__,'output shape:\\t',X.shape)"
      ],
      "metadata": {
        "colab": {
          "base_uri": "https://localhost:8080/"
        },
        "id": "CBy0s6ETQzYy",
        "outputId": "dff10e1c-6e4d-4d10-8085-7f7d40b0d301"
      },
      "execution_count": null,
      "outputs": [
        {
          "output_type": "stream",
          "name": "stdout",
          "text": [
            "Conv2d output shape:\t torch.Size([1, 96, 54, 54])\n",
            "ReLU output shape:\t torch.Size([1, 96, 54, 54])\n",
            "MaxPool2d output shape:\t torch.Size([1, 96, 26, 26])\n",
            "Conv2d output shape:\t torch.Size([1, 256, 26, 26])\n",
            "ReLU output shape:\t torch.Size([1, 256, 26, 26])\n",
            "MaxPool2d output shape:\t torch.Size([1, 256, 12, 12])\n",
            "Conv2d output shape:\t torch.Size([1, 384, 12, 12])\n",
            "ReLU output shape:\t torch.Size([1, 384, 12, 12])\n",
            "Conv2d output shape:\t torch.Size([1, 384, 12, 12])\n",
            "ReLU output shape:\t torch.Size([1, 384, 12, 12])\n",
            "Conv2d output shape:\t torch.Size([1, 256, 12, 12])\n",
            "ReLU output shape:\t torch.Size([1, 256, 12, 12])\n",
            "MaxPool2d output shape:\t torch.Size([1, 256, 5, 5])\n",
            "Flatten output shape:\t torch.Size([1, 6400])\n",
            "Linear output shape:\t torch.Size([1, 4096])\n",
            "ReLU output shape:\t torch.Size([1, 4096])\n",
            "Dropout output shape:\t torch.Size([1, 4096])\n",
            "Linear output shape:\t torch.Size([1, 4096])\n",
            "ReLU output shape:\t torch.Size([1, 4096])\n",
            "Dropout output shape:\t torch.Size([1, 4096])\n",
            "Linear output shape:\t torch.Size([1, 10])\n"
          ]
        }
      ]
    },
    {
      "cell_type": "code",
      "source": [
        "batch_size=128\n",
        "lr, num_epochs = 0.01, 10\n",
        "\n",
        "train_iter, test_iter = load_fashion_mnist(batch_size=batch_size,resize=224)\n",
        "loss=nn.CrossEntropyLoss()\n",
        "optimizer=torch.optim.SGD(net.parameters(),lr)\n",
        "\n"
      ],
      "metadata": {
        "colab": {
          "base_uri": "https://localhost:8080/",
          "height": 423,
          "referenced_widgets": [
            "423e1999b732427b9ecf62b030058395",
            "9ef243152ca24453b9600f3dd5b037af",
            "559571b408f04bf1a762e2fcae49d4e3",
            "a3d11eff04a849779bd4e683b599621b",
            "347f2b12249f4fa69350e10ba87e2c4d",
            "86bdc905f6d44398a89deecf5958409c",
            "006b4dc3b1e741019fd1fe362be05237",
            "74bb4223f34f4426a57f0bad84352c5b",
            "08923cd31d8746fd904b4d9537e72eac",
            "340056e94bb0419bb1549775a8c184e7",
            "8b2f2846baf44f24b947f7f383c0c2e6",
            "f989305f4b7d49a3a527cfc01b635333",
            "b26c0b67fe8e4d12800df0fbb9042d49",
            "86429a8e64b9413abd9ce7eeb7b567f3",
            "03ab45fb83444078a0ab4e60370b8eae",
            "3ca48bb0413648169b9ebcb320dbfd6e",
            "85ee8de03ed84043894a3f9328361d7c",
            "661e19b7eef6471e9ee5dee9484e906d",
            "7e4eeb1a44bb479a8a947bda9e2af9b5",
            "540b941a8046443d9550a7637569850c",
            "d46f4911de7a454994963f38ef18fcae",
            "1e7bc5b43bcf4abc86f59e5dad8d8091",
            "e746932856254161b25300e5118d762f",
            "78dbcc82112846c2a62f3a2c6a983f82",
            "a9e48426b4164092a7fa61e4edef958a",
            "a673229be48948959a563f33b288a58c",
            "67329017694f4ec1950c7275aec80584",
            "3064cecc6f90498cb86aeb88c4e2fecf",
            "de168cf705084740bffa9a696746f8c3",
            "14a834f849274f9cb176fdfc9c56c3ef",
            "eaf572342e7e49b7b1e246772243ca1f",
            "02af379b8ec84c32a2c83850a25c0851",
            "00480f274e7b473cafe6511a37e07a3c",
            "150c9a0ebd9d4eeea80c33a7d7f5ec13",
            "52f13134dce94d2bb653d2ab297f9367",
            "13da983e656b4c45b36413d6574e02f8",
            "a8f31af3ac734cda8100c781af2e58d7",
            "f07b1d2e954c406ca84913ee37b6deed",
            "a28dc18c30c24636949b4c41be44c1e5",
            "4c0a0fd2dce741b7b282964bf35a180d",
            "18dbc06dd4e44e29a14860341017cf14",
            "edf11dbc0ae94ee4acce39f3d4ec682d",
            "6762e92146f743139c069b051db6d279",
            "519313b6b51347089d3d334fc0f6894d"
          ]
        },
        "id": "e8IVxRzqQ7xQ",
        "outputId": "db7299e9-f420-4582-859d-b5705300ee2b"
      },
      "execution_count": null,
      "outputs": [
        {
          "output_type": "stream",
          "name": "stdout",
          "text": [
            "Downloading http://fashion-mnist.s3-website.eu-central-1.amazonaws.com/train-images-idx3-ubyte.gz\n",
            "Downloading http://fashion-mnist.s3-website.eu-central-1.amazonaws.com/train-images-idx3-ubyte.gz to ../data/FashionMNIST/raw/train-images-idx3-ubyte.gz\n"
          ]
        },
        {
          "output_type": "display_data",
          "data": {
            "text/plain": [
              "  0%|          | 0/26421880 [00:00<?, ?it/s]"
            ],
            "application/vnd.jupyter.widget-view+json": {
              "version_major": 2,
              "version_minor": 0,
              "model_id": "423e1999b732427b9ecf62b030058395"
            }
          },
          "metadata": {}
        },
        {
          "output_type": "stream",
          "name": "stdout",
          "text": [
            "Extracting ../data/FashionMNIST/raw/train-images-idx3-ubyte.gz to ../data/FashionMNIST/raw\n",
            "\n",
            "Downloading http://fashion-mnist.s3-website.eu-central-1.amazonaws.com/train-labels-idx1-ubyte.gz\n",
            "Downloading http://fashion-mnist.s3-website.eu-central-1.amazonaws.com/train-labels-idx1-ubyte.gz to ../data/FashionMNIST/raw/train-labels-idx1-ubyte.gz\n"
          ]
        },
        {
          "output_type": "display_data",
          "data": {
            "text/plain": [
              "  0%|          | 0/29515 [00:00<?, ?it/s]"
            ],
            "application/vnd.jupyter.widget-view+json": {
              "version_major": 2,
              "version_minor": 0,
              "model_id": "f989305f4b7d49a3a527cfc01b635333"
            }
          },
          "metadata": {}
        },
        {
          "output_type": "stream",
          "name": "stdout",
          "text": [
            "Extracting ../data/FashionMNIST/raw/train-labels-idx1-ubyte.gz to ../data/FashionMNIST/raw\n",
            "\n",
            "Downloading http://fashion-mnist.s3-website.eu-central-1.amazonaws.com/t10k-images-idx3-ubyte.gz\n",
            "Downloading http://fashion-mnist.s3-website.eu-central-1.amazonaws.com/t10k-images-idx3-ubyte.gz to ../data/FashionMNIST/raw/t10k-images-idx3-ubyte.gz\n"
          ]
        },
        {
          "output_type": "display_data",
          "data": {
            "text/plain": [
              "  0%|          | 0/4422102 [00:00<?, ?it/s]"
            ],
            "application/vnd.jupyter.widget-view+json": {
              "version_major": 2,
              "version_minor": 0,
              "model_id": "e746932856254161b25300e5118d762f"
            }
          },
          "metadata": {}
        },
        {
          "output_type": "stream",
          "name": "stdout",
          "text": [
            "Extracting ../data/FashionMNIST/raw/t10k-images-idx3-ubyte.gz to ../data/FashionMNIST/raw\n",
            "\n",
            "Downloading http://fashion-mnist.s3-website.eu-central-1.amazonaws.com/t10k-labels-idx1-ubyte.gz\n",
            "Downloading http://fashion-mnist.s3-website.eu-central-1.amazonaws.com/t10k-labels-idx1-ubyte.gz to ../data/FashionMNIST/raw/t10k-labels-idx1-ubyte.gz\n"
          ]
        },
        {
          "output_type": "display_data",
          "data": {
            "text/plain": [
              "  0%|          | 0/5148 [00:00<?, ?it/s]"
            ],
            "application/vnd.jupyter.widget-view+json": {
              "version_major": 2,
              "version_minor": 0,
              "model_id": "150c9a0ebd9d4eeea80c33a7d7f5ec13"
            }
          },
          "metadata": {}
        },
        {
          "output_type": "stream",
          "name": "stdout",
          "text": [
            "Extracting ../data/FashionMNIST/raw/t10k-labels-idx1-ubyte.gz to ../data/FashionMNIST/raw\n",
            "\n"
          ]
        }
      ]
    },
    {
      "cell_type": "code",
      "source": [
        "train(net, train_iter, test_iter,loss,optimizer, num_epochs, lr, try_gpu())"
      ],
      "metadata": {
        "colab": {
          "base_uri": "https://localhost:8080/"
        },
        "id": "MjRR7x-RRcz9",
        "outputId": "49f70d70-27c8-4a80-ae53-5ed95bf6c418"
      },
      "execution_count": null,
      "outputs": [
        {
          "output_type": "stream",
          "name": "stdout",
          "text": [
            "training on cuda:0\n",
            "epcoch:1 loss 1.322, train acc 0.510,test acc 0.707\n",
            "epcoch:2 loss 0.658, train acc 0.754,test acc 0.792\n",
            "epcoch:3 loss 0.543, train acc 0.797,test acc 0.812\n",
            "epcoch:4 loss 0.477, train acc 0.825,test acc 0.826\n",
            "epcoch:5 loss 0.433, train acc 0.841,test acc 0.856\n",
            "epcoch:6 loss 0.400, train acc 0.853,test acc 0.855\n",
            "epcoch:7 loss 0.379, train acc 0.861,test acc 0.867\n",
            "epcoch:8 loss 0.360, train acc 0.868,test acc 0.875\n",
            "epcoch:9 loss 0.343, train acc 0.874,test acc 0.870\n",
            "epcoch:10 loss 0.330, train acc 0.878,test acc 0.882\n"
          ]
        }
      ]
    },
    {
      "cell_type": "markdown",
      "source": [
        "# VGG-11\n",
        "\n"
      ],
      "metadata": {
        "id": "k_pdO4U-R_ke"
      }
    },
    {
      "cell_type": "code",
      "source": [
        "def vgg_block(num_convs,in_channels,out_channels):\n",
        "  layers=[]\n",
        "  for _ in range(num_convs):\n",
        "    layers.append(nn.Conv2d(in_channels,out_channels,kernel_size=3,padding=1))\n",
        "    layers.append(nn.ReLU())\n",
        "    in_channels=out_channels\n",
        "  \n",
        "  layers.append(nn.MaxPool2d(kernel_size=2,stride=2))\n",
        "  return nn.Sequential(*layers)"
      ],
      "metadata": {
        "id": "VXilQuv1SZJy"
      },
      "execution_count": null,
      "outputs": []
    },
    {
      "cell_type": "markdown",
      "source": [
        "The following variable conv_arch consists of a list of tuples (one per block), where each contains two values: the number of convolutional layers and the number of output channels, which are precisely the arguments required to call the vgg_block function. The fully-connected part of the VGG network is identical to that covered in AlexNet\n",
        "\n",
        " **Since this network uses 8 convolutional layers and 3 fully-connected layers, it is often called VGG-11.**"
      ],
      "metadata": {
        "id": "F6BmQWrjTil0"
      }
    },
    {
      "cell_type": "code",
      "source": [
        "conv_arch = ((1, 64), (1, 128), (2, 256), (2, 512), (2, 512))"
      ],
      "metadata": {
        "id": "iWPAIrwRTHWK"
      },
      "execution_count": null,
      "outputs": []
    },
    {
      "cell_type": "code",
      "source": [
        "def vgg(conv_arch):\n",
        "  conv_blocks=[]\n",
        "  in_channels=1\n",
        "\n",
        "  for num_convs,out_channels in conv_arch:\n",
        "    conv_blocks.append(vgg_block(num_convs,in_channels,out_channels))\n",
        "    in_channels=out_channels\n",
        "  \n",
        "  return nn.Sequential(*conv_blocks,\n",
        "                       nn.Flatten(),\n",
        "                       nn.Linear(out_channels * 7 * 7, 4096),nn.ReLU(), nn.Dropout(0.5),\n",
        "                       nn.Linear(4096, 4096), nn.ReLU(), nn.Dropout(0.5), \n",
        "                       nn.Linear(4096, 10)\n",
        "                       )\n",
        "  \n",
        "net = vgg(conv_arch)\n",
        "\n"
      ],
      "metadata": {
        "id": "VIrQzikATrqN"
      },
      "execution_count": null,
      "outputs": []
    },
    {
      "cell_type": "code",
      "source": [
        "X = torch.randn(size=(1, 1, 224, 224)) \n",
        "for blk in net:\n",
        "  X = blk(X)\n",
        "  print(blk.__class__.__name__,'output shape:\\t',X.shape)"
      ],
      "metadata": {
        "colab": {
          "base_uri": "https://localhost:8080/"
        },
        "id": "pLw8O9UeUeeo",
        "outputId": "73cb954a-ae12-4a17-d062-a98e8b38399c"
      },
      "execution_count": null,
      "outputs": [
        {
          "output_type": "stream",
          "name": "stdout",
          "text": [
            "Sequential output shape:\t torch.Size([1, 64, 112, 112])\n",
            "Sequential output shape:\t torch.Size([1, 128, 56, 56])\n",
            "Sequential output shape:\t torch.Size([1, 256, 28, 28])\n",
            "Sequential output shape:\t torch.Size([1, 512, 14, 14])\n",
            "Sequential output shape:\t torch.Size([1, 512, 7, 7])\n",
            "Flatten output shape:\t torch.Size([1, 25088])\n",
            "Linear output shape:\t torch.Size([1, 4096])\n",
            "ReLU output shape:\t torch.Size([1, 4096])\n",
            "Dropout output shape:\t torch.Size([1, 4096])\n",
            "Linear output shape:\t torch.Size([1, 4096])\n",
            "ReLU output shape:\t torch.Size([1, 4096])\n",
            "Dropout output shape:\t torch.Size([1, 4096])\n",
            "Linear output shape:\t torch.Size([1, 10])\n"
          ]
        }
      ]
    },
    {
      "cell_type": "code",
      "source": [
        "lr, num_epochs, batch_size = 0.01, 1, 128\n",
        "train_iter, test_iter = load_fashion_mnist(batch_size, resize=224)\n",
        "loss=nn.CrossEntropyLoss()\n",
        "optimizer=torch.optim.SGD(net.parameters(),lr)"
      ],
      "metadata": {
        "id": "MW0Eb_WzU0-y"
      },
      "execution_count": null,
      "outputs": []
    },
    {
      "cell_type": "code",
      "source": [
        "train(net, train_iter, test_iter,loss,optimizer, num_epochs, lr, try_gpu())"
      ],
      "metadata": {
        "colab": {
          "base_uri": "https://localhost:8080/"
        },
        "id": "mWniX-rMU3Bz",
        "outputId": "080bc5d4-8375-4d04-edec-96f6ca502b7e"
      },
      "execution_count": null,
      "outputs": [
        {
          "output_type": "stream",
          "name": "stdout",
          "text": [
            "training on cuda:0\n",
            "epcoch:1 loss 1.607, train acc 0.431,test acc 0.711\n"
          ]
        }
      ]
    },
    {
      "cell_type": "markdown",
      "source": [
        "# Network in Network \n",
        "\n",
        "![image.png](data:image/png;base64,iVBORw0KGgoAAAANSUhEUgAAAcQAAAMRCAYAAAByM8aqAAAYcGlDQ1BJQ0MgUHJvZmlsZQAAWIWVWQc8le3fv+6zz7HPsffeZO+9994kHOtYccxQIskqUSFKJZmVSqESkYZSRg9JEsmoFCoqI+9t1PO8z//9vO/nvT6f676+53f9rt+61v07NwBcnb6RkWEIRgDCI2KoDqYG/G7uHvzYKQABBGABqkDUlxwdqW9nZwXg8rv972VpEOaGy3OZDVn/2f+/FqJ/QDQZAMgLxn7+0eRwGN8FAJVGjqTGAIAxgulC8TGRGzgYxsxU2EAYJ2/goC18dAP7beGKTR4nB0MYNwOAo/X1pQYBQN8J0/njyEGwHPp3cB8xwp8SAbP+gLEOOdjXHwAuNZhHOjx89waGKxCH+SNhnAtjNb9/yAz6b/L9/sj39Q36g7f82iw4I0p0ZJjvnv9naP7vEh4W+1uHKFxpg6lmDhv+wzEcCt1tuYFpYTwb4WdjuxFrGP+g+G/FHQAEITjWzHmLH8FNjjaE4wdYYSzn72tkCWNuGJtEhNlYbdP9Aikm5jCGVwsigRJj7rQ9NjMg2thxW+Yp6m4H2984kGqovz32si91U+8Gf2dsqLP+tvyh4ADz3/K/JQY7ucKYAACSEEdxsYExPYyZo0MdLbd4kIKJwYY2v3mosQ4b9gvDWC0gwtRgSz7SK5Bq4rDNHxke/dtfZEYwxdxmGxfHBDuZbcUHWUv23bSfHcaNARH6zr/lBES7Wf32xT/AyHjLd+SzgAjnbX+Ro5ExBg7bY+cjw+y2+VG4gDDTDbogjDmj4xy3x6K0YuDFuSUfZRUZY+e0ZSfKJ8TXwm7LHlQcsAKGwAjwg1i4+oHdIARQns02zcK/tnpMgC+ggiAQAGS2Kb9HuG72RMBPR5AIPsEoAET/GWew2RsA4mD62h/q1lMGBG72xm2OCAVTMA4HliAM/h27OSrijzYX8A6mUP5DOxm2NQyuG33/SdOHKVbblNjfcvkZfnNijDFGGDOMCUYCxYnSQWmirOCnHlwVUGoo9d/W/s2PnkL3od+iB9Bj6Je7KGnUf9liDcZg+SbbHvv902OUKCxTGWWA0oalw5JRrChOIINSgvXoo3Rhzcow1XDb7g3f+f8HP/948I+Yb/Ph5fAIPBteDy/+75H0kvTKf6RsRPSf8dmy1e9PVA3/9Pxbv+E/4uwPt5b/5kRmIhuQD5HtyC5kC7IJ8CPbkM3IbuSdDfxnDb3bXEO/tTls2hMKy6H8hz7fbZ0bkYyWq5N7L7e63QdiAhJiNjaY4e7IPVRKUHAMvz58CwTwm0eQZaX5FeQUFADYuFO2jqmvDpt3BcTa8zeNfBAA1XkA8Mt/08K/AnAF3uP81n/TRLzhbYYBoHqKHEuN26KhNh5o+DRggHcUB+AFQkAc9kgBqABNoAeMgQWwBU7AHXjDcQ6G1zMVxINkkAoyQA44Ck6AEnAGnAfV4BK4BppAC2gHD8AT0AsGwCt4/UyCj2AeLIEVCIKwEB1EgjggPkgEkoIUIDVIBzKGrCAHyB3ygYKgCCgWSoYOQDlQAVQCnYNqoKvQTagd6oL6oJfQOPQe+gItI5AIWgQzggchitiBUEPoIywRToidiCBEFCIRkY44gihGlCMuIhoR7YgniAHEGOIjYhEJkDRIVqQAUgaphjRE2iI9kIFIKnIfMhtZiCxHXkbegmf6OXIMOYv8icKgSCh+lAy8hs1QzigyKgq1D5WLKkFVoxpRnajnqHHUPOoXmg7NjZZCa6DN0W7oIHQ8OgNdiK5E30Dfh3fTJHoJg8GwYsQwqvBudMeEYJIwuZjTmHrMXUwfZgKziMViObBSWG2sLdYXG4PNwJ7EXsS2Yfuxk9gfOBocH04BZ4LzwEXg0nCFuFpcK64fN41bwTPiRfAaeFu8P34PPg9fgb+F78FP4lcITAQxgjbBiRBCSCUUEy4T7hNGCF9paGgEadRp7GkoNPtpimmu0DyiGaf5SUuklaQ1pPWijaU9QltFe5f2Je1XOjo6UTo9Og+6GLojdDV09+hG6X7Qk+hl6c3p/elT6EvpG+n76T8z4BlEGPQZvBkSGQoZGhh6GGYZ8YyijIaMvoz7GEsZbzK+YFxkIjHJM9kyhTPlMtUydTHNELFEUaIx0Z+YTjxPvEecICFJQiRDEpl0gFRBuk+aZMYwizGbM4cw5zBfYn7GPM9CZFFicWFJYCllucMyxopkFWU1Zw1jzWO9xjrIuszGw6bPFsCWxXaZrZ/tOzsXux57AHs2ez37APsyBz+HMUcoRz5HE8drThSnJKc9ZzxnGed9zlkuZi5NLjJXNtc1rmFuBLcktwN3Evd57m7uRR5eHlOeSJ6TPPd4ZnlZefV4Q3iP87byvucj8enwUfiO87XxfeBn4dfnD+Mv5u/knxfgFjATiBU4J/BMYEVQTNBZME2wXvC1EEFITShQ6LhQh9C8MJ+wtXCycJ3wsAheRE0kWKRI5KHId1ExUVfRQ6JNojNi7GLmYolidWIj4nTiuuJR4uXif0lgJNQkQiVOS/RKIiSVJYMlSyV7pBBSKlIUqdNSfdJoaXXpCOly6RcytDL6MnEydTLjsqyyVrJpsk2yn3cI7/DYkb/j4Y5fcspyYXIVcq/kifIW8mnyt+S/KEgqkBVKFf5SpFM0UUxRbFZcUJJSClAqUxpSJilbKx9S7lBeU1FVoapcVnmvKqzqo3pK9YUas5qdWq7aI3W0uoF6inqL+k8NFY0YjWsac5oymqGatZozWmJaAVoVWhPagtq+2ue0x3T4dXx0zuqM6Qro+uqW677VE9Lz16vUm9aX0A/Rv6j/2UDOgGpww+C7oYbhXsO7RkgjU6Nso2fGRGNn4xLjURNBkyCTOpN5U2XTJNO7ZmgzS7N8sxfmPOZk8xrzeQtVi70WnZa0lo6WJZZvrSStqFa3rBHWFtbHrEdsRGwibJpsga257THb13ZidlF2t+0x9nb2pfZTDvIOyQ4PHUmOuxxrHZecDJzynF45izvHOne4MLh4udS4fHc1ci1wHXPb4bbX7Yk7pzvFvdkD6+HiUemx6GnsecJz0kvZK8NrcKfYzoSdXd6c3mHed3Yx7PLd1eCD9nH1qfVZ9bX1Lfdd9DP3O+U3TzYkF5E/+uv5H/d/H6AdUBAwHagdWBA4E6QddCzofbBucGHwLMWQUkJZCDELORPyPdQ2tCp0Pcw1rD4cF+4TfjOCGBEa0bmbd3fC7r5IqciMyLEojagTUfNUS2plNBS9M7o5hhl+ee+OFY89GDsepxNXGvcj3iW+IYEpISKhe4/knqw904kmiReSUEnkpI5kgeTU5PG9+nvP7YP2+e3rSBFKSU+Z3G+6vzqVkBqa+jRNLq0g7dsB1wO30nnS96dPHDQ9WJdBn0HNeHFI89CZTFQmJfNZlmLWyaxf2f7Zj3PkcgpzVnPJuY8Pyx8uPrx+JPDIszyVvLKjmKMRRwfzdfOrC5gKEgsmjlkfazzOfzz7+LcTu050FSoVnikiFMUWjRVbFTefFD559ORqSXDJQKlBaf0p7lNZp76f9j/dX6ZXdvkMz5mcM8tnKWeHzpmeaywXLS88jzkfd36qwqXi4QW1CzWVnJU5lWtVEVVj1Q7VnTWqNTW13LV5dYi62Lr3F70u9l4yutR8WebyuXrW+pwr4ErslQ9Xfa4OXrO81tGg1nD5usj1UzdIN7IbocY9jfNNwU1jze7NfTctbnbc0rx147bs7aoWgZbSOyx38loJremt622JbYt3I+/Otge1T3Ts6nh1z+3eX532nc/uW95/9MDkwb2H+g/bHmk/aunS6Lr5WO1x0xOVJ43dyt03nio/vfFM5Vljj2pPc696760+rb7Wft3+9udGzx/8Zf7XkwGbgb5B58GhF14vxob8h2Zehr1cGI4bXnm1fwQ9kv2a8XXhKPdo+RuJN/VjKmN3xo3Gu986vn01QZ74+C763epk+hTdVOE033TNjMJMy3uT970fPD9Mfoz8uDKb8Ynp06nP4p+vz+nNdc+7zU8uUBfWv+R+5fha9U3pW8ei3eLoUvjSyvfsHxw/qn+q/Xy47Lo8vRK/il0tXpNYu/XL8tfIevj6eqQv1XfzVQAJV0RgIABfqgCgcweA1AunCZ5bOd92QcIvHwi4dYFkoY+IdPhG7UFloE0wSMwTbDEuAm9FkKDB0szS9tM10VcxVDLWMzUTO0hPmHtZhljfsM2wf+RY4FzmWuNB8GL5CPx0AkRBohCrMLsImyi7GLc4jwS/JL+UoLSwjKis2A5pOTl5RQUVRQ0lXWVjFXNVczUTdRMNE01DLX1tLR0NXSU9WX1RAx5DZiOC0brxV5Mp05dm3eYtFtWWx6xSrENs3GyN7ZTtxRy4HBmdcM5IF8gV4YZyx3swenJ4Ce+U8ZbYJezD58vpx0Im+RMDSIGsQVzBghTpENVQkzCXcEpE8u6CyIqos9Ti6PyY3NisuOz4IwnFe6oTW5Ne7QX7pFN27T+Z+uqAYPrug+2HMJlCWQrZBjmOuYGHE4/k51UfvZs/XLB4nOmETKFFUWDxgZNlJTdL+0+9O714BnuW45xkudZ52wq/CzGVB6sKq6trbtY+rhu++OHSz3rcFbar4td0G9yvR93IajzdVN/cdrPrVs/t3pYndzpar7aV3k1p39WhcY94b6rz5v3aB6ce5jxK6PJ7bP5Etpu+e/bp/WeneiJ7DfpIfRP9156n/mU/IDKIGnz/onuo/mXBcMwrlxG115yvV0dH37SPXRjPert7wvmd1qQwvMqWpv+auf6+6EPKx7BZ8ify58i5nPkbC3Nf9b6dWyJ9L/4ptfxsNeWXxvr6P+ZfATmDKkBbYlgwr7ENuFx8EMGIRpKWgXaVbpp+iGGI8Q3TO+In0lfmJZY11hW2NfZfHGucS1xfued4pnhH+Pr57wvcFKwUyhEOE7ESlRTDi30Q75KokcyWokhbysjI0snO7eiTuy5fpJCsSFayVzZQUVAVUCOqrat/1hjR7NJq1C7XydWN1/PRtzBQMOQ0Qhi9N35mcsU03yza3MlCxZLNcsXqjfU9m1rbfLsk+0AHR0d9J3lnAReSK9Z12e2j+4hHt+cdr/qdZ72P7Trkk+xL9aOQff09ApwC7YNsgi0pliFmoZphsuECESy7aSIRkatRP6g/o9di0XHEeKEEjT1OidFJhckte6dSaPbzpcqkaR+wSfc7GJ9x+FBlZlvWcPb3XObDCkfs8yKOHs6vK3h07N3x9ULOIuViu5OhJQdLz5xqPt1bNnPm1znmconz2hV2F8iVsVWHqovhc667bu4S8bJiveOVqKt51+oaOq+P3PjShGnmuCl5S+O2RYvbncDWmLaUu6ntBzoO3svoPHQ/80H2w9xHh7sOPz785HB37tOcZ1k9h3rT+1L79z6P+ytqYPdg5IuYoaSXB4ePvSofaXj9YPTlm0/j4C1xQvCd/KTOlPm038zZ958+Ks8mfWr9/GtecyHuy+Wv7xbZlyy/p/xo+Dm9wr3qsJb9q3N7/o0R+sgdyM+odvQhjCNWHLuAu4nPIDjQcNOM0p6nC6dXZ0AwtDOmM1kQGYi9pKPMtiwMLE9Zs9lM2CH2Zo4ITiHOIa4cbh3uTzylvGa83/jK+M34PwscF9QQHBHaK8wv3CriLbIqWiymJNYtHiC+KnFMUkqyTcpRako6VUZEZkg2d4fBjm9yVfKeCnQKbYqRSgJK/cppKgoq46p5atpqn9RLNcw1FjXPa9lr/dKu03HXxere0CPrE/XvGkQa8hv2GqUZKxlPm5SY2sLvHbfNoyykLN5Zlll5WLNaP7cpsHWwI9kN2p908HYUdvzgdNU50cXYlcF12K3SPdrDwJPWc9DrzM5gbwXvlV33ffJ9vfwk/JbInf7HAnwDFYNQQYPBtZSUEKdQ6TB02JvwWxHFu+MjXaM0qLzRqOjZmIHY9rj6+LKEvD2pifFJocn+e3fuc0tx2u+Qap9mf8Ah3emge8bOQwGZoVnR2Sk5mbkFh8uO1OQ1Hr2X31cweuzzCVShRJFX8dGT90tWTsme9is7cebx2dVyhfMBFSUXeqpQ1Vo18bX1dR8vSV4Oqa+9MndNpWH/9e5Gjqaw5s5bfLdTWt62WrW1tMt3XOyUun/1ocGj4ccJ3XxPe3sO9zk9Fx0Agx+H3g1/eA3eiIzvmqidQs8kfgSfKubJX3WX1H46rxZvzP/Wf38bBaMCwIlDAGz8n+NQA0DuRQDE9gDABueednQAOKkDhIApgBY7AGSh/ef+gODEkwBIgAdIAjVgBueXYXBOWQTqQReYAGsQO6QMOULR0AmoGXoN53zSCBdEKqIeMYpkQBog45GXkFNwluaFKkW9gjMxH/QF9CeMCiYV8wzLgw3HtuFIOAquHc+Jj8X3ExQJRYRVGjLNU1p12mo6drpcegR9Ev13hliGJcZEJogpm8hKrCCpkXqZQ1iwLBdYjVmn2DLZpdh7OWI4OThbufy5abiv8XjwInkv8XnCGUGfQJ6grRCT0HPhIhFPUQHRKbGL4tESGpKQZJdUvrQnvDrnZft3tMhVyhco7FOkKDkqa6jwqUKqY2ot6sc1QjS1tei1RrRrdGJ0dfVwen36DQbXDZuMbhm3mtwz7TLrMR+0GLWctlqwXrHF2bHaizqoOVo5kZ2TXYpdW91mPEie+l6RO8u9B3wIvvp+SeRm/++BakFJwe0hhFDnsIrwxd1mkWVRc9FaMTmxo/FKCUf3LCS5Jj/Yp53SmmqZNpGelaGdCbL6cq4cPpVXkG92DHn8fmF+cUCJ4SnpMsGzIuVKFTaVUdWltU8ugXrVqzYN7jeCm5Jvnrh97U5/21IHb6fZg5hHZx8/617rkenb+fzIwN0h0jB55NLo7Dj3hNqk3rT8e/oPL2aPfN4x175g9qXzm8JiydLyD/ufF5YXVjXWUn7d3Tw/tuafCM+/BFAFJsAVhIB94DioA51gFPyASJAcZANFQEehBuglAiAk4Cw/DXEV8RbO462Q6cg25ApKG3UA1Y1mRweiGzF4jDemEcuIDcM+wUnj8nCLeC/8A4IsoYgGSRNFM07rTPuYzpCulV6L/g6cxT5itGcchfPUdeJxkizpKXMEnHk2s/qy0bA1swdysHI85NzDJc01zl3EY8uL4+3g289vIIAReCpYKOQrLCu8KtItWiYWJW4swSXxRfKx1HnpFBlPWc0dEnLs8nj5VYU5xQmlF8qPVW6rXlQrUT+kQdX01DLUltRh1FnUHdZr1a83uGrYYNRkfNukzbTT7LF5r8ULyzdW09YLNit2OHtWBzFHdSdrZ3+Xva4lbjfdhz3WvAR3WnjH7Drr0+MHkVX8IwJqAqeCRSkhIVdDl8NNIwp3z0RpUfdGt8Wi4qziixKmEtWTjiRP7zNOqU6lT9tzYBo+T3ozLbIe5pjldh9xyBvLTznGe/xuYWAx/cnmUv/TpLIHZ/eWq5z/cuFqVWyNVh3m4sDlC1eSr3ldV2mkb5q4ef32gTs2bex3xztqOqkPtB5huwaf1Dzd3+PVp/NcZIBp8NGQ88vJV4mvmUevjTmNr05UT7pPM8x0fcictfzMOPdi4ezXkEWV74gfPculq0G/FLfnHwkwgHbzBBAHKvAKcAPh4CA4A26DYXj/C0IWUCxUAQ0iaBBG8M7vQOKQ9sgzyC8oC1QVGo+mot9gnODdboMdwJFxP/GFBHXCJM1JWj3aEboken76LoZ4RknGCaYzRD+SBOk780OWMtYkNk92PQ4pTnYuGm4E9yrPMu8qPxDAwm+gPMKyItqiDmJB4vslTkregPPueVnGHQpyrvL7FCoUe5RWVCRU3dUK1Ps1mbXctSt05vS09Q8bvDFSNM4xGTfTMi+0+GJlZ33JltYuzP6xo6RTjvMHVwu3Wg+8J8XrobforoM+k36G5MoAZKB/0D2KaEhG6Ey4VUR9JEtUAnUsxij2cjx7wr49H5Pc4H2qklKVypF2JB11MDnjS6ZH1tXs9Vynw1VHlo865l8+RjhOOfGgSKo49+RcqeupO2WiZ/Lhs9//fPcFzcqqaqaaxNqpi46XWupFr+RdXWrwvv6gUabpaPP8Lfvbl+8QWgPbWtuJHQH3Gu+jHtg9LH008VjiCaW78ul4D2evfd/B/uvP3w4QBuVeOAxRXx4Zrnl1b2Tg9dTowpvVcegtdgLzDjMJJpenPk2Pzjx93/yh/GPmbMQn689Sc9i5N/PNC1lfPL5KfP3yrWUxbcnoO+Z754+Un5o/F5YvrHisElYb18i/6H5dW3ffmP/oQEWFzesDojUAAD26vv5VFABsAQBr+evrK+Xr62vn4WRjBIC7YVvfkzbvGkYAznJtoL4rXz7/+1vO1remf+Qx/27B5k20qRW+iTZb+FYC/wUrMN+ybWoVIwAAAGJlWElmTU0AKgAAAAgAAgESAAMAAAABAAEAAIdpAAQAAAABAAAAJgAAAAAAA5KGAAcAAAASAAAAUKACAAQAAAABAAABxKADAAQAAAABAAADEQAAAABBU0NJSQAAAFNjcmVlbnNob3QmHqC9AAACPWlUWHRYTUw6Y29tLmFkb2JlLnhtcAAAAAAAPHg6eG1wbWV0YSB4bWxuczp4PSJhZG9iZTpuczptZXRhLyIgeDp4bXB0az0iWE1QIENvcmUgNS40LjAiPgogICA8cmRmOlJERiB4bWxuczpyZGY9Imh0dHA6Ly93d3cudzMub3JnLzE5OTkvMDIvMjItcmRmLXN5bnRheC1ucyMiPgogICAgICA8cmRmOkRlc2NyaXB0aW9uIHJkZjphYm91dD0iIgogICAgICAgICAgICB4bWxuczpleGlmPSJodHRwOi8vbnMuYWRvYmUuY29tL2V4aWYvMS4wLyIKICAgICAgICAgICAgeG1sbnM6dGlmZj0iaHR0cDovL25zLmFkb2JlLmNvbS90aWZmLzEuMC8iPgogICAgICAgICA8ZXhpZjpVc2VyQ29tbWVudD5TY3JlZW5zaG90PC9leGlmOlVzZXJDb21tZW50PgogICAgICAgICA8ZXhpZjpQaXhlbFhEaW1lbnNpb24+NDUyPC9leGlmOlBpeGVsWERpbWVuc2lvbj4KICAgICAgICAgPGV4aWY6UGl4ZWxZRGltZW5zaW9uPjc4NTwvZXhpZjpQaXhlbFlEaW1lbnNpb24+CiAgICAgICAgIDx0aWZmOk9yaWVudGF0aW9uPjE8L3RpZmY6T3JpZW50YXRpb24+CiAgICAgIDwvcmRmOkRlc2NyaXB0aW9uPgogICA8L3JkZjpSREY+CjwveDp4bXBtZXRhPgouI9LqAABAAElEQVR4AeydB1wUxxfHHyAgKiiI2BV7772X2KJRE40m1qhRY4kaYy+xJGqsSYzG3nssscTE+Fdj770XrFhRUBRRqf7njdn1Du6Agzu42/tNPni7s7NTvnO53703b/Yc3opESCAAAiAAAiBg5wQc7Xz8GD4IgAAIgAAISAIQRLwRQAAEQAAEQEAQgCDibQACIAACIAACggAEEW8DEAABEAABEBAEIIh4G4AACIAACICAIABBxNsABEAABEAABAQBCCLeBiAAAiAAAiAgCEAQ8TYAARAAARAAAUEAgoi3AQiAAAiAAAgIAhBEvA1AAARAAARAQBCAIOJtAAIgAAIgAAKCAAQRbwMQAAEQAAEQEAQgiHgbgAAIgAAIgIAgAEHE2wAEQAAEQAAEBAEIIt4GIAACIAACICAIQBDxNgABEAABEAABQQCCiLcBCIBAihMYO3YsTZw40WA/xowZQ3/++ae8du7cOerZsycpv2s+atQomjp1qsH7Ro4cSdu2bTN4DZkgYIgABNEQFeSBAAgkK4Hff/+dhg0bRuvXr4/V7urVq+n48eMy/+HDh7Rp0ya1zKpVq2jQoEG0ZcsWNU85WLlyJZ08eVI5xSsIxEsAghgvIhQAARBIDgJubm7Uu3dvevLkidHmGjZsSCyKDg4Oahm+r0ePHvT06VM1DwcgkBgCEMTEUMM9IAACZifAoubi4iJF0VjlbCm2aNFCdZlyORZRTn379pWv+AcEEksAgphYcrgPBEDArAQyZMhA8+fPl27TdevWGaybrcONGzfqXfPy8qI5c+YQu0g3b96sdw0nIGAKAQiiKbRQFgRAwKIEGjVqRF26dInXdRqzE82aNaMOHTpI12lQUFDMyzgHgQQRgCAmCBMKgQAIJBeBadOmEa8L9urVy6Qmp0+fTo6OjnCdmkQNhXUJpNI9wTEIgAAIpDSB9OnTS9cpW4tr165NcHc8PT1p3rx59NFHH1GrVq0SfB8KgoBCAIKokMArCICA1RBo0KABdevWTbpOnZycEtyvJk2aUKdOnaTrNCoqKsH3oSAIMAG4TPE+AAEQsEoCvOE+bdq0FBAQYFL/fv75Z3J2dqbAwECT7kNhEIAg4j0AAiCQ4gR09xUqnXF3d6eFCxfKdUElj191y/Kx7jlf52hVdp3yeiISCJhCwEE8AumtKTegLAiAAAiAAAhokQC+QmlxVjEmEAABEAABkwlAEE1GhhtAAARAAAS0SACCqMVZxZhAAARAAARMJgBBNBkZbgABEAABENAiAQiiFmcVYwIBEAABEDCZAATRZGS4AQRAAARAQIsEIIhanFWMCQRAAARAwGQCEESTkeEGEAABEAABLRKAIGpxVjEmEAABEAABkwlAEE1GhhtAAARAAAS0SACCqMVZxZhAAARAAARMJgBBNBkZbgABEAABENAiAQiiFmcVYwIBEAABEDCZAATRZGS4AQRAAARAQIsEIIhanFWMCQRAAARAwGQCEESTkeEGEAABEAABLRKAIGpxVjEmEAABEAABkwlAEE1GhhtAAARAAAS0SACCqMVZxZhAAARAAARMJgBBNBkZbgABEAABENAiAQiiFmcVYwIBEAABEDCZAATRZGS4AQRAAARAQIsEIIhanFWMCQRAAARAwGQCEESTkeEGEAABEAABLRKAIGpxVjEmEAABEAABkwlAEE1GhhtAAARAAAS0SCCVFgeFMYGAuQmEhobS5MmTKSAgwNxVoz4QsEkClSpVok6dOpGDg4NN9t9Qpx3eimToAvJAAATeE9iyZQs1b978fQaOQAAE6M2bN+Tq6qoZErAQNTOVGIglCTg6vltdKPXtfMpe53NLNoW6QcDqCZyZ2oUe7F2nKeuQoUMQrf6thw5aE4FUbumI/5BAwJ4JaPX/AQTV2PO7GmMHARAAARBQCUAQVRQ4AAEQAAEQsGcCEER7nn2MHQRAAARAQCUAQVRR4AAEQAAEQMCeCUAQ7Xn2MXYQAAEQAAGVAARRRYEDEAABEAABeyaAbRf2PPsYu10TCHsWQKH3/YgcHCldjoLkkt5bj0f48yfy3CV9Jr18Qydvo6Po9eO7lNo7GzmmcjFUJN68d+05xOpHzBtfPbpNqdJ6kIu7V8xLSTrn9iNfh6p1ODg5kXPa9JQqjYeaZ46DiJfBFBX+mlJ7ZTVHdajDjAQgiGaEiapAwBYIvLhxlk5P6UzPr5+WohIV/oaiwl5RjvodqETvX8k5XQY5jAtzBhBFRVHZ4SvjHVZ48BPa2T4P1Zp7mtLnKx1veUMFzs/oQ44uqanM4CWGLsu84KvHaV/viuRZpDLVmHHYaLnEXOD27+/5PdatHnlLUpEu4ylz5Y9iXUtMxo31P9GTUzupxq+HEnM77rEgAbhMLQgXVYOAtREIuXOJDvSvSc7CuvpgqR812hhEjf98QdV+2kNPz++n42NaEFnx0xz9/1lEWao2o+Arx6Sgm5svC22DNffkX/1Vd6jmb8eExZqJjo/9lNiiRtI2AQiitucXowMBPQIXZvcnN59cVPnHbZQ2e355zcHRiTKWrEWlBy2mICGKIXcu6t2je/Im8D49OrSZnl0+QtERYbqX1OMQ/8v06OAmev3knpqnHESEPqenFw6Ix36tFXUcJXa1JjSxFXv/39WUq1EXyliqFt3eMlu9NepNKD27dJj4VTe9enSLQm6/H0/Y00ei/1uIrWQWfh5H5KsQ9RZHZxfh9s0u/5hThkIVqPSABXKsQef2qeW4L8wq4MhWUlzL6kVx8DYqkp7fOEMPD/xBrx7e1L2EYysmAJepFU8OugYC5iQQ/iKIAk/upJL954p1PudYVXuXqk0fCovR2JrZuek9yX/bIspQuCKxMEYLV2v50evIq1g1ta4LM/vSq4A7lDpjNikIxXv+TL5Ne8jrLESnJ38h185cMvjQc7+TxO7IqtP2GOyPWul/Bw/3bZBHmco1oIiQZ3R+Zh8q+tUUuc7Hon5kRBMq8uWP5PvRV+qtJ75vRVy+yJcT6O7/ltKZqV9S+gJlidfx0mbNK12X1X/ZT55Fq6j3xDxgceOkfAF4cnKHtBhdPTOTa4ZMFHz1BOX/bBAV7jxOlnstxn9ocD2KDH1B7r7FxPXjQsBrU/mRa8gpdVpZBv9YJwFYiNY5L+gVCJidwItb54VRFC2snvJG6zYmhg/3b5BiyC5EFpB6K25Slmof08kJ7VSh4EqdPTJSvZW35PpeGWFxXvitnwi28Zftnvu1lxDHnlRn0SXpoq0h6noqrLrA07uM9kf3ArtLs9VqRU6ubpS15qfy0r0dy+Urrz1mr9OG7u96v97Jlmqw3ynK2bATcSDOmWldifvEY/hg6TVKk8U3loUaHRFObEXyH99zb+cKcd+XwsXsST4VPxRBNy/p9KQvpMhzHdWnH5Rj8Vs9kR4f2yb7clZ8cXDzzkH1heu16tR/JSter722aoLucHBshQQgiFY4KegSCFiCQNSbV7JaJyEeSmKB3NY8g97f9bVTlMvq652/F4igkibkka+Umleg7TApdoFndqt5+VsNEL+A8O5jJXvtz6SQBBz9W+bVFUJYqONoWZYtzNC7V2VEKluu8aXQ+9cp8NxeytngC1mUHy6dtUZLur11jnprrkadKUi4Y1nIOLGYeRWrKiNoHx//RwYLZa/XTl7jf/J/PkQ9Vg7Yhbq9dVb5x0FCpyZ2IHbzVhr3J7kIsX987G8KE9Gouveydeldug75b18iLWcWxnytB6pWL69B5m7cTVqoSjt4tU4CcJla57ygVyBgdgJsEXF6ec+P0uUsLI8dyEEvipRdioprUBb47583QQ8oc6UmulnkliknpRIuQL6mRJamFds31CR+ODaNcEuGPrwhs0LuXKYrS0fRc+Fi5G0H0k0pBDkhyX/7Yrnmd3J8G1H83Q/SRr55KV2nvLaXsWRNylCwPHn4FhfrjKuoQJthdE9YiwXbjZTVs5WaJrOvKtacmSZLHnJw0v8I5DXDcsNXyXt42wWLoK7V/FoIuasQuJhbPtLlKiyCfM5IFnyzwldWxOfiOnNCsm4C+u8G6+4regcCIJAEAu65ikiBerB7DWWp0vRdTUK0dIWO3ZGGknM6TxFl+UjvEltObHXq7lPk7ReuYn1QSex6dE6bgcJDntLhIQ2Em7U5VZmykzzylBC65kBbP3xvrSr3xHzlwBte/+O1SHaL6iZ2Z7KVyILIKaewEnmd06tEDeK+ZK/dWubzet/rJ3elqHK7nFiglPVBmSH+4fErwUZKnu4rCyGPJToyXFq3yrU3QQ/luJkTJ2aVNls+5TKF8fUE7OdUb8BBihCAyzRFsKNREEgBAkIICnf+ge7tXk2XF414Jw5KN0TEJbsYw549VnL0Xtld+ujgZhGR+ULN5/U6BxGck7F4dTUv4Ohf6vHTi4dEgM1tuU3ihVhD43vZckufv4y0zNiNyYL0NjJCvcfQAZdjF2u+T7+Vwsfip/zlatiZONgmLPhdv3PWa0+h967RtZXjxDpjS9W6460a4c8D6dHhP9Umbv/53t2qZsZzkKlcfcEtmh7sWauW5CjTJye2U6ayH0gRZOtQWdtUCt3duZy8xXUk6yYAC9G65we9AwGzEshRt6206i781pfu/DWfMoiIS3J0lHv6eJ9d7g+/JN9mvWK1mUfk8TaH3V1LUDaxdhcqthI8FiJQ6ps5cp2QLUFO19dOlVsZ2CK7LyzRXA07SWuQtzZw5OkZ8UCArNVbiCfkiDXBM//KiFNFzGI1+l+G/7aFYiN+JWG5FYhVhNcUrywZJazChVJs2VrlDfS83aHqlPfBOuwe5fVLjjpl6zHi5TO97RaxKjaSwWPI27I/nfmpm9x+wls0+JfjOdI2l2DH1mfRbpPo+OhPKMT/CnmJ9cVHYmsGbwcp2m2ykVqRbS0EIIjWMhPoBwgkE4HcjbtSNhGl+ezKUXomrDh2ffI5f6iny1lI7QUHxSib9Hm7QO15ZylIBLZwEA0HqxT6Yoy6dpgqjTsV7T6ZstdqLbcyvBQBMxW/30Re/1mPfJ3vZwst+NoJGZzDwsFBMPTfXsTsH7Qjxxhretx+xhI1KX3Bcmq/dA9YkHifIFuqSirUYZRotxplLF1byZKvBdt/RzmEBRl0di+5ifXU1F5Z6N/ORVQrktuPElGk8aUiXX8UrtjP5DhZzEv2my0iUBupLlS2Rj9Y5ievv7h1gQp8Nph8KjWW65Fct0+Fhnqc42sP15OPgMNbkZKvObQEArZJYOvWrdS0aVMqN2K1WMf63DYHYce9fi62X/A+ygpCpJVniN7a/BtdXjicGv0RqEaE2jEik4Z+ZmoX8v9nMYWFhZGLi4tJ91pzYViI1jw76BsIgIBZCLhzEI9IB/pWI5/yDeRTdNjSLfXtPIihWQhroxIIojbmEaMAARCIgwA/mafaT3vpqdhnyM9s5afVFOsxNdb2iDiqwCU7IABBtINJxhBBAARE7JB4IAE/no7/kEDAEAFsuzBEBXkgAAIgAAJ2RwCCaHdTjgGDAAiAAAgYIgBBNEQFeSAAAiAAAnZHAIJod1OOAYMACIAACBgiAEE0RAV5IAACIAACdkcAUaZ2N+UYcFIIXFk8UvwC+4WkVIF7QcDmCfCmfC0mPKlGi7OKMZmdwLVr16hkqVIU9uaN2etGhSBgiwQKFylKFy+cF4/C1Y6jEYJoi+9E9DlFCAQGBtLLl/E/6zJFOmdHje7YsYPq1xe/OoGUogQyZcpEadOmTdE+mLtxCKK5iaI+EAABixG4ePEiNW7cmG7duqUpy8RiwFCxSQS0Y+uaNGwUBgEQsEUC9erVI39/f1q0aJEtdh99tnICsBCtfILQPRAAgXcEIiMjydn53c88FS9enM6fPw80IGBWArAQzYoTlYEACFiKwPbt29WqL1y4QC9evFDPcQAC5iAAQTQHRdQBAiBgcQJLly7Va2Pt2rV65zgBgaQSgMs0qQRxPwiAgMUJPH36lLJlyyZ/kFZprFq1anTgwAHlFK8gkGQCsBCTjBAVgAAIWJrA6tWrpRiWK1dONlW+fHk6dOgQ+fn5Wbpp1G9HBCCIdjTZGCoI2CqBPXv2kKenJ9WpU0cOoUOHDvJ19+7dtjok9NsKCeDRbVY4KegSCICAPgFeL7x9+zatW7dOXqhZsybdvHmTfH199QviDASSQAAWYhLg4VYQAIHkIeDg4EB58uQhfuXEr74Qw+SBb0etQBDtaLIxVBAAARAAAeMEIIjG2eAKCIAACICAHRGAINrRZGOoIAACIAACxglAEI2zwRUQAAEQAAE7IgBBtKPJxlBBAARAAASME4AgGmeDKyAAAiAAAnZEAIJoR5ONoYIACIAACBgnAEE0zgZXQAAEQAAE7IgABNGOJhtDBQEQAAEQME4Aj24zzgZX7IzA/fv36eHDh3Y2atsa7r1792SHL126RBEREbbVeTvrbaFChcjd3d2mRo2ff7Kp6UJnLUUgJCSEsmfPTvyKBAIgkHQCDRo0IN0fdU56jZavARai5RmjBRsg8Pz5cymGbm5uNGHCBBvosX12MSwsjG7cuEFFihRRn2tqnySse9T9+/cnxZq37p7q9w6CqM8DZ3ZOoE+fPvTNN9/YOQUMHwSSRmDp0qUUHh6etEpS4G4E1aQAdDQJAiAAAiBgfQQgiNY3J+gRCIAACIBAChCAIKYAdDQJAiAAAiBgfQQgiNY3J+gRCIAACIBAChCAIKYAdDQJAiAAAiBgfQQgiNY3J+gRCIAACIBAChCAIKYAdDQJAiAAAiBgfQQgiNY3J+gRCIAACIBAChCAIKYAdDQJAiAAAiBgfQQgiNY3J+gRCIAACIBAChCAIKYAdDQJAiAAAiBgfQTwLFPrmxP0yIoJBAUFySf4R0dHW3Ev0TUQsAyBXLlyUc2aNS1TuRXUCkG0gklAF2yHwIABA4gfXIwEAvZK4M6dO8TCqMUEQdTirGJMFiPAPz/Eafi8vy3WBioGAWsksO63seR39igp/w9YYx+T2icIYlIJ4n67I+Do5ERlan5od+PGgO2bwPVzx6QgapkCgmq0PLsYGwiAAAiAQIIJQBATjAoFQQAEQAAEtEwAgqjl2cXYQAAEQAAEEkwAgphgVCgIAiAAAiCgZQIQRC3PLsYGAiAAAiCQYAIQxASjQkEQAAEQAAEtE4Aganl2MTYQAAEQAIEEE4AgJhgVCoIACIAACGiZAARRy7OLsYEACIAACCSYAJ5Uk2BUKAgCRG/fvqXoqCjqUtkbOEDArgiEBAfJ8fL/A1pNEEStzizGZRECAwcOpJcvX1KUEEWk5CfA3J3Eo/OQUoZA6dKlKW/evCnTeDK0CkFMBshoQjsEypcvT1u3btXOgGxsJIMHDyb+8/aGhW5jU2cT3cUaok1MEzoJAiAQERFBS5YsoVWrVgEGCFiEAATRIlhRKQiAgLkJ8O9QPnnyhPr162fuqlEfCEgCEES8EUAABGyCAFuHSjp37pxyiFcQMBsBCKLZUKIiEAABSxIoXry4Wn14eLh6jAMQMBcBCKK5SKIeEAABixIYN26crL9v377EwU1IIGBuAhBEcxNFfSAAAiAAAjZJAIJok9OGToMACIAACJibAATR3ERRHwiAAAiAgE0SgCDa5LSh0yAAAiAAAuYmAEE0N1HUBwIgAAIgYJMEIIg2OW3oNAiAAAiAgLkJQBDNTRT1gQAIgAAI2CQBPNzbJqcNnU4pArt27aLOXbrg1y5SYAKio6NlqwsXLaL1GzakQA/su0n+2adq1arRqpUrydnZWZMwIIianFYMylIEFixYQHf9/alYxdqWagL1xkEg2ik1eXhmIle3NHGUwiVLELh4bA+tX7eOJowfTwUKFLBEEyleJwQxxacAHbA1Ao7i9/jGLNtta91Gf0EgSQTWzRxLa2eOSVId1n4z1hCtfYbQPxAAARAAgWQhAEFMFsxoBARAAARAwNoJQBCtfYbQPxAAARAAgWQhAEFMFsxoBARAAARAwNoJQBCtfYbQPxAAARAAgWQhAEFMFsxoBARAAARAwNoJQBCtfYbQPxAAARAAgWQhAEFMFsxoBARAAARAwNoJQBCtfYbQPxAAARAAgWQhgCfVJAtmNKIlAtFRUbRp/iQtDQljAYF4CWxeOCXeMrZeAIJo6zOI/icrgbx588r2Vk4bmqztojEQsAYCHh4e5O3tbQ1dsUgfIIgWwYpKtUrg+++/pzZt2hA/+R8p+Qk8ffqU+vbtSytWrEj+xtEiZcqUiTw9PTVLAoKo2anFwCxBwEk82Lt48eKWqBp1JoBAz5496dy5c/Ts2TOqWbNmAu5AERBIOAEE1SScFUqCAAikMIE5c+bIHgwbNiyFe4LmtUgAgqjFWcWYQECDBNgyVNKhQ4coIiJCOcUrCJiFAATRLBhRCQiAgKUJ5M+fnxo0aCCbmTx5MrH7GgkEzEkAgmhOmqgLBEDAYgTSpElDjRo1kvXXrVuXHB3x8WUx2HZaMd5RdjrxGDYI2CIBBwcH2W1E+dri7Fl/nyGI1j9H6CEIgEAMAhDEGEBwahYCEESzYEQlIAACyUFAsRCToy20YX8EIIj2N+cYMQjYLAFFEGEh2uwUWnXHIYhWPT3oHAiAgC4BCKIuDRybmwAE0dxEUR8IgIDFCEAQLYYWFQsCeHQb3gYgYCKBHj160OLFi7EPzkRu5igeGRkpq6lduza2XZgDqIl1RIlfeuHn+Q4ZMsTEO22jOATRNuYJvbQiAiyG4eHhVKl+CyvqlX10JSI8jJ7cv01ZcucXgoiN+ck960d3/EHLly+HICY3eLQHAtZKgDeEsxgOnLHBWruIfoGARQgM+qSMqFe7j8zDGqJF3jaoFARAAARAwNYIQBBtbcbQXxAAARAAAYsQgCBaBCsqBQEQAAEQsDUCEERbmzH0FwRAAARAwCIEIIgWwYpKQQAEQAAEbI0ABNHWZgz9tRsCIc8CKSLsjcXGGy32lAUHPqK30dEmtfHsyUO6dvYI8au1pPA3r+n6+eMGuxP40N9gPmc+D3oci3HYm1dG6zJakYUuvA4NodcvXySo9pfPn9KbVy8TVBaFDBOAIBrmglwQSDECF47upmGtKlLX6lmoQzkPmje6B/EHvjnTpvmT6KtaOeQft7Nv8/J4qz93aAd906Qoda+RjcZ+UVe+Dv20AvmdPRrvvZYusGLqELpyYn+sZvb/uZIGNi8VK//S8b00oFlJ6lYjK3Usn55W/Txc/WLg4upGi8b1oSsnD8S6L7kz5o7qTnPEX3wp9MUzGtKyPB3ftTm+orgeBwEIYhxwcAkEkpsAW4VT+7SggmWq0uIjQTRh7RE6e/B/tPqXEWbrysG/1tDamWOo2+hZtOJ0KLUbMJFmDutEV08fMtrGqT1/0fhuH1KxCrVo2pZztPLMK5r253nyypxd5DeigLs3jd5r6Qu3Lp+WQtCwXW+1KbZ6/7d6Ns0e2VXNUw5YPKb2/ZQKlq5MCw8GULcxs2n7qlm0e+MSWYQfD/d5vx9o/piexFa0tae71y/S953r0+N7t6y9q1bfPwii1U8ROmhPBPz9LlDuQiWpw6DJlMY9PeUtWpaqf9SWzh/eZRBDXG7L4MAAg/c8vONHH7bvQxXrf0LOLq5Ut2UXypq7AJ0/tNNg+aioSGmlVKjbXIpHroIlZLlcBYpTv2mryCV1Gvpn5Uy9e589fkBsUcYUSnbpPbh1VZYN8L8hy7x4+kS9l/NijomfTsNc+NVQWjdzLNVs3kGORbk+Rliwq34eQZXqfaJkqa/8hSBajKnLyBnk7uktx9/g8x5SQJVCJavWJ3adHv5nnZIV76vso3Bx85N0eOwxx8EVREVGEAvY6X3byP/a+ViCywLM9bCXICHuT7aAB39SlnhOXFK7xdtHFIibAB7dFjcfXAWBZCVQrGJtGrt8r9omi8CJf7dQvuLl1Tzdg3/XL5Qfvrr38PWxnT6gIuVqUOs+Y3SLy+NPe32nl3fz4kkpXHmNtOF3RqwXCoGr17qb3n184irEcMb2a+TqllZei4wIp+kD29HJ3X/KD+kHt69RvmLlqM/k5dKaZDfkzKFfULnaH0lR4JtCQ4Ll9coNWtKWxdPo1qVTNOH3I7I+/ufA1lW0fMpgmrfvvpqnHPAa6Mk9W8U4xypZ8pWtv2+EWJ8VwnR6/za9azcunKDCZavrCWiJKh/Q5gWTKex1qDqWKo1a0c5186lak8/17jd2MlC4YGs0a09n9v9D2XwLkt+5Y9S2/3hq9uUgeQu3+3P/z4QoRpKnT1YhiBcoR74iYr73yDZ5vXCCsMLvXD0nv6A8f/aE0nv5yMfUGWuT84fM3kKlqzekI9vXx1UM1xJAABZiAiChCAikBIFZw7tQzzq5KLUQm07DfjbYhZY9R1KBUpVoVPua6vUxHetIK9OQGKqFxAFbilx2ZNvq9HG3IVS2VmPdy+rx/ZtX5HHO/MXUPN0DRQw5b8vCKXLtbfq2KzRx/XGau/eetLTmj+2l3sKBLGk8MtC8/Q9orhC5srWa0Jrp70SarVVek+S+KWnflhVUo2k7SuXsomSpr+eEVeuUylmOV80UB+wG9vTJppulHj8V4p4xSw71nA+8Mucg/o1FvqakAqUq02WxLmnK+i1bfbN23aIfVh2gEfO3Ea9tKsE+C3/4WsxVZZq9+44U/F//uSrF78j2d48AZDf2MyHws/69TZP+OEkDp6+X15X+GHplLiyGSOYhAEE0D0fUAgJmJ8BCV6VRa7p383Kca4jtB06mAiUr0XdC2EZ3qEW+RUobFVDdTvJaWdXGn1GJynXp7+W/0glh1RlK7Obj5JHRx9Blvbz/rZkjLclM2X1lvltad/qk+zBpMbIQKumjjt/IQ+5DudpNKOjhXXnOljC7/9gVyCno0T26eGwP1fmkkzyP+c9d4V70zpKTlJ+Finnd0DkLnIN4Hq1u4ufTcmILV0neWXNKF6fi4lXy43pt2nmAamGy1ZlHuLyP79wkbxkyazN1F+uVnDh6+MmDO5QuvRe9EJYgJ/YE1G3RWebxef6SFSF2DCIZk/67IhkbRlMgAAJxE6j/2Vf05XczpDvxn5W/Ebs2jaUOg6fQ4/u36eFtP+o4ZJqxYnr5WXLlJ147Gzb3L7nWtnh8P73ryklGIQycjG1f4EAgRTRZwGJakjkLFJPWV9Cjd6LHdemKayqxjhkdHcXZMtURonDgz1XymN2lvoVLSZH/77LeC2814MAeU5KLa+pYWy0UK5AFXElKvSHBQUpWvK+8rqqb2HXK88LpTehLYkv56wb530UPj/pKrhOyZcqJg2J4TnQTs0NKPgIQxORjjZZAIF4Cty+fiRXIUbxSHXkfr8cZSyPbVKOqH7YWwSXtaeTnVY0Vk/nHdmwkXs/STcUq1ZYfyIqw6V4rXLaadEsaC7r5dXAH4bKtJW9xS+ehWjxKHUrQjHuGjEoWCYV8fxzjqKZYh2PriV2N7C6tbcQ65Nt4iwQH/ZiS2ALlwBbdxIEs7Pr18nkvrkqEqSnBKrweqpuCgwLIwyuTDJ7hdV1e82QrceGhxzJKN61wHSsprYenYBeonMrXVyHP9c5xYlkCEETL8kXtIGASgdtXztCvg9oTR1sqiSMd2cVXUKw/GUrftatBhcQ2jS+G/kTsPi1WuQ6NaGNcFP/dsIgW/dBHWm1KfYdFQEb+EhWk8Cl5yit/ULPVtvqXkbGs1EPb1tLZA9upYdt3a4S8nrX/P+tOuZ/PM+fMS97ZcitZcb6ygHDQzYbZ42REag0RZWsscb2BD/yNXTaYz8Ey/IVANwqUvySw69jRyUm9R7GIs+TKp+bFd3D0f3+oRfh+DiJi1yl/mWGRb9FjBHEEKwvhveuX5Jpl9H8/eswBVYf/Wavez25VY25stRAOzEoAUaZmxYnKQCBpBHiLxXaxf463DbClxMElvNm6WZeB5JMjT6zKeUN54TLVqN3Aieq1dt/+SGuEeK2YOlgKpHrhv4O2306gYa0ryfXGUtUayPpvisjOcasPxiyqnn8xdJq0IId/VkWsV1ak3MKNeUNYcHxf3U+/lH3lwp/1/V5ueB/SohxVqPexDEq5euogDZ271aR1vjotO9PEHk2JI095a4SxVFTsi1zyY39peWXwzmKsmF4+r82x+AxvXZlqfdyRrotoUL9zR/UiW/kGtlCz5SlE6TNmlvf3rpeXmFf3sXP06tM92bdludx2kbNgcdqzcakU9nIiaIitWN7askJEy3KbTwPuS08Au2U5mpQTb7UZIax7/uMvFgf/XkOwEHXpWv4Ygmh5xmgBBBJMgCMpxyzbLfcd8l413pPIYfu8dcFQatt/gqFs+vybcQbzOZNdhjO2+9GpvX/JiM56rbtT6RoNyTtrLqP3pE6TjkYu+IfuiChKfsrLrUunxXaENtT9+7nkW+j9k2Cy5y0soyz5YQJsHZWsWo86j5gutxdw5fxL95/2HkWOqd5/9PC6W4uvhuu1XbpGI/pMbKUoW+cjvfyYJyzM2USb/OAAFuaYifvWvOvgmNlyq8K5g2JLhmBcVgT19By/MFbkKW8d0d1yweL8Kp7HqH353UxpCfJ64BdiLZf3erJ1n8rRRX7hOCYCbPgLQmZhdfI83/W7KMWRO8hfeCZtOEFsdT/yvy7Wj2fKvZe8FSQh6ZPuQ+XcJqQsyhgm4CAWdI078w3fg1wQ0ByBe/dEMEjOnDR48GCaNGlSnONzc3OjUjUa08AZG+Ish4vJQ2DPxiW04/d5NH7NIbM1yILGvw7PXxzYhctp47wfiddB+QuEodS6iCMNmrmRKnzQ3NBlTeQxk7SOEXThwoU4x1OmTBkKDw+nixf112rjvMkKLmIN0QomAV0AARBIPIGazTrIJ8/w013MlfhZr2y1KmLI9fpkz0N1xD5JJO0SgCBqd24xMhCwCwIcCNP7xyXC/Ri31ZJQGOyi5KCXjzp/q3cLu0+dnN67evUuipNOw3+ByzImFBs7Nz67NjYQdBcEQMB+CeTIX5T4zxyJt1/wk25MTY079DX1FpS3MgKwEK1sQtAdEAABEACBlCEAQUwZ7mgVBEAABEDAyghAEK1sQtAdEAABEACBlCGANcSU4Y5WbZgA71TiwIuE/F6dDQ8TXQeBWAT4PZ82nWusfK1kQBC1MpMYR7IRYEE8Ix5X1qHs+wdBJ1vjaAgEUpiAZ5EiKdwDyzUPQbQcW9SsUQJLliyhPXv2aHR0GBYIxE2gVatWcRew4asQRBuePHQ9ZQi0adOG+A8JBEBAWwQQVKOt+cRoQAAEQAAEEkkAgphIcLgNBEAABEBAWwQgiNqaT4wGBEAABEAgkQQgiIkEh9tAAARAAAS0RQCCqK35xGhAAARAAAQSSQCCmEhwuA0EQAAEQEBbBCCI2ppPjAYEQAAEQCCRBCCIiQSH20AABEAABLRFABvztTWfGE0SCWzYsIEqVKiQxFpwOwjYN4EzZ85Q0aLm+X3K5CQJQUxO2mjLagmkSZOGHB0d6caNG6TlR1NZ7QSgY5ojkC5dOpsbEwTR5qYMHbYEAS8vLzpx4gTduXPHEtWjTjMRCA8Pp8ePH1OOHDnMVCOqsRQBW/S0OIgn97+1FBDUCwIgAALmJLB69Wo6cuQITZ8+3ZzVoi4QkAQgiHgjgAAI2AwBBwcH2Ve2FJ2dnW2m3+iobRBAlKltzBN6CQJ2T8Df319l8Pfff6vHOAABcxGAIJqLJOoBARCwKIFly5ap9eseq5k4AIEkEoDLNIkAcTsIgIDlCXCoQ4ECBWQUMLfm4uJCDx48oIwZM1q+cbRgNwRgIdrNVGOgIGC7BPbt26eKIY+C1xDXrFljuwNCz62SAATRKqcFnQIBENAlsHjxYuKAGl9fX8qQIQN5enrS0qVLdYvgGASSTACCmGSEqAAEQMCSBF6/fk38BKGaNWtKFykL42effUbHjx+nq1evWrJp1G1nBLCGaGcTjuGCgC0S8PPzo5CQEOrVq5d0nR46dIgCAwOpSpUqtjgc9NlKCeBJNVY6MegWCIDAewIcUMPJzc2NXF1dZYCNkve+FI5AIGkE4DJNGj/cDQIgkIwEONpU2ZyfjM2iKTshAEG0k4nGMEFACwQgiFqYResdAwTReucGPQMBEIhBIDo6GhZiDCY4NR8BCKL5WKImEAABCxOAhWhhwHZePQTRzt8AGD4I2BIBFkT+3UokELAEAbyzLEEVdYIACFiEACxEi2BFpf8RgCDirQACIGAzBCCINjNVNtlRCKJNThs6DQL2SQCCaJ/znlyjhiAmF2m0AwIgkGQCiDJNMkJUEAcBPKkmDji4BAK6BPjDGCllCSgWIuYiZeeBW9dicBOeZZry7yv0wAYILFy4kLp27WoDPUUXQcDyBFgMN23aRE2bNrV8Y8nYAizEZISNpmyXwB9//CE7n6N+B9sdhAZ6Hvb0Ib0Vlnpq7+waGI1tDiE67DU92LeeNm/eDEG0zSlEr0Eg6QRc3T2p7JBlSa8INYCADROIDn8jBdGGh2C06wiqMYoGF0AABEAABOyJAATRnmYbYwUBEAABEDBKAIJoFA0ugAAIgAAI2BMBCKI9zTbGCgIgAAIgYJQABNEoGlwAARAAARCwJwIQRHuabYwVBEAABEDAKAEIolE0uAACIAACIGBPBLAx355mG2O1agKvn9ylx8e30+uAO5SxRA3yLldP/Dq8+b6zvn0bTc/9Tsk2nFKnIZ/yDck9d1GjTB7u30DPLh8lzyKVKGuNlrHKBZ7ZTY+PbaNM5erLv1gFTMx4sHctBV89od7l4OhEqdKlF+1XJu+StUjAUK8l5SDw7B7JId+n3yalGvXe8OeB5OKR0Wj/npzaSS9uniNj7b24dZ7u7VxBRbtNUus09SDsWQAFndsrxnWaPPKVIu/SdcjVM7Op1dh9efP932b3KAEABBJPgIVnV4d8dPd/S4g/3E6Ob0NnJndOfIUG7ryyaCQd7F+TXt65RIGn/6W9PcvRwwPvnsBjoDg9PvE/ur52Cl1aMMzQZbq2cry8/vTiIYPXTc18fPwfuvP3fHp575r8C7lzkR4d2kKHB9WjEz+0JhZ0c6TgK8cE56XmqIqe3zhD/3YqFGffnl87GedG9tD7fnRj3bRE9yfE/zLtbJ+Hrq0YR5FvQunqsrHy/OXdK4mu015vhIVorzOPcVsVgYtzB1DmKs2owuj1sl85G3SkA9/UoHytBpBH3pJJ7uvrJ/fo+u+TqezQ5ZS9bhtZ34VZ39BlIXZZq7cwWn+6nIUpVAjUixtnpeWhFAx7+oieXTpErl5ZlCyzvKbNXoAqfr9Jry62VI+P/ZRyn9xJmco30LuW0idvBNfwkKdxdiP/50OI/yyVeA7Ziq469V/ZBH9x2NerghTGciNWW6pZTdYLQdTktGJQtkaA3WWpM2ZTu+3mk0seR7x8pubpHpz7pQeV/GaObpY8PvtTNyr17fxY+c5pPajiD5ulm1S5yG3E92HOzwx19fQRFs46PUHkc+8yH9CrBzeU6uQru2T9ty+mkDuXKZVwy3oWq0r5WvYnR2dXaf2xJVzi61/JyTUNCbOKLs0fQq4ZfChf64F69eiesGA7OKWS1hgLIn/gPxNWKT9P89Wj25S58keUpUpTPRchW00spGy9srs1S7XmxOKemBQiLGq24EIfXCc37xyUpfonlK3mp8RtKJbd6YkdKW/Lbyj8RRA9v35aulAfHthIORt8QU4uqemZsEqLfDlBNv8m8D75/7OIgs7vJ/dcRWJ94YmOjKCn5/fRw4ObiMtmqfYxZanclJzFowMNJS/BOH2BsuoldrNnLFmT2BJGMo0AXKam8UJpELAIAa9i1ShNljwU+folBRzZSqendKEMhSqQZ9EqBtt7Gx1FR0fq/9LAoYF1ycktncHyqdJ4UOZKTaSw8Frlnb8XSHdn3hb9DJbXzcxe+zN6sHedbhbd371GtTSVC8HCNbjv60pS6Hyb9iD3PCXoxu9T6PKiEbKIT4UP6ZEQiSuLv5PnNzfNoNt/zhaWsf44lPqU18cn/0dvoyIpnRAPTpcXDqfDQxrKPJ8KDaUo7e5anHgtj9Ojw3/Sni+Ly/VI7jvf/2/nIkIcD8rrpvwTFfaKmCvzzvNxH0qbowCdmtCOHgmxcknnqYpZxtK1ySV9pnciuf5naY3LNTwh+rxGGHD0L9ks13d4SAO6/+9qKaphwY+JLXXddGneIDr+fSshpG6UqWw98ls1QXgLqlN0ZLhuMfU4/2eDZTklg9t4uG+D/DKi5OE1YQRgISaME0qBQLIQuPPnHPJbM5EiXgZTyX6zpIAZapitQLYGjw5vQpUm/EUHB9Sm9PnLUPGePxsqrpd36scOFHzthLDMMkmR1Lto4CSrsIbO/9ZPdZty0M9z4ULNIly8fmLdSkmvA24TC2yxr6bKLLaiosSa1tMLB+S5W6YcwqqdLdZH28q+Xl4wlEr2nSUst0JKFdIiurJklDyPjgiTQT3PLh+RLsHMFT+k14/96cbaqVRuxCrKVqu1LJerYWfa2TE/3Vj/ExXuMo4uzu5Pvs17S0uUC7CVdmz0J9I9XO3nffKehP7z6uEtuaabX1iw7r7FicSYWJhZ7NhdzAFFNzf+SrkadSEOAuIU/vwJVZ9+gNLlKCjPr634Qb7yP/d2rSL+QlJ/9V1yTpuecjfpTudn9qXbW2bJMmwR3tr8G5X/bq1wZX8i83I27EQ7Ps8pv4TkrN9R5hn7h784nPqxvbSiC7Z990XEWFnkxyYAQYzNBDkgkGIEeM2Q3YccYHJ8TEspjGwBGEpSFKd1pW2feBF/UCZEDLmeatN2E4sNC8++3hWpzsKL6oe3oXbYpeldqrbqNr2/53fhwvuIUsWwRjkS1UeI1hMRjPPi9gUZyckRnS7pvdVqWcQeCQv41MQOlKNuW+IPe93EAvrsylGZ5SjcpCwq2Wu3luXYbRp0TgiaiDZlN6KSHIVLkvsTJNyMrwP8hWvzhrS+lOv8mk307fSkL6Slp5sf33G6XIWlpc6cvEvXpSxVm0kXra57O2YdzukyGOXJbkyvolWlGCr3ZRVjUQSRebGosTWrcOByqYR4clRvXIIYJX6W6eSEttKdXGXKTuJ+IJlGAC5T03ihNAhYlsB/Wwt8KjSS6168jhRXenH7IqX2yirdcnGV07sm2mARKdxlPDmmcqEA4WKML2Wv87kaKWnIXcr3s8t0R1tfOj21C3FkJa9t+RgIgpFbFER5dkPGTGmFAFaZuF3+VRr/l1gPnUe+zXq9W3MUhVnIeT2S+62b2FXMQsLXOaVK4657WYo3rz3ybymaktjqq/bTHio1YIGs49K8wbSzna9cAzRWj7O7l7FL0mLmLS+6SVe42GUuxybmiPkof1lrtqRMYs3WWGLXK7t2Q8T7ga1TD+GuRjKdAATRdGa4AwTMSoB/X47XuGKu0/E3fg7IMJZ4XclLrDGyhZc2W346PLi+saJyDWun2NYR+SpELfM2KkJ+4Dq5uql5xg44kITdh9zHV8I1yoIdM11dOkqsqZWg+itvU9nhK6WQOTgKJ5RYR1MS78m7tWmmDPxhsb+3Y7lyKUGvHIXKVmTMLQUswHzNzSenFHsWZ93E52my+AqxcdbNjveY3cO89YOt2XIj11DD9QHCSmwutji8d4PGW4lOgbTCPfz8+hk9JrxHUUnpsuenaDEvvsKVWqz7FPWPrUr3PMJlayBxYNShb2sLl60j1ZhxWHIwUAxZCSAAQUwAJBQBAUsSYGuNXXP8IcvbGThxhOTjo39T7sbdDDZ98NtaUgyL9fxJXi/Vf674IMxPR4bFFiou4Fm4EkWID84ri0eK4IwIKSoX5wwgtlZ4jTC+5CKsHl4vOz/ja7lNg620mEnWK0ScXZucAk/vEmtmK4mFnRN/cJ+e3EkEp3wtxtWVCn0xRqyf9ZGRorJAAv7xKl5NBrLwmuaboAdyrey2WHcNFJvS2Z3I0au5xJrhdbEOyxGvnHjP5e2tc4y6G+/uWCZFz1DzHDXKbkieD05sMbIVmiZrPnkuo2XFEQfOKOOUF4z8w8LK/b62cpz8MsJ7Lv3WTFJLZxQRsfywhHOCM5fjxNG0J8S2E96faihdmjuQ2EIs9MVY4j2NvObKf7xHEsk0AlhDNI0XSoOARQiUElsozk3vKVyOueR6kaOTMxXv/UusSE6l8ex12hBHcuqmkv1m062NM3Sz1GNex6sw5g/RRi+xLcJbuhfT5y9NlSdsk9se1IJxHHDEJkdLsvvUUCrYbqTYL9iS/mnpI4TJTVprhTv/IKNCOUiIt4pwfhHhquWUv9VAITR/iLW9jlRVrGsmJLEg8Th4u8bOdnlEVG1aeisEvrQIMmLB5lS0+2S6uvx7GZnplDodRQhRYxEu2P5ddGvMdjgYhy1sXh+MmXg7Q+FO3wtRbCfcsD2F6L2SXzwqjn3nyuZAprTZ8tHer8pQiT4zY94e65y/tHDAzOnJX8ggII7+5cCaq0tHy7L8ZYLrviQCjtg16ywiWXmzPW/L4ScLxUws2P7bl0iLM6aHgIOV6i7G5vyYzOI6d3grUlwFcA0EQICoSZMmtGv/YWq48alFcfAHHEcp8ge0YmmZtUHxv/urR7fkOhzvMYwryTB/UV6xBnkNjt27vB1AeYwan5MQKcUVyVYi79dji1LZdhAV/lq6MbmsgxB6pSy3Ldf9xHYCrpNdhSTW+NhiTkjibRZsGbEgKX3UvY9dqzxWN5/cemuK3Cb/Ke1wxO2dv+YTW9nGEvc99OFNsbcyLaUWblndR+pxXWy9uYioXc7XrZvrYyZicGp7Mk9YmVxf2qx5yUG4cSVX3pupk/i9wPUaGx8XVeZE5zb1kPuijFHNNMMB93VrYzf68ssvacGCBWao0XqqgIVoPXOBnoCA3NCtBJ1YBIcI1kgjPoQTkmIGrvAHrOIiVO6P+YHLYsebzdUk2lPuUV7Va+KARd/pPxdrzPZ0yxk6ZqtXN4I1ZhknIV5yq0SMC9ym7pcNdrmyCzeuxOM09txXrkv3y4Vu3Vznuy8A+muXLOC6nAyx4fdBfO8FQ3MS1zhwLW4CEMS4+eAqCICAxgnwfk9TxVjjSOx2eAiqsdupx8BBAASYAMQQ7wOFAARRIYFXEAABEAABuyYAQbTr6cfgQQAEQAAEFAIQRIUEXkEABEAABOyaAATRrqcfgwcBEAABEFAIQBAVEngFARAAARCwawIQRLuefgweBEAABEBAIYB9iAoJvIJAHAT4gU5hIc/on48N/2p5HLfiEghoikDUf78oosWHnEEQNfVWxWAsRWD48OHiiSriwc4m/nyQpfpjr/Uyfwfx9Bv+Q0o5As7OztSvX7+U64CFWsazTC0EFtWCAAiYn8CKFSsoW7ZsVLduXfNXjhrtngAsRLt/CwAACNgOgaVLl1LWrFkhiLYzZTbVU1iINjVd6CwI2C8Bf39/yp07twTw4sULcnd3t18YGLlFCCDK1CJYUSkIgIC5CSxbtkytcu3ateoxDkDAXAQgiOYiiXpAAAQsRoAjGnUFkV2nSCBgbgIQRHMTRX0gAAJmJ3Dw4EHy8/NT6z1w4ABdv35dPccBCJiDAATRHBRRBwiAgEUJsEWou9WCLUZYiRZFbpeVI6jGLqcdgwYB2yHw6tUrGVlavHhxun//PmXOnJmCgoIoMjKSbt68SY6O+F5vO7Np3T3FO8m65we9AwG7JxAaGkpt27alXr16SRFkgezbty+1aNGC+BgJBMxFABaiuUiiHhAAAYsTyJs3r7QWeU0RCQTMTQAWormJoj4QAAEQAAGbJABBtMlpQ6dBAARAAATMTQCCaG6iqA8EQAAEQMAmCUAQbXLa0GkQAAEQAAFzE4Agmpso6gMBEAABELBJAhBEm5w2dBoEQAAEQMDcBCCI5iaK+kAABEAABGySAATRJqcNnQYBEAABEDA3AQiiuYmiPhAAARAAAZskAEG0yWlDp0EABEAABMxNIJW5K0R9IGCLBPjX2CdOnEhv3ryxxe7bTZ8DAwOJn23apUsXuxmzLQ7Uw8ODRowYQZkyZbKp7kMQbWq60FlLEZgzZw7Nnj3bUtWjXjMSCAkJocWLF5uxRlRlCQL58uWjPn36WKJqi9UJQbQYWlRsSwSU39q7evUq+fr62lLX0VcQsCoChw8fptq1a+v9fqVVdTCOzkAQ44CDS/ZHwMXFhfgPCQRAIHEEbPn/HwTVJG7OcRcIgAAIgIDGCEAQNTahGA4IgAAIgEDiCEAQE8cNd4EACIAACGiMAARRYxOK4YAACIAACCSOAAQxcdxwFwiAAAiAgMYIQBA1NqEYDgiAAAiAQOIIQBATxw13gQAIgAAIaIwABFFjE4rhgAAIgAAIJI4ABDFx3HAXCIAACICAxghAEDU2oRgOCIAACIBA4ghAEBPHDXeBAAiAAAhojACeZaqxCcVwLEfg7du3NGrUKNq1a5flGkHNIGClBPgB+GPHjqV69epZaQ+T3i0IYtIZogY7IRAcHEzjxo2To82cM6+djBrDBIF3BALu3qRJkyZBEPGGAAEQeE+gUbve9OV3M99n4AgE7IBAt+pZND9KrCFqfooxQBAAARAAgYQQgCAmhBLKgAAIgAAIaJ4ABFHzU4wBggAIgAAIJIQABDEhlFAGBEAABEBA8wQgiJqfYgwQBEAABEAgIQQgiAmhhDIgAAIgAAKaJwBB1PwUY4AgAAIgAAIJIQBBTAgllAEBEAABENA8AQii5qcYAwQBEAABEEgIATy6LSGUUAYEdAgc/Pt3KlS2mk4ODkFA+wSCAwPEIEtoeqAQRE1PLwZnTgKpU6cmFxcXCnkWSNMHtDVn1agLBGyCgLu7u030M7GdhCAmlhzuszsCbm5udPr0abp586bdjd1aBnz9+nXKnz+/tXTHrvrBv3ZRtWpVTY8Zgqjp6cXgzE2gaNGixH9IyU+Av4h8//33dOzYseRvHC3aBQEE1djFNGOQIGD7BLp27UrHjx+nvXv32v5gMAKrJABBtMppQadAAAR0CURHR9Pu3btlFv8mHxIIWIIABNESVFEnCICAWQnoWoXbtm2jqKgos9aPykCACUAQ8T4AARCwegI1a9akZs2ayX6uX7+enJycrL7P6KDtEYAg2t6coccgYHcEWAArVKggx12sWDG7Gz8GnDwEIIjJwxmtgAAIgAAIWDkBCKKVTxC6BwIgAAIgkDwEIIjJwxmtgAAIgAAIWDkBCKKVTxC6BwIgAAIgkDwEIIjJwxmtgAAIgAAIWDkBCKKVTxC6BwIgAAIgkDwE8CzT5OGMVjRC4Ny5c3Tjxg2NjMa2hnHp0iXZ4Z07d9Lly5dtq/Ma6W2NGjXI29tbI6OJPQwIYmwmyAEBgwRevXpF5cqVo8jISIPXkZk8BPr06ZM8DaGVWASaN29OmzZtipWvlQwIolZmEuOwOIGwsDAphp6ZslKX72ZYvD00oE8gKjKCggLuk092X/0LOEsWAtP6fkqhoaHJ0lZKNQJBTCnyaNdmCVRq0IIqN2hps/1Hx0EgMQQyeGdOzG02dQ+CamxqutBZEAABEAABSxGAIFqKLOoFARAAARCwKQIQRJuaLnQWBEAABEDAUgQgiJYii3pBAARAAARsigAE0aamC50FARAAARCwFAEIoqXIol4QAAEQAAGbIgBBtKnpQmdBAARAAAQsRQCCaCmyqBcEQAAEQMCmCEAQbWq60FkQAAEQAAFLEcCTaixFFvVqlsA/K3+jk7v/1Oz4MDAQMEQgODBAZJcwdEkzeRBEzUwlBmJpAhkyZKBRo0bR7t27Ld0U6jdCIDg4mFxcXChNmjRGSiDbUgSK5PeloUOHWqp6q6gXgmgV04BO2AIBBwcHGjt2rPyzhf5qsY8dO3YkHx8fmjp1qhaHhzGlMAGsIabwBKB5EACBhBEICQmh5cuX07Rp0ygi7Po8XgAAQABJREFUIiJhN6EUCJhAAIJoAiwUBQEQSDkC69evVxvftm2beowDEDAXAQiiuUiiHhAAAYsSuHbtmlr/lStX1GMcgIC5CEAQzUUS9YAACFiUwI8//kj58uWjcuXK0eDBgy3aFiq3TwIQRPucd4waBGySgKOjI/EfEghYggDeWZagijpBAAQsQoAjfZFAwFIEIIiWIot6QQAEzE6ABfHt27dmrxcVggATgCDifQACIGAzBCCINjNVNtlRCKJNThs6DQL2SQCCaJ/znlyjhiAmF2m0AwIgYBYCcJmaBSMqMUAAj24zAAVZIGCMQHh4OG3ZsoX4qSlIyU/g+fPnFBoaSosXL07+xtGifIbsxx9/TK6urpqkAUHU5LRiUJYisG7dOmrfvr2lqke9CSTQpUuXBJZEMXMTmDt3LnXv3t3c1VpFfRBEq5gGdMJWCLCFyOnj7kOpZJV6ttJtzfTz1cvn5ODgSG5p3TUzJlsZyLUzh2nN9O80/RxZCKKtvBvRT6siUKLyB1SiygdW1Sd0BgQsScDVLY0UREu2kdJ1I6gmpWcA7YMACIAACFgFAQiiVUwDOgECIAACIJDSBCCIKT0DaB8EQAAEQMAqCEAQrWIa0AkQAAEQAIGUJgBBTOkZQPsgAAIgAAJWQQCCaBXTgE7YM4HgwEe0/8+VtGn+JLpy6qDZUfCTXe5cPUdbl/xMO9fOo8f3biWojdcvX9CpPX/R8smDaOnEb+nE7j/pVcjzBN1ryUI8nmWTBtLTgPuymbfR0XTz0inasmgq/bthEQU9uherec7bu2mZLHPjwgmKjoqKVUbJ2PH7XLp29ohyKo//WvqLep6SB5vmTZRzGV8feHy//zqKwt+8jq8orusQgCDqwMAhCCQ3gVuXT1Ovur60dfFP8oNuQrcPacH3vc3ajQ2zx9HQTyvQ5RP76OBfa6j/R8Xo9L5tcbZx5sB26in6tXBcH3rx9Ak9D3pMc0Z2pb6NCtHD2+9/uT7OSix0ce/mZfTI/zp5Zc4uW1g2eSCNbFONrp87Rv+uX0j9mxQVY92vts5fMnrWzU3bVswgFsPR7WsZZXzo799p3uge5HfmvSDmK16edogvElx/Sqc/5k6gO1fOxtkN/sKweEI/Wj/rB4oID4uzLC7qE8A+RH0eOAOBZCWw9MdvqWTV+jR0zp+y3QtHd9PYL+pSw7a9KGf+YknuC1uf/MHYY9x8qv3xF7I+FtylkwZQmZofGqz/3o3LNKlnM6r76ZfUbfQstUzYm1dSeH76pjVN2nCSHJ2c1GvJdcB9WDVtmMqLxZmtt8G/baLydZvJbkwf0JZWThtK41a/s7Y3iPGXqFyXvlu0Q14/uuMPmtqnJbXoMZy8s+ZSux708C4tGt+XXN3Sqnl84OSUij7uNoSW/NhfrVOvgBWdMI+5o77Ss3CtqHtW3xVYiFY/Reiglgl88tUw6jhkqjrE7HkLy+PgJ4/UPN0DdhVGCxdhzLR5wWR6cv9OzGxydnGlvpOXU42P2qrXuA1j9XOhbct/JXdPb+oy8lf1Hj5wTZ2Guo+ZQ0Ur1iZ+YgynqMgIOn94Fy0a15dmDe9CR/63gV6Hvn/O6x9zxhM/4YTdkNP6taI533WjmxdPynsf3LoqrbGQ4CB5rvyzZeEUOrJ9vXKq97p/y0pyS+dBeYuVk/lpPTzpm2mrVTHkTDk+8UVASVx/jnxFlVP1+Nnjh2oeu11nDutEjdr2pvQZfdR85aBS/RbSLZtQl7a/3wVa+dMwaZHOHvElzRz6BR3+Zx1xO0pilzS7sWcM7iC/gCyfMpiePX6gXJa/+8g8fxvWWf4lxEKd8nULSuOeXs65WhEOEkwAgphgVCgIAuYnUKpaA8qWp5B0bV08tkcKRq4CxalwueoGG3P3zEjDWlXUE8U1v4yk47s2U6bsuWPdw4JRtfFn5JTKmUKeBdKBv1bTZiE4Ddr0iFVWyTh/5F8qUKqStIyUPOWV8zsP/4XSpfeSWfxhzUKXytmFfHLkocXj+9GodjWkUHIB/kCfMaQjsSuycNlqFHD3prQy2RrLlN1XCh8LhZLYPbvq5xGULkNGJUvv9dC236nCB83VPA+vTHJ8nMHWMK8Tbls5kxp8/n58H7TqSvu2rKDtq2bRmf3/SHcpC2reYmXVev5c8hOFvQ6lT4TVaCjxo+LYyuRxJCQFPvCnbct+pcm9PyavLDmkJcrCyI8+48RrfKM71hYu7NWUv2RFOd+n9/5NozvUVtc3+UvOzMEdKXWadOSdLRdN7fdpvGuCQ2ZvkdYyc0EynQBcpqYzwx0gYHYCvL7FwhYVFUk9fpgvBcZQI590Hyazh35aniauP0GrfxlBl47vpfGrDxkqrpc3qVdzuQ7GH9A1mrbTu6Z7EvzkIVVp+KlulsFjDjzhYKDxaw5RwdJVZJk6LTpTn4YF6MDW1VTr444yz12I2+il/8pjFqpOlbzo7MH/SZdsdWG5ch2KgLHgZRT9K1ahVqw2WUSunT5M1Rp/HusaZ4zt9AGx1ZnVtyBVrP+JWqayGMvR//0h10NdXFJLVy+7qPlLAqfbYk3ujzkT6Me1Rwx+CVAq4nqZdUITu3e/+em99Zq3aFma9k0ratyxH4WHvSZPn2zUffRsypg1p6yyQKnKQhBrUVDAPfIQFvq638aKLx/TqV7rbvI6u7hHfPaOs7E+ZM6Z19gl5CeAACzEBEBCERCwNIEm4kNyxelQ6v3jEpo/tpd0Wxprk0WxSqNW9FWt7AkWQ65r7PI9NP/gIypdvSEN/qSstNYMtcFraNHRxqMwlXvOHfiftHwUMeR8FrNCZarSBWFlKomf+6okZ9fUlN7Lh968eimz6rTsTFdF0MuT+7flObtEWUgdHGN/ND0PCiAWGW7DUJq66QzN3XuPWHgGfVxGBAIFyC8Y37WtLsQvFc3adYuWHH9GbfqPp+871aMrJw9QRNgbmjGoPbUVeSx4cSXvLDkTHKHL9TDHcrU/UqssV+cjchD/XT9/jDJly03D5myV42ELedXPw2VUKBfmPnFUMEeIlqvdRL2/oBBMJZBIzcSBWQnEfteZtXpUBgIgkBACbK1wkErNZu3lh6iuG9HQ/Rz16SysHV6Hio6MNFQkVh63wdZa5xHTpeCc+HdLrDKckbNAMfK/dt7gNRay32eMpicP7lB4+BtK65EhVrm07hnELyK8j250cn5niakFHRzUwzxFylDuwqVo/9ZV9PCOH/kJsVCCf9RC/x2EC6HgZMydyuPL4J1Frn2ycJ4W7tFbl07T/ZtXqN3ASVK82bX7Yfs+0iW8Z9NS2rV+AT0QgShXxTonu3b5j922bLXyVhPdlE64q5U+6OYbO2Y2usLO/Usl1nTDXoVSZES4dKd+27SEjDCOioigivU+Vqt6JeaVU+oYv+rB84dkOQIQRMuxRc0gECcBtgR4PZD39+kmByEYcUVwcmDNjfPHpcVTq3lHGtSynFFR5O0Tgz4pIy0R3Tb42Fgb5es0lYEyhrZX8Docb+PgYJrMOfLSozvX5dqbbt23r56lLLny62bFeVy3ZRc6vG0tHRRuVnaV8lqkocRuRE6hL56plzn4ZljrSuq6m3pBHDiKn4li4eHk6KgfEcvrcmyBcbANCyRbrcofc+E1w5jiE/r8mXRlygoT8M/zwAB6+fypWpJ58jpl9nxF6JAY7ymxZvjzXxdp/O+HqcPgKfKLARfmbRNZcxeQ97GlqCR+v/AaLJLlCEAQLccWNYNAnATYfcjRnOtmjlUjMzmwhgWy9iedDN67Yupg6XL7YdUBeb1518HCoupIQ8SaoiFLMU+R0lK0/pg9Xpbndbi1wsJLJayVyg1aGmyjXuvu8kN7wldNZF/4g/iZWFfkBwewdfjRF/2l4FVu2JJ4DCumDpXCwx/kvDme3Z9VP2xtsG5DmbyOyFbc/9bMIV6DNJY4upQDcbiskvII9+jty2do69KfZRYL9WoOyhFBP+yi5D2ELLC8Psvj4HTu0A7iwCEONiouAmU4ylf3j+/lLRwteoyQ5ZV/uF22Zjmx0PFDDhRXr1JG95XXg3lzPL+yxbpCbAXxFffnKlhCdRm7uLrJW1jkV4moVE7cT14LZNczzxU/DIGjU9fOHKPeJwviH7MTQFCN2ZGiQhBIOIGvvp9Hv3z7OXWrloU8RLg/u+s+7TnSqCCmEe7I71fs02ugaecBwqLxEMEY92NFmqbPmFkGdswZ2U0+xYUFgz/wB83cKIM69Cr678QltRuNXLBdRrxOFoE4jmIfHq8pphZrYs26DKRWX4+WJTmCleuZP7YndRX9Z3cku1T7//y7/NA3VLehPLbEWIDYmq3UoIWhImpe2VqN6fLxfdS4Q1+Zx8Lx9cSlMnKU9yOyBZYxcw4aKqItuX+cBkxfR7PFQwU4mIetQBazdgN+JLaETUmXxIMNeFsGJ37yDe/34/2PLNLGUqCIpu1eI5v8wsDjHLlwu/iBYwcZGPS32N7CD0nwEffzU3eYK4vu3esXyVd8kWGO/KCGr2rlkJGmHFRjzHo21j7yTSMAQTSNF0qDgFkJcIAIW3u8Jsfrgrx+x/v9jKUWXw03eEmJRDR0kQM75uzxFx+0l+S+xGwieER3bcvQPbwXb8iszXKN8qF4Kgy7HHl/H+9r1E1FK9Skn7acl+t/b4QY5chbhFhQlcSb4WPeM2n9cXIRPzarm3r/uFhuPYm5KV63DB/Xa9WNRoogGV47ZYuRU7Umn0shZSFhVyi7a1l0lMRbLCb/cUoGxLAY8gMPdPuolFNeJ647Fqt/vKbKW0VqNG0ri+XIX5Qatest9/wp9xl6Hfjr+nfrrcI9y65S3uTPidcXFW4s4uy65T6xtcxfLDjxe2OKCBS6f+sKsSXJ4s97KvmLSXyJA50WiAAq3pOIlHACEMSEs0JJELAYAY465D9LJQ7oYHedqUlughduybgSiyvvpTSUYq7DcRl2E8dMLITxiSHfw5ZTqeoNaPcfi+X2BaUeFhEO0DGWWCBZUPgvvmSof9tWzJTtKVYnryfe9btIHQZNia86o+upvFapPIhBqSQmLy6j+8SimNeV+2K+Mg/2DiCZRgBriKbxQmkQAIEUJsAPBti+enayrafxc1N5awg/6k1JvPF92NytcVqaSlm82g4BWIi2M1foKQiAgCDAzx8dueAfg5GllgDEEaejluyM5cqOy6Ll9b41FyNUF6kl+oU6zU8Agmh+pqgRBEDAwgTiCmQxd9OJcT2yi1ZZLzR3f1Cf5QjAZWo5tqgZBEAABEDAhghAEG1ostBVEAABEAAByxGAIFqOLWoGARAAARCwIQJYQ7ShyUJXrYcA/zTPrUunrKdD6AkIWJgA/66l1hMEUeszjPGZlUCePO+es8mP/+I/JBCwNwK+vr6aHTIEUbNTi4FZgkDt2rXJz8+PXr16ZYnqUScIWDWB1KlTU8GCcf9MllUPIJ7OQRDjAYTLIBCTQP78+WNm4RwEQEADBBBUo4FJxBBAAARAAASSTgCCmHSGqAEEQAAEQEADBCCIGphEDAEEQAAEQCDpBCCISWeIGkAABEAABDRAAIKogUnEEEAABEAABJJOAIKYdIaoAQRAAARAQAMEIIgamEQMAQRAAARAIOkEsA8x6QxRg4YIBAQEkJubm4ZGhKGAQPIS4P+HbDVBEG115tBvsxJ4+/atrK9y5cpmrReVgYC9ElD+n7Kl8UMQbWm20FeLEfj666+Jf9T1zZs3FmsDFZuHAD82L02aNOapDLVYhIC7uzu1a9fOInVbslIHoeLvvhpbshXUDQIgAAJmIHDx4kWaN28eTZ8+3Qy1oQoQ0CcAQdTngTMQAAErJtC5c2dasmQJvX79mvhB00ggYE4CiDI1J03UBQIgYDECUVFRUgy5gfXr11usHVRsvwQgiPY79xg5CNgUgZ07d6r9XbRokXqMAxAwFwEIorlIoh4QAAGLEli2bJla/+7du+nBgwfqOQ5AwBwEIIjmoIg6QAAELErgxYsXtHHjRr02dAVS7wJOQCCRBCCIiQSH20AABJKPwNq1a2UgjbLdwsPDQ64nIkg++ebAHlqCINrDLGOMIGDjBNga5L1tTZs2lSPp0KEDXb16lQ4dOmTjI0P3rYkANuZb02ygLyAAAgYJ9O7dmx49ekT79u2T13n7hY+PD+XNm9dgeWSCQGIIYB9iYqjhHhAAgRQhwMI4a9YsCg4OpvTp06dIH9CodgnAZarducXIQEBzBPjxepyio6M1NzYMKOUJQBBTfg7QAxAAgQQSUAQRwTQJBIZiJhGAIJqEC4VBAARSkoCj47uPLAhiSs6CdtuGIGp3bjEyENAcAViImptSqxoQBNGqpgOdAQEQiIsABDEuOriWVAIQxKQSxP0gAALJRgCCmGyo7bIhCKJdTjsGDQK2SUARRESZ2ub8WXuvIYjWPkPoHwiAgEpAEUQE1ahIcGBGAhBEM8JEVSAAApYlgChTy/K199ohiPb+DsD4QcCGCMBCtKHJssGu4lmmNjhp6HLyE3j58iV1796dbt++nfyNo0WVgL+/vzxu3rw5ubi4qPk4SH4CjRs3ppEjRyZ/wxZsEc8ytSBcVK0dAlu3blV/aSFt1rzaGZiNjSQ6MpwiX70gFw9vG+u5trob+vCmHFBYWJimvpjAQtTW+xSjsTCBciNWU/Y6n1u4FVQPAtZN4MzULuT/z2Lr7mQieoc1xERAwy0gAAIgAALaIwBB1N6cYkQgAAIgAAKJIABBTAQ03AICIAACIKA9AhBE7c0pRgQCIAACIJAIAhDEREDDLSAAAiAAAtojAEHU3pxiRCAAAiAAAokgAEFMBDTcAgIgAAIgoD0C2IeovTnFiGyYwOuAO/T8xllKmz0/uecqQuTgYNbRvI2KpBe3ztObwPuUoVAFcvXMbLT+iNDnFHRmN5GjE2Wp0jRWubdvoyng8J/k6OxKPhUaxbpuakZEyDMKOrf3/W1i7E6p05KbTy5Kl6Pg+/wkHjGDgCNbyatkTXJx90pibf/d/vat0bnihwk8Pvp3nO09Pv4PpctZmNJk8U10f8KfP6HnfqfJ0cWV0ucvS6nSuCe6Lnu9EYJorzOPcVsdgXO/9ib/bQvFh1lpCn1wQwpW+e/WUiq3dGbpa/iLIDr4TQ0KEx+c/LQdFsYiXSZQ3pbfGKz/1aNbdGz0J/JarbmnKX2+0nrlnp7fT8dGfSxFteG6R3rXEnMS+uC6bM85XQZycHr30RQV9pqi3oSSV/FqVHHsRnJJnykxVevdExX2SrZTffoB8ipWTe9aYk6uLh1Nqb2zU+4m3Q3eHhn6It72Tk/uRIU7fW+0DoMV62ReWzmeri4bQx6+xSlS8HoTeI/KDltBWau30CmFw/gIQBDjI4TrIJAMBAJP/0t3/pxD1X89RJ5FKhELwb9ditD1NROpcOdxZunBlcXfEVt1DVbfFVZEamGN7aOD39aijKVqCREuY7QNV68s9GDvuliCeH/3GnJOm97ofYm9UGXyDspQsLx6e5AQ3uNCeC/NH0qlBy5U863lgJ/Ykv+zwUa7wwJfe56w+rPlM1omKRdeCI/ClSXfUeUJf6uW+pXFI+nstG7kU76htLKTUr893QtBtKfZxlitloCjswsV6TZRiiF30snVjTKWqCHdp+bqtEfekpS58kdSDLlOrp/beXHzXJyCmK3mp/Rw33phTY5Xu8Juxwf7NlDWGi0oQLgDddPTCwco+NpJYouUXb/ZaraS7bx+7E8Bx7ZRpjIfyHy+J/S+Hz0RXwayiXqMJe5nlmofEwujkiJfv6SnFw9S8JVj0tXoXbq2nvXI/Qu+dkKKvrNwi3qXrpMkQeK2g87ukZYrf3nIVL6B8GY7ii8Ka4VF9q4vabLmkYJ05+8FlLlSY3qwZy2lzphNMG9CTy8dJtcMPqo4vRLPAmUWbyMjKFutVsqw1Fe2Yp9eOEjPLh8hd2H1cf9ZWA2ll/euUqZy9VUx5DI5G3YmthpD/C/rfbkwdD/y3hNAUM17FjgCgRQj4FW8OuVvPUht/+nFQ/To0BbKUrWZmqd7cHvrXDrQL7a779K8QXTih890i6rHvk17yA9qzmDBuLZqglj3ciRvIVBxJRY0duGyJaKkJ6d2igdsZ4wlpOem95Ju1GC/k8TroRdn9acD31SXlimLw93tS+jkhLay/ejwN3R8TEt6LIQhvod1c/su6d890JuFdneXonReuJjfPH1EN9ZNpf99lkOKH/ePreCjI5vS0REf0cu7V+jRwY2y/I21U5Xum/TKAndM1Pfy3jXJgft/fkYfWQev90ZHhBO7l0PuXJICd+6XHnRcuJpvbppBV5aOktY+54U+vCHv4fH++2UxuY7Jon1wQB3xwPIQtU/hzwOFd6AonZveU47Pb/WPtLN9HvHl4bpaRvcgW63WVGXidt0sCjy9S4p3uhyF9PJxEjcBWIhx88FVEEhWAtERYbSjbW4KexYgA1lyNvjCYPu+H31Fb57co/19qlCNGYdlmYuzv6Xg66eo2rQ9Bu9RMh8d3ESnJnaQa02l+s8lt0w5lEsGX9llym7VB/vWkUe+UrIMu0tjPuScg2I4WKXMkGWq8Cpu2ZBbF4gt1LJDl9PeHmXo5h/TZWBPxMtn79ygOsFDzy4fJa6LE4vQkxPbZbBN2eErZd6VJaOkpVVn4QWh504y78zUL4nXYOvMP0fct0BhzX2w5KoMyOEC7NY892svyl6vHaUSgTqmpHs7l5Nvs15U5EvxBUKkrMJafXhgIyuvtJrv7VhOOT5oT3k+/ppY5Dm5ZfalmrNOSHGOePFU5vE/LNZnpnWVX354zZATi9ehQfXkMf9zbcUPct249twz6lrqqQnthMt4CFUYs0EtZ+yAre7Li0bINhBYY4yS4XwIomEuyAWBFCPAa2jsKvMTFtyx75pT5R+3GexL4c4/yPz9X1cmz6KVhXv1TLxiyDdkEGuU1X7ZTw92/y6tLGEmUu7GXQ22oWRmr/0Z3Vj/k1zP5A99FtUavx2TYqWUcXb3pPqr/eltdBSxS/D59dPCrXlIXmYXJyd2oRbr+TNd+K2fsBIjqMrkd5amvPjfPxfnDpTuSD518fASkZd5iIOLFNcir2fmbzVAFUMul+tD/vWFRfRSiAG7d32EC5GjU5WU44O2UhDZOmMXsCkpQ+GKQsB/IRbvzJWaSPclu57jSuwy5cRuVd308u5VehP0gLLXbq1ms4XOQTlKur/nd+mSfSy+CCgptfjScnPDL8QRq46pXJTsWK/sIj0ypIEMyCrUcXSs68iImwAEMW4+uAoCyUqAtzB45Ckh/9iNeHxMC+kqYyExlFgUA45uJX/h1mu85YWhIrHyUntlJf7jqFFe17u9+bd4BZGjFc/P+FquN7LYpREBIrwVgq033cSiyRYOu2Q5MIatwpiJLSwWRN7ykb5A2ZiXqboQa92gmpgFIkKeUmqfnHrZbt7vrNyIl8Fi7fIpuecuqnedubqKCFW+bmoq2nWiXAtkIb6zdZ7c1sDu7UIdx7DiGayO3cOGUnjwY5nt6plF77KueLN34JlYcwwV1rFuSl+gjHS/GhPEQLFF5sTYTylThYZUZtBiuR1G934cx08Aghg/I5QAAYsTYJde2LNHVKDNMLUtt/8+9CNCjX+IsxswlYj0zCcspn29K1DN346LfYP6VomsULj32KWYrWZLvTVDFpanl95ZcWrDBg54/Y4tGRYFdsnlqNMmVin+EL84ZwCVGbxEuBDbSXcfW0Q3N/6qV/bsz92FUJaQ4nRxdn8q9e18vevxnbDYxFxP4y0bnNj9mzpjVrHWp7/exmt0LDTxuYcNtR0e/IRyf9iV8rXsL9b0HtLtLbPp6vLvyUdYi57CejSYjAnlf8LNP7CrrIny/fzFREnsos4lgmIKtB2uZBHvCeVAG2NRvQFH/5Lrsfk+/fZd8JOR9tUKcWCQgIH/cwyWQyYIgIAFCbD7kD9kWWyUxB+87C70yPtu3U7JV145sIMFh9cMC30xljJXaUb7vq5EFB2tFHn/Kj4gWSQuLxop1774An/I3t+1SgTuNH9fLo4jdpve37NGREf+TdnqxA7cCfG/Ii0m3qSv7CO8tXmmrJFdfZx4nyVHV5YWFkzpgYvk2t6jQ5vltYT+w2uX7B5V3LB8382NM6S1yWKZXYg1W0u8z1JJd0QQkoOTk96XAeVamLDanolo1WgR8Wko7e9blXgbAye2rJmDTMI1zMkhlbPcKylP4vmHt164+xYTojpLLcnBU/ygBCXx+DhoKvLVO4uf1x1P/NCajg5vohTRe30t1pJPjm9DBdt/926dE2Kox8eUE1iIptBCWRCwEIFcjbrQg/0baG/P8nI7BIsXrzXx3jJH8YEbM/EHJofbV52yS73Ea0b8oX9CfDiW/+53NV85KNFnJh0QH+47O+QTLtnicn2Pn4zCYpqQxFsfzopoSbaK3DLpuyz5fo6IdV2QSQT6VBYb6auLNcQzwq1aQEajvn50m0Iz3aALs74RrsbR757CI+7J26KfCDLpRnUKCyFPYGLL6cnJHbSzna/YWF9VCN8FKcRVJv4ja+Cn6rCo7OtdUbLkqE3+olF+1HrZF0VolOY4QIajQBuuD5BbI5R85bVo98lSkDhQhy1M3oKRvW4buRbLZTIULEdXlo2hp2Ldt/yI1cptRl/Lj1xDhwZ+QLtFpKmrEFh2QevyZGHjfak72+UhTzE+jl7lp9BU//n9thPdyv1WjZdRqrwxn/90E69He5eqrZuF4zgIOLwVKY7ruAQCICAIbN26lZo2bUrlxAdezOhKcwHiYBSOxuRQfLfMuYXwVDL747fYquK9e+yy4w9yXuNTIjVjjoPdjOwG9SpRXewjTCMv87mz2G6hPEqNXX1cl/Khy2t0HEjDYs779biN4KvHyUk8bYfbYWH0LlNXtSD5AQT8xJu0Yj2Sg3KCRYQpBwilSuMRszt658yKt4EE+50S+xALSZHmdULdxG5Vdgfz9hB+Io2yj4/XN1lwOFiG89jC4m0SVabsNOqSZAuO91ayNZleRNrKNc7/LDF2ZQadFY+cE65q3g8YeHKntFYVlyhbx0Fn9qjtcR9ZlNmK5UhV77L1xLyfp9TiS4bi0uU+soXLbaYR7wV+zJ7Sf90x8jG/X3QjWXWvpy9U3nyPp9Op+MxUDmISbv6wMHJxcdG5YtuHEETbnj/0PpkIJIcgJtNQ0EwMAiysF+cPjrWXL0YxnOoQ0KogYg1RZ5JxCAIgYH8EXEUQTvkRa+xv4BhxLAJYQ4yFBBkgAAL2RIAfqYYEAkwAFiLeByAAAiAAAiAgCPy/vbOAbyJpw/iLQ3F3KC6Hu7u7uxd3dz0cDnd3P/SDw50r7u7uUlq02H3zTtklaZM0LUma3TzDL2R3ZnbkP+k+OzPvzEIQ8TMAARAAARAAAUEAgoifAQiAAAiAAAgIAhBE/AxAAARAAARAQBCAIOJnAAIgAAIgAAKCAAQRPwMQAAEQAAEQEASw7AI/AxAIAgHeM/LxvpVBuAJRQUB/BJ4d/Z/+KiVqBEHUZbOiUrYmkDdvXsqaLTvdunWTPlwW23TBgYALE4gcJQrVrFmTwoULuM+ulrFg6zYttx7KDgIuRuDLly80Z84c6tSpk4vVHNV1BAHMITqCMvIAARCwCYFt27bRxIkTxZ7YeCeBTYAiESMC6CEa4cAJCICAMxMI9fMNE3///bccsnPmsqJs2iOAHqL22gwlBgGXJPDs2TO13gsWLFCPcQACtiIAQbQVSaQDAiBgVwLLli1T09++fTt9/PhRPccBCNiCAATRFhSRBgiAgN0JLFq0yCiPjRs3Gp3jBAR+lwAE8XcJ4noQAAG7Ezh27BhdvXrVKJ+lS5caneMEBH6XAATxdwniehAAAbsTUHqHpUuXlnmVKlWK9u7dS48fP7Z73sjAdQhAEF2nrVFTENAsgXfv3lGhQoUoWbJkFC1aNGrWrBnFixePbty4odk6oeDORwDLLpyvTVAiEAABEwS+fftG3bp1o+nTp9OrV68oevToFDYsNtsygQpewSSAHmIwweEyEAABxxJg8fvx44fMNEyYMBBDx+J3idwgiC7RzKgkCOiDgLJDjbJAXx+1Qi2chQAE0VlaAuUAARAIlAAEMVBEiPAbBCCIvwEPl4IACDiWAATRsbxdLTcIoqu1OOoLAhomAEHUcONpoOgQRA00EooIAiDgRwCCiF+CPQlAEO1JF2mDAAjYlAAE0aY4kZg/AhBEf0BwCgIg4LwEIIjO2zZ6KBkEUQ+tiDqAgIsQgCC6SEOHUDUhiCEEHtmCAAgEnQAEMejMcIX1BLDvkfWsEFPHBN6/f0+bN2+mL1++6LiW2q+asncpvxuRd6uBc04Cbm5uVK1aNYoQIYJzFtBMqbCXqRkw8HYtAsOGDaOhQ4e6VqVRWxCwI4HZs2dTmzZt7JiD7ZNGD9H2TJGiBgkoPcP58+eTu7u7BmvgGkXmdnr79q1804Vr1Fh7tTx69CgNGjSIvn79qrnCQxA112QosD0JlCxZEoJoT8BIW/cEeLiUBVGLDkY1Wmw1lBkEQAAEQMDmBCCINkeKBEEABEAABLRIAIKoxVZDmUEABEAABGxOAIJoc6RIEARAAARAQIsEIIhabDWUGQRAAARAwOYEIIg2R4oEQQAEQAAEtEgAgqjFVkOZQQAEQAAEbE4AgmhzpEgQBEAABEBAiwQgiFpsNZQZBEAABEDA5gQgiDZHigRBAARAAAS0SACCqMVWQ5lBAARAAARsTgB7mdocKRLUKwF+F9/KlSvpwoULeq0i6gUCFgk0aNCAsmbNajGOlgMhiFpuPZTdoQS8vLyoUaNGDs0TmYGAMxE4ffo07dmzx5mKZNOyQBBtihOJ6ZlAqFChZPXylKpGHoOm67mqqBsIBCDQpmgSUv4GAgTqxAOCqJOGRDUcRyBW/MTEHzgQcCUCMeLE1311YVSj+yZGBUEABEAABKwhAEG0hhLigAAIgAAI6J4ABFH3TYwKggAIgAAIWEMAgmgNJcQBARAAARDQPQEIou6bGBUEARAAARCwhgAE0RpKiAMCIAACIKB7AhBE3TcxKggCIAACIGANAQiiNZQQBwRAAARAQPcEsDBf902MCtqawOtnj4g/cCDgSgTevnouqptZ11WGIOq6eVE5WxLgzb3Zndy7WX5smTbSAgEtEFD+BrRQ1uCUEYIYHGq4xiUJxIwZk5YvX04XL150yfo7Q6U/fPhAkSNHdoaiuGQZ6tevr+t6QxB13byonC0J8MbGDRs2tGWSSCsIBN68eUOtWrWi9evXB+EqRAUB6wnAqMZ6VogJAiAQggSmT59OGzZsoHv37oVgKZC1nglAEPXcuqgbCOiIwJAhQ2RtlG8dVQ1VcRICEEQnaQgUAwRAwDyBy5cvq4E8jwsHAvYgAEG0B1WkCQIgYFMCMWLEoJQpU8o0u3fvTt+/f7dp+kgMBJgABBG/AxAAAacnkDhxYmrevLksp4eHB4UJE8bpy4wCao8ABFF7bYYSgwAIgAAI2IEABNEOUJEkCIAACICA9ghAELXXZigxCIAACICAHQhAEO0AFUmCAAiAAAhojwAEUXtthhKDAAiAAAjYgQAE0Q5QkSQIgAAIgID2CGAvU+21GUocggR8fX3Jx8cnBEvgulnzxt7seE/Tly9fui6IEKo57+UbO3Zs4m+9OgiiXlsW9bI5ga9fv1KevHnpwvnzNk8bCVpPoGDBgtZHRkybEhg8eDANGzbMpmk6U2IQRGdqDZTFqQm8f/9eFcMKTbo4dVn1WDjfTx/p5eO7lDhVRl33Upy17f5ZOoU8PT2dtXg2KRcE0SYYkYgrESjXsAM17z/ZlaqMuoIAef6zWvcUYFSj+yZGBUEABEAABKwhAEG0hhLigAAIgAAI6J4ABFH3TYwKggAIgAAIWEMAgmgNJcQBARAAARDQPQEIou6bGBUEARAAARCwhgAE0RpKiAMCIAACIKB7AhBE3TcxKggCIAACIGANAQiiNZQQBwRAAARAQPcEIIi6b2JUEARAAARAwBoC2KnGGkqIAwIGBHasmEHv374x8MEhCOifwNtXz0UlM+u6ohBEXTcvKmdLAtGiRaMKFSvSP9u2kef2NbZMGmmBgCYI1K1bVxPlDG4hIYjBJYfrXI5AmDBhaNvWrS5Xb2eqcI8ePSh+/PjUu3dvZyoWyqITAhBEnTQkqgECeifw7ds3mjhxoqwmBFHvrR0y9YNRTchwR64gAAJBJLBr1y71iuPHj6vHOAABWxGAINqKJNIBARCwK4G1a9eq6a9ZgzlcFQYObEYAgmgzlEgIBEDAngTmzJkj5w9TpkxJY8eOtWdWSNtFCWAO0UUbHtUGAa0RiBAhArGlb4wYMShcuHBaKz7KqwEC6CFqoJFQRBAAAT8CoUKFAgoQsBsBCKLd0CJhEAABWxNgQfzvv/9snSzSAwFJAIKIHwIIgIBmCEAQNdNUmiwoBFGTzYZCg4DrEkAP0XXb3t41hyDamzDSBwEQsBkBzCHaDCUSMkHAZaxMhw4dSvfu3aO5c+dS+PDhjVAMHjyY4sSJQ507d6Y7d+5Q9+7dad68eRQ3blwaOHAgPXnyRF4XNqwxrv79+1OSJEmoffv2RunxyZs3b6hFixY0efJkcnd3DxDOHh4eHlS/fn0qVaqUyfCgeHI6bdu2paJFiwblMsQNBoFHjx7Rhw8fgnElLvldAl+/fiUWxevXr/9uUrg+GAQiRYpEyZIlC8aV2rjE+A6vjTIHq5RHjx4l3umCG/PPP/80SsPT05OSJk0q/fgPjm94379/l+f//vsvHThwgHjtE4ujoTty5AhlyJDB0Es9/vz5M23evDlAXmoEcbBz504qUKCAoVewj7eKPTYrVaoU7OtxoXUE+LdSqFAhGHZYh8tusdKnT2+3tJGwZQK7d++2yUO85VxCJtRlBJHx8vqlMWPGULVq1ShHjhwmiadLl45OnTplFMbXDR8+nKpUqUJZsmQxCsOJaxHgngnPYWXIVZiy5P/9nr1r0fv92r55/lj2EGPGS/T7iSGFIBG4fu4onTu8Q/bObTGqFaTMHRTZpQSxevXqdOvWLWrWrJkUPf9Dp8z8xo0b1LhxY9m7S5AggWyGOnXq0IULF6h58+Z07NixIC0KvnbtGs2aNUv2BvPnz08TJkwgJV3/bcy92BUrVhA/gZUoUYIaNmxIBQsWlDcAjnv27FmaMmUKcc+Un5Br165NTZo0UcOV9Hx8fKR/6tSpady4cRQ6NKaKFTa2+q7VfjBlKQBBtBVPpOP8BG78FETnL2nwS+hSd0oWhoULF8p5Qu7xmXI8N3TixAn68uWLGsyv/Vm8eDFdvXpV9jDVACsOeH4xVapUNGPGDCnGxYsXV4djDS/ftGkTFStWTPY+Fi1aRDxWX7p0aTmXyfF4GJdF8tWrV8RbWLEY8pzn/PnzDZOhd+/eUfny5YlFcdiwYRBDIzo4AQEQAAHzBFyqh8gYuNc0evRoaTjDQ6c5c+Y0T8cghIdSWUTZkIaHTrNmzWoQav6Qe2hsXMOOh2l5DnObeMEsp2HoOF02smHhZMdzi7xVFc93tmzZUgpjzJgxacuWLUYiZ2jc8f79e6pQoQJFjRqVNm7cKEXVMA8cgwAIgAAImCfgUj1EBUOHDh3kUCQPnfr6+iregX537dqVcuXKJYdO2fjGGleyZEk1Gr/YlIWVh18NHffquPdZpkwZQ295/vjxY3r27BmdO3dOGnMYDn82bdrUyMK1T58+cji1SJEiEEMjkjgBARAAgcAJuKQgKkOnvAzDv8WpJWQ8dMrDmWxYMWrUKEtR1TC+xtBx3oa9Og5TFhr7X9ahXMvXsNWqcm6YnuEx9yp5OJXrdOnSJcMgHIMACIAACARCwCUFkZnwMgq2OOUhzaCsaUqbNi2NGDGCRo4cSbdv3w4Er58hjBKJ5//YyMa/hSsPcSZPnlz27pS4/M3GM/HixZOfjBkz0smTJw2D5fCq4dArG+G0atWKuIfIBkD8hnE4EAABEAAB6wi4rCAyHjZ4KVy4sDRYsQ6XX6wuXbpQ3rx55YL9wK7j+b+lS5dKq9a6devKRfpVq1Y1uowXGvfo0YNmzpxJ48ePp4cPH9LUqVOlRSqXkXuIPMzLFrKdOnWSRkG8hpEF3f86Rk5r9uzZdOXKlSAbABkVCicOI/D66UN68eiu0efTex+b5f/t6xejtJW8fvxca2suo/9+/KAnd6+T5z9r6N9tq+npvRvqaIa5axzlf3z3BvJ6+VTNzvfzR7p14QTdPH+cvnz+pPrzAY/AKHU2/PYfz/fTB7py8hA9vX/TqJ4Pbl4S/geN0gypEy7H21fPrMr+gudu+v7NuqkdqxJ0gUguY1QTO3ZsYqMUQ8fisWDBAuJ5Pl5ryI7fs5Y4cWJ1eJJ3sFHClGtZoHjolK1Ao0ePrngbfXMcToeFbeLEiXIOkMVt9erV6k45vPzCzc1NXseCx71Ejs9zgbxRQLdu3aQRD0dgYyC2fuW0eDMA3iGHr+nZs6e8PmHChOq8Ifd+eUiXl2g0aNBA9oZlJPzndARYdLpWzEifP743KpvHoGlUrmFHI7/gnlzw3EOj21QMcPm8I08pRhy/pUX+A58/vEMTu9Sm+zcuUiL3tPSf+Pf07g1Kl6Mg9Z21hSJFieb/EoedXz/rSRtmj6Ix607IPA9tWU5zh7SlaLHiEvP88O4ttR0+jwqUryPDXz19QB1KpQxQvsGL9lDm/H5z/LtWz6aVE/tTLLG+kUUzTbZ81H/ONgoXISLFjp+YxrarQn8uP0SxEyQJkI4jPca0rUwtB8+gIlUbW8x2/4ZFNLN/C1p8wosiR/O7t1m8AIGSgMsI4sqVK002eYoUKWSPSwnMlCmTUY9x3bp1SpDRNwvU3bt3jfwMT1jseKkEuxo1ashlHP7XPRpuAMACysOf/Pn48aMqlIZp8qYAvPyDe4BsgcqCrjheP2nouBfLHzjnJsC9ERbD0WuPyxu6UtqoMWIrh7/9fe/aOUr5R07qMcX4txwtZlyTab/3fkNDmhSj+ElS0NxDj9VycQ9xcKOi8kbbY+rfJq+1tycL3oLhHalOp2EUSvzN8EL92YNaUdM+E6hsA78tFDfMHinLyGLHHO9dPScF/K9N54yKpzwMcE9qyZjuNGTJPkqbNR/5vHlJ3Stnou0rplOVFj2FoMSkkrVb0vK/+lCXv1YYpeFsJ199P9Pfs0bQ5vnjnK1omiiPywhiSLeGfzG0VB6l12guTsSIEc0FwV9jBPhmHT12fEqdJY/dSs55pBU9nnhC4Kxx25ZMpg/eXtRj/WlVDPm6hKKn2Lj3eOLwd16vKGrMODI57k1ePX2Y+GacIVcRSpwyvfqwdubgP/KcRf/y8f3kJnoruUtUlb2W188eyaHIfGVrUbjwEdSiXTy6lyK6RaE0WfOqfsrBmUP/SBHMUaSC9Lp//QIlSJqKStdto0QRwtiBVk0eSLcvnqRshctJQUyZMYfZ+m9fNo3K1m8vxZAT4Z5m5/ErKLSBQVyxasKiu4Q71e08jBIkS63mZe7A68UTOXybIXcROr3/f/RNWKXnKFqBYonepqHjYd67V88SD5EnSpFOxKlolC+nc1bsDsMud0njqRbDdJTjES3L0fNHd8QDw1BaNWmA4o1vKwm49ByilYwQDQTsRuCu6L0lSZWBju38m+YMbk07VswgHuIz53pWzSa3zzIM/+jzljqXTSvnvgz9lWO+4UaPFY/+WTpF5NGGTuzeSDxfZs6dObCN0ouhURYG/65IlUY0dv0pVQw3zRtLXStkoH+3rqLzR3ZR31q5adYAD/Wy1VMGyh7d2PZV6dqZf+WwZK/q2enTh3cUPmIkGffMwW1qfJ7X+6tzTTlsqXoaHBzYuEQIQzVVNLIXKU8Tt15SzznqtTNH5BUsMOy4hxw3sTvxMOKsgS3pwKYlUtA5jOdRWYB5K747l0/TloV/0bFd6yl15tyUKW9xjiIdCxkL9MHNyxQvi993xUPITMFhaONidHLfFiFq26lT2TSynZULuSwjW5WnS8f20dVTh2lS93o0tsMv0Tt7aDt1KJ2KjmxdSadEGkNE75zngy25cg070JTt12T7WYqHMNMEIIimucAXBBxCgHtvV04dkjdhHppj0epUJg09vHXZZP5Dl+6jecPa02khWuxYDHvXzEWN+4ynhMnTBLiGhYd7cDtWzhQ9h7v07YsvzejfXA59mjO44B5GkjR/BEjLvwfPta2eMkj0ppbTgPk7qOe09WKe7aAUHBYZxbFhztQd16n75LVyaJiHOfkGz8OZ3OvhOUDFnRK9KZ4KyFOqmuKlfrNxDPcyk6czv5+w9+sXtGhUV2LhVnrEd6+cpaM71hHPPUaI6EYrJ/SjbpUy0bu3r8XnFbFBDhsOsWizUc5icX3HMqmJe7CGLpnIl/O31n3w8aIy9dtRr2kb5Kdxr/E0o19zOUT+8sl9WSZm1m3SGuoj5mU7jllC/DDCvcLv37/JuDVa9yOe6+w9Y5Ps9X0V7WfJ5S9XW9bRUhyEmScQ1nwQQkAABOxNgIf6KjfvLvZFLS2zqt9tJPUSvUAWGr6R+ndRoseSPbQ+NXIKMfSi1VMHU7P+k+QwpP+48lyISKshMylbobKyl8R+Fa+dpz41c8obcqFKDQJcFjp0GKtuqtyrdRPGNfnK1FTT4LnKVJlyybQVg5XcQtzChgsv47BRSoy4CaQYsUfxGs1pXIdqxOLBDwSHhTgWrFhfGrOoif484GFaFrE4CZP6D5LnbH05vEUZihw1BrUYOE36sYjW7jhEiiiXjR2f80PH1kUTqVwjP8Ole9fP04w9d2Q5+UGhe+XMtEawbT9qobyG/4ubMJlRD08NMHPAdS5Wo5kayiK9cGRnKbrMZukpbxnGAsiizXuFsuOHGBZ279fPqWCl+tKP/8tbuoZkpHrgwOYE0EO0OVIkCALWE+CekCKGfFWYMGGldST3VMw5FsWB83fStD5NKFeJKubFUCTA1qAsujxkqDj39FnFMG1GeWNW/Ay/4ydLRc8e3DL0Uo+553L+311yaYMUp0TJpHGLGkEcxE2UnNgwR3GRIkdVDuU3C65Y1yCPue48NHt0x99yGJPny4pXb2YUXzlRlqIoxjCKP3/z0oj+dfNTNDGvyT0qxbKSe5ssuooYclzumWYrXJZuXjiuCn/Rqk1U0Q4TNpwQ5Xp0yV9vkIVcKQOnE5iLHie+mj7HdYsaXc6NstCx27JgPLXIH1dawK4XhkA+QvAVpywpYatXxbERUVzBG85+BCCI9mOLlEHAIgGeL+NeyD3RYzN0H957yxu7oZ/hMQ/z/elRmjqNXUon924mXpNnzvH84YqJ/eRyBMM4H995S2Ew9FOOWaQu/Ls7wFIQDuf5xxEeZYl7VGwM9OrJgwBp81Cqta9nYsMVFqN//1lNntvXCsOdNGYNjJSlHjzEaehuXzpFgxsWlvOAPHSriCHH4TWeKyf1D7B2T6k/ixQ/ABgKOF/H1qyRhGGPofP99DFIy03YWtVwiJPPP4veXxzR0zx3ZKe0Wm3efzItOfmWRq72VK1kuVer8Hv5+L5aBPZ/I3qTcPYjAEG0H1ukDAIWCfAaN57bWjd9qBqPhw4Pb1mhrqFTA34esBj2rZlbrEWbSYXFENy4Dadp6diedGLPJv9R5Tn3ODfNHUNHtq1Sw3me7vXzR8TWnaZchcadpPeEzrWMRJGXXSwa2YXYkCVNlrxyno+FhYVMcbeEZScbp7BFpbWueM3m0qhkz9q5sjdn7jq2auXeHc+JKo57bDzkmr9cHTkHpwzNKuEseGxF+s+yqYoXPbp9VRrS5P+5TpF7pDyHyMOU7HjIlOuU2d/rvThftqBlxxa1PM/Lw5vmHMfhdBXH9ePeMFsUPxDrO8NHiCSHm/l3wG7/er/hWc4/WZpMUjj3/j1fuVzOu7KowtmPAOYQ7ccWKYOARQI8nMeLrId7lKEeVbJQktQZ/Swecxaiis26mbx2aNOS5CGuUQSHh0/HbzhDfYR1Z1JhCOPfsCZZ2sxygT8v0mbjlR9iyPP62aPkIebYOD9Tjnt+/edtp1HCArJlwQRy/o2XTTy6fUUOtXYat0wavrDRSq32g+TQ7Z518+TwIFtMVheGIFkLljGVtEk/XsaQLnt+un7GUxrDmIwkPJkXz72xcUyJmi1kNF4CwkY6/wrBP7rjlzBzYPtRi6Ro81KR+X92oCsnDopebTzijQrY2IXn5NhVaNJF9rTZ+vWPPMVEOf6VVrS1OwyR4cp/PMen1OuJeDjoWTWrNHaxtBxi49zR8mHki+jV3r50mvrM3CyHZnnede3UITSgfgFhvZpP7rLDw6Ms6K9Er5bbrdvkNTRSLKO4IdqLHwbYWpbLD2c/AhBE+7FFyiAQKIFM+UrIxe+8JOHlo3tUuk5r+kOY+/PN35SbsNl4eJXj8Nq+abtumoou/VoMnCrW2bVTlyN4DJou17yZvUAE8LKDmfvuyZ4MW8Ly/BX3bPhGzb1OxdXqMFjumsLLBr5++UxN+06Q6xWV8EY9x8ndX5Rz/mYjHx4aNXSthswSw4GPze6co8TlHVpmDWgprTC5HLzO0Jyws3EPuzL12lJ2Ee/q6SPSeKd6m/6yfkqaPMc5cs1RIVin6Oa5Y6KX2kwsWygkl4UocdjwhXu/HccukV48T8o9bJ5vtOR4d5vTB7aK7RfDCCvbdaqg8cPE9D235Tylj+iZFq7cUC6V4PnZ2PH9dsPhTQLY0IeXX/DvgR9EeN6Tl+kE5niOmDdiiOgWObCoCDcg8OuXbeCJQxAAAccR4B6Z0luxR658M2XRMCcc5vLkxfFps+WXH3Nx2J9v7soSB//xsvgbduRwHnL176wtHy/IjxU/EZ0UQ8QsSCzS1mxqwEZFhoZF/vNncWUB4o8pt3fdfDEsW9toUf4bsSwjTSAbKvB8Jhv1mHJsHFRIWNQaOqUHqvjxCACLpeLYWtgax0Oz5obErbneVeNgDtFVWx71BgENEuCeKvdwN84ZHcCYx17V4XlSXszfqOdYNQveVKDNiHnqBgVqAA40TQCCqOnmQ+FBwPUIpMtegGq2G0hvfy5fsDcBNkDi9YiGG3vzXB8bvphzvKsN740a2mB42Vxc+DsPAQyZOk9boCQgAAJWEshTurqVMX8/WtLUge/a4z8XtoY13PrNfzjOnZMAeojO2S4oFQiAAAiAgIMJQBAdDBzZgQAIgAAIOCcBCKJztgtKBQIgAAIg4GACmEN0MHBkpw8CvEgba7z00ZaohXUEeIMAvTsIot5bGPWzKYEwP18ay3uQ8gcOBFyNQGix9EWvDoKo15ZFvexCoG7dunLXEB8fH7ukj0RBwJkJRI4cmerUqePMRfytskEQfwsfLnY1AhEiRKDGjRu7WrVRXxBwCQL67fu6RPOhkiAAAiAAArYiAEG0FUmkAwIgAAIgoGkCEERNNx8KDwIgAAIgYCsCEERbkUQ6IAACIAACmiYAQdR086HwIAACIAACtiIAQbQVSaQDAiAAAiCgaQIQRE03HwoPAiAAAiBgKwIQRFuRRDogAAIgAAKaJoCF+ZpuPhTe1gSGDBlC7u7utk4W6YGAyxA4elS7e55CEF3mZ4qKWiLwxx9+L4FdunSppWgIAwEQsJJAxowZrYzpPNFC/Sec8xQHJQGBkCPw4MED+vr1a8gVADkHSuDLly907NgxKlKkSKBxESHkCESMGJESJ04ccgUIZs42E8SPHz/S+/fvg1kMXOaKBKJHj068NygcCFhLYMOGDTRr1izavXu3tZcgHghYTcAmgvjmzRvKkiULPX782OqMEREEsmbNSqdOnaKwYTFyj1+DdQRChQolI966dYtSpUpl3UWIBQJWErDJnejhw4eqGHbr1s3KrBHNldphmf8AADn0SURBVAlMmjSJzp8/T58+faKoUaO6MgrU3UoCL1++VGMuWLCARo0apZ7jAARsQcAmgqgUZNy4cdSrVy/lFN8gYJYAC+Hs2bPNhiMABPwTWLlypeq1ePFiGjlypHw3peqJAxD4TQJYh/ibAHE5CICAYwgYWgA/ffqUDh486JiMkYvLEIAgukxTo6IgoF0CFy9epDNnzhhVYNGiRUbnOAGB3yUAQfxdgrgeBEDA7gSU3mHOnDllXvy9fv16evfund3zRgauQwCC6DptjZqCgGYJ7Nmzh3iht2JZ2qxZM/L19SVPT0/N1gkFdz4CEETnaxOUCARAwB+BkydP0tatWylWrFgypHbt2sTW7WXLlvUXE6cgEHwCNrUyDX4xcCUIgAAImCfAa1VTpEhBYcKEkZF4Q4cYMWKYvwAhIBAMAughBgMaLgEBEAgZAsrCfOw4GTL89Z4rBFHvLYz6gYCOCEAQddSYTlgVCKITNgqKBAIgYJoABNE0F/jahgAE0TYckQoIgIADCCiC+OPHDwfkhixcjQAE0dVaHPUFAQ0TUAQRc4gabkQnLrpDrUy/f/9OU6ZMId51Ak6fBPiG1bp1a8qXL58+K4hahSiB0KH9nuEhiCHaDLrN3KGC+OjRI+rRo4duYaJifgR4fRjeV4dfgz0IoIdoD6pIUyHgUEFUnu4qNe9ODbuPVsqAbx0RaFkwPt5AoKP2dLaqQBCdrUX0VR6HCqKCLmy48MQfOP0RCBs2nP4qhRo5DQEIotM0hS4LEiKCqEuSqJTuCdy5c4e8vb11X09nruCLFy9k8S5cuEDPnz935qLqvmxJkiShuHHj6qqeEERdNScqYy8C58+fp+zZsxOMOexFOGjpli9fPmgXILbNCSRKlFjsJ/uAlKkwm2cQAglCEEMAOrLUHgE2FGIxjJE2FyUuXk97FdBJib9//kifXj6gKEnTiRqF0kmttFeNy3N60pMnj+nbt28UPrx+pr8giNr7LaLEIUggVe0eEMQQ5I+snYPAu/uX6cEO/b2gGQvzneP3hVKAAAiAAAiEMAEIYgg3ALIHARAAARBwDgIuIYjvvd/Q62eP7Er8+YPb5Pvpg1V58FzUyyf36dyRnXTn8mn66vvZqusQCQRAAARAwH4EdC+IX7/40ujWFWnrkkl2o/jgxkXqUTUr3b9+IdA8WAC7VfqDOpRMQTP7t6BBDQtTi/xxaefKmYFeiwggAAIgAAL2I6BrQeRe26hW5enG+WN2I3hy72Ya4VHWqt4hC+fgRkUpebosNGPPHZp76DEtPuFFtTsMpgXDO5LnP2vsVk4kDAIgAAIgYJmAbgXx6qnD1KNKFnKLGp3cM2SzTCGYoSsm9qOJXetQ8RrNrUphyZgeFC+xO3Uev5ziim924cJHoCoevSh3yaq0b/1C6af89+rpAzq282+6cvIQ+Qpzc8V9//ZV+B2kb1+/0KNbV+jItlV058oZJZie3rtBd6+eVc+VA07H+7XfwmbFD98gAAIgAAJ+BHQriGHChaNuk9dQz2kbKFLkqIG2d/+6+enLF+O5vI8+b2lAvfxmr02SMgNN2HKBKjTpYjaOEvDpwzu6dHwfFarcgMKECbjapefU9TRwwU4lOs0Z3Jo6l00rh1L5uE2RJHTx6F4Z/kGUa0jjYrJXOaJlWdq2ZDL1q52HFo/uJsNvnj9OgxoUps8f36vpsd/QpsXpmxhChgMBEAABEAhIIOCdOWAcTfqkzRq01w+VrtuaelfLTuM2nRULTSMSi2Hvmrmoab8JZutftFoTGWZNr4uHb3+I118lSZXRZHqhfr7WhgOP795ABzYuobHrT1GytJll/GXjetG03o1p2u5b6vU+Xq9o9oGH8nz78mm0ZHR3qtV+EOUtW5PmiyHYE3s2UZEqjWT4oS3LKXO+khQ7YVL1ehw4F4Ev797Q08Pr6fnR/5FbwpSUpGRDipEut00L+e7+FXq8fzV53zxDMTPmJ/dKbSh89Dgm8/jw5DZdmNpebNYemnIPXU9hIrgZxfv6zotOjaxH4SLHoFyDfn+4//3D63RxRmejPMJGjEyR4iWjJKUai00RchqFBffku+9HOjGkOmVqO5Giuv8R3GTU6759fEefXz8WmwWkV/0MD75+8KZTw+tYzO/U8LqUtExTip+3guGlVh9znV6c3ElP/91IYcJHooSFa1CcbCUoNPYWtpohR9RtDzFIFERkHvas2rI39aqajd48fyzEMKcUw9wlqgY1KZPxf/zn94bvKNFjmgw39Ny/fhFlK1xOFUMOq+LRk96+fk4XPfeoUUvUbKEeZ8pXgr5//yaHRCNEdKOCFerS4f+tkOE8xOq5fQ0Vr2nd0K6aKA4cRoBvqoc75qMH2xdSvLwVic+PdClEry8etlkZXl84SAfbZKPPrx5R/PyV6fmxrXSkayH6/tm0dfS3T+/o5ald9OLUTnpxYnuAcjw9skGGc7q2cN8++sj03IQAxsqQT37cEqQgr2snBJu89OrsPltkQ/+JvxOu19cPb22S3pEuBenl6V9/l6YS/eH7Sex05HcPMBXODLldguN+fPtC/3YrQlcX9KdoKTLLB5yzY5rQufH4ew8qT932EIMKguOzKPJwZNtiyajzX8vJVmLIacdNlJy/6MXje5Qxd1F5bPjfu7ev5XBmzHiJyOvFE8qUv6RhMEWPHZ/cokQnr5dPVf+oMWKrx8pbJpS9NosLsRwshk29hYjeuniSWBTzlKymxseBcxF4uHspfXn7gorOOkVh3aIRiZ7bx2d36f62uRQ7c2GbFPb6kqGUoGA1ytZzoUwvYaHqtKtOInp5Zg8lKGD+wS+W6Ek+ObhO9DpqGpWDe5p8A/YV5balSy7qzlvkqU4sUzokBPHOxqkUJ3sJ1dtZDr6+tyys4SJHp4KTDtmtuE+PbCSfu5eo1Iq7FDFWQplPTDGywL3gDB6jZA/bbpnrLOHQOqvPb1Xn3dtXtG3pZCpVpxWtmTLIaA7utxIWF7N4sXHP2UMBn7Q57U3zxlKnMmnkmsQoIi6LoqHjOchPH3woeqx4qrcifqqHwQEPGSdwTyN6hmuJh0sLVqhH4SNGMoiBQ2ci4F65LRVfeMVPDH8W7Nun93L4y1Q5uSd5++9JAYK8rh2Xw5wBAoRHnhH/oyxdZ6tBsmcoxIaH2Cy5RMXq0vPj2+i76OUoztfrOb25/G8Akfz04gGdGdOY9jZNQ9urx6JDHfLQMzEEzO7j0zuih5pdirySzr0tM+lwp3yWRTVUKIqZPg/xdmGK87pylC5MaU+76yej06MayB7ffz++K8HEw73Xlwyhfc3Tk2evUvRoz3JR/l+GaWpEKw6++Lym0yPq0c5a8WlX3cRSaDh9dicGVyNfr2d0c9VoOj+xFf346kv7W2amh7uW0J5GKUQPXMzlv34q/bxvnZXXMMcr8/qIsmWgvU1SS6GXAQb/8ZD2pRldaHeD5HR2bFN6fUEIqmgrUy56qmyUc8BKVQw5TqT4fg/gwa2zqXxcwQ+C+LOVWQz71MxNLQfPpNbDZlOtDkOod/Uc9MXAuvN3fxDVWvahozvW0a7Vv25KnCYvC+E5wApNu1C4CBEpV4nKdPrAVuINBRTHw5+hQ4ehDLmLKF6BfpcQPV6+7vT+rVSserNA4yNCyBEIJdo2YuxEsgDcWzw5tIa40T6nVHV6mixUsrLNxE1+Gd1e+5ca7nXlmJirqktp6vdT/QwPwkaKQuGjxiLfN8/o1trxdHxgFdFjrEqxsxU3jBbgOG72khRazKu/OPnrYY57jHGEf/hosdT4LEgsPnzDz9FvBeUfs5OiJs8oxKQu8fwoz4tyD/XSrO6y9+tz9yJdmt2DkldsTRFi/HrQUxP8ecBzcE//3UQx0+WRPq/O7acjYoiQXZ4/N1E090xyLvP60mHSj7mxyHpdP0lZu80Rc3NN6Mby4aK+lc2KirzQzH+8kfWnV48pz/DNlHfkVvpPjLbwnCC7DC1GUjjBlOd7U9XpJdN/d+8SXZnfl9yrtKeEor48j8d+ijhdnt2dHu9bJdqpL2XpPJMe711h9EDw6vwB2SMOI+ZP8w7fQpGTpBHCW1WKuqki8kbnCQvVMAq6u2m65B05SVojf5xYJoAh0598+tXOJ8RwBuUo6jepXbRqYwotnkx718hJk/+5apmilaEFK9aTSyLmDW1HWxdNpBR/5CA2trl37Tz9kacY1ek4VKZUqnYr2rlqFnWvnJnylKomd7VhC9O2w+fJnqbPm5dW5VhE1GHlxP6UMEVaSpM1r1XXIFLIEuB5tIdi0+SPz++TGz/lm5t3EkZYRWeeooPtc4oo3+Ww6qmR9anQlCMUKa5lw6k3onfFc4I8ZxUvTznZq7FkfBFK3ND5hiuHTX/eeB8fWC1v+F9F70lxPO+ZvLwHJRMfxVAnffMRsrf0UfSowqeLRWkbDhDCukP27j6/fiLSrU7JyrVQkpDfl4VIhosSQx6zeLMhEItDuqZ+gndt8WBKJIZvs3SZKeNET5ND9qy515W6bm+6s36yjM9iEkpYdPPEAg/tHmybg15fOkLRU2WV11n736cXD2V9OA0uR/bei+j9oxtS/NgoJ3TY8HJYMooQnx8/LdVTCDFMzQIp3BfvV2pWzIh799n7LqXEoufNLmqKTLSnobs85v9uCGHnMB7uZBftZ3lvrBhBSUo3ln6W/ru1ZhzxQ1WB8XukQZSluAgzJuASgsjLImKIOThLrt+crZQ4pbGVWGFhoZkiYw5Ll8mwiJGjUPMBUyhekhSBxq0lFuEXrd6UeBnE7UunKF32ArJHmjx9VnU5BvcSx60/TdfOHKHLxw9QogJpqXHPcZQkdUa//NwC5hdNDKVyGWLE+VXPGHESUKdxy4jnJeG0QYDnDwtM2C8Le35ia2EsUVTMDd0TFp4mhjWlKJ6mfS0yiB7fX1R0zplAxZATZhHiD4vvgdZZiUVNmVc0R4lv0NxL4d7fF++X5HP7PCXIX4Ue7lykXsIilqJ6Z3pyaJ0M9759jnxunZPhP0Svih0LVI6+y0S+WWTPKqvBEK6MIP5zi+9OEWIlkKexMhaglLW6U7zc5YQ1a3Tp533ztOz1KfH5O06OkrIHxpaqb0V4nCxFZV5KnOips8veMQ9bBlUQU9ftJXrsNWlHzbgUO2sxWW/5CjDxwGzOcc/YlHv34CqxEUysPwqowTwyYGihysPezOBYv/JqHJ6nZRHmYXTu6Zt0YkiVHxZYEHMOWEWxBQO4oBFwCUHMV8bYGMAUIv9iqMRRREg5N/XNVp0VGhubi5uKp/ixgQ1/CpT3G3ZR/A2/eb4vS4HS8mPoz8cc5j+/yNFiBPDjuNwrhdMAAXEzkzc7t6hqYd2rtKP7/8wjnzvnKaawujTl2AqV3xHIAsI9j3RNhpiKJv34Rkw/fsjhT/Zg8eWhPp7vCszFzlqUwogbMffuPjy5JZYHVAxwY2aBPdy5gKwHDxW6V25HURKnoQPCstXQfXh6W1p6shHRu/tXRd2MRy9SVO9kbFRjeLE8ZiEyFqNQP8UpNK/x5WNTYiX8ZHiA9Cx7xMtVlsqsekjPT/xDz8TQLfdgb6/7iwpPPy6GjLn/GdAxK5NO6fH7mw8MHe7XOwX/E8uzYmUqZNKYylxPnh84zk3wkEt28o7aRnFzlDKZPTwtE8AcomU+CAUBhxC4MLWDWGZR0CgvxXBDmVs0ChQnry8eojNjm1ChaZ5UfO55cTPcIufK/MdTznfXS0o3V49VTuX3h8e31LlLowB/JzzHmahILTFsupaeHFhDiUvU9xeDhGBsp/cPromh3JOUqf1kGf+buqTjPxmfhw/PjWsuhzaTlmkmDXD4QSAoLlrKLLLuhte8On9Q9qJ5zozD34ihUcNlDjyHx8YxHBYkJ4SLjXP4IYAfHnINXkdFZ5+WRjucR1Ad9xxZ1HjoVnG8npOHhRUXLWVm2Yvk4VHlEyF2QuIHCR6eNeXOjhOGN2JutdCUfyGGpgBZ6QdBtBIUooGAPQkkr9Sa3j+8Rpfn9pJDY492L6Mrc3vLmzAvTPfv2IDmjFhrVniqp98wqRg+LTLjJD3z3EK3/Imecq171Q7ConEKPRJGHB8e35Q3+idiI4A0ZoxwlOuUbx4mfOa5WdyY78ghTMVf+ebeEs9nvjixQ/YS2TLy/ISWsrf2/eebYM5PakPhRLy0jQbRH23/knNul4WRTVBcmnp96IlY8sFzhsyMl2NcF0OFvFyDh5ZTVu1In8XcI1uGvhWGNbzZwelRDWVPNKbBUKWSJxvpsCUn93ADONGr5GFWtmjleB+f3ZNzqSxqPHfJLqwYyuWHk7c3TgW43L8H98rZiOjqvL7Ebex19TidEkZHhha8qev2kW10dX4/+Vt4fvwf4nWFLOimer687IKNdHjpDIs0L9VRPjxPC2c9gbDWR0VMEAABexFg0/n84/fS/f/NlksTeFeWdE2HUuKipofV+YZcRAzZRYj5a85YmCFLvxdiXaEpl7ZBf9kbvPe/WWKJQGvZgyso5it5eM6UCx0uAkVOnFr2aDic5/Oipcwq4hckDmPHYsCL59nxGsH0zYfTdWHReW5Sa+J5u8ydpss5Le5h/Xfiu1gvd4Fy9l8pr+c0svWYTxemdSBeRsEGKzK/n2nLRE38x5aqBScdJq4HG8pEipdcGviwwQ47XnJQfP5Furd1Dh3rX1EOk8bPV1EYqYz2MzIRO+/45RNRxmfDHd5kIGOb8UbLXmSg+I+XqtxYMZLOioXun4W1Kfcy843ers7XphaWwGzhysKef9xumbbhrj7cuzbM7492E+XwM1ui8rxoGtEu3POT609FfomK1hZ1SirLz8tU+NrkYlkOPwiYci9P++UpN1AQmygYOi6ruREGw3g49iMQSqxl8xvL+A0i58+fp2zZstG4ceOoVy8/yypTyT18+JCSJUtG1Vr3pYbdR5uKAj+NE2hZIB7lyZmNdu3aZbEm7dq1o9mzZ5OPjw9Fjfpr3sziRSEYuHXrVqpcubI0VpAGFXYsCw/18XZp9nT2zsPe6StsuEfKgmPOWVsOHq4uOPGgkSGOqTQDy8/UNWb9lFuvqfnOnxdZW36zedgp4NxfLeiBsIb29fUVW12aHsa1U9Z2TRY9RLviReIgEHQC9hZDLpG987B3+gpVS2JobT25h5WkdJNAxVCmZ0F8lTJZ/W1BCJU0HMVRyc/VvyGIrv4LQP1BwMUJxM1ZmuK6OANU34+AfcdlQBkEQAAEQAAENEIAgqiRhkIxQQAEQAAE7EsgRIZMN80dI9bZfLNvzZB6iBDwtnJbuRApHDIFARAAAQsEHCqIsWPHphQpU9LdO3doy8K/LBQLQVomkDt3bi0XH2UHARBwUQIOFUQ3Nze6eOECeXt7uwzuPXv2UKFChShiRL81T3qvOG+hlSCB3z6Ueq8r6gcCIKAvAg4VREYXObJYfCs+ruKWL19OYcOGpQYNGrhKlVFPEAABENAkAYcLoiYpBbPQ9+/fp927d8sPBDGYEJ3ssk/itUz8gQMBVybAryfTo4Mg2rFVly5dqqb+6NEjSpIkiXqOA20RUDZ04u22+AMHAiDAr4T87Y3OnAojBNFOzcE/lCVLlqipszj2799fPceBtgiULl2aJk2aRC9fWvdyZm3VTlulff/+PUWJYub1StqqiqZLmyNHDooQwW9PW01XxKDwEEQDGLY89PT0pNu3b6tJsjj269dPbJkVSvXDgXYIsFFU165dtVNgnZaUR1p69+5NU6ZM0WkNUa2QJICF+Xaib9g75Cxu3LhBR48etVNuSBYEXIMAv0Bg1apV6Km7RnM7vJYQRDsg//TpE61du5by5MkjU1e+/YukHbJGkiCgWwI8DTFt2jRZvxkzZui2nqhYyBGAINqB/alTp+RrUZo1a0ZhwoShePHiUb58+YiHUfU2CW0HfEgSBEwSOHLkiOrPy5ngQMDWBCCItiYq0itcuDA9efKEGjZsSN+/f6dYsWLR+vXrid8biTlEOwBHki5BYNGiRWo9eX7+5s2b6jkOQMAWBCCItqBoIo2YMWMabUCQKFEi8UJz4DaBCl4gECgBtixdt26dUTzDZU1GATgBgWASwB06mOBwGQiAgOMIsBiyKEaLFk1myt88bPrjxw/HFQI56Z4ABFH3TYwKgoD2CfBwKa89rFSpkqxMkyZN6N69e3To0CHtVw41cBoCWIfoNE2BgoAACJgjwGt4WQD3798vozRu3Jjixo1LadOmNXcJ/EEgyAQgiEFGhgtAAAQcTaB8+fIyy8uXL8tvFkJlOZOjy4L89EsAQ6b6bVvUDAR0R0BZtgRrbd01rVNUCILoFM2AQoAACFhDAIJoDSXECS4BCGJwyeE6EAABhxOAIDocuUtlCEF0qeZGZUFA2wQgiNpuP2cvPQTR2VsI5QMBEFAJQBBVFDiwAwEIoh2gIkkQAAH7EIAg2ocrUvUjAEHELwEEQEAzBCCImmkqTRYUgqjJZkOhQcA1CUAQXbPdHVVrCKKjSCMfEACB3yYAQfxthEjAAgEIogU4CAIBEHAuAhBE52oPvZUGW7fprUVRn2AR4PfreXh40IcPH4J1PS5yDAHez5RdgQIF8G5RScI5/4sdOzYtWbKE4seP75wFNFMqhwvix48fydvb20xx9OXNLwdm9+nTJ3r69Km+KmemNrylFv8RaG1rrYULF9LBgwfJzc2NkiZNaqZ28A5pApEjRybuJfKroOCck8D169dlwfiVXR07dnTOQpoplUMFkcUwc5YsdEc8jbuS4x+G/5eb6rn+AwYMoBEjRmiyirx5tLu7uybLjkKDgDMQOHr0qOzBO0NZgloGhwri69evVTGs3LxHUMuqyfhP792kaLHiUORoMTVZ/qAW+n+LJtCJEyeCehnigwAIgECIE3CoICq1rda6LzXsPlo5xbeOCBzavFRHtUFVQAAEXIkArExdqbVRVxAAARAAAbMEIIhm0SAABEAABEDAlQhAEF2ptVFXEAABEAABswQgiGbRIAAEQAAEQMCVCEAQXam1UVcQAAEQAAGzBCCIZtEgAARAAARAwJUIQBBdqbVRVxAAARAAAbMEQmQdotnS2CngyNaV9O3rFypWvZldcuCtpBaN7ELlGnagRCnSBZrH1VOH6fLx/XT19BFKkDw15SpemTLlLU7hIkQM9FpEAAEQAAEQsA8B3fcQL3juoVkDW9L9GxftQvC/Hz9o2bhetH35NHrv/cZiHt+/f5Nl+bN5KSmGWQuWph9iv9MZ/ZpT31q56d3b1xavRyAIgAAIgID9COi2h/jpvQ+tnNSf9q6bT+EjRrILwQc3L9Gcga3o6YNbVqW/ae4YOrxlOQ1auIsy5i6qXlOn4xDqVT0HLR7VlTqNW6b64wAEQAAEQMBxBHQriKcPbKVrYkhyyJJ9tGJC30CJTu/blDqOWRIg3tRejajz+OUB/Nlj3fRhFC9pSmo3cgF1q/SHyTiKJw+r7lo9m4pWa2okhhweM14i6jB6EX3w8VKik/frF+S5fY34rKU4CZNRgfJ1KFuhsnJY9eM7b5rQpTY17j2eNs8fR/evnZdDtfW7jaTEKdPTgU1L6NKxfUb14Wsmdq1DjXqNI/f0WdV8cGA9AX57SZ26dWnb1q0UJkwY6y9ETBDQAYEfYjRs9uzZ1LRpUx3UxnQVdCuIuUpUoYIV61v9GqKIkSLTcI8yNGjBLkmKG39g/YKUpUAp0+SEb/tRCylS5KhSvMxG+hnw4tFdevP8MaXKlNNk1OxFyqv+LIY9qmSh+EJsKzfvTo9uX5VDrSyILM48H3rBczdNFKJYsFJ9KZbrZ42gUa0r0LSdNylFhuw0o28zqtKiJyVLm1mme2zn33T/+gVKmsaycKuFwEEAAj4+PrRh/Xrpn6d09QDh8AABPRM4sXsjLV++HIKoxUaO6BYlSMVuOWQmzR/Wnnh+b6AQxQF181O2IuWobqdhZtNhMbTWvfN6JaMmdE8b6CVbFoyXw7x/rjgkeiJ+zyypM+emka3KU812AylqjNgyjdL12gjB9HtrSJTosWhwoyL0+tlDSp4uC6X8Iycd/t8KathjjIx7cPMyKlKlkZpeoIVABLME2HjKY9B0s+EIAAE9EmhVKIEeq2VUJ90b1RjVNpATFsWEydNQ09wxAhXDQJIKEOwWNbr08/30MUCYf4/rZz0pe+FyRuKVtWAZChsuPN28cFyNniZLXvU4Rhy/N1P7fv4k/YrXaE5Htq4iNvp59fSBMOI5TMVqNFPj4wAEQAAEQMCYAATRgAcPk944f4wSuaeRyyIMgn77MH6yVBQpSjS6e+WMybTO/7uLFgzvSL6fP9KPH98pbPgIRvFChQ5tJJAcyH7mXOHKDcj7zQsphNxTTJUpFyVNjeFSc7zgDwIgAALm76guxobFsF/tPJSnVDUau/40JReGJ0OaFLMZBR76zC3mNdmwxtB4hjPg5RirJg0g7hmGjxCJkqTKSDfOHTXK+54wnGGxTJIyg5G/uRN+ITHX5eiOdbKnWNxOazDN5Q9/EAABENAaAQjizxbjOUMWkNodhkgfj4HThDVmNhrWrKTN2rRRz7HSyGdo0xK07+8F9PjONTq4aSkNb16aeAlH62FzZHj5xp3ozuXTtPyvPsRzjyyOc4e0oZQZc8ienrUF4mFTnjt8ev+mMDCqZ+1liAcCIAACLklAt1amhq0ZIaIbhQ9veReYCkKECgujE0PXvP9k2rd+oaGXyeNQoUJJa9PQoS2b4vPyij+XH6INc0bRion9yOfNS+Ky5StXSy6HYMMZdmwlOnTJfto0bwy1KpRQ+mUvWoHa/CkEUwyTmsqP/dnIJ7TBMGqW/KUoZtyElCZrXuIeIxwIgAAIgIB5Ai4hiAPm7zBP4GeIfzFULihRs4VyaPY7Wqy4tPS0j9lww4B4SVJQ2+HzhLjNFYL4QgoVG8v4dxlyFSb+8PBqOCHmhpsLRI0ZJ0B+CZKlDuDHIjll+zX/SeMcBEAABEDABAGXEEQT9Q5xL+7lRY/tZxlqqTDo2VmigzAQAAEQsB0BzCHajiVSAgEQAAEQ0DABCKKGGw9FBwEQAAEQsB0BDJnajiVSchECO1bMkGtKXaS6qCYISAJvXz0X335bQeoVCQRRry2LetmcQOTIkSl1mjR06+ZN2jhntM3TR4Ig4OwEsmXL5uxF/K3yQRB/Cx8udiUC4cOHp7NnztCbN5bfe+lKTBxd1127dlGZMmUcnS3y+0kgSZIkumYBQdR186JytiYQJUoU4g+c4wmcEQ8jY8aMIQ8PD7kW1/ElQI56JwCjGr23MOoHAjohUKhQIbp9+zatWbNGJzVCNZyNQIj0EPl9fvyB0x+Bb9++6q9SqFGIE/D19aVPn/ze5DJ16lSqVw9bEYZ4o+iwAA4VRN5Am93WRRPlR4c8USVB4L///gMHELApgWPHjqnpHT16VGyI/128/cXyVonqBTgAASsJOFQQeUJ24sSJdPHiRSuLp/1oX758EfuoBtyaTfs1M10D3oGnVatWpgPhCwLBJFC0aFHq2rUrTZ48mU6fPg0xDCZHXGaZgEMFkZ/ounXrZrlEOgvt27cvNWvWjNKnT6+zmqE6IOBYArFjx5YZurm5OTZj5OYyBGBUY8em5mEd7hFPmzbNjrkgaRAAARAAAVsQgCDagqKZNLZv305fv36lmTNnyjkPM9HgDQIgAAIg4AQEIIh2bIQlS5aoqe/evVs9xgEIgAAIgIDzEYAg2qlNvLy8aPPmzWrqixcvVo9xAAIgAAIg4HwEIIh2apPVq1fL4VIleRbHt2/fKqf4BgEQAAEQcDICEEQ7NQgPl0aNGlWmHi5cOPr8+TOxSMKBAAiAAAg4JwGHLrtwTgS2L9XVq1fp+PHj1LJlS5o/fz5VrFiR9u/fTyySbdu2tX2GSNFhBNavX0+XLl1yWH7I6BeBQ4cOyZMZM2ZQnDhxfgXgyCEEeI1xrVq1KGPGjA7JLyQygSDagTpv/szrLXl7KRZB3nJqwIABclNo3sWFf1hw2iPA88J8Q4ALWQLTp08P2QK4cO78ULJnzx7dEoAg2qFpkyZNKtcf8jpEXnYRP3586tWrlx1yQpIhQSBrwTLkMQhrS0OCPfIMOQKdy6XT/cM8BDHkfl/IWaMEErqnoYTuaTVaehQbBIJHIEac+MG7UENXwahGQ42FooIACIAACNiPAATRfmyRMgiAAAiAgIYIQBA11FgoKgiAAAiAgP0IQBDtxxYpgwAIgAAIaIgABFFDjYWiggAIgAAI2I8ABNF+bJEyCIAACICAhghAEDXUWCgqCIAACICA/QhAEO3HFimDAAiAAAhoiAAW5muosVBU5yDw8Z03ffDBm0ucozVQCkcR+Pjex1FZhVg+EMQQQ4+MtUaA96Fld2jLcvnRWvlRXhD4XQI/fvz43SSc+noIolM3DwrnTARixoxJ8+bNo3PnzjlTsVyqLPwatYgRI7pUnZ2pss2aNXOm4ti8LBBEmyNFgnolwG8p4Vd6wYUMAW9vb2rTpo18pVrIlAC56p0AjGr03sKoHwjohMDcuXNpzZo19PjxY53UCNVwNgIQRGdrEZQHBEDAJIHevXtL/8GDB5sMhycI/C4Bhwqir68vlShRUr5TK0yYMKT3T/jw4WX7LFu2TPd1VdqShxUXLFjwu79LXA8CRgSuX7+uni9fvlw9xgEI2JKAQ+cQX7x4Qfv375Plz1++ji3r4bRpPX9wm6LGjE1uUWM4bRltWbB/t62Ww1oeHh62TBZpuTiBSJEiUaJEiejJkyfUunVr4pdv80MYHAjYkoBDBVEpeLXWfalh99HKKb51RODS0b06qg2q4iwEkiVLRu3ataNBgwZRhw4dIIbO0jA6K4dDh0x1xg7VAQEQAAEQ0BEBCKKOGhNVAQEQAAEQCD4BCGLw2eFKEAABEAABHRGAIOqoMVEVEAABEACB4BOAIAafHa4EARAAARDQEYEQsTLVET9UxYUI8Obeixcvxl6mIdTmJ0+elDmPGjWKeF9ZOMcS4DXGjRs3ppw5czo2YwfmBkF0IGxkpW0CXl5e1KJFC21XQgel540u4EKGwMWLF2nvXv0urYIgWvm7+vL5E10/60mXTxyg188eUcbcRShz/pIUJ2EyK1NANK0T4CdkdgUr1iOPgdO0Xh2UHwSCRKB1kcQUOrS+Z9kgiFb8JB7fuUZj21WhD+/e0h95ilHMuAlp07yxNGtgS+o+eS3lK1PTilQQRS8EosaILXYfiqOX6qAeIGAVgSjR9T9MDUEM5Kfg++kDjfAoS3ESJaO/Np+n8BEjqVfMGdyGpvduQmky56HYCZOq/jgAARAAARDQHgEIYiBtdmznenr19AENXbLPSAz5siZ9/qIwYcPSh/feFJuSEhtd3L1yho7v2kAPb12mbIXKUs7ilSl2giQylyNbV9IX388UPXY8Ovy/FfRVHOcrW4sKV25I375+ofl/dqASNVtQ2mz51VJ5/rOGnty7QbXaD1L9cAACIAACIGB7AvoeELYBL54zjB47PsVPlipAapEiR6WWg2dQsjSZZNiOFdNpQL0C9OrZQ8pepDztWTePupRLRy8f35PhN88fp3XTh9HqKYModabcFCt+YpraqxHxhthhw4Unr5dPafsy47mptTOGUWhsYhyAPTxAAARAwNYE0EMMhOjbV88occr0gcQi+vThHa2aNIAa9hhDlZp1k/FL1W5FPatlo79nDqd2IxdIvw8+XnLoNXI0v7dfPLx5mc4e3i4NNYrXaC6HYDktFts7l0/TU9E7LFq1SaD5IwIIgAAIgMDvEUAPMRB+Ed2i0PdvXwOJRXTrwgkpivnL1VbjhhIWWXnL1KDLJw+qfu4ZspEihuzJc4++Hz/I8FxieDV8JDc6sXujPD+0ZTllyV9KHXKVnvgPBEAABEDALgQgiIFg5eFQng/8Id6/Zsr9PeNPunb6CH394iuD3aJEM4rmFjmanB9UPMOEDaccBvjmYVOeT+T5xe/fv8mh1GLVmwWIBw/tEVgxoS9dOr7fZMG3LZlMR7atMhlmC09+oJvcoz69fvrQZHILhneiWxf9Fr2bjGDgyXXgkZBBDQvTlB4N5G/04ztvgxghc8gjOSNbllP/1t57v6FDm5fJKYlNc8fQ0/s3jQrG8/33rp2n9bNG0Iy+zejU/v8ZPfjOHdKWrpw8ZHTN7574vHlJ3q9fmE2GyzOhcy31XuI/IteJw589uOU/KFjnO1fOpI1z8Ro+Q3gQREMaJo5zlahC/Ad/cPPSAKE8v7h2+lBpdJMweWoZfkcY1Rg6Pk+YPI2hl8VjNqq5dGwfHd2xTv5h5ClVzWJ8BDo3Ab7x8k2Hl+nwTdu/41GApeN60otHd/0H2eScH9Rm9m8hheuzsJg2dP/9+EErJvYjnvvmm7Ulxw+ELBKjWpUXQnKOCogXfPPoxuqpg6h75UzqPLmlNOwZxqKeW/yt8EPl54/vqXeNnLRyUn/5t8d/g33E+Y1zR9Ui7F+/kPrVziPa5DklEH+7bND2lxAbbi92peq0otliWRUbvtnC8T2ks7AnsCRmX3w/+YX/LIP/fLksx3atp/feXv6Dgnx+4/wxWjSyC10782+Qr9XzBZhDDKR1eYizbIP2tODPjvTB5y3lLV2dIkSKTJ7b19CGOaPpj7zFxc2hrjR8yZSvBK2c2J+6T1ojbxYn926mYzv/plZDZwWSy6/g5OmyUPL0WWnxqK5yXjFchIi/AnGkKQJ885s9sBU9un1FvNDW+E/N+/VzcRPuSOcO75C/J3tU7OqpwzRncGv6+N4nQPIPbl6iOaJsL4UFtTVu+/JptE+ISP+52yhLgdLqJTXbDZRiM3tQaxq0cJfq78gDvrlfEdMSXSeslNnuWTOX3nm9omm7blKMOAmk36rJA+W64Ulb/UZ71s8eSfW6DKeqLXvL8KwFy9DABoXkaBCPCqX8IyfFS5KCdq2eTRWbdv3t6vCDCdsPWHJps+aj8ZvOWYpikzB+YJjWu7E06rNJgjpKBD1EKxqz+YApVKl5d2Ec8ye1L5mCWhaMT8vG9ybuvfWc+rdqBdpxzBKKl9idOpZJLeIkoAldasvlEkEd9mTjGh5a4W847RLYtWo28SL+8RvPyp6LYU14BICHwMb8fZLiJLC8hvXkvs3i4WuU4eXymIcBZw9qFcBf8eCeKd/o+83Zqnip39uXTZWW02NF/ta43WvniiVCNY3EkK9j468OYxZTyVoeajLcE966eBL1q5OXRrepKKcAeD2v4gbWL0gs1pO61aUOpVLSsKYl1J4Kz58Pb1FaThko8XlJEsfhkRNTjoec85SqLpZAhZPBLJC8gYYihuzJZX906wq9ef5Y5HVEfpdr1FFNLnWWPLTqoq9qMc4BBSrUpW1LpxD3pK1x/AA0vlMNalc8OfWqnp2Wju0pe6sshmPaVpJJcC+bhyof3LhIfzYvRTxC0KV8etlD5WFrZqNMv3CvffHobtSt0h9yiJpHpAwdl4v9+DfAcbhHzJuIBOYWiYdtXtqVpeCvB5vArnGVcOPHVlepdRDryU/3/DRZu+MQevXkgfyRJ3JPS/57b7zesIt4Sm3x9rXc3i2BWKrBRjmKa9RzLP34z/iPq82wOUqw+l2mXlthWdqYIvmbj1Qj4EATBOp3HRHgN6IUvGStllSuYUfl1OJ3zmKVaeOcMfTtyxeq02mojPv07g3606M09Zm52ey1vaZtkPk/uXs9QJwWA6bKMBabwBz3bB7fvkrFzcxnp8tegCi7Xyo8itJXDEWyyNdo05+8XjyRy4y4dzl40R7i7e946JKXG7GIlq7bhrYs/EsKxuwDDylt9vw0UQjlRc89lK1wOZnomYP/yDlOFi3/jst/5sA26jTu1/6mPILDS5gMnbcYGmXHosXCw8Okl48fEMI9Uf6tcllK1m4pDN5iqpflKFqBZg3woLtXz8oeoxpg5mBSt3oy3W6TVtM7cQ9YMqaHWHf8SW7zV711PymWpeu2luuTvcRDw5UTB8V0y0MqUqWRFO+PYics3h7yx4/vcuh2Uvd6cpi9Tsehckh7+V99jHLeuWomcc+3crPuVHTobNr39wLqJazax4kHsCSpMhjFVU74gYPZ8iYjPFQPZ0wAgmjMw+IZC2P8pCktxuFAubWX6Bn4d/4FlMMNd75R4vO6Q4ihQkO736baW6mNpTAljvLN+0eOWPUvDRRrXPlmyYZXIzzKUJ9ZW8g9fTYlWoBvS3lYCvOfEN/c2VkzF75z5Qwh3L5S/JTfdlohmL1Fj4mHNbnnxq6IeOCr1WGwPOa5yM5l0xIvQUqTNa9cw8uGZYogHha9KLbeNny4lBeK/9jgjYcAeXhTcWzZPa5DNeJNLbiXxz2tjcKwhh1vjPFJDCGzUPO8YSUxHBpF/K1uWTBerBueT3+JIUul3NzDjBDRjXj9MA+hWnI898hiyz3RNGLok4Wfy8RLqNjaPF2OgvLyFBlzyJ45CyIbzjXuNY5yl6wqwy547lazuH3plOwRT9x6iZKm/kP6825ZY9pWlsdsKPX3zBHEQlutlZ9QZshVWAoxjwx0GhvQ5oEfEuYObUvdxJSOW9Toal44+EUAgviLBY5AwGkJSFFc7SmEJYccchuyZK9FMbRlRZReEwtPYI7FI2PuoqqocHx3MSfO4sI3eUUQUxkITLSYcWWyX7/4GbDwVAHPcfEwK/cATx/YSgMXmJ6f5I322cURoqo4Xr5UuXkPmtyzAS0c2VmKEo/OsCBHFL1HoVbSHqDvrP9R+pyF5GVcLh6+PbF3ExWqWF9JStoCvH7ul4fqaeKABbCqRy9pQ8BDotmLVKDcwiCPN+iw5JKlzWwy+J7olUaJHksVQ47Ec7csruyePbgtplWe0/kjO+V6Zekp/mPjrO/+LGo5jAV7Zr/mVFj0RpU2UK7B9y8CEMRfLHAEAk5N4LEwznnn9ZJiiaF53gbQUu/QlhXhEY+4iZJLQeOenX/HyxP2iDlGnmvnG69/AyKOH1pscai8LUReLwTEnMtZrKI0NDqxZ5MQxY9SlLj3Y8opy6H89x6551WlRU9p0MQ9rDeiR8iOR3hiiJ2nuCyGQ7A83RE3cfIA1r6crpKHqfwN/Wq0HSDWHdekU/u2EJd9r9ipKmexStTbwrC2/2VaSnrfv31TbRMUv3DhI6gMlaFu7nnGipdIiUKZhJFfRDGv69/xsO85IZ4vn9yXQ6Yczg8T3EvtWTUr9Z39P7y5RzCBIPr/5eAcBJyQABuEjBRLHvrP307J02YRWwTml0smGnZ3zDoy3nN379/z5S5McRO7q4TYsGP1lIFy+ULkqDEoadpMcokH+yu9Ge61sDFL0p9bHKoXmzlg4xieV2MLbV6uUKxaU1UI/F8SI66fFSkboSl7BnNP8Kyw3mU2vG8wux1iKJfFMKYQDzYmYeHmHquc/xThnA+v00yUIp2Mr/zn/eaFfLuNcm7um4dluWfIhjpsucqf/RsWySUvXHdeDhIUxz1HtpRlwyllqJrLq4gz2yfwsDdv/8g2B4rjYeJvJjYS4Qcaw3lWjs9zjvwGH+5NK6MASjqu+g0rU1dtedRbMwT4pshiOGCenxhywUeuPkpXRc+M98V1hOPN5fndn0OFtef/Fk2QYsI3VD7nYdL2YmtCnvsuW78d+Qhxmt63qbTqvHh0rzSg4e0PufdirStes7ns0VwVm14UrdbE7GXJhXCw2DwUy0gUx3sP/2/BX6LXOk8OjXJv7X8LJxAbp7BjgeFhVbbOvH/9guhFXqUZ/ZtTNCGe2X8a8nA8NhBiMVPmD7lXzkYsphzP+fMDAy+X4u0WWVzZeIgFi0WbrXG5V8qWssrexqbSUfxYqDlf3jTAb1nJIbkOVAlnwyFmvXbaUFlPnuf13L5W1uOzmLf077iXzw8Zhh82LOLysR+XD06MZAACCICA/QlEjxOfwoePaDIjfreinNsyGUpyLm3wwt0BelhsaKPcrM1cKr15CJPn8ExtEs83aQ7j4ThLjo0w+I0v/HLkg5uWUt9auYmtHpOkzijE2VOdi2PRHLP+lBzy5Dhj2lWW6Q8Sc4BKL4nzC2+wvlYpgxLO5eBhzvQ5CknhsvQSbhaGLAVK0UWDJRksvtwbYgOfZnliChEbII1XDId7O49fLqxcW0rjG95YgHt4A+cZrwm9LHbliSbahi1f2d29clYuIZEn/v5jfvxuVBam7pUzU7sSyene1XPyIYb5s6EOWxVvnj9Orl/mujIHoZJqSopfKAol24otiLmHO7hhEVowvCPV7fyn7K2G/bm8hPdNbtJ7vByabZEvjhDHIdIavrRBj1FN3MSBW5ToFMXAqtZEFJfzCiWGDvy2ZviNqp8/f56yZRPmvuPGUa9evcym9PDhQ0qWLBlVa91XDmeYjYgAzRJoWSAe5cmZjXbtMm0EoVSsXbt2NHv2bPLx8aGoUUP+6XTAgAE0atQounv3Lrm7uyvFNPr28vKiWLFiiRtbB/IYNN0ozNVO2OAlnBB4UyKrsOD1dGwMpKwPVPxt/c3LMuYNbUcz9twJUB4uJ4umOce3P14awdak/h2vI2Zx5SVX7HinmBEty9KwZQf9RzU65/k9HtpUrFWNAoNxwvmGNZg/NJVEYPU0dU1Q/VoVSkC5smWm3bt/WcOaSuPo0aNUoEABmjZtGnXsaN3SIlPphIQfeoghQR15goDGCbDIWBJDrh73muwthpwPW3KyQczx3Rv41MhZEkOOyL1TU2LI857XxbZmlcWGHIrjzQmqteqrnJr95p6ercSQM+G5Qi6nJRdYPS1di7BfBCCIv1jgCARAQIMEWCxaiw0ueP2dNW+msaaKPDfbtO9EI2OTCo07B7qMwpq0Ecd5CTjUylQZneXd5/eLCXk4/RHwFnMxcCDgaAK8M8vodSfEEG0Ym2TN29GZWj5ik8SRiNMScKggJk6cmHiu5uTJk04LBAX7PQL8tN63b+DDSr+XC64GgYAEbClgtkwrYEnh46wEHCqIYYRZ9ogRI5yVBcoFAiAAAiDgwgQwh+jCjY+qgwAIgAAI/CIAQfzFAkcgAAIgAAIuTMChQ6YuzBlV1xGBHStm2OSt5TpCgqq4AIG38hVamXVdUwiirpsXlbMlgWjRolH5ChVo+z//iP06V9kyaaQFApogUKdOHU2UM7iFhCAGlxyuczkCbBT2z7ZtLldvVBgEXIUA5hBdpaVRTxAAARAAAYsEIIgW8SAQBEAABEDAVQhAEF2lpVFPEAABEAABiwQgiBbxIBAEQAAEQMBVCEAQXaWlUU8QAAEQAAGLBCCIFvEgEARAAARAwFUIQBBdpaVRTxAAARAAAYsEIIgW8SAQBEAABEDAVQhAEF2lpVFPEAABEAABiwRsslON8uLf3r1705gxYyxmiEAQYAJv3ryRIJTfjrNQSZEiBcWKFctZioNygIDmCDjr37Y1IG0iiBkzZqQePXrQlStXrMkTcUBAEihSpAhFjRrVKWh4eHjQtWvX6NOnT05RHhQCBLRMIEaMGFS7dm3NVSGUeEL/T3OlRoFBAARAAARAwMYEMIdoY6BIDgRAAARAQJsEIIjabDeUGgRAAARAwMYEIIg2BorkQAAEQAAEtEkAgqjNdkOpQQAEQAAEbEwAgmhjoEgOBEAABEBAmwQgiNpsN5QaBEAABEDAxgQgiDYGiuRAAARAAAS0SQCCqM12Q6lBAARAAARsTACCaGOgSA4EQAAEQECbBCCI2mw3lBoEQAAEQMDGBCCINgaK5EAABEAABLRJAIKozXZDqUEABEAABGxMAIJoY6BIDgRAAARAQJsEIIjabDeUGgRAAARAwMYEIIg2BorkQAAEQAAEtEng/+++VmeQD2u3AAAAAElFTkSuQmCC)"
      ],
      "metadata": {
        "id": "72LDAMnzVUyN"
      }
    },
    {
      "cell_type": "markdown",
      "source": [
        "The original NiN network was proposed shortly after AlexNet and clearly draws some inspiration. NiN uses convolutional layers with window shapes of 11×11, 5×5, and 3×3, and the corresponding numbers of output channels are the same as in AlexNet. Each NiN block is followed by a maximum pooling layer with a stride of 2 and a window shape of 3 × 3."
      ],
      "metadata": {
        "id": "G8msGuOfViDH"
      }
    },
    {
      "cell_type": "code",
      "source": [
        "def nin_block(in_channels, out_channels, kernel_size, strides, padding):\n",
        "  return nn.Sequential(\n",
        "                  nn.Conv2d(in_channels, out_channels, kernel_size, strides, padding), nn.ReLU(),\n",
        "                  nn.Conv2d(out_channels, out_channels, kernel_size=1), nn.ReLU(),\n",
        "                  nn.Conv2d(out_channels, out_channels, kernel_size=1), nn.ReLU()\n",
        "                  )\n",
        "  "
      ],
      "metadata": {
        "id": "BSJyxE_AVwP0"
      },
      "execution_count": null,
      "outputs": []
    },
    {
      "cell_type": "code",
      "source": [
        "net=nn.Sequential(\n",
        "    nin_block(1, 96, kernel_size=11, strides=4, padding=0),\n",
        "    nn.MaxPool2d(3, stride=2),\n",
        "    nin_block(96, 256, kernel_size=5, strides=1, padding=2),\n",
        "    nn.MaxPool2d(3, stride=2),\n",
        "    nin_block(256, 384, kernel_size=3, strides=1, padding=1),\n",
        "    nn.MaxPool2d(3, stride=2),\n",
        "    nn.Dropout(0.5),\n",
        "    # There are 10 label classes\n",
        "    nin_block(384, 10, kernel_size=3, strides=1, padding=1), #Transform to batch_size X labels X h X w\n",
        "    nn.AdaptiveAvgPool2d((1, 1)), #Transform to batch_size X labels X 1 X 1\n",
        "    nn.Flatten() # Transform to batch_size X labels\n",
        ")"
      ],
      "metadata": {
        "id": "5rQRSBDsWJ9b"
      },
      "execution_count": null,
      "outputs": []
    },
    {
      "cell_type": "code",
      "source": [
        "X = torch.rand(size=(1, 1, 224, 224)) \n",
        "for layer in net:\n",
        "  X = layer(X)\n",
        "  print(layer.__class__.__name__,'output shape:\\t', X.shape)"
      ],
      "metadata": {
        "colab": {
          "base_uri": "https://localhost:8080/"
        },
        "id": "le6Vrf0wW6aC",
        "outputId": "93e959df-5535-4231-cc64-915d55c6e13c"
      },
      "execution_count": null,
      "outputs": [
        {
          "output_type": "stream",
          "name": "stdout",
          "text": [
            "Sequential output shape:\t torch.Size([1, 96, 54, 54])\n",
            "MaxPool2d output shape:\t torch.Size([1, 96, 26, 26])\n",
            "Sequential output shape:\t torch.Size([1, 256, 26, 26])\n",
            "MaxPool2d output shape:\t torch.Size([1, 256, 12, 12])\n",
            "Sequential output shape:\t torch.Size([1, 384, 12, 12])\n",
            "MaxPool2d output shape:\t torch.Size([1, 384, 5, 5])\n",
            "Dropout output shape:\t torch.Size([1, 384, 5, 5])\n",
            "Sequential output shape:\t torch.Size([1, 10, 5, 5])\n",
            "AdaptiveAvgPool2d output shape:\t torch.Size([1, 10, 1, 1])\n",
            "Flatten output shape:\t torch.Size([1, 10])\n"
          ]
        }
      ]
    },
    {
      "cell_type": "code",
      "source": [
        "lr, num_epochs, batch_size = 0.1, 5, 128\n",
        "train_iter, test_iter = load_fashion_mnist(batch_size, resize=224)\n",
        "loss=nn.CrossEntropyLoss()\n",
        "optimizer=torch.optim.SGD(net.parameters(),lr)"
      ],
      "metadata": {
        "id": "6zsfmUDWXQCk"
      },
      "execution_count": null,
      "outputs": []
    },
    {
      "cell_type": "code",
      "source": [
        "train(net, train_iter, test_iter,loss,optimizer, num_epochs, lr, try_gpu())"
      ],
      "metadata": {
        "colab": {
          "base_uri": "https://localhost:8080/"
        },
        "id": "8j-4rBl6XUyE",
        "outputId": "20f5e78f-349f-4894-e2f6-065ec6859ce2"
      },
      "execution_count": null,
      "outputs": [
        {
          "output_type": "stream",
          "name": "stdout",
          "text": [
            "training on cuda:0\n",
            "epcoch:1 loss 2.303, train acc 0.100,test acc 0.100\n",
            "epcoch:2 loss 2.235, train acc 0.123,test acc 0.150\n",
            "epcoch:3 loss 1.799, train acc 0.324,test acc 0.281\n",
            "epcoch:4 loss 1.564, train acc 0.433,test acc 0.458\n",
            "epcoch:5 loss 1.490, train acc 0.453,test acc 0.465\n"
          ]
        }
      ]
    },
    {
      "cell_type": "markdown",
      "source": [
        "# Inception\n",
        "\n",
        "![image.png](data:image/png;base64,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)"
      ],
      "metadata": {
        "id": "v2kmcp0cXePj"
      }
    },
    {
      "cell_type": "markdown",
      "source": [
        "The four paths all use appropriate padding to give the input and output the same height and width. Finally, the outputs along each path are concatenated along the channel dimension and comprise the blockʼs output. **The commonly-tuned hyperparameters of the Inception block are the number of output channels per layer.**"
      ],
      "metadata": {
        "id": "daibjeZLXsAX"
      }
    },
    {
      "cell_type": "code",
      "source": [
        "from torch.nn import functional as F #Use this\n",
        "\n",
        "class Inception(nn.Module):\n",
        "  # `c1`--`c4` are the number of output channels for each path \n",
        "  def __init__(self, in_channels, c1, c2, c3, c4, **kwargs):\n",
        "    super(Inception, self).__init__(**kwargs)\n",
        "    # Path 1 is a single 1 x 1 convolutional layer\n",
        "    self.p1_1 = nn.Conv2d(in_channels, c1, kernel_size=1)\n",
        "\n",
        "    # Path 2 is a 1 x 1 convolutional layer followed by a 3 x 3\n",
        "    # convolutional layer\n",
        "    self.p2_1 = nn.Conv2d(in_channels, c2[0], kernel_size=1) \n",
        "    self.p2_2 = nn.Conv2d(c2[0], c2[1], kernel_size=3, padding=1) \n",
        "    \n",
        "    # Path 3 is a 1 x 1 convolutional layer followed by a 5 x 5\n",
        "    # convolutional layer\n",
        "    self.p3_1 = nn.Conv2d(in_channels, c3[0], kernel_size=1) \n",
        "    self.p3_2 = nn.Conv2d(c3[0], c3[1], kernel_size=5, padding=2) \n",
        "    \n",
        "    # Path 4 is a 3 x 3 maximum pooling layer followed by a 1 x 1 # convolutional layer\n",
        "    self.p4_1 = nn.MaxPool2d(kernel_size=3, stride=1, padding=1) \n",
        "    self.p4_2 = nn.Conv2d(in_channels, c4, kernel_size=1)\n",
        "\n",
        "  def forward(self,X):\n",
        "    p1=F.relu(self.p1_1(X))\n",
        "    p2=F.relu(self.p2_2(self.p2_1(X)))\n",
        "    p3=F.relu(self.p3_2(self.p3_1(X)))\n",
        "    p4=F.relu(self.p4_2(self.p4_1(X)))\n",
        "    #Concatenate the outputs on the channel dimension\n",
        "    return torch.cat((p1,p2,p3,p4),dim=1)"
      ],
      "metadata": {
        "id": "xXUByiaKXiC8"
      },
      "execution_count": null,
      "outputs": []
    },
    {
      "cell_type": "markdown",
      "source": [
        "![image.png](data:image/png;base64,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)"
      ],
      "metadata": {
        "id": "G-_aksYvaeEh"
      }
    },
    {
      "cell_type": "code",
      "source": [
        "b1 = nn.Sequential(\n",
        "    nn.Conv2d(1, 64, kernel_size=7, stride=2, padding=3), nn.ReLU(),\n",
        "    nn.MaxPool2d(kernel_size=3, stride=2, padding=1)\n",
        "    )"
      ],
      "metadata": {
        "id": "VfyknXpHaWtK"
      },
      "execution_count": null,
      "outputs": []
    },
    {
      "cell_type": "code",
      "source": [
        "b2 = nn.Sequential(\n",
        "    nn.Conv2d(64, 64, kernel_size=1), nn.ReLU(),\n",
        "    nn.Conv2d(64, 192, kernel_size=3, padding=1), nn.ReLU(),\n",
        "    nn.MaxPool2d(kernel_size=3, stride=2, padding=1))"
      ],
      "metadata": {
        "id": "wkVK9aqHaze5"
      },
      "execution_count": null,
      "outputs": []
    },
    {
      "cell_type": "markdown",
      "source": [
        "The third module connects two complete Inception blocks in series. The number of output channels of the first Inception block is 64 + 128 + 32 + 32 = 256, and the number-of-output-channel ratioamongthefourpathsis64 : 128 : 32 : 32 = 2 : 4 : 1 : 1. The second and third paths first reduce the number of input channels to 96/192 = 1/2 and 16/192 = 1/12, respectively, and then connect the second convolutional layer. The number of output channels of the second Inception block is increased to 128 + 192 + 96 + 64 = 480, and the number-of-output-channel ratio among thefourpathsis128 : 192 : 96 : 64 = 4 : 6 : 3 : 2. The second and third paths first reduce the number of input channels to 128/256 = 1/2 and 32/256 = 1/8, respectively."
      ],
      "metadata": {
        "id": "GOxyL7LBbFAi"
      }
    },
    {
      "cell_type": "code",
      "source": [
        "b3 = nn.Sequential(\n",
        "    Inception(192, 64, (96, 128), (16, 32), 32),\n",
        "    Inception(256, 128, (128, 192), (32, 96), 64),\n",
        "    nn.MaxPool2d(kernel_size=3, stride=2, padding=1)\n",
        "    )"
      ],
      "metadata": {
        "id": "lpjZdOGabMYJ"
      },
      "execution_count": null,
      "outputs": []
    },
    {
      "cell_type": "markdown",
      "source": [
        "The fourth module is more complicated. It connects five Inception blocks in series, and they have 192+208+48+64 = 512, 160+224+64+64 = 512, 128+256+64+64 = 512, 112+288+64+64 = 528, and 256+320+128+128 = 832 output channels, respectively. The number of channels assigned to these paths is similar to that in the third module: the second path with the 3×3 convolutional layer outputs the largest number of channels, followed by the first path with only the 1 × 1 convolutional layer, the third path with the 5×5 convolutional layer, and the fourth path with the 3×3 maximum pooling layer. The second and third paths will first reduce the number of channels according to the ratio. These ratios are slightly different in different Inception blocks."
      ],
      "metadata": {
        "id": "gCCPFcZ7coVM"
      }
    },
    {
      "cell_type": "code",
      "source": [
        "b4 = nn.Sequential(\n",
        "    Inception(480, 192, (96, 208), (16, 48), 64),\n",
        "    Inception(512, 160, (112, 224), (24, 64), 64),\n",
        "    Inception(512, 128, (128, 256), (24, 64), 64),\n",
        "    Inception(512, 112, (144, 288), (32, 64), 64),\n",
        "    Inception(528, 256, (160, 320), (32, 128), 128),\n",
        "    nn.MaxPool2d(kernel_size=3, stride=2, padding=1)\n",
        "    )"
      ],
      "metadata": {
        "id": "rNc2vo7hcqZj"
      },
      "execution_count": null,
      "outputs": []
    },
    {
      "cell_type": "markdown",
      "source": [
        "The fifth module has two Inception blocks with 256 + 320 + 128 + 128 = 832 and 384 + 384 + 128 + 128 = 1024 output channels. The number of channels assigned to each path is the same as that in the third and fourth modules, but differs in specific values. It should be noted that the fifth block is followed by the output layer. **This block uses the global average pooling layer to change the height and width of each channel to 1, just as in NiN. Finally, we turn the output into a two-dimensional array followed by a fully-connected layer whose number of outputs is the number of label classes.**"
      ],
      "metadata": {
        "id": "CF1UuRWRc64W"
      }
    },
    {
      "cell_type": "code",
      "source": [
        "b5 = nn.Sequential(\n",
        "    Inception(832, 256, (160, 320), (32, 128), 128),\n",
        "    Inception(832, 384, (192, 384), (48, 128), 128),\n",
        "    nn.AdaptiveAvgPool2d((1,1)),\n",
        "    nn.Flatten())\n"
      ],
      "metadata": {
        "id": "U7fAK_GwdMqT"
      },
      "execution_count": null,
      "outputs": []
    },
    {
      "cell_type": "code",
      "source": [
        "net = nn.Sequential(b1, b2, b3, b4, b5, nn.Linear(1024, 10))"
      ],
      "metadata": {
        "id": "7tLPqo97dW8W"
      },
      "execution_count": null,
      "outputs": []
    },
    {
      "cell_type": "code",
      "source": [
        "X = torch.rand(size=(1, 1, 96, 96)) \n",
        "for layer in net:\n",
        "  X = layer(X)\n",
        "  print(layer.__class__.__name__,'output shape:\\t', X.shape)"
      ],
      "metadata": {
        "colab": {
          "base_uri": "https://localhost:8080/"
        },
        "id": "KBuoZu7wdpkp",
        "outputId": "6ca74b2a-eca5-4e81-805b-0c43168db272"
      },
      "execution_count": null,
      "outputs": [
        {
          "output_type": "stream",
          "name": "stdout",
          "text": [
            "Sequential output shape:\t torch.Size([1, 64, 24, 24])\n",
            "Sequential output shape:\t torch.Size([1, 192, 12, 12])\n",
            "Sequential output shape:\t torch.Size([1, 480, 6, 6])\n",
            "Sequential output shape:\t torch.Size([1, 832, 3, 3])\n",
            "Sequential output shape:\t torch.Size([1, 1024])\n",
            "Linear output shape:\t torch.Size([1, 10])\n"
          ]
        }
      ]
    },
    {
      "cell_type": "code",
      "source": [
        "lr, num_epochs, batch_size = 0.1, 1, 128\n",
        "train_iter, test_iter = load_fashion_mnist(batch_size, resize=224)\n",
        "loss=nn.CrossEntropyLoss()\n",
        "optimizer=torch.optim.SGD(net.parameters(),lr)"
      ],
      "metadata": {
        "id": "IZMgKd_KdzVR"
      },
      "execution_count": null,
      "outputs": []
    },
    {
      "cell_type": "code",
      "source": [
        "train(net, train_iter, test_iter,loss,optimizer, num_epochs, lr, try_gpu())"
      ],
      "metadata": {
        "colab": {
          "base_uri": "https://localhost:8080/"
        },
        "id": "KydqqS7ddz-N",
        "outputId": "0c719ea2-a4c3-437a-8ace-b8b1ab789813"
      },
      "execution_count": null,
      "outputs": [
        {
          "output_type": "stream",
          "name": "stdout",
          "text": [
            "training on cuda:0\n",
            "epcoch:1 loss 2.263, train acc 0.151,test acc 0.215\n"
          ]
        }
      ]
    },
    {
      "cell_type": "markdown",
      "source": [
        "# Batch Normalisation"
      ],
      "metadata": {
        "id": "SyDlEkRKTmD6"
      }
    },
    {
      "cell_type": "code",
      "source": [
        "def batch_norm(X,scale,shift,moving_mean,moving_var,eps,momentum):\n",
        "  # Use `is_grad_enabled` to determine whether the current mode is training # mode or prediction mode\n",
        "  if not torch.is_grad_enabled():\n",
        "    # If it is prediction mode, directly use the mean and variance\n",
        "    # obtained by moving average\n",
        "    X_hat = (X - moving_mean) / torch.sqrt(moving_var + eps)\n",
        "\n",
        "  else:\n",
        "    assert len(X.shape) in (2, 4) \n",
        "    if len(X.shape) == 2:\n",
        "      # When using a fully-connected layer, calculate the mean and # variance on the feature dimension\n",
        "      mean = X.mean(dim=0)\n",
        "      var = ((X - mean) ** 2).mean(dim=0)\n",
        "    \n",
        "    else:\n",
        "      # When using a two-dimensional convolutional layer, calculate the\n",
        "      # mean and variance on the channel dimension (axis=1). Here we\n",
        "      # need to maintain the shape of `X`, so that the broadcasting # operation can be carried out later\n",
        "      mean = X.mean(dim=(0, 2, 3), keepdim=True)\n",
        "      var = ((X - mean) ** 2).mean(dim=(0, 2, 3), keepdim=True)\n",
        "\n",
        "    # In training mode, the current mean and variance are used for the # standardization\n",
        "    X_hat = (X - mean) / torch.sqrt(var + eps)\n",
        "    # Update the mean and variance using moving average\n",
        "    moving_mean = momentum * moving_mean + (1.0 - momentum) * mean\n",
        "    moving_var = momentum * moving_var + (1.0 - momentum) * var\n",
        "\n",
        "  Y=scale*X_hat+shift\n",
        "  return Y,moving_mean,moving_var\n"
      ],
      "metadata": {
        "id": "MuR2aXpaTqOq"
      },
      "execution_count": null,
      "outputs": []
    },
    {
      "cell_type": "code",
      "source": [
        "class BatchNorm(nn.Module):\n",
        "  # `num_features`: the number of outputs for a fully-connected layer\n",
        "  # or the number of output channels for a convolutional layer. \n",
        "  #`num_dims`: # 2 for a fully-connected layer and 4 for a convolutional layer\n",
        "  def __init__(self,num_features,num_dims):\n",
        "    super().__init__()\n",
        "    if num_dims == 2:\n",
        "      shape = (1, num_features) \n",
        "    else:\n",
        "      shape = (1, num_features, 1, 1)\n",
        "    # The scale parameter and the shift parameter (model parameters) are\n",
        "    # initialized to 1 and 0, respectively\n",
        "    self.scale = nn.Parameter(torch.ones(shape))\n",
        "    self.shift = nn.Parameter(torch.zeros(shape))\n",
        "    # The variables that are not model parameters are initialized to 0 and 1 \n",
        "    self.moving_mean = torch.zeros(shape)\n",
        "    self.moving_var = torch.ones(shape)\n",
        "\n",
        "  def forward(self,X):\n",
        "    # If `X` is not on the main memory, copy `moving_mean` and \n",
        "    # `moving_var` to the device where `X` is located\n",
        "    if self.moving_mean.device != X.device:\n",
        "      self.moving_mean = self.moving_mean.to(X.device)\n",
        "      self.moving_var = self.moving_var.to(X.device)\n",
        "    # Save the updated `moving_mean` and `moving_var` \n",
        "    Y, self.moving_mean, self.moving_var = batch_norm(X, self.scale, self.shift, self.moving_mean,self.moving_var, eps=1e-5, momentum=0.9) \n",
        "    return Y\n"
      ],
      "metadata": {
        "id": "MBPBzNjAU8GI"
      },
      "execution_count": null,
      "outputs": []
    },
    {
      "cell_type": "code",
      "source": [
        "y_try,m_mean_try,m_std_try=batch_norm(torch.rand(5,10), nn.Parameter(torch.ones((1,10))),nn.Parameter(torch.zeros((1,10))), torch.zeros((1,10)),torch.ones((1,10)), eps=1e-5, momentum=0.9) "
      ],
      "metadata": {
        "id": "jdbptT4baqdF"
      },
      "execution_count": null,
      "outputs": []
    },
    {
      "cell_type": "markdown",
      "source": [
        "##Batch Norm After Activation"
      ],
      "metadata": {
        "id": "hYW8ZP0tck_a"
      }
    },
    {
      "cell_type": "code",
      "source": [
        "net = nn.Sequential(\n",
        "    nn.Conv2d(1, 6, kernel_size=5),nn.Sigmoid(),BatchNorm(6, num_dims=4),\n",
        "    nn.AvgPool2d(kernel_size=2, stride=2),\n",
        "    nn.Conv2d(6, 16, kernel_size=5), nn.Sigmoid(),BatchNorm(16, num_dims=4),\n",
        "    nn.AvgPool2d(kernel_size=2, stride=2),\n",
        "    nn.Flatten(),\n",
        "    nn.Linear(16*4*4, 120),nn.Sigmoid(),BatchNorm(120, num_dims=2),\n",
        "    nn.Linear(120, 84),nn.Sigmoid(),BatchNorm(84, num_dims=2), \n",
        "    nn.Linear(84, 10))"
      ],
      "metadata": {
        "id": "zEGNzkWBXMOZ"
      },
      "execution_count": null,
      "outputs": []
    },
    {
      "cell_type": "code",
      "source": [
        "lr, num_epochs, batch_size = 1.0, 10, 256\n",
        "train_iter, test_iter = load_fashion_mnist(batch_size)\n",
        "loss=nn.CrossEntropyLoss()\n",
        "optimizer=torch.optim.SGD(net.parameters(),lr)"
      ],
      "metadata": {
        "id": "9Lw9OkAyYW7v"
      },
      "execution_count": null,
      "outputs": []
    },
    {
      "cell_type": "code",
      "source": [
        "train(net, train_iter, test_iter,loss,optimizer, num_epochs, lr, try_gpu())"
      ],
      "metadata": {
        "colab": {
          "base_uri": "https://localhost:8080/"
        },
        "id": "nfEo_yHrYawv",
        "outputId": "208dbbbf-af49-4bae-b43c-ffd95160554c"
      },
      "execution_count": null,
      "outputs": [
        {
          "output_type": "stream",
          "name": "stdout",
          "text": [
            "training on cuda:0\n",
            "epcoch:1 loss 0.828, train acc 0.714,test acc 0.768\n",
            "epcoch:2 loss 0.451, train acc 0.830,test acc 0.840\n",
            "epcoch:3 loss 0.385, train acc 0.857,test acc 0.841\n",
            "epcoch:4 loss 0.353, train acc 0.869,test acc 0.843\n",
            "epcoch:5 loss 0.329, train acc 0.877,test acc 0.830\n",
            "epcoch:6 loss 0.312, train acc 0.884,test acc 0.866\n",
            "epcoch:7 loss 0.298, train acc 0.890,test acc 0.878\n",
            "epcoch:8 loss 0.288, train acc 0.893,test acc 0.869\n",
            "epcoch:9 loss 0.275, train acc 0.897,test acc 0.858\n",
            "epcoch:10 loss 0.266, train acc 0.900,test acc 0.880\n"
          ]
        }
      ]
    },
    {
      "cell_type": "code",
      "source": [
        "net[2].scale, net[2].shift,net[2].scale.shape, net[2].shift.shape"
      ],
      "metadata": {
        "colab": {
          "base_uri": "https://localhost:8080/"
        },
        "id": "_2UDaMKPeeyo",
        "outputId": "8d2fc9e7-a0bc-49cd-f1c3-7fb137c48e48"
      },
      "execution_count": null,
      "outputs": [
        {
          "output_type": "execute_result",
          "data": {
            "text/plain": [
              "(Parameter containing:\n",
              " tensor([[[[ 1.1882]],\n",
              " \n",
              "          [[ 0.5413]],\n",
              " \n",
              "          [[ 0.6186]],\n",
              " \n",
              "          [[-0.5357]],\n",
              " \n",
              "          [[ 2.2327]],\n",
              " \n",
              "          [[ 2.0171]]]], device='cuda:0', requires_grad=True),\n",
              " Parameter containing:\n",
              " tensor([[[[ 0.1562]],\n",
              " \n",
              "          [[ 0.0850]],\n",
              " \n",
              "          [[ 0.1506]],\n",
              " \n",
              "          [[-0.9512]],\n",
              " \n",
              "          [[-0.4452]],\n",
              " \n",
              "          [[ 0.2629]]]], device='cuda:0', requires_grad=True),\n",
              " torch.Size([1, 6, 1, 1]),\n",
              " torch.Size([1, 6, 1, 1]))"
            ]
          },
          "metadata": {},
          "execution_count": 47
        }
      ]
    },
    {
      "cell_type": "code",
      "source": [
        "net = nn.Sequential(\n",
        "    nn.Conv2d(1, 6, kernel_size=5),nn.Sigmoid(),nn.BatchNorm2d(6),\n",
        "    nn.AvgPool2d(kernel_size=2, stride=2),\n",
        "    nn.Conv2d(6, 16, kernel_size=5),nn.Sigmoid(),nn.BatchNorm2d(16),\n",
        "    nn.AvgPool2d(kernel_size=2, stride=2),\n",
        "    nn.Flatten(),\n",
        "    nn.Linear(256, 120),nn.Sigmoid(),nn.BatchNorm1d(120),\n",
        "    nn.Linear(120, 84), nn.Sigmoid(),nn.BatchNorm1d(84),\n",
        "    nn.Linear(84, 10))"
      ],
      "metadata": {
        "id": "cpNr_7vleqId"
      },
      "execution_count": null,
      "outputs": []
    },
    {
      "cell_type": "code",
      "source": [
        "lr, num_epochs, batch_size = 1.0, 10, 256\n",
        "train_iter, test_iter = load_fashion_mnist(batch_size)\n",
        "loss=nn.CrossEntropyLoss()\n",
        "optimizer=torch.optim.SGD(net.parameters(),lr)\n",
        "train(net, train_iter, test_iter,loss,optimizer, num_epochs, lr, try_gpu())"
      ],
      "metadata": {
        "colab": {
          "base_uri": "https://localhost:8080/"
        },
        "id": "ByhkuL7Fe3eo",
        "outputId": "6e4c8589-a7a5-4dce-896d-aa9059b74698"
      },
      "execution_count": null,
      "outputs": [
        {
          "output_type": "stream",
          "name": "stdout",
          "text": [
            "training on cuda:0\n",
            "epcoch:1 loss 0.750, train acc 0.733,test acc 0.811\n",
            "epcoch:2 loss 0.431, train acc 0.840,test acc 0.834\n",
            "epcoch:3 loss 0.371, train acc 0.862,test acc 0.829\n",
            "epcoch:4 loss 0.342, train acc 0.871,test acc 0.797\n",
            "epcoch:5 loss 0.321, train acc 0.880,test acc 0.841\n",
            "epcoch:6 loss 0.305, train acc 0.885,test acc 0.841\n",
            "epcoch:7 loss 0.294, train acc 0.889,test acc 0.870\n",
            "epcoch:8 loss 0.285, train acc 0.892,test acc 0.859\n",
            "epcoch:9 loss 0.275, train acc 0.896,test acc 0.879\n",
            "epcoch:10 loss 0.267, train acc 0.900,test acc 0.864\n"
          ]
        }
      ]
    },
    {
      "cell_type": "markdown",
      "source": [
        "##Batch Norm Before Activation"
      ],
      "metadata": {
        "id": "Kn8I9aX6cqCs"
      }
    },
    {
      "cell_type": "code",
      "source": [
        "net = nn.Sequential(\n",
        "    nn.Conv2d(1, 6, kernel_size=5),BatchNorm(6, num_dims=4),nn.Sigmoid(),\n",
        "    nn.AvgPool2d(kernel_size=2, stride=2),\n",
        "    nn.Conv2d(6, 16, kernel_size=5),BatchNorm(16, num_dims=4),nn.Sigmoid(),\n",
        "    nn.AvgPool2d(kernel_size=2, stride=2),\n",
        "    nn.Flatten(),\n",
        "    nn.Linear(16*4*4, 120),BatchNorm(120, num_dims=2),nn.Sigmoid(),\n",
        "    nn.Linear(120, 84),BatchNorm(84, num_dims=2),nn.Sigmoid(),\n",
        "    nn.Linear(84, 10))"
      ],
      "metadata": {
        "id": "9vtctEd3cjls"
      },
      "execution_count": null,
      "outputs": []
    },
    {
      "cell_type": "code",
      "source": [
        "lr, num_epochs, batch_size = 1.0, 10, 256\n",
        "train_iter, test_iter = load_fashion_mnist(batch_size)\n",
        "loss=nn.CrossEntropyLoss()\n",
        "optimizer=torch.optim.SGD(net.parameters(),lr)"
      ],
      "metadata": {
        "id": "Tky1y405c4NH"
      },
      "execution_count": null,
      "outputs": []
    },
    {
      "cell_type": "code",
      "source": [
        "train(net, train_iter, test_iter,loss,optimizer, num_epochs, lr, try_gpu())"
      ],
      "metadata": {
        "colab": {
          "base_uri": "https://localhost:8080/"
        },
        "id": "fw005hTcc5Vm",
        "outputId": "4b8a1adc-fe38-47d7-cd54-f2a854f967c8"
      },
      "execution_count": null,
      "outputs": [
        {
          "output_type": "stream",
          "name": "stdout",
          "text": [
            "training on cuda:0\n",
            "epcoch:1 loss 0.748, train acc 0.732,test acc 0.755\n",
            "epcoch:2 loss 0.485, train acc 0.822,test acc 0.759\n",
            "epcoch:3 loss 0.408, train acc 0.851,test acc 0.815\n",
            "epcoch:4 loss 0.371, train acc 0.865,test acc 0.846\n",
            "epcoch:5 loss 0.339, train acc 0.875,test acc 0.846\n",
            "epcoch:6 loss 0.321, train acc 0.882,test acc 0.835\n",
            "epcoch:7 loss 0.305, train acc 0.888,test acc 0.847\n",
            "epcoch:8 loss 0.295, train acc 0.891,test acc 0.871\n",
            "epcoch:9 loss 0.277, train acc 0.898,test acc 0.819\n",
            "epcoch:10 loss 0.273, train acc 0.899,test acc 0.864\n"
          ]
        }
      ]
    },
    {
      "cell_type": "code",
      "source": [
        "net[1].scale, net[1].shift"
      ],
      "metadata": {
        "colab": {
          "base_uri": "https://localhost:8080/"
        },
        "id": "H1gBcUeQemA-",
        "outputId": "5927aef6-377a-4e57-af7f-9439ac0f324c"
      },
      "execution_count": null,
      "outputs": [
        {
          "output_type": "execute_result",
          "data": {
            "text/plain": [
              "(Parameter containing:\n",
              " tensor([[[[2.6900]],\n",
              " \n",
              "          [[0.3682]],\n",
              " \n",
              "          [[2.1615]],\n",
              " \n",
              "          [[2.6361]],\n",
              " \n",
              "          [[2.7074]],\n",
              " \n",
              "          [[3.7171]]]], device='cuda:0', requires_grad=True),\n",
              " Parameter containing:\n",
              " tensor([[[[-2.7606]],\n",
              " \n",
              "          [[ 0.2276]],\n",
              " \n",
              "          [[-2.5669]],\n",
              " \n",
              "          [[ 3.0449]],\n",
              " \n",
              "          [[ 2.8688]],\n",
              " \n",
              "          [[-0.0693]]]], device='cuda:0', requires_grad=True))"
            ]
          },
          "metadata": {},
          "execution_count": 53
        }
      ]
    },
    {
      "cell_type": "code",
      "source": [
        "net = nn.Sequential(\n",
        "    nn.Conv2d(1, 6, kernel_size=5),\n",
        "    nn.BatchNorm2d(6), nn.Sigmoid(),\n",
        "    nn.AvgPool2d(kernel_size=2, stride=2),\n",
        "    nn.Conv2d(6, 16, kernel_size=5), nn.BatchNorm2d(16), nn.Sigmoid(),\n",
        "    nn.AvgPool2d(kernel_size=2, stride=2),\n",
        "    nn.Flatten(),\n",
        "    nn.Linear(256, 120),nn.BatchNorm1d(120),nn.Sigmoid(),\n",
        "    nn.Linear(120, 84), nn.BatchNorm1d(84), nn.Sigmoid(),\n",
        "    nn.Linear(84, 10))"
      ],
      "metadata": {
        "id": "fhuDweB2e6qB"
      },
      "execution_count": null,
      "outputs": []
    },
    {
      "cell_type": "code",
      "source": [
        "lr, num_epochs, batch_size = 1.0, 10, 256\n",
        "train_iter, test_iter = load_fashion_mnist(batch_size)\n",
        "loss=nn.CrossEntropyLoss()\n",
        "optimizer=torch.optim.SGD(net.parameters(),lr)\n",
        "train(net, train_iter, test_iter,loss,optimizer, num_epochs, lr, try_gpu())"
      ],
      "metadata": {
        "colab": {
          "base_uri": "https://localhost:8080/"
        },
        "id": "sPyabwnpe8WX",
        "outputId": "0c4c5c15-e1c5-4683-bfbc-911458c336b8"
      },
      "execution_count": null,
      "outputs": [
        {
          "output_type": "stream",
          "name": "stdout",
          "text": [
            "training on cuda:0\n",
            "epcoch:1 loss 0.741, train acc 0.732,test acc 0.751\n",
            "epcoch:2 loss 0.483, train acc 0.824,test acc 0.807\n",
            "epcoch:3 loss 0.417, train acc 0.848,test acc 0.819\n",
            "epcoch:4 loss 0.376, train acc 0.861,test acc 0.836\n",
            "epcoch:5 loss 0.346, train acc 0.873,test acc 0.804\n",
            "epcoch:6 loss 0.325, train acc 0.882,test acc 0.858\n",
            "epcoch:7 loss 0.312, train acc 0.885,test acc 0.846\n",
            "epcoch:8 loss 0.299, train acc 0.890,test acc 0.851\n",
            "epcoch:9 loss 0.288, train acc 0.893,test acc 0.817\n",
            "epcoch:10 loss 0.282, train acc 0.896,test acc 0.870\n"
          ]
        }
      ]
    },
    {
      "cell_type": "markdown",
      "source": [
        "# Resnet\n",
        "\n",
        "![image.png](data:image/png;base64,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)"
      ],
      "metadata": {
        "id": "m4MUiTEoxIuW"
      }
    },
    {
      "cell_type": "markdown",
      "source": [
        "The residual block has two 3 × 3 con- volutional layers with the same number of output channels. Each convolutional layer is followed by a batch normalization layer and a ReLU activation function. Then, we skip these two convolution operations and add the input directly before the final ReLU activation function. This kind of design requires that the output of the two convolutional layers has to be of the same shape as the input, so that they can be added together. If we want to change the number of channels, we need\n",
        "to introduce an additional 1 × 1 convolutional layer to transform the input into the desired shape for the addition operation.\n",
        "\n",
        "**This code generates two types of networks: one where we add the input to the output before ap- plying the ReLU nonlinearity whenever use_1x1conv=False, and one where use_1X1conv=True so that we adjust channels and resolution**"
      ],
      "metadata": {
        "id": "5rHcUm7AxTAH"
      }
    },
    {
      "cell_type": "code",
      "source": [
        "from torch.nn import functional as F\n",
        "class Residual(nn.Module):\n",
        "  def __init__(self,in_channels,out_channels,use_1x1conv=False,strides=1):\n",
        "    super().__init__()\n",
        "    self.conv1=nn.Conv2d(in_channels,out_channels,kernel_size=3,padding=1,stride=strides)\n",
        "    self.conv2=nn.Conv2d(out_channels,out_channels,kernel_size=3,padding=1)\n",
        "\n",
        "    if use_1x1conv:\n",
        "      self.conv3=nn.Conv2d(in_channels,out_channels,kernel_size=1,stride=strides)\n",
        "    else:\n",
        "      self.conv3=None\n",
        "    \n",
        "    self.bn1 = nn.BatchNorm2d(out_channels)\n",
        "    self.bn2 = nn.BatchNorm2d(out_channels)\n",
        "\n",
        "  def forward(self,X):\n",
        "    Y=self.bn1(F.relu(self.conv1(X)))\n",
        "    Y=self.conv2(Y)\n",
        "    if self.conv3:\n",
        "      X=self.conv3(X)\n",
        "    Y+=X\n",
        "    return self.bn2(F.relu(Y))\n"
      ],
      "metadata": {
        "id": "mV22i_LWxSWL"
      },
      "execution_count": 20,
      "outputs": []
    },
    {
      "cell_type": "code",
      "source": [
        "blk = Residual(3,3)\n",
        "X = torch.rand(4, 3, 6, 6) \n",
        "Y = blk(X)\n",
        "Y.shape"
      ],
      "metadata": {
        "colab": {
          "base_uri": "https://localhost:8080/"
        },
        "id": "KWow72wNxKUg",
        "outputId": "351ff119-495f-4e08-a706-637f4e25cb40"
      },
      "execution_count": 21,
      "outputs": [
        {
          "output_type": "execute_result",
          "data": {
            "text/plain": [
              "torch.Size([4, 3, 6, 6])"
            ]
          },
          "metadata": {},
          "execution_count": 21
        }
      ]
    },
    {
      "cell_type": "code",
      "source": [
        "#We also have the option to halve the output height and width while increasing the number of\n",
        "#output channels.\n",
        "blk = Residual(3,6, use_1x1conv=True, strides=2) \n",
        "blk(X).shape"
      ],
      "metadata": {
        "colab": {
          "base_uri": "https://localhost:8080/"
        },
        "id": "nPI6yf_szp4Z",
        "outputId": "22371619-c19d-4e90-c9ce-8fe7b76cb5fe"
      },
      "execution_count": 22,
      "outputs": [
        {
          "output_type": "execute_result",
          "data": {
            "text/plain": [
              "torch.Size([4, 6, 3, 3])"
            ]
          },
          "metadata": {},
          "execution_count": 22
        }
      ]
    },
    {
      "cell_type": "markdown",
      "source": [
        "The first two layers of ResNet are the same as those of the GoogLeNet we described before: the 7×7 convolutional layer with 64 output channels and a stride of 2 is followed by the 3×3 maximum pooling layer with a stride of 2. The difference is the batch normalization layer added after each ReLU layer in ResNet.ResNet uses four modules made up of residual blocks, each of which uses several residual blocks with the same number of output channels. The number of channels in the first module is the same as the number of input channels. Since a maximum pooling layer with a stride of 2 has already been used, it is not necessary to reduce the height and width. In the first residual block for each of the subsequent modules, the number of channels is doubled compared with that of the previous module, and the height and width are halved."
      ],
      "metadata": {
        "id": "EQxG0pGI1CwC"
      }
    },
    {
      "cell_type": "code",
      "source": [
        "b1 = nn.Sequential(nn.Conv2d(1, 64, kernel_size=7, stride=2, padding=3),nn.ReLU(),nn.BatchNorm2d(64),\n",
        "                  nn.MaxPool2d(kernel_size=3, stride=2, padding=1)\n",
        "                  )\n"
      ],
      "metadata": {
        "id": "88WZSmHA02r_"
      },
      "execution_count": 23,
      "outputs": []
    },
    {
      "cell_type": "code",
      "source": [
        "def resnet_block(input_channels, num_channels, num_residuals, first_block=False):\n",
        "  blk = []\n",
        "  for i in range(num_residuals):\n",
        "    if i == 0 and not first_block: \n",
        "      blk.append(Residual(input_channels, num_channels,use_1x1conv=True, strides=2))\n",
        "    else:\n",
        "      blk.append(Residual(num_channels, num_channels))\n",
        "  return blk"
      ],
      "metadata": {
        "id": "ot3m_jod1Y8j"
      },
      "execution_count": 24,
      "outputs": []
    },
    {
      "cell_type": "code",
      "source": [
        "b2 = nn.Sequential(*resnet_block(64, 64, 2, first_block=True)) #2X2 conv layers\n",
        "b3 = nn.Sequential(*resnet_block(64, 128, 2))  #2 X 3 conv layers\n",
        "b4 = nn.Sequential(*resnet_block(128, 256, 2)) #2 X 3 conv layers\n",
        "b5 = nn.Sequential(*resnet_block(256, 512, 2)) #2 X 3 conv layers"
      ],
      "metadata": {
        "id": "qS1w8WaL2amp"
      },
      "execution_count": 25,
      "outputs": []
    },
    {
      "cell_type": "code",
      "source": [
        "net = nn.Sequential(b1, b2, b3, b4, b5, nn.AdaptiveAvgPool2d((1,1)),nn.Flatten(), nn.Linear(512, 10))"
      ],
      "metadata": {
        "id": "TcB2kVO13FR2"
      },
      "execution_count": 26,
      "outputs": []
    },
    {
      "cell_type": "code",
      "source": [
        "X = torch.rand(size=(1, 1, 224, 224)) \n",
        "for layer in net:\n",
        "  X = layer(X)\n",
        "  print(layer.__class__.__name__,'output shape:\\t', X.shape)"
      ],
      "metadata": {
        "colab": {
          "base_uri": "https://localhost:8080/"
        },
        "id": "Sefd9_YB3Tdj",
        "outputId": "3e07a3ac-d3dd-4562-e2ea-2ce825e55b3e"
      },
      "execution_count": 27,
      "outputs": [
        {
          "output_type": "stream",
          "name": "stdout",
          "text": [
            "Sequential output shape:\t torch.Size([1, 64, 56, 56])\n",
            "Sequential output shape:\t torch.Size([1, 64, 56, 56])\n",
            "Sequential output shape:\t torch.Size([1, 128, 28, 28])\n",
            "Sequential output shape:\t torch.Size([1, 256, 14, 14])\n",
            "Sequential output shape:\t torch.Size([1, 512, 7, 7])\n",
            "AdaptiveAvgPool2d output shape:\t torch.Size([1, 512, 1, 1])\n",
            "Flatten output shape:\t torch.Size([1, 512])\n",
            "Linear output shape:\t torch.Size([1, 10])\n"
          ]
        }
      ]
    },
    {
      "cell_type": "code",
      "source": [
        "lr, num_epochs, batch_size = 0.05, 7, 256\n",
        "train_iter, test_iter = load_fashion_mnist(batch_size, resize=96)\n",
        "loss=nn.CrossEntropyLoss()\n",
        "optimizer=torch.optim.SGD(net.parameters(),lr)"
      ],
      "metadata": {
        "colab": {
          "base_uri": "https://localhost:8080/",
          "height": 423,
          "referenced_widgets": [
            "70e75721e91940e7901b1a93bdcf7856",
            "ae909749df8c4446bd413ac66796aeeb",
            "09b0466c6e62413c9b6cec8e12d65aaa",
            "4da9c97f12ff40a9a6800be035e4fba6",
            "927a4b777b254785b4542e2b28245b53",
            "d8b13844b63045cda79f7d2f2b243a42",
            "51398103410645909b57051e68249bd0",
            "28f234234aa1471ba44f545b1efbfbb3",
            "904380572e0a416486688fbd4bb8a4d5",
            "f7f358cadd3e49b79efdca062ac9dc3e",
            "30419f1f5f4e4e99a1211732fb99933e",
            "4ad9212c98244ba7910ac6ad8aa9fe5b",
            "0f9e90cd791f45b994bb743b1859f60d",
            "ebb01311b97b49fa9d8a82043bbf6168",
            "313b5f2d199e43818a35b3c5e10a3a1e",
            "c2326c2f56474f619fd242ea34610c50",
            "59f84936b9fd41ea9be9742137f5a16d",
            "d0b761af025c483c98e37333ba765776",
            "e318ac18466a4bbaa33ce377941b6a6d",
            "9e9b48fc5a2247bd8f4c947e3ae2e3bf",
            "3df67c6809434dbb82cb5992398d1142",
            "88e488ec35a64db481dee5e4290fca7f",
            "235a68f6d2c146d6b5de0de3dc37fb1d",
            "f025c461b41e40fdbdac0e6583e610f6",
            "8307bfd7ca5645ed8a83bf5f9dcbfc4f",
            "d95400c9ef3340719c1858c5b0ab71a4",
            "8c7c8bff59664d5791172b9519d83c57",
            "3f942ecb2baa40e2a523d3110bbf268a",
            "8a1605fb074c497f907d83a18a01052b",
            "24a843425cb84d658f8d0e5fe99e5543",
            "fc9f845383fa407da713d6bb7791a684",
            "933b380f1fd740ec89a0ced652edb461",
            "ad7dade3ac5c4f20bea87f93dcc5894c",
            "ea1ab81de76e4cf38ed6b9bc37d6d8d6",
            "9e68d40c24434c398286fceb5754dc02",
            "bd46c7e81e3d430e9bf79b02df8689ee",
            "244795c43e154ae0b153bd3ec721a5a0",
            "2d0f9ba7776c496ba3cc5bf864cb33c6",
            "85e648a7dd344dd6b1a47b80a658512a",
            "1bbc483cbf65427c9bb05e701ec5b34c",
            "3795b0916a354ba7aebd0b270708d25d",
            "607172d1ab39402882cfb02b1982b37a",
            "87bbc21549ab45cab7d6ccdbb9d40cf3",
            "ac42fa76d20e4229a147bcd331aff570"
          ]
        },
        "id": "QzVm2v9H3LP4",
        "outputId": "99ef9d10-26c7-4acf-cc45-23f3ea5084df"
      },
      "execution_count": 28,
      "outputs": [
        {
          "output_type": "stream",
          "name": "stdout",
          "text": [
            "Downloading http://fashion-mnist.s3-website.eu-central-1.amazonaws.com/train-images-idx3-ubyte.gz\n",
            "Downloading http://fashion-mnist.s3-website.eu-central-1.amazonaws.com/train-images-idx3-ubyte.gz to ../data/FashionMNIST/raw/train-images-idx3-ubyte.gz\n"
          ]
        },
        {
          "output_type": "display_data",
          "data": {
            "text/plain": [
              "  0%|          | 0/26421880 [00:00<?, ?it/s]"
            ],
            "application/vnd.jupyter.widget-view+json": {
              "version_major": 2,
              "version_minor": 0,
              "model_id": "70e75721e91940e7901b1a93bdcf7856"
            }
          },
          "metadata": {}
        },
        {
          "output_type": "stream",
          "name": "stdout",
          "text": [
            "Extracting ../data/FashionMNIST/raw/train-images-idx3-ubyte.gz to ../data/FashionMNIST/raw\n",
            "\n",
            "Downloading http://fashion-mnist.s3-website.eu-central-1.amazonaws.com/train-labels-idx1-ubyte.gz\n",
            "Downloading http://fashion-mnist.s3-website.eu-central-1.amazonaws.com/train-labels-idx1-ubyte.gz to ../data/FashionMNIST/raw/train-labels-idx1-ubyte.gz\n"
          ]
        },
        {
          "output_type": "display_data",
          "data": {
            "text/plain": [
              "  0%|          | 0/29515 [00:00<?, ?it/s]"
            ],
            "application/vnd.jupyter.widget-view+json": {
              "version_major": 2,
              "version_minor": 0,
              "model_id": "4ad9212c98244ba7910ac6ad8aa9fe5b"
            }
          },
          "metadata": {}
        },
        {
          "output_type": "stream",
          "name": "stdout",
          "text": [
            "Extracting ../data/FashionMNIST/raw/train-labels-idx1-ubyte.gz to ../data/FashionMNIST/raw\n",
            "\n",
            "Downloading http://fashion-mnist.s3-website.eu-central-1.amazonaws.com/t10k-images-idx3-ubyte.gz\n",
            "Downloading http://fashion-mnist.s3-website.eu-central-1.amazonaws.com/t10k-images-idx3-ubyte.gz to ../data/FashionMNIST/raw/t10k-images-idx3-ubyte.gz\n"
          ]
        },
        {
          "output_type": "display_data",
          "data": {
            "text/plain": [
              "  0%|          | 0/4422102 [00:00<?, ?it/s]"
            ],
            "application/vnd.jupyter.widget-view+json": {
              "version_major": 2,
              "version_minor": 0,
              "model_id": "235a68f6d2c146d6b5de0de3dc37fb1d"
            }
          },
          "metadata": {}
        },
        {
          "output_type": "stream",
          "name": "stdout",
          "text": [
            "Extracting ../data/FashionMNIST/raw/t10k-images-idx3-ubyte.gz to ../data/FashionMNIST/raw\n",
            "\n",
            "Downloading http://fashion-mnist.s3-website.eu-central-1.amazonaws.com/t10k-labels-idx1-ubyte.gz\n",
            "Downloading http://fashion-mnist.s3-website.eu-central-1.amazonaws.com/t10k-labels-idx1-ubyte.gz to ../data/FashionMNIST/raw/t10k-labels-idx1-ubyte.gz\n"
          ]
        },
        {
          "output_type": "display_data",
          "data": {
            "text/plain": [
              "  0%|          | 0/5148 [00:00<?, ?it/s]"
            ],
            "application/vnd.jupyter.widget-view+json": {
              "version_major": 2,
              "version_minor": 0,
              "model_id": "ea1ab81de76e4cf38ed6b9bc37d6d8d6"
            }
          },
          "metadata": {}
        },
        {
          "output_type": "stream",
          "name": "stdout",
          "text": [
            "Extracting ../data/FashionMNIST/raw/t10k-labels-idx1-ubyte.gz to ../data/FashionMNIST/raw\n",
            "\n"
          ]
        }
      ]
    },
    {
      "cell_type": "code",
      "source": [
        "train(net, train_iter, test_iter,loss,optimizer, num_epochs, lr, try_gpu())"
      ],
      "metadata": {
        "colab": {
          "base_uri": "https://localhost:8080/"
        },
        "id": "ZsNALvpr3PQy",
        "outputId": "b2284544-fc25-4852-8f69-ed40becb63e5"
      },
      "execution_count": 29,
      "outputs": [
        {
          "output_type": "stream",
          "name": "stdout",
          "text": [
            "training on cuda:0\n",
            "epcoch:1 loss 0.431, train acc 0.846,test acc 0.837\n",
            "epcoch:2 loss 0.255, train acc 0.906,test acc 0.867\n",
            "epcoch:3 loss 0.193, train acc 0.929,test acc 0.901\n",
            "epcoch:4 loss 0.149, train acc 0.946,test acc 0.904\n",
            "epcoch:5 loss 0.111, train acc 0.962,test acc 0.907\n",
            "epcoch:6 loss 0.078, train acc 0.974,test acc 0.857\n",
            "epcoch:7 loss 0.052, train acc 0.983,test acc 0.914\n"
          ]
        }
      ]
    }
  ]
}