{
  "nbformat": 4,
  "nbformat_minor": 0,
  "metadata": {
    "colab": {
      "name": "D2L_Sentiment_Analysis.ipynb",
      "provenance": [],
      "authorship_tag": "ABX9TyOs7nlhE2XV82vreS6z7jv5",
      "include_colab_link": true
    },
    "kernelspec": {
      "name": "python3",
      "display_name": "Python 3"
    },
    "language_info": {
      "name": "python"
    },
    "accelerator": "GPU",
    "gpuClass": "standard"
  },
  "cells": [
    {
      "cell_type": "markdown",
      "metadata": {
        "id": "view-in-github",
        "colab_type": "text"
      },
      "source": [
        "<a href=\"https://colab.research.google.com/github/rajlm10/D2L-Torch/blob/main/D2L_Sentiment_Analysis.ipynb\" target=\"_parent\"><img src=\"https://colab.research.google.com/assets/colab-badge.svg\" alt=\"Open In Colab\"/></a>"
      ]
    },
    {
      "cell_type": "code",
      "source": [
        "!pip install -q d2l "
      ],
      "metadata": {
        "colab": {
          "base_uri": "https://localhost:8080/"
        },
        "id": "zt4AEGHTDLdr",
        "outputId": "a97a3287-7565-4c8c-f002-c3dfdf022333"
      },
      "execution_count": 1,
      "outputs": [
        {
          "output_type": "stream",
          "name": "stdout",
          "text": [
            "\u001b[K     |████████████████████████████████| 82 kB 716 kB/s \n",
            "\u001b[K     |████████████████████████████████| 61 kB 9.0 MB/s \n",
            "\u001b[K     |████████████████████████████████| 15.7 MB 61.9 MB/s \n",
            "\u001b[K     |████████████████████████████████| 9.9 MB 46.8 MB/s \n",
            "\u001b[K     |████████████████████████████████| 11.2 MB 55.8 MB/s \n",
            "\u001b[K     |████████████████████████████████| 930 kB 54.9 MB/s \n",
            "\u001b[31mERROR: pip's dependency resolver does not currently take into account all the packages that are installed. This behaviour is the source of the following dependency conflicts.\n",
            "google-colab 1.0.0 requires requests~=2.23.0, but you have requests 2.25.1 which is incompatible.\n",
            "datascience 0.10.6 requires folium==0.2.1, but you have folium 0.8.3 which is incompatible.\n",
            "albumentations 0.1.12 requires imgaug<0.2.7,>=0.2.5, but you have imgaug 0.2.9 which is incompatible.\u001b[0m\n",
            "\u001b[?25h"
          ]
        }
      ]
    },
    {
      "cell_type": "code",
      "source": [
        "!pip install torchinfo -q"
      ],
      "metadata": {
        "id": "u0if76LPmAsA"
      },
      "execution_count": 14,
      "outputs": []
    },
    {
      "cell_type": "code",
      "execution_count": 18,
      "metadata": {
        "colab": {
          "base_uri": "https://localhost:8080/"
        },
        "id": "eu1tGyvUDFJo",
        "outputId": "e10bf195-08db-47ec-a044-be7c669ac201"
      },
      "outputs": [
        {
          "output_type": "stream",
          "name": "stderr",
          "text": [
            "[nltk_data] Downloading package punkt to /root/nltk_data...\n",
            "[nltk_data]   Package punkt is already up-to-date!\n"
          ]
        },
        {
          "output_type": "execute_result",
          "data": {
            "text/plain": [
              "True"
            ]
          },
          "metadata": {},
          "execution_count": 18
        }
      ],
      "source": [
        "import os\n",
        "import torch\n",
        "from torch import nn\n",
        "from d2l import torch as d2l\n",
        "import nltk\n",
        "import collections\n",
        "from torchinfo import summary\n",
        "nltk.download('punkt')"
      ]
    },
    {
      "cell_type": "code",
      "source": [
        "d2l.DATA_HUB['aclImdb'] = ( 'http://ai.stanford.edu/~amaas/data/sentiment/aclImdb_v1.tar.gz', '01ada507287d82875905620988597833ad4e0903')\n",
        "data_dir = d2l.download_extract('aclImdb', 'aclImdb')"
      ],
      "metadata": {
        "colab": {
          "base_uri": "https://localhost:8080/"
        },
        "id": "TTSOAMwbDO7O",
        "outputId": "30bf1f4e-3583-4ca8-8d4b-da699df3bbc7"
      },
      "execution_count": 3,
      "outputs": [
        {
          "output_type": "stream",
          "name": "stdout",
          "text": [
            "Downloading ../data/aclImdb_v1.tar.gz from http://ai.stanford.edu/~amaas/data/sentiment/aclImdb_v1.tar.gz...\n"
          ]
        }
      ]
    },
    {
      "cell_type": "code",
      "source": [
        "def read_imdb(data_dir, is_train):\n",
        "  \"\"\"Read the IMDb review dataset text sequences and labels.\"\"\" \n",
        "  data, labels = [], []\n",
        "  for label in ('pos', 'neg'):\n",
        "    folder_name = os.path.join(data_dir, 'train' if is_train else 'test', label)\n",
        "    for file in os.listdir(folder_name):\n",
        "      with open(os.path.join(folder_name, file), 'rb') as f:\n",
        "        review = f.read().decode('utf-8').replace('\\n', '') \n",
        "        data.append(review)\n",
        "        labels.append(1 if label == 'pos' else 0)\n",
        "  return data, labels\n",
        "\n",
        "\n",
        "train_data = read_imdb(data_dir, is_train=True)"
      ],
      "metadata": {
        "id": "gUOsk-izDTEA"
      },
      "execution_count": 4,
      "outputs": []
    },
    {
      "cell_type": "code",
      "source": [
        "train_tokens=[nltk.tokenize.word_tokenize(sentence) for sentence in train_data[0]]\n"
      ],
      "metadata": {
        "id": "prqA7XetEFN-"
      },
      "execution_count": null,
      "outputs": []
    },
    {
      "cell_type": "code",
      "source": [
        "class Vocab:\n",
        "  def __init__(self, tokens=None, min_freq=0, reserved_tokens=None):\n",
        "    if tokens is None:\n",
        "      tokens = []\n",
        "    if reserved_tokens is None: \n",
        "      reserved_tokens = []\n",
        "    # Sort according to frequencies\n",
        "    counter = count_corpus(tokens)\n",
        "    self._token_freqs = sorted(counter.items(), key=lambda x: x[1],reverse=True)\n",
        "\n",
        "    #Build vocab on init\n",
        "    self.idx_to_token=['<unk>']+reserved_tokens #List\n",
        "    self.token_to_idx={token:idx for idx,token in enumerate(self.idx_to_token)} #Dict\n",
        "\n",
        "    for token,freq in self._token_freqs:\n",
        "      #Don't include tokens with freq<min_freq in the vocab\n",
        "      if freq<min_freq:\n",
        "        break\n",
        "      if token not in self.idx_to_token:\n",
        "        self.idx_to_token.append(token)\n",
        "        self.token_to_idx[token]=len(self.idx_to_token)-1\n",
        "\n",
        "  def __len__(self):\n",
        "    return len(self.idx_to_token)\n",
        "\n",
        "  @property\n",
        "  def unk(self):\n",
        "    # Index for the unknown token\n",
        "    return 0\n",
        "  \n",
        "  @property\n",
        "  def token_freqs(self):\n",
        "    # Counter object \n",
        "    return self._token_freqs\n",
        "  \n",
        "  def __getitem__(self,tokens):\n",
        "    if not isinstance(tokens, (list, tuple)):\n",
        "      return self.token_to_idx.get(tokens, self.unk) \n",
        "    #If tokens is a list \n",
        "    return [self.__getitem__(token) for token in tokens]\n",
        "\n",
        "  def to_tokens(self, indices):\n",
        "    if not isinstance(indices, (list, tuple)):\n",
        "      return self.idx_to_token[indices]\n",
        "    #If indices is a list\n",
        "    return [self.idx_to_token[index] for index in indices]\n",
        "\n",
        "\n",
        "def count_corpus(tokens):\n",
        "  \"\"\"Count token frequencies.\"\"\"\n",
        "  # Here `tokens` is a 1D list or 2D list\n",
        "  if len(tokens) == 0 or isinstance(tokens[0], list):\n",
        "    # Flatten a list of token lists into a 1D list\n",
        "    tokens = [token for line in tokens for token in line]\n",
        "  #If its already a 1D list,return  \n",
        "  return collections.Counter(tokens)\n"
      ],
      "metadata": {
        "id": "qiEppOjFFLHX"
      },
      "execution_count": 5,
      "outputs": []
    },
    {
      "cell_type": "code",
      "source": [
        "vocab = Vocab(train_tokens, min_freq=5, reserved_tokens=['<pad>'])"
      ],
      "metadata": {
        "id": "M_EXvo2CGoT-"
      },
      "execution_count": null,
      "outputs": []
    },
    {
      "cell_type": "code",
      "source": [
        "d2l.set_figsize()\n",
        "d2l.plt.xlabel('# tokens per review')\n",
        "d2l.plt.ylabel('count')\n",
        "d2l.plt.hist([len(line) for line in train_tokens], bins=range(0, 1000, 50));"
      ],
      "metadata": {
        "colab": {
          "base_uri": "https://localhost:8080/",
          "height": 262
        },
        "id": "IV72BhvoG1dK",
        "outputId": "10f7d7e5-4f99-432a-8268-420a714ba063"
      },
      "execution_count": null,
      "outputs": [
        {
          "output_type": "display_data",
          "data": {
            "text/plain": [
              "<Figure size 252x180 with 1 Axes>"
            ],
            "image/svg+xml": "<?xml version=\"1.0\" encoding=\"utf-8\" standalone=\"no\"?>\n<!DOCTYPE svg PUBLIC \"-//W3C//DTD SVG 1.1//EN\"\n  \"http://www.w3.org/Graphics/SVG/1.1/DTD/svg11.dtd\">\n<svg xmlns:xlink=\"http://www.w3.org/1999/xlink\" width=\"255.828125pt\" height=\"180.65625pt\" viewBox=\"0 0 255.828125 180.65625\" xmlns=\"http://www.w3.org/2000/svg\" version=\"1.1\">\n <metadata>\n  <rdf:RDF xmlns:dc=\"http://purl.org/dc/elements/1.1/\" xmlns:cc=\"http://creativecommons.org/ns#\" xmlns:rdf=\"http://www.w3.org/1999/02/22-rdf-syntax-ns#\">\n   <cc:Work>\n    <dc:type rdf:resource=\"http://purl.org/dc/dcmitype/StillImage\"/>\n    <dc:date>2022-06-21T13:40:49.843861</dc:date>\n    <dc:format>image/svg+xml</dc:format>\n    <dc:creator>\n     <cc:Agent>\n      <dc:title>Matplotlib v3.5.1, https://matplotlib.org/</dc:title>\n     </cc:Agent>\n    </dc:creator>\n   </cc:Work>\n  </rdf:RDF>\n </metadata>\n <defs>\n  <style type=\"text/css\">*{stroke-linejoin: round; stroke-linecap: butt}</style>\n </defs>\n <g id=\"figure_1\">\n  <g id=\"patch_1\">\n   <path d=\"M 0 180.65625 \nL 255.828125 180.65625 \nL 255.828125 0 \nL 0 0 \nL 0 180.65625 \nz\n\" style=\"fill: none\"/>\n  </g>\n  <g id=\"axes_1\">\n   <g id=\"patch_2\">\n    <path d=\"M 53.328125 143.1 \nL 248.628125 143.1 \nL 248.628125 7.2 \nL 53.328125 7.2 \nz\n\" style=\"fill: #ffffff\"/>\n   </g>\n   <g id=\"patch_3\">\n    <path d=\"M 62.205398 143.1 \nL 71.549895 143.1 \nL 71.549895 137.618052 \nL 62.205398 137.618052 \nz\n\" clip-path=\"url(#pe44d149181)\" style=\"fill: #1f77b4\"/>\n   </g>\n   <g id=\"patch_4\">\n    <path d=\"M 71.549895 143.1 \nL 80.894393 143.1 \nL 80.894393 100.108787 \nL 71.549895 100.108787 \nz\n\" clip-path=\"url(#pe44d149181)\" style=\"fill: #1f77b4\"/>\n   </g>\n   <g id=\"patch_5\">\n    <path d=\"M 80.894393 143.1 \nL 90.238891 143.1 \nL 90.238891 56.162214 \nL 80.894393 56.162214 \nz\n\" clip-path=\"url(#pe44d149181)\" style=\"fill: #1f77b4\"/>\n   </g>\n   <g id=\"patch_6\">\n    <path d=\"M 90.238891 143.1 \nL 99.583388 143.1 \nL 99.583388 13.671429 \nL 90.238891 13.671429 \nz\n\" clip-path=\"url(#pe44d149181)\" style=\"fill: #1f77b4\"/>\n   </g>\n   <g id=\"patch_7\">\n    <path d=\"M 99.583388 143.1 \nL 108.927886 143.1 \nL 108.927886 66.079764 \nL 99.583388 66.079764 \nz\n\" clip-path=\"url(#pe44d149181)\" style=\"fill: #1f77b4\"/>\n   </g>\n   <g id=\"patch_8\">\n    <path d=\"M 108.927886 143.1 \nL 118.272383 143.1 \nL 118.272383 93.057319 \nL 108.927886 93.057319 \nz\n\" clip-path=\"url(#pe44d149181)\" style=\"fill: #1f77b4\"/>\n   </g>\n   <g id=\"patch_9\">\n    <path d=\"M 118.272383 143.1 \nL 127.616881 143.1 \nL 127.616881 105.522496 \nL 118.272383 105.522496 \nz\n\" clip-path=\"url(#pe44d149181)\" style=\"fill: #1f77b4\"/>\n   </g>\n   <g id=\"patch_10\">\n    <path d=\"M 127.616881 143.1 \nL 136.961379 143.1 \nL 136.961379 114.621165 \nL 127.616881 114.621165 \nz\n\" clip-path=\"url(#pe44d149181)\" style=\"fill: #1f77b4\"/>\n   </g>\n   <g id=\"patch_11\">\n    <path d=\"M 136.961379 143.1 \nL 146.305876 143.1 \nL 146.305876 121.14946 \nL 136.961379 121.14946 \nz\n\" clip-path=\"url(#pe44d149181)\" style=\"fill: #1f77b4\"/>\n   </g>\n   <g id=\"patch_12\">\n    <path d=\"M 146.305876 143.1 \nL 155.650374 143.1 \nL 155.650374 126.449435 \nL 146.305876 126.449435 \nz\n\" clip-path=\"url(#pe44d149181)\" style=\"fill: #1f77b4\"/>\n   </g>\n   <g id=\"patch_13\">\n    <path d=\"M 155.650374 143.1 \nL 164.994871 143.1 \nL 164.994871 129.133543 \nL 155.650374 129.133543 \nz\n\" clip-path=\"url(#pe44d149181)\" style=\"fill: #1f77b4\"/>\n   </g>\n   <g id=\"patch_14\">\n    <path d=\"M 164.994871 143.1 \nL 174.339369 143.1 \nL 174.339369 132.067863 \nL 164.994871 132.067863 \nz\n\" clip-path=\"url(#pe44d149181)\" style=\"fill: #1f77b4\"/>\n   </g>\n   <g id=\"patch_15\">\n    <path d=\"M 174.339369 143.1 \nL 183.683867 143.1 \nL 183.683867 134.842958 \nL 174.339369 134.842958 \nz\n\" clip-path=\"url(#pe44d149181)\" style=\"fill: #1f77b4\"/>\n   </g>\n   <g id=\"patch_16\">\n    <path d=\"M 183.683867 143.1 \nL 193.028364 143.1 \nL 193.028364 135.912051 \nL 183.683867 135.912051 \nz\n\" clip-path=\"url(#pe44d149181)\" style=\"fill: #1f77b4\"/>\n   </g>\n   <g id=\"patch_17\">\n    <path d=\"M 193.028364 143.1 \nL 202.372862 143.1 \nL 202.372862 137.367838 \nL 193.028364 137.367838 \nz\n\" clip-path=\"url(#pe44d149181)\" style=\"fill: #1f77b4\"/>\n   </g>\n   <g id=\"patch_18\">\n    <path d=\"M 202.372862 143.1 \nL 211.717359 143.1 \nL 211.717359 138.391439 \nL 202.372862 138.391439 \nz\n\" clip-path=\"url(#pe44d149181)\" style=\"fill: #1f77b4\"/>\n   </g>\n   <g id=\"patch_19\">\n    <path d=\"M 211.717359 143.1 \nL 221.061857 143.1 \nL 221.061857 139.278559 \nL 211.717359 139.278559 \nz\n\" clip-path=\"url(#pe44d149181)\" style=\"fill: #1f77b4\"/>\n   </g>\n   <g id=\"patch_20\">\n    <path d=\"M 221.061857 143.1 \nL 230.406355 143.1 \nL 230.406355 139.506026 \nL 221.061857 139.506026 \nz\n\" clip-path=\"url(#pe44d149181)\" style=\"fill: #1f77b4\"/>\n   </g>\n   <g id=\"patch_21\">\n    <path d=\"M 230.406355 143.1 \nL 239.750852 143.1 \nL 239.750852 140.575119 \nL 230.406355 140.575119 \nz\n\" clip-path=\"url(#pe44d149181)\" style=\"fill: #1f77b4\"/>\n   </g>\n   <g id=\"matplotlib.axis_1\">\n    <g id=\"xtick_1\">\n     <g id=\"line2d_1\">\n      <defs>\n       <path id=\"me7abb2039a\" d=\"M 0 0 \nL 0 3.5 \n\" style=\"stroke: #000000; stroke-width: 0.8\"/>\n      </defs>\n      <g>\n       <use xlink:href=\"#me7abb2039a\" x=\"62.205398\" y=\"143.1\" style=\"stroke: #000000; stroke-width: 0.8\"/>\n      </g>\n     </g>\n     <g id=\"text_1\">\n      <!-- 0 -->\n      <g transform=\"translate(59.024148 157.698438)scale(0.1 -0.1)\">\n       <defs>\n        <path id=\"DejaVuSans-30\" d=\"M 2034 4250 \nQ 1547 4250 1301 3770 \nQ 1056 3291 1056 2328 \nQ 1056 1369 1301 889 \nQ 1547 409 2034 409 \nQ 2525 409 2770 889 \nQ 3016 1369 3016 2328 \nQ 3016 3291 2770 3770 \nQ 2525 4250 2034 4250 \nz\nM 2034 4750 \nQ 2819 4750 3233 4129 \nQ 3647 3509 3647 2328 \nQ 3647 1150 3233 529 \nQ 2819 -91 2034 -91 \nQ 1250 -91 836 529 \nQ 422 1150 422 2328 \nQ 422 3509 836 4129 \nQ 1250 4750 2034 4750 \nz\n\" transform=\"scale(0.015625)\"/>\n       </defs>\n       <use xlink:href=\"#DejaVuSans-30\"/>\n      </g>\n     </g>\n    </g>\n    <g id=\"xtick_2\">\n     <g id=\"line2d_2\">\n      <g>\n       <use xlink:href=\"#me7abb2039a\" x=\"99.583388\" y=\"143.1\" style=\"stroke: #000000; stroke-width: 0.8\"/>\n      </g>\n     </g>\n     <g id=\"text_2\">\n      <!-- 200 -->\n      <g transform=\"translate(90.039638 157.698438)scale(0.1 -0.1)\">\n       <defs>\n        <path id=\"DejaVuSans-32\" d=\"M 1228 531 \nL 3431 531 \nL 3431 0 \nL 469 0 \nL 469 531 \nQ 828 903 1448 1529 \nQ 2069 2156 2228 2338 \nQ 2531 2678 2651 2914 \nQ 2772 3150 2772 3378 \nQ 2772 3750 2511 3984 \nQ 2250 4219 1831 4219 \nQ 1534 4219 1204 4116 \nQ 875 4013 500 3803 \nL 500 4441 \nQ 881 4594 1212 4672 \nQ 1544 4750 1819 4750 \nQ 2544 4750 2975 4387 \nQ 3406 4025 3406 3419 \nQ 3406 3131 3298 2873 \nQ 3191 2616 2906 2266 \nQ 2828 2175 2409 1742 \nQ 1991 1309 1228 531 \nz\n\" transform=\"scale(0.015625)\"/>\n       </defs>\n       <use xlink:href=\"#DejaVuSans-32\"/>\n       <use xlink:href=\"#DejaVuSans-30\" x=\"63.623047\"/>\n       <use xlink:href=\"#DejaVuSans-30\" x=\"127.246094\"/>\n      </g>\n     </g>\n    </g>\n    <g id=\"xtick_3\">\n     <g id=\"line2d_3\">\n      <g>\n       <use xlink:href=\"#me7abb2039a\" x=\"136.961379\" y=\"143.1\" style=\"stroke: #000000; stroke-width: 0.8\"/>\n      </g>\n     </g>\n     <g id=\"text_3\">\n      <!-- 400 -->\n      <g transform=\"translate(127.417629 157.698438)scale(0.1 -0.1)\">\n       <defs>\n        <path id=\"DejaVuSans-34\" d=\"M 2419 4116 \nL 825 1625 \nL 2419 1625 \nL 2419 4116 \nz\nM 2253 4666 \nL 3047 4666 \nL 3047 1625 \nL 3713 1625 \nL 3713 1100 \nL 3047 1100 \nL 3047 0 \nL 2419 0 \nL 2419 1100 \nL 313 1100 \nL 313 1709 \nL 2253 4666 \nz\n\" transform=\"scale(0.015625)\"/>\n       </defs>\n       <use xlink:href=\"#DejaVuSans-34\"/>\n       <use xlink:href=\"#DejaVuSans-30\" x=\"63.623047\"/>\n       <use xlink:href=\"#DejaVuSans-30\" x=\"127.246094\"/>\n      </g>\n     </g>\n    </g>\n    <g id=\"xtick_4\">\n     <g id=\"line2d_4\">\n      <g>\n       <use xlink:href=\"#me7abb2039a\" x=\"174.339369\" y=\"143.1\" style=\"stroke: #000000; stroke-width: 0.8\"/>\n      </g>\n     </g>\n     <g id=\"text_4\">\n      <!-- 600 -->\n      <g transform=\"translate(164.795619 157.698438)scale(0.1 -0.1)\">\n       <defs>\n        <path id=\"DejaVuSans-36\" d=\"M 2113 2584 \nQ 1688 2584 1439 2293 \nQ 1191 2003 1191 1497 \nQ 1191 994 1439 701 \nQ 1688 409 2113 409 \nQ 2538 409 2786 701 \nQ 3034 994 3034 1497 \nQ 3034 2003 2786 2293 \nQ 2538 2584 2113 2584 \nz\nM 3366 4563 \nL 3366 3988 \nQ 3128 4100 2886 4159 \nQ 2644 4219 2406 4219 \nQ 1781 4219 1451 3797 \nQ 1122 3375 1075 2522 \nQ 1259 2794 1537 2939 \nQ 1816 3084 2150 3084 \nQ 2853 3084 3261 2657 \nQ 3669 2231 3669 1497 \nQ 3669 778 3244 343 \nQ 2819 -91 2113 -91 \nQ 1303 -91 875 529 \nQ 447 1150 447 2328 \nQ 447 3434 972 4092 \nQ 1497 4750 2381 4750 \nQ 2619 4750 2861 4703 \nQ 3103 4656 3366 4563 \nz\n\" transform=\"scale(0.015625)\"/>\n       </defs>\n       <use xlink:href=\"#DejaVuSans-36\"/>\n       <use xlink:href=\"#DejaVuSans-30\" x=\"63.623047\"/>\n       <use xlink:href=\"#DejaVuSans-30\" x=\"127.246094\"/>\n      </g>\n     </g>\n    </g>\n    <g id=\"xtick_5\">\n     <g id=\"line2d_5\">\n      <g>\n       <use xlink:href=\"#me7abb2039a\" x=\"211.717359\" y=\"143.1\" style=\"stroke: #000000; stroke-width: 0.8\"/>\n      </g>\n     </g>\n     <g id=\"text_5\">\n      <!-- 800 -->\n      <g transform=\"translate(202.173609 157.698438)scale(0.1 -0.1)\">\n       <defs>\n        <path id=\"DejaVuSans-38\" d=\"M 2034 2216 \nQ 1584 2216 1326 1975 \nQ 1069 1734 1069 1313 \nQ 1069 891 1326 650 \nQ 1584 409 2034 409 \nQ 2484 409 2743 651 \nQ 3003 894 3003 1313 \nQ 3003 1734 2745 1975 \nQ 2488 2216 2034 2216 \nz\nM 1403 2484 \nQ 997 2584 770 2862 \nQ 544 3141 544 3541 \nQ 544 4100 942 4425 \nQ 1341 4750 2034 4750 \nQ 2731 4750 3128 4425 \nQ 3525 4100 3525 3541 \nQ 3525 3141 3298 2862 \nQ 3072 2584 2669 2484 \nQ 3125 2378 3379 2068 \nQ 3634 1759 3634 1313 \nQ 3634 634 3220 271 \nQ 2806 -91 2034 -91 \nQ 1263 -91 848 271 \nQ 434 634 434 1313 \nQ 434 1759 690 2068 \nQ 947 2378 1403 2484 \nz\nM 1172 3481 \nQ 1172 3119 1398 2916 \nQ 1625 2713 2034 2713 \nQ 2441 2713 2670 2916 \nQ 2900 3119 2900 3481 \nQ 2900 3844 2670 4047 \nQ 2441 4250 2034 4250 \nQ 1625 4250 1398 4047 \nQ 1172 3844 1172 3481 \nz\n\" transform=\"scale(0.015625)\"/>\n       </defs>\n       <use xlink:href=\"#DejaVuSans-38\"/>\n       <use xlink:href=\"#DejaVuSans-30\" x=\"63.623047\"/>\n       <use xlink:href=\"#DejaVuSans-30\" x=\"127.246094\"/>\n      </g>\n     </g>\n    </g>\n    <g id=\"text_6\">\n     <!-- # tokens per review -->\n     <g transform=\"translate(100.597656 171.376563)scale(0.1 -0.1)\">\n      <defs>\n       <path id=\"DejaVuSans-23\" d=\"M 3272 2816 \nL 2363 2816 \nL 2100 1772 \nL 3016 1772 \nL 3272 2816 \nz\nM 2803 4594 \nL 2478 3297 \nL 3391 3297 \nL 3719 4594 \nL 4219 4594 \nL 3897 3297 \nL 4872 3297 \nL 4872 2816 \nL 3775 2816 \nL 3519 1772 \nL 4513 1772 \nL 4513 1294 \nL 3397 1294 \nL 3072 0 \nL 2572 0 \nL 2894 1294 \nL 1978 1294 \nL 1656 0 \nL 1153 0 \nL 1478 1294 \nL 494 1294 \nL 494 1772 \nL 1594 1772 \nL 1856 2816 \nL 850 2816 \nL 850 3297 \nL 1978 3297 \nL 2297 4594 \nL 2803 4594 \nz\n\" transform=\"scale(0.015625)\"/>\n       <path id=\"DejaVuSans-20\" transform=\"scale(0.015625)\"/>\n       <path id=\"DejaVuSans-74\" d=\"M 1172 4494 \nL 1172 3500 \nL 2356 3500 \nL 2356 3053 \nL 1172 3053 \nL 1172 1153 \nQ 1172 725 1289 603 \nQ 1406 481 1766 481 \nL 2356 481 \nL 2356 0 \nL 1766 0 \nQ 1100 0 847 248 \nQ 594 497 594 1153 \nL 594 3053 \nL 172 3053 \nL 172 3500 \nL 594 3500 \nL 594 4494 \nL 1172 4494 \nz\n\" transform=\"scale(0.015625)\"/>\n       <path id=\"DejaVuSans-6f\" d=\"M 1959 3097 \nQ 1497 3097 1228 2736 \nQ 959 2375 959 1747 \nQ 959 1119 1226 758 \nQ 1494 397 1959 397 \nQ 2419 397 2687 759 \nQ 2956 1122 2956 1747 \nQ 2956 2369 2687 2733 \nQ 2419 3097 1959 3097 \nz\nM 1959 3584 \nQ 2709 3584 3137 3096 \nQ 3566 2609 3566 1747 \nQ 3566 888 3137 398 \nQ 2709 -91 1959 -91 \nQ 1206 -91 779 398 \nQ 353 888 353 1747 \nQ 353 2609 779 3096 \nQ 1206 3584 1959 3584 \nz\n\" transform=\"scale(0.015625)\"/>\n       <path id=\"DejaVuSans-6b\" d=\"M 581 4863 \nL 1159 4863 \nL 1159 1991 \nL 2875 3500 \nL 3609 3500 \nL 1753 1863 \nL 3688 0 \nL 2938 0 \nL 1159 1709 \nL 1159 0 \nL 581 0 \nL 581 4863 \nz\n\" transform=\"scale(0.015625)\"/>\n       <path id=\"DejaVuSans-65\" d=\"M 3597 1894 \nL 3597 1613 \nL 953 1613 \nQ 991 1019 1311 708 \nQ 1631 397 2203 397 \nQ 2534 397 2845 478 \nQ 3156 559 3463 722 \nL 3463 178 \nQ 3153 47 2828 -22 \nQ 2503 -91 2169 -91 \nQ 1331 -91 842 396 \nQ 353 884 353 1716 \nQ 353 2575 817 3079 \nQ 1281 3584 2069 3584 \nQ 2775 3584 3186 3129 \nQ 3597 2675 3597 1894 \nz\nM 3022 2063 \nQ 3016 2534 2758 2815 \nQ 2500 3097 2075 3097 \nQ 1594 3097 1305 2825 \nQ 1016 2553 972 2059 \nL 3022 2063 \nz\n\" transform=\"scale(0.015625)\"/>\n       <path id=\"DejaVuSans-6e\" d=\"M 3513 2113 \nL 3513 0 \nL 2938 0 \nL 2938 2094 \nQ 2938 2591 2744 2837 \nQ 2550 3084 2163 3084 \nQ 1697 3084 1428 2787 \nQ 1159 2491 1159 1978 \nL 1159 0 \nL 581 0 \nL 581 3500 \nL 1159 3500 \nL 1159 2956 \nQ 1366 3272 1645 3428 \nQ 1925 3584 2291 3584 \nQ 2894 3584 3203 3211 \nQ 3513 2838 3513 2113 \nz\n\" transform=\"scale(0.015625)\"/>\n       <path id=\"DejaVuSans-73\" d=\"M 2834 3397 \nL 2834 2853 \nQ 2591 2978 2328 3040 \nQ 2066 3103 1784 3103 \nQ 1356 3103 1142 2972 \nQ 928 2841 928 2578 \nQ 928 2378 1081 2264 \nQ 1234 2150 1697 2047 \nL 1894 2003 \nQ 2506 1872 2764 1633 \nQ 3022 1394 3022 966 \nQ 3022 478 2636 193 \nQ 2250 -91 1575 -91 \nQ 1294 -91 989 -36 \nQ 684 19 347 128 \nL 347 722 \nQ 666 556 975 473 \nQ 1284 391 1588 391 \nQ 1994 391 2212 530 \nQ 2431 669 2431 922 \nQ 2431 1156 2273 1281 \nQ 2116 1406 1581 1522 \nL 1381 1569 \nQ 847 1681 609 1914 \nQ 372 2147 372 2553 \nQ 372 3047 722 3315 \nQ 1072 3584 1716 3584 \nQ 2034 3584 2315 3537 \nQ 2597 3491 2834 3397 \nz\n\" transform=\"scale(0.015625)\"/>\n       <path id=\"DejaVuSans-70\" d=\"M 1159 525 \nL 1159 -1331 \nL 581 -1331 \nL 581 3500 \nL 1159 3500 \nL 1159 2969 \nQ 1341 3281 1617 3432 \nQ 1894 3584 2278 3584 \nQ 2916 3584 3314 3078 \nQ 3713 2572 3713 1747 \nQ 3713 922 3314 415 \nQ 2916 -91 2278 -91 \nQ 1894 -91 1617 61 \nQ 1341 213 1159 525 \nz\nM 3116 1747 \nQ 3116 2381 2855 2742 \nQ 2594 3103 2138 3103 \nQ 1681 3103 1420 2742 \nQ 1159 2381 1159 1747 \nQ 1159 1113 1420 752 \nQ 1681 391 2138 391 \nQ 2594 391 2855 752 \nQ 3116 1113 3116 1747 \nz\n\" transform=\"scale(0.015625)\"/>\n       <path id=\"DejaVuSans-72\" d=\"M 2631 2963 \nQ 2534 3019 2420 3045 \nQ 2306 3072 2169 3072 \nQ 1681 3072 1420 2755 \nQ 1159 2438 1159 1844 \nL 1159 0 \nL 581 0 \nL 581 3500 \nL 1159 3500 \nL 1159 2956 \nQ 1341 3275 1631 3429 \nQ 1922 3584 2338 3584 \nQ 2397 3584 2469 3576 \nQ 2541 3569 2628 3553 \nL 2631 2963 \nz\n\" transform=\"scale(0.015625)\"/>\n       <path id=\"DejaVuSans-76\" d=\"M 191 3500 \nL 800 3500 \nL 1894 563 \nL 2988 3500 \nL 3597 3500 \nL 2284 0 \nL 1503 0 \nL 191 3500 \nz\n\" transform=\"scale(0.015625)\"/>\n       <path id=\"DejaVuSans-69\" d=\"M 603 3500 \nL 1178 3500 \nL 1178 0 \nL 603 0 \nL 603 3500 \nz\nM 603 4863 \nL 1178 4863 \nL 1178 4134 \nL 603 4134 \nL 603 4863 \nz\n\" transform=\"scale(0.015625)\"/>\n       <path id=\"DejaVuSans-77\" d=\"M 269 3500 \nL 844 3500 \nL 1563 769 \nL 2278 3500 \nL 2956 3500 \nL 3675 769 \nL 4391 3500 \nL 4966 3500 \nL 4050 0 \nL 3372 0 \nL 2619 2869 \nL 1863 0 \nL 1184 0 \nL 269 3500 \nz\n\" transform=\"scale(0.015625)\"/>\n      </defs>\n      <use xlink:href=\"#DejaVuSans-23\"/>\n      <use xlink:href=\"#DejaVuSans-20\" x=\"83.789062\"/>\n      <use xlink:href=\"#DejaVuSans-74\" x=\"115.576172\"/>\n      <use xlink:href=\"#DejaVuSans-6f\" x=\"154.785156\"/>\n      <use xlink:href=\"#DejaVuSans-6b\" x=\"215.966797\"/>\n      <use xlink:href=\"#DejaVuSans-65\" x=\"270.251953\"/>\n      <use xlink:href=\"#DejaVuSans-6e\" x=\"331.775391\"/>\n      <use xlink:href=\"#DejaVuSans-73\" x=\"395.154297\"/>\n      <use xlink:href=\"#DejaVuSans-20\" x=\"447.253906\"/>\n      <use xlink:href=\"#DejaVuSans-70\" x=\"479.041016\"/>\n      <use xlink:href=\"#DejaVuSans-65\" x=\"542.517578\"/>\n      <use xlink:href=\"#DejaVuSans-72\" x=\"604.041016\"/>\n      <use xlink:href=\"#DejaVuSans-20\" x=\"645.154297\"/>\n      <use xlink:href=\"#DejaVuSans-72\" x=\"676.941406\"/>\n      <use xlink:href=\"#DejaVuSans-65\" x=\"715.804688\"/>\n      <use xlink:href=\"#DejaVuSans-76\" x=\"777.328125\"/>\n      <use xlink:href=\"#DejaVuSans-69\" x=\"836.507812\"/>\n      <use xlink:href=\"#DejaVuSans-65\" x=\"864.291016\"/>\n      <use xlink:href=\"#DejaVuSans-77\" x=\"925.814453\"/>\n     </g>\n    </g>\n   </g>\n   <g id=\"matplotlib.axis_2\">\n    <g id=\"ytick_1\">\n     <g id=\"line2d_6\">\n      <defs>\n       <path id=\"med44836715\" d=\"M 0 0 \nL -3.5 0 \n\" style=\"stroke: #000000; stroke-width: 0.8\"/>\n      </defs>\n      <g>\n       <use xlink:href=\"#med44836715\" x=\"53.328125\" y=\"143.1\" style=\"stroke: #000000; stroke-width: 0.8\"/>\n      </g>\n     </g>\n     <g id=\"text_7\">\n      <!-- 0 -->\n      <g transform=\"translate(39.965625 146.899219)scale(0.1 -0.1)\">\n       <use xlink:href=\"#DejaVuSans-30\"/>\n      </g>\n     </g>\n    </g>\n    <g id=\"ytick_2\">\n     <g id=\"line2d_7\">\n      <g>\n       <use xlink:href=\"#med44836715\" x=\"53.328125\" y=\"120.353327\" style=\"stroke: #000000; stroke-width: 0.8\"/>\n      </g>\n     </g>\n     <g id=\"text_8\">\n      <!-- 1000 -->\n      <g transform=\"translate(20.878125 124.152545)scale(0.1 -0.1)\">\n       <defs>\n        <path id=\"DejaVuSans-31\" d=\"M 794 531 \nL 1825 531 \nL 1825 4091 \nL 703 3866 \nL 703 4441 \nL 1819 4666 \nL 2450 4666 \nL 2450 531 \nL 3481 531 \nL 3481 0 \nL 794 0 \nL 794 531 \nz\n\" transform=\"scale(0.015625)\"/>\n       </defs>\n       <use xlink:href=\"#DejaVuSans-31\"/>\n       <use xlink:href=\"#DejaVuSans-30\" x=\"63.623047\"/>\n       <use xlink:href=\"#DejaVuSans-30\" x=\"127.246094\"/>\n       <use xlink:href=\"#DejaVuSans-30\" x=\"190.869141\"/>\n      </g>\n     </g>\n    </g>\n    <g id=\"ytick_3\">\n     <g id=\"line2d_8\">\n      <g>\n       <use xlink:href=\"#med44836715\" x=\"53.328125\" y=\"97.606653\" style=\"stroke: #000000; stroke-width: 0.8\"/>\n      </g>\n     </g>\n     <g id=\"text_9\">\n      <!-- 2000 -->\n      <g transform=\"translate(20.878125 101.405872)scale(0.1 -0.1)\">\n       <use xlink:href=\"#DejaVuSans-32\"/>\n       <use xlink:href=\"#DejaVuSans-30\" x=\"63.623047\"/>\n       <use xlink:href=\"#DejaVuSans-30\" x=\"127.246094\"/>\n       <use xlink:href=\"#DejaVuSans-30\" x=\"190.869141\"/>\n      </g>\n     </g>\n    </g>\n    <g id=\"ytick_4\">\n     <g id=\"line2d_9\">\n      <g>\n       <use xlink:href=\"#med44836715\" x=\"53.328125\" y=\"74.85998\" style=\"stroke: #000000; stroke-width: 0.8\"/>\n      </g>\n     </g>\n     <g id=\"text_10\">\n      <!-- 3000 -->\n      <g transform=\"translate(20.878125 78.659199)scale(0.1 -0.1)\">\n       <defs>\n        <path id=\"DejaVuSans-33\" d=\"M 2597 2516 \nQ 3050 2419 3304 2112 \nQ 3559 1806 3559 1356 \nQ 3559 666 3084 287 \nQ 2609 -91 1734 -91 \nQ 1441 -91 1130 -33 \nQ 819 25 488 141 \nL 488 750 \nQ 750 597 1062 519 \nQ 1375 441 1716 441 \nQ 2309 441 2620 675 \nQ 2931 909 2931 1356 \nQ 2931 1769 2642 2001 \nQ 2353 2234 1838 2234 \nL 1294 2234 \nL 1294 2753 \nL 1863 2753 \nQ 2328 2753 2575 2939 \nQ 2822 3125 2822 3475 \nQ 2822 3834 2567 4026 \nQ 2313 4219 1838 4219 \nQ 1578 4219 1281 4162 \nQ 984 4106 628 3988 \nL 628 4550 \nQ 988 4650 1302 4700 \nQ 1616 4750 1894 4750 \nQ 2613 4750 3031 4423 \nQ 3450 4097 3450 3541 \nQ 3450 3153 3228 2886 \nQ 3006 2619 2597 2516 \nz\n\" transform=\"scale(0.015625)\"/>\n       </defs>\n       <use xlink:href=\"#DejaVuSans-33\"/>\n       <use xlink:href=\"#DejaVuSans-30\" x=\"63.623047\"/>\n       <use xlink:href=\"#DejaVuSans-30\" x=\"127.246094\"/>\n       <use xlink:href=\"#DejaVuSans-30\" x=\"190.869141\"/>\n      </g>\n     </g>\n    </g>\n    <g id=\"ytick_5\">\n     <g id=\"line2d_10\">\n      <g>\n       <use xlink:href=\"#med44836715\" x=\"53.328125\" y=\"52.113307\" style=\"stroke: #000000; stroke-width: 0.8\"/>\n      </g>\n     </g>\n     <g id=\"text_11\">\n      <!-- 4000 -->\n      <g transform=\"translate(20.878125 55.912525)scale(0.1 -0.1)\">\n       <use xlink:href=\"#DejaVuSans-34\"/>\n       <use xlink:href=\"#DejaVuSans-30\" x=\"63.623047\"/>\n       <use xlink:href=\"#DejaVuSans-30\" x=\"127.246094\"/>\n       <use xlink:href=\"#DejaVuSans-30\" x=\"190.869141\"/>\n      </g>\n     </g>\n    </g>\n    <g id=\"ytick_6\">\n     <g id=\"line2d_11\">\n      <g>\n       <use xlink:href=\"#med44836715\" x=\"53.328125\" y=\"29.366633\" style=\"stroke: #000000; stroke-width: 0.8\"/>\n      </g>\n     </g>\n     <g id=\"text_12\">\n      <!-- 5000 -->\n      <g transform=\"translate(20.878125 33.165852)scale(0.1 -0.1)\">\n       <defs>\n        <path id=\"DejaVuSans-35\" d=\"M 691 4666 \nL 3169 4666 \nL 3169 4134 \nL 1269 4134 \nL 1269 2991 \nQ 1406 3038 1543 3061 \nQ 1681 3084 1819 3084 \nQ 2600 3084 3056 2656 \nQ 3513 2228 3513 1497 \nQ 3513 744 3044 326 \nQ 2575 -91 1722 -91 \nQ 1428 -91 1123 -41 \nQ 819 9 494 109 \nL 494 744 \nQ 775 591 1075 516 \nQ 1375 441 1709 441 \nQ 2250 441 2565 725 \nQ 2881 1009 2881 1497 \nQ 2881 1984 2565 2268 \nQ 2250 2553 1709 2553 \nQ 1456 2553 1204 2497 \nQ 953 2441 691 2322 \nL 691 4666 \nz\n\" transform=\"scale(0.015625)\"/>\n       </defs>\n       <use xlink:href=\"#DejaVuSans-35\"/>\n       <use xlink:href=\"#DejaVuSans-30\" x=\"63.623047\"/>\n       <use xlink:href=\"#DejaVuSans-30\" x=\"127.246094\"/>\n       <use xlink:href=\"#DejaVuSans-30\" x=\"190.869141\"/>\n      </g>\n     </g>\n    </g>\n    <g id=\"text_13\">\n     <!-- count -->\n     <g transform=\"translate(14.798437 89.25625)rotate(-90)scale(0.1 -0.1)\">\n      <defs>\n       <path id=\"DejaVuSans-63\" d=\"M 3122 3366 \nL 3122 2828 \nQ 2878 2963 2633 3030 \nQ 2388 3097 2138 3097 \nQ 1578 3097 1268 2742 \nQ 959 2388 959 1747 \nQ 959 1106 1268 751 \nQ 1578 397 2138 397 \nQ 2388 397 2633 464 \nQ 2878 531 3122 666 \nL 3122 134 \nQ 2881 22 2623 -34 \nQ 2366 -91 2075 -91 \nQ 1284 -91 818 406 \nQ 353 903 353 1747 \nQ 353 2603 823 3093 \nQ 1294 3584 2113 3584 \nQ 2378 3584 2631 3529 \nQ 2884 3475 3122 3366 \nz\n\" transform=\"scale(0.015625)\"/>\n       <path id=\"DejaVuSans-75\" d=\"M 544 1381 \nL 544 3500 \nL 1119 3500 \nL 1119 1403 \nQ 1119 906 1312 657 \nQ 1506 409 1894 409 \nQ 2359 409 2629 706 \nQ 2900 1003 2900 1516 \nL 2900 3500 \nL 3475 3500 \nL 3475 0 \nL 2900 0 \nL 2900 538 \nQ 2691 219 2414 64 \nQ 2138 -91 1772 -91 \nQ 1169 -91 856 284 \nQ 544 659 544 1381 \nz\nM 1991 3584 \nL 1991 3584 \nz\n\" transform=\"scale(0.015625)\"/>\n      </defs>\n      <use xlink:href=\"#DejaVuSans-63\"/>\n      <use xlink:href=\"#DejaVuSans-6f\" x=\"54.980469\"/>\n      <use xlink:href=\"#DejaVuSans-75\" x=\"116.162109\"/>\n      <use xlink:href=\"#DejaVuSans-6e\" x=\"179.541016\"/>\n      <use xlink:href=\"#DejaVuSans-74\" x=\"242.919922\"/>\n     </g>\n    </g>\n   </g>\n   <g id=\"patch_22\">\n    <path d=\"M 53.328125 143.1 \nL 53.328125 7.2 \n\" style=\"fill: none; stroke: #000000; stroke-width: 0.8; stroke-linejoin: miter; stroke-linecap: square\"/>\n   </g>\n   <g id=\"patch_23\">\n    <path d=\"M 248.628125 143.1 \nL 248.628125 7.2 \n\" style=\"fill: none; stroke: #000000; stroke-width: 0.8; stroke-linejoin: miter; stroke-linecap: square\"/>\n   </g>\n   <g id=\"patch_24\">\n    <path d=\"M 53.328125 143.1 \nL 248.628125 143.1 \n\" style=\"fill: none; stroke: #000000; stroke-width: 0.8; stroke-linejoin: miter; stroke-linecap: square\"/>\n   </g>\n   <g id=\"patch_25\">\n    <path d=\"M 53.328125 7.2 \nL 248.628125 7.2 \n\" style=\"fill: none; stroke: #000000; stroke-width: 0.8; stroke-linejoin: miter; stroke-linecap: square\"/>\n   </g>\n  </g>\n </g>\n <defs>\n  <clipPath id=\"pe44d149181\">\n   <rect x=\"53.328125\" y=\"7.2\" width=\"195.3\" height=\"135.9\"/>\n  </clipPath>\n </defs>\n</svg>\n"
          },
          "metadata": {
            "needs_background": "light"
          }
        }
      ]
    },
    {
      "cell_type": "code",
      "source": [
        "def truncate_pad(line, num_steps, padding_token):\n",
        "  \"\"\"Truncate or pad sequences.\"\"\"\n",
        "  #Line is a list of tokens\n",
        "  if len(line) > num_steps:\n",
        "    return line[:num_steps] # Truncate\n",
        "  return line + [padding_token] * (num_steps - len(line)) # Pad"
      ],
      "metadata": {
        "id": "kvUJsCo4HpQ6"
      },
      "execution_count": 6,
      "outputs": []
    },
    {
      "cell_type": "code",
      "source": [
        "def create_iterator(dataset,batch_size,is_train=True):\n",
        "  dataset=torch.utils.data.TensorDataset(*dataset)\n",
        "\n",
        "  return torch.utils.data.DataLoader(dataset,batch_size,shuffle=is_train)"
      ],
      "metadata": {
        "id": "6Px-mfvFk3Db"
      },
      "execution_count": 7,
      "outputs": []
    },
    {
      "cell_type": "code",
      "source": [
        "num_steps = 512 # sequence length \n",
        "train_features = torch.tensor([truncate_pad(vocab[line], num_steps, vocab['<pad>']) for line in train_tokens]) \n",
        "print(train_features.shape)\n",
        "\n",
        "train_iter = create_iterator((train_features, torch.tensor(train_data[1])), 64)"
      ],
      "metadata": {
        "colab": {
          "base_uri": "https://localhost:8080/"
        },
        "id": "ZPW8WlXcG3wr",
        "outputId": "f221f527-b376-45d7-895b-037499b19c5a"
      },
      "execution_count": null,
      "outputs": [
        {
          "output_type": "stream",
          "name": "stdout",
          "text": [
            "torch.Size([25000, 512])\n"
          ]
        }
      ]
    },
    {
      "cell_type": "code",
      "source": [
        "def load_data_imdb(batch_size, num_steps=512):\n",
        "  \"\"\"Return data iterators and the vocabulary of the IMDb review dataset.\"\"\" \n",
        "  data_dir = d2l.download_extract('aclImdb', 'aclImdb')\n",
        "  train_data = read_imdb(data_dir, True)\n",
        "  test_data = read_imdb(data_dir, False)\n",
        "\n",
        "  train_tokens = [nltk.tokenize.word_tokenize(sentence) for sentence in train_data[0]]\n",
        "  test_tokens =  [nltk.tokenize.word_tokenize(sentence) for sentence in test_data[0]]\n",
        "\n",
        "  vocab = Vocab(train_tokens, min_freq=5)\n",
        "\n",
        "  train_features = torch.tensor([truncate_pad(vocab[line], num_steps, vocab['<pad>']) for line in train_tokens]) \n",
        "  test_features = torch.tensor([truncate_pad(vocab[line], num_steps, vocab['<pad>']) for line in test_tokens]) \n",
        "\n",
        "  train_iter = create_iterator((train_features, torch.tensor(train_data[1])),batch_size)\n",
        "  test_iter = create_iterator((test_features, torch.tensor(test_data[1])),batch_size,is_train=False) \n",
        "  \n",
        "  return train_iter, test_iter, vocab"
      ],
      "metadata": {
        "id": "z5eTBPp8IoD9"
      },
      "execution_count": 8,
      "outputs": []
    },
    {
      "cell_type": "markdown",
      "source": [
        "#Building the BiLSTM"
      ],
      "metadata": {
        "id": "xSD_63VSJLIr"
      }
    },
    {
      "cell_type": "code",
      "source": [
        "batch_size = 64\n",
        "train_iter, test_iter, vocab = load_data_imdb(batch_size)"
      ],
      "metadata": {
        "id": "6RS4j3XDJJ5u"
      },
      "execution_count": 9,
      "outputs": []
    },
    {
      "cell_type": "markdown",
      "source": [
        "In the following BiRNN class, while each token of a text sequence gets its individual pretrained GloVe representation via the embedding layer (self. embedding), the entire sequence is encoded by a bidirectional RNN (self.encoder). \n",
        "\n",
        "More concretely, the hidden states (at the last layer) of the bidirectional LSTM at both the initial and final time steps are concatenated as the representation of the text sequence.\n",
        "\n",
        "This single text representation is then transformed into output categories by a fully-connected layer (self.decoder) with two outputs (“positive” and “negative”)."
      ],
      "metadata": {
        "id": "gknkbLyiJYKP"
      }
    },
    {
      "cell_type": "code",
      "source": [
        "class BiRNN(nn.Module):\n",
        "  def __init__(self, vocab_size, embed_size, num_hiddens,num_layers, **kwargs):\n",
        "    super(BiRNN, self).__init__(**kwargs)\n",
        "    self.embedding = nn.Embedding(vocab_size, embed_size)\n",
        "    #batch_first= True indicates batch_size,max_len,embed_size\n",
        "\n",
        "    self.encoder = nn.LSTM(embed_size, num_hiddens, num_layers=num_layers,batch_first=True,bidirectional=True)\n",
        "    self.decoder = nn.Linear(2 * num_hiddens, 2)\n",
        "  \n",
        "  def forward(self, inputs):\n",
        "    #inputs-> batch_size,num_steps\n",
        "\n",
        "    embeddings = self.embedding(inputs)\n",
        "\n",
        "    #We do this beacause RNNs in PyTorch do not allocate contigious memory\n",
        "    # we make this call to make sure that the weights are stored contiigiously\n",
        "    #to reduce overhead\n",
        "    self.encoder.flatten_parameters()\n",
        "\n",
        "    outputs, _ = self.encoder(embeddings)\n",
        "    #Discard cell states and hidden states here\n",
        "    #Outputs are of shape -> batch_size,seq_len,2*num_hiddens\n",
        "\n",
        "    encoding = torch.mean(outputs,dim=1) #batch_size,2*num_hiddens\n",
        "    outs = self.decoder(encoding)\n",
        "    return outs\n",
        "\n",
        "\n"
      ],
      "metadata": {
        "id": "YKFE8a-EJTbt"
      },
      "execution_count": 10,
      "outputs": []
    },
    {
      "cell_type": "code",
      "source": [
        "def init_weights(m):\n",
        "  if type(m) == nn.Linear:\n",
        "    nn.init.xavier_uniform_(m.weight) \n",
        "  if type(m) == nn.LSTM:\n",
        "    for param in m._flat_weights_names: \n",
        "      if \"weight\" in param:\n",
        "        nn.init.xavier_uniform_(m._parameters[param]) \n",
        "\n"
      ],
      "metadata": {
        "id": "3nP0ZiaqNL1Z"
      },
      "execution_count": 11,
      "outputs": []
    },
    {
      "cell_type": "code",
      "source": [
        "embed_size, num_hiddens, num_layers, devices = 100, 100, 2, d2l.try_all_gpus() \n",
        "net = BiRNN(len(vocab), embed_size, num_hiddens, num_layers)\n",
        "net.apply(init_weights);"
      ],
      "metadata": {
        "id": "T5xJIu0BNKU7"
      },
      "execution_count": 12,
      "outputs": []
    },
    {
      "cell_type": "code",
      "source": [
        "summary(net, (batch_size, 512),dtypes=[torch.long])"
      ],
      "metadata": {
        "colab": {
          "base_uri": "https://localhost:8080/"
        },
        "id": "Mjoj6DChlB3T",
        "outputId": "561a1ce7-b10f-4a46-d322-9cee5630dcbe"
      },
      "execution_count": 20,
      "outputs": [
        {
          "output_type": "execute_result",
          "data": {
            "text/plain": [
              "==========================================================================================\n",
              "Layer (type:depth-idx)                   Output Shape              Param #\n",
              "==========================================================================================\n",
              "BiRNN                                    [64, 2]                   --\n",
              "├─Embedding: 1-1                         [64, 512, 100]            3,581,300\n",
              "├─LSTM: 1-2                              [64, 512, 200]            403,200\n",
              "├─Linear: 1-3                            [64, 2]                   402\n",
              "==========================================================================================\n",
              "Total params: 3,984,902\n",
              "Trainable params: 3,984,902\n",
              "Non-trainable params: 0\n",
              "Total mult-adds (G): 13.44\n",
              "==========================================================================================\n",
              "Input size (MB): 0.26\n",
              "Forward/backward pass size (MB): 78.64\n",
              "Params size (MB): 15.94\n",
              "Estimated Total Size (MB): 94.85\n",
              "=========================================================================================="
            ]
          },
          "metadata": {},
          "execution_count": 20
        }
      ]
    },
    {
      "cell_type": "code",
      "source": [
        "glove_embedding = d2l.TokenEmbedding('glove.6b.100d')"
      ],
      "metadata": {
        "id": "4iHqfOQ4NXtG",
        "colab": {
          "base_uri": "https://localhost:8080/"
        },
        "outputId": "47df8265-8b84-4476-c053-2890f07daef9"
      },
      "execution_count": 21,
      "outputs": [
        {
          "output_type": "stream",
          "name": "stdout",
          "text": [
            "Downloading ../data/glove.6B.100d.zip from http://d2l-data.s3-accelerate.amazonaws.com/glove.6B.100d.zip...\n"
          ]
        }
      ]
    },
    {
      "cell_type": "code",
      "source": [
        "embeds = glove_embedding[vocab.idx_to_token] \n",
        "embeds.shape"
      ],
      "metadata": {
        "colab": {
          "base_uri": "https://localhost:8080/"
        },
        "id": "VEdsAZa5OMVZ",
        "outputId": "0c2c64cc-785c-4f01-e2a6-a8d497eb1951"
      },
      "execution_count": 22,
      "outputs": [
        {
          "output_type": "execute_result",
          "data": {
            "text/plain": [
              "torch.Size([35813, 100])"
            ]
          },
          "metadata": {},
          "execution_count": 22
        }
      ]
    },
    {
      "cell_type": "code",
      "source": [
        "#Set embeddings\n",
        "net.embedding.weight.data.copy_(embeds) \n",
        "net.embedding.weight.requires_grad = False"
      ],
      "metadata": {
        "id": "YnnF-k4GOWVJ"
      },
      "execution_count": 23,
      "outputs": []
    },
    {
      "cell_type": "code",
      "source": [
        "summary(net, (batch_size, 512),dtypes=[torch.long])"
      ],
      "metadata": {
        "colab": {
          "base_uri": "https://localhost:8080/"
        },
        "id": "F4R0Kt0_OI4p",
        "outputId": "ddaf236e-1ae8-4af7-8078-c432f37ebaa4"
      },
      "execution_count": 24,
      "outputs": [
        {
          "output_type": "execute_result",
          "data": {
            "text/plain": [
              "==========================================================================================\n",
              "Layer (type:depth-idx)                   Output Shape              Param #\n",
              "==========================================================================================\n",
              "BiRNN                                    [64, 2]                   --\n",
              "├─Embedding: 1-1                         [64, 512, 100]            (3,581,300)\n",
              "├─LSTM: 1-2                              [64, 512, 200]            403,200\n",
              "├─Linear: 1-3                            [64, 2]                   402\n",
              "==========================================================================================\n",
              "Total params: 3,984,902\n",
              "Trainable params: 403,602\n",
              "Non-trainable params: 3,581,300\n",
              "Total mult-adds (G): 13.44\n",
              "==========================================================================================\n",
              "Input size (MB): 0.26\n",
              "Forward/backward pass size (MB): 78.64\n",
              "Params size (MB): 15.94\n",
              "Estimated Total Size (MB): 94.85\n",
              "=========================================================================================="
            ]
          },
          "metadata": {},
          "execution_count": 24
        }
      ]
    },
    {
      "cell_type": "markdown",
      "source": [
        "**By using pretrained embeddings we managed to reduce the size of the model from 3.9 million params to 400k params**"
      ],
      "metadata": {
        "id": "zM89OmcoOuWx"
      }
    },
    {
      "cell_type": "code",
      "source": [
        "lr, num_epochs = 0.01, 10\n",
        "trainer = torch.optim.Adam(net.parameters(), lr=lr)\n",
        "loss = nn.CrossEntropyLoss(reduction=\"none\")"
      ],
      "metadata": {
        "id": "kDyMSfPOOTUn"
      },
      "execution_count": null,
      "outputs": []
    },
    {
      "cell_type": "code",
      "source": [
        "def evaluate_accuracy_gpu(net, data_iter, device=None):\n",
        "  if isinstance(net, nn.Module):\n",
        "    net.eval() # Set the model to evaluation mode \n",
        "    if not device:\n",
        "      device = next(iter(net.parameters())).device \n",
        "\n",
        "  # No. of correct predictions, no. of predictions \n",
        "  metric = d2l.Accumulator(2)\n",
        "  with torch.no_grad():\n",
        "    for X, y in data_iter:\n",
        "      X = X.to(device)\n",
        "      y = y.to(device) \n",
        "      metric.add(d2l.accuracy(net(X), y), y.numel())\n",
        "  return metric[0] / metric[1]\n"
      ],
      "metadata": {
        "id": "mPHtBa9jO-O_"
      },
      "execution_count": null,
      "outputs": []
    },
    {
      "cell_type": "code",
      "source": [
        "def train_batch(net,X,y,loss,optimizer,devices):\n",
        "  X = X.to(devices[0])\n",
        "  y = y.to(devices[0])\n",
        "  net.train()\n",
        "  optimizer.zero_grad()\n",
        "  pred = net(X)\n",
        "  l = loss(pred, y)\n",
        "  l.sum().backward()\n",
        "  optimizer.step()\n",
        "  train_loss_sum = l.sum() \n",
        "  train_acc_sum = d2l.accuracy(pred, y) \n",
        "  return train_loss_sum, train_acc_sum"
      ],
      "metadata": {
        "id": "LLV-XR6vPNn6"
      },
      "execution_count": null,
      "outputs": []
    },
    {
      "cell_type": "code",
      "source": [
        "def train(net, train_iter, test_iter, loss, trainer, num_epochs,devices=d2l.try_all_gpus()):\n",
        "  timer, num_batches = d2l.Timer(), len(train_iter)\n",
        "  net = nn.DataParallel(net, device_ids=devices).to(devices[0])\n",
        "  for epoch in range(num_epochs):\n",
        "    # Sum of training loss, sum of training accuracy, no. of examples, no. of predictions\n",
        "    metric = d2l.Accumulator(4)\n",
        "    for i, (features, labels) in enumerate(train_iter):\n",
        "      timer.start()\n",
        "      l,acc=train_batch(net,features,labels,loss,trainer,devices)\n",
        "      metric.add(l, acc, labels.shape[0], labels.numel())\n",
        "      timer.stop()\n",
        "    test_acc = evaluate_accuracy_gpu(net, test_iter)\n",
        "    print(f'epoch {epoch+1}: loss {metric[0] / metric[2]:.3f}, train acc 'f'{metric[1] / metric[3]:.3f}, test acc {test_acc:.3f}') \n",
        "  print(f'{metric[2] * num_epochs / timer.sum():.1f} examples/sec on 'f'{str(devices)}')"
      ],
      "metadata": {
        "id": "4_PR0_xcPTbr"
      },
      "execution_count": null,
      "outputs": []
    },
    {
      "cell_type": "code",
      "source": [
        "# ~5 mins\n",
        "train(net, train_iter, test_iter, loss, trainer, num_epochs, devices)"
      ],
      "metadata": {
        "colab": {
          "base_uri": "https://localhost:8080/"
        },
        "id": "ijNkRQxQPYUA",
        "outputId": "51bb7c99-edef-4e44-feae-620edb2c0623"
      },
      "execution_count": null,
      "outputs": [
        {
          "output_type": "stream",
          "name": "stdout",
          "text": [
            "epoch 1: loss 0.480, train acc 0.760, test acc 0.838\n",
            "epoch 2: loss 0.318, train acc 0.873, test acc 0.884\n",
            "epoch 3: loss 0.258, train acc 0.899, test acc 0.891\n",
            "epoch 4: loss 0.231, train acc 0.909, test acc 0.881\n",
            "epoch 5: loss 0.201, train acc 0.923, test acc 0.674\n",
            "epoch 6: loss 0.214, train acc 0.914, test acc 0.867\n",
            "epoch 7: loss 0.200, train acc 0.921, test acc 0.889\n",
            "epoch 8: loss 0.166, train acc 0.936, test acc 0.888\n",
            "epoch 9: loss 0.147, train acc 0.944, test acc 0.883\n",
            "epoch 10: loss 0.128, train acc 0.951, test acc 0.881\n",
            "970.0 examples/sec on [device(type='cuda', index=0)]\n"
          ]
        }
      ]
    },
    {
      "cell_type": "markdown",
      "source": [
        "# Predicting"
      ],
      "metadata": {
        "id": "IicYXAy9Q6VV"
      }
    },
    {
      "cell_type": "code",
      "source": [
        "def predict_sentiment(net, vocab, sequence):\n",
        "  \"\"\"Predict the sentiment of a text sequence.\"\"\"\n",
        "  sequence = torch.tensor(vocab[nltk.tokenize.word_tokenize(sequence)], device=d2l.try_gpu())[None,:]\n",
        "  label = torch.argmax(net(sequence), dim=1)\n",
        "  return 'positive' if label == 1 else 'negative'"
      ],
      "metadata": {
        "id": "dEBqNWfGQ5bG"
      },
      "execution_count": null,
      "outputs": []
    },
    {
      "cell_type": "code",
      "source": [
        "predict_sentiment(net, vocab, 'this movie is so great')"
      ],
      "metadata": {
        "colab": {
          "base_uri": "https://localhost:8080/",
          "height": 35
        },
        "id": "vspQZpJhR4wn",
        "outputId": "f4abcdb4-db90-4eee-99f7-5cf81d0c2ad3"
      },
      "execution_count": null,
      "outputs": [
        {
          "output_type": "execute_result",
          "data": {
            "text/plain": [
              "'positive'"
            ],
            "application/vnd.google.colaboratory.intrinsic+json": {
              "type": "string"
            }
          },
          "metadata": {},
          "execution_count": 158
        }
      ]
    },
    {
      "cell_type": "code",
      "source": [
        "predict_sentiment(net, vocab, 'this movie is so bad')"
      ],
      "metadata": {
        "colab": {
          "base_uri": "https://localhost:8080/",
          "height": 35
        },
        "id": "yEcOEaJZSBE2",
        "outputId": "8c95e421-ef03-4dd2-ef7a-86847ef31770"
      },
      "execution_count": null,
      "outputs": [
        {
          "output_type": "execute_result",
          "data": {
            "text/plain": [
              "'negative'"
            ],
            "application/vnd.google.colaboratory.intrinsic+json": {
              "type": "string"
            }
          },
          "metadata": {},
          "execution_count": 159
        }
      ]
    },
    {
      "cell_type": "markdown",
      "source": [
        "#Refactoring code to use Optuna for Hyperparameter Tuning\n",
        "\n",
        "Do not run this section unless you have powerful GPUs\n",
        "\n",
        "(Atleast a P100)"
      ],
      "metadata": {
        "id": "PawqOOtpTTfx"
      }
    },
    {
      "cell_type": "code",
      "source": [
        "!pip install optuna -q"
      ],
      "metadata": {
        "colab": {
          "base_uri": "https://localhost:8080/"
        },
        "id": "v-G_lESfTRQV",
        "outputId": "003a8212-555c-4284-ca27-05988f922d36"
      },
      "execution_count": null,
      "outputs": [
        {
          "output_type": "stream",
          "name": "stdout",
          "text": [
            "\u001b[K     |████████████████████████████████| 308 kB 29.4 MB/s \n",
            "\u001b[K     |████████████████████████████████| 81 kB 10.4 MB/s \n",
            "\u001b[K     |████████████████████████████████| 209 kB 80.5 MB/s \n",
            "\u001b[K     |████████████████████████████████| 78 kB 7.6 MB/s \n",
            "\u001b[K     |████████████████████████████████| 49 kB 7.0 MB/s \n",
            "\u001b[K     |████████████████████████████████| 146 kB 80.0 MB/s \n",
            "\u001b[K     |████████████████████████████████| 112 kB 74.7 MB/s \n",
            "\u001b[?25h  Building wheel for pyperclip (setup.py) ... \u001b[?25l\u001b[?25hdone\n"
          ]
        }
      ]
    },
    {
      "cell_type": "code",
      "source": [
        "def get_net(params):\n",
        "  #net = BiRNN(len(vocab), embed_size, num_hiddens, num_layers)\n",
        "  net = BiRNN(params['vocab_size'], params['embed_size'], params['num_hiddens'], params['num_layers'])\n",
        "  net.apply(init_weights);\n",
        "  embeds = glove_embedding[vocab.idx_to_token]\n",
        "  net.embedding.weight.data.copy_(embeds) \n",
        "  net.embedding.weight.requires_grad = False \n",
        "  return net "
      ],
      "metadata": {
        "id": "3yoV6xzWTZHl"
      },
      "execution_count": null,
      "outputs": []
    },
    {
      "cell_type": "code",
      "source": [
        "def train_optuna(params,net, train_iter, test_iter, loss, num_epochs, devices=d2l.try_all_gpus()):\n",
        "  timer, num_batches = d2l.Timer(), len(train_iter)\n",
        "  net = nn.DataParallel(net, device_ids=devices).to(devices[0])\n",
        "  trainer = getattr(optim, params['trainer'])(net.parameters(), lr= 0.01)\n",
        "  for epoch in range(num_epochs):\n",
        "    # Sum of training loss, sum of training accuracy, no. of examples, no. of predictions\n",
        "    metric = d2l.Accumulator(4)\n",
        "    for i, (features, labels) in enumerate(train_iter):\n",
        "      timer.start()\n",
        "      l,acc=train_batch(net,features,labels,loss,trainer,devices)\n",
        "      metric.add(l, acc, labels.shape[0], labels.numel())\n",
        "      timer.stop()\n",
        "    test_acc = evaluate_accuracy_gpu(net, test_iter)\n",
        "  return test_acc\n"
      ],
      "metadata": {
        "id": "ZFQy8G1kUTOd"
      },
      "execution_count": null,
      "outputs": []
    },
    {
      "cell_type": "code",
      "source": [
        "import optuna\n",
        "import torch.optim as optim\n",
        "\n",
        "def objective(trial):\n",
        "  batch_size=64\n",
        "  num_epochs = 5\n",
        "  devices = d2l.try_all_gpus()\n",
        "  #Ideally you'd want to create new iterators for every trial\n",
        "  #However in the interest of time I'll just use the global \n",
        "  #iterators and vocab\n",
        "  #train_iter, test_iter, vocab = load_data_imdb(batch_size)\n",
        "\n",
        "  params = {\n",
        "            'vocab_size' : len(vocab),\n",
        "            'embed_size' : 100,\n",
        "            'num_hiddens': trial.suggest_categorical(\"num_hiddens\", [100, 256, 512]),\n",
        "            'trainer': trial.suggest_categorical(\"trainer\", [\"Adam\", \"RMSprop\", \"SGD\"]),\n",
        "            'num_layers': trial.suggest_int(\"num_layers\", 2, 5)\n",
        "            }\n",
        "\n",
        "\n",
        "  model = get_net(params)\n",
        "  loss = nn.CrossEntropyLoss(reduction=\"none\")\n",
        "\n",
        "  test_accuracy = train_optuna(params,model,train_iter,test_iter,loss,num_epochs,devices)\n",
        "\n",
        "  return test_accuracy\n"
      ],
      "metadata": {
        "id": "iw4RfsbmUfbB"
      },
      "execution_count": null,
      "outputs": []
    },
    {
      "cell_type": "code",
      "source": [
        "study = optuna.create_study(direction=\"maximize\", sampler=optuna.samplers.TPESampler())\n",
        "study.optimize(objective, n_trials=20)"
      ],
      "metadata": {
        "id": "YbpxT4R1Va-3"
      },
      "execution_count": null,
      "outputs": []
    },
    {
      "cell_type": "code",
      "source": [
        "study.keys()"
      ],
      "metadata": {
        "id": "InCOuuZ8ZFzo"
      },
      "execution_count": null,
      "outputs": []
    },
    {
      "cell_type": "code",
      "source": [
        "best_trial = study.best_trial\n",
        "\n",
        "for key, value in best_trial.params.items():\n",
        "    print(\"{}: {}\".format(key, value))"
      ],
      "metadata": {
        "id": "l57KephfZFNT"
      },
      "execution_count": null,
      "outputs": []
    },
    {
      "cell_type": "code",
      "source": [
        "optuna.visualization.plot_intermediate_values(study)\n"
      ],
      "metadata": {
        "id": "u2T5Jr4nZivS"
      },
      "execution_count": null,
      "outputs": []
    },
    {
      "cell_type": "code",
      "source": [
        "optuna.visualization.plot_optimization_history(study)\n"
      ],
      "metadata": {
        "id": "-bM0qUDFZjsD"
      },
      "execution_count": null,
      "outputs": []
    },
    {
      "cell_type": "code",
      "source": [
        "optuna.visualization.plot_parallel_coordinate(study)\n"
      ],
      "metadata": {
        "id": "m3Wk5-NoZm-2"
      },
      "execution_count": null,
      "outputs": []
    },
    {
      "cell_type": "code",
      "source": [
        "optuna.visualization.plot_param_importances(study)\n"
      ],
      "metadata": {
        "id": "1A8W-_E-Zoxz"
      },
      "execution_count": null,
      "outputs": []
    },
    {
      "cell_type": "markdown",
      "source": [
        "#1-D CNNs for Text"
      ],
      "metadata": {
        "id": "C7wgBeBxY8gG"
      }
    },
    {
      "cell_type": "markdown",
      "source": [
        "![image.png](data:image/png;base64,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)"
      ],
      "metadata": {
        "id": "HN7r0oNcZQh9"
      }
    },
    {
      "cell_type": "markdown",
      "source": [
        "Simply put, just think of any text sequence as a one-dimensional image. In this way, one-dimensional CNNs can process local features such as n-grams in text.\n",
        "\n",
        "For any one-dimensional input with multiple channels, the convolution kernel needs to have the same number of input channels. Then for each channel, perform a cross-correlation operation on the one-dimensional tensor of the input and the one-dimensional tensor of the convolution kernel, summing the results over all the channels to produce the one-dimensional output tensor. Fig. 15.3.3 shows a one-dimensional cross-correlation operation with 3 input channels."
      ],
      "metadata": {
        "id": "9qLa5cYxZVyq"
      }
    },
    {
      "cell_type": "code",
      "source": [
        "def corr1d(X, K): \n",
        "  w = K.shape[0]\n",
        "  Y = torch.zeros((X.shape[0] - w + 1)) \n",
        "  for i in range(Y.shape[0]):\n",
        "    Y[i] = (X[i: i + w] * K).sum() \n",
        "  return Y\n",
        "\n",
        "def corr1d_multi_in(X, K):\n",
        "  # First, iterate through the 0th dimension (channel dimension) of `X` and \n",
        "  # `K`. Then, add them together\n",
        "  return sum(corr1d(x, k) for x, k in zip(X, K))\n",
        "\n",
        "X =torch.tensor([[0, 1, 2, 3, 4, 5, 6],\n",
        "                 [1, 2, 3, 4, 5, 6, 7],\n",
        "                 [2, 3, 4, 5, 6, 7, 8]]) \n",
        "\n",
        "K= torch.tensor([[1, 2], [3, 4], [-1, -3]])\n",
        "corr1d_multi_in(X, K)"
      ],
      "metadata": {
        "colab": {
          "base_uri": "https://localhost:8080/"
        },
        "id": "-a68iITgY_CS",
        "outputId": "94d348f5-7698-48a9-ac35-81be43e230c4"
      },
      "execution_count": null,
      "outputs": [
        {
          "output_type": "execute_result",
          "data": {
            "text/plain": [
              "tensor([ 2.,  8., 14., 20., 26., 32.])"
            ]
          },
          "metadata": {},
          "execution_count": 165
        }
      ]
    },
    {
      "cell_type": "markdown",
      "source": [
        "## 1-D CNN Model\n",
        "Similarly, we can use pooling to extract the highest value from sequence representations as the most important feature across time steps. The max-over-time pooling used in textCNN works like the one-dimensional global maximum pooling (Collobert et al., 2011). \n",
        "\n",
        "For a multi-channel input where each channel stores values at different time steps, the output at each channel is the maximum value for that channel. \n",
        "\n",
        "**Note that the max-over-time pooling allows different numbers of time steps at different channels.**"
      ],
      "metadata": {
        "id": "96aiHdzHbNz8"
      }
    },
    {
      "cell_type": "markdown",
      "source": [
        "For a single text sequence with n tokens represented by d-dimensional vectors, the width, height, and number of channels of the input tensor are n, 1, and d, respectively. The textCNN model transforms the input into the output as follows:\n",
        "\n",
        "1. Define multiple one-dimensional convolution kernels and perform convolution operations separately on the inputs. Convolution kernels with different widths may capture local fea- tures among different numbers of adjacent tokens.\n",
        "\n",
        "2. Perform max-over-time pooling on all the output channels, and then concatenate all the scalar pooling outputs as a vector.\n",
        "\n",
        "3. Transform the concatenated vector into the output categories using the fully-connected layer. Dropout can be used for reducing overfitting.\n",
        "\n",
        "![image.png](data:image/png;base64,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)"
      ],
      "metadata": {
        "id": "J-WGskUvbniX"
      }
    },
    {
      "cell_type": "code",
      "source": [
        "class TextCNN(nn.Module):\n",
        "  def __init__(self, vocab_size, embed_size, kernel_sizes, num_channels,**kwargs):\n",
        "    super(TextCNN, self).__init__(**kwargs)\n",
        "    self.embedding = nn.Embedding(vocab_size, embed_size)\n",
        "    # The embedding layer not to be trained\n",
        "    self.constant_embedding = nn.Embedding(vocab_size, embed_size) \n",
        "    self.dropout = nn.Dropout(0.5)\n",
        "    self.decoder = nn.Linear(sum(num_channels), 2)\n",
        "    # The max-over-time pooling layer has no parameters, so this instance\n",
        "    # can be shared\n",
        "    self.pool = nn.AdaptiveAvgPool1d(1)\n",
        "    self.relu = nn.ReLU()\n",
        "\n",
        "    # Create multiple one-dimensional convolutional layers\n",
        "    self.convs = nn.ModuleList()\n",
        "    for c, k in zip(num_channels, kernel_sizes):\n",
        "      #in channels,out channels, kerenel width\n",
        "      self.convs.append(nn.Conv1d(2 * embed_size, c, k))\n",
        "\n",
        "\n",
        "  def forward(self, inputs):\n",
        "    #inputs -> batch_size, max_len\n",
        "    # Concatenate two embedding layer outputs with shape \n",
        "    #(batch size, max_len, token vector dimension) along vectors\n",
        "\n",
        "    embeddings = torch.cat((self.embedding(inputs), self.constant_embedding(inputs)), dim=2)\n",
        "    #batch_size,in_channels= 2*embedding_dims, width= max_len\n",
        "    embeddings = embeddings.permute(0, 2, 1)\n",
        "\n",
        "    #after pooling we get batch_size,out_channels_i,1 and squeeze the last dim\n",
        "    #after cat we get batch_size, sum (out_channels_i) i.e sum(num_channels)\n",
        "    encoding = torch.cat([torch.squeeze(self.relu(self.pool(conv(embeddings))), dim=-1) \n",
        "                          for conv in self.convs], dim=1)\n",
        "    \n",
        "    outputs = self.decoder(self.dropout(encoding)) \n",
        "    return outputs\n",
        "    \n",
        "\n"
      ],
      "metadata": {
        "id": "6kzw_vBrbKXG"
      },
      "execution_count": 25,
      "outputs": []
    },
    {
      "cell_type": "code",
      "source": [
        "embed_size, kernel_sizes, nums_channels = 100, [3, 4, 5], [50, 100, 150] \n",
        "devices = d2l.try_all_gpus()\n",
        "net = TextCNN(len(vocab), embed_size, kernel_sizes, nums_channels)\n",
        "\n",
        "def init_weights(m):\n",
        "  if type(m) in (nn.Linear, nn.Conv1d):\n",
        "    nn.init.xavier_uniform_(m.weight) \n",
        "\n",
        "net.apply(init_weights)"
      ],
      "metadata": {
        "colab": {
          "base_uri": "https://localhost:8080/"
        },
        "id": "iggVo8AGfXY4",
        "outputId": "442ae721-5575-45c5-948e-1bf5e02c86b5"
      },
      "execution_count": 26,
      "outputs": [
        {
          "output_type": "execute_result",
          "data": {
            "text/plain": [
              "TextCNN(\n",
              "  (embedding): Embedding(35813, 100)\n",
              "  (constant_embedding): Embedding(35813, 100)\n",
              "  (dropout): Dropout(p=0.5, inplace=False)\n",
              "  (decoder): Linear(in_features=300, out_features=2, bias=True)\n",
              "  (pool): AdaptiveAvgPool1d(output_size=1)\n",
              "  (relu): ReLU()\n",
              "  (convs): ModuleList(\n",
              "    (0): Conv1d(200, 50, kernel_size=(3,), stride=(1,))\n",
              "    (1): Conv1d(200, 100, kernel_size=(4,), stride=(1,))\n",
              "    (2): Conv1d(200, 150, kernel_size=(5,), stride=(1,))\n",
              "  )\n",
              ")"
            ]
          },
          "metadata": {},
          "execution_count": 26
        }
      ]
    },
    {
      "cell_type": "code",
      "source": [
        "glove_embedding = d2l.TokenEmbedding('glove.6b.100d')\n"
      ],
      "metadata": {
        "id": "57H7KlWafXbt"
      },
      "execution_count": null,
      "outputs": []
    },
    {
      "cell_type": "code",
      "source": [
        "#Make one set trainable \n",
        "embeds = glove_embedding[vocab.idx_to_token] \n",
        "net.embedding.weight.data.copy_(embeds) \n",
        "net.constant_embedding.weight.data.copy_(embeds) \n",
        "net.constant_embedding.weight.requires_grad = False"
      ],
      "metadata": {
        "id": "7ppfJpkMgmvu"
      },
      "execution_count": 27,
      "outputs": []
    },
    {
      "cell_type": "code",
      "source": [
        "summary(net, (batch_size, 512),dtypes=[torch.long])"
      ],
      "metadata": {
        "colab": {
          "base_uri": "https://localhost:8080/"
        },
        "id": "EKry-wo4gCul",
        "outputId": "7c3825d7-51c4-408e-b5bd-1051ead10c2b"
      },
      "execution_count": 29,
      "outputs": [
        {
          "output_type": "execute_result",
          "data": {
            "text/plain": [
              "==========================================================================================\n",
              "Layer (type:depth-idx)                   Output Shape              Param #\n",
              "==========================================================================================\n",
              "TextCNN                                  [64, 2]                   --\n",
              "├─Embedding: 1-1                         [64, 512, 100]            3,581,300\n",
              "├─Embedding: 1-2                         [64, 512, 100]            (3,581,300)\n",
              "├─ModuleList: 1-5                        --                        260,300\n",
              "│    └─Conv1d: 2-1                       [64, 50, 510]             30,050\n",
              "├─AdaptiveAvgPool1d: 1-3                 [64, 50, 1]               --\n",
              "├─ReLU: 1-4                              [64, 50, 1]               --\n",
              "├─ModuleList: 1-5                        --                        260,300\n",
              "│    └─Conv1d: 2-2                       [64, 100, 509]            80,100\n",
              "├─ModuleList: 1-5                        --                        260,300\n",
              "├─AdaptiveAvgPool1d: 1-6                 [64, 100, 1]              --\n",
              "├─ReLU: 1-7                              [64, 100, 1]              --\n",
              "├─ModuleList: 1-5                        --                        260,300\n",
              "│    └─Conv1d: 2-3                       [64, 150, 508]            150,150\n",
              "├─AdaptiveAvgPool1d: 1-8                 [64, 150, 1]              --\n",
              "├─ReLU: 1-9                              [64, 150, 1]              --\n",
              "├─Dropout: 1-10                          [64, 300]                 --\n",
              "├─Linear: 1-11                           [64, 2]                   602\n",
              "==========================================================================================\n",
              "Total params: 7,423,502\n",
              "Trainable params: 3,842,202\n",
              "Non-trainable params: 3,581,300\n",
              "Total mult-adds (G): 8.93\n",
              "==========================================================================================\n",
              "Input size (MB): 0.26\n",
              "Forward/backward pass size (MB): 130.56\n",
              "Params size (MB): 29.69\n",
              "Estimated Total Size (MB): 160.52\n",
              "=========================================================================================="
            ]
          },
          "metadata": {},
          "execution_count": 29
        }
      ]
    },
    {
      "cell_type": "code",
      "source": [
        "def evaluate_accuracy_gpu(net, data_iter, device=None):\n",
        "  if isinstance(net, nn.Module):\n",
        "    net.eval() # Set the model to evaluation mode \n",
        "    if not device:\n",
        "      device = next(iter(net.parameters())).device \n",
        "\n",
        "  # No. of correct predictions, no. of predictions \n",
        "  metric = d2l.Accumulator(2)\n",
        "  with torch.no_grad():\n",
        "    for X, y in data_iter:\n",
        "      X = X.to(device)\n",
        "      y = y.to(device) \n",
        "      metric.add(d2l.accuracy(net(X), y), y.numel())\n",
        "  return metric[0] / metric[1]\n",
        "\n",
        "\n",
        "def train_batch(net,X,y,loss,optimizer,devices):\n",
        "  X = X.to(devices[0])\n",
        "  y = y.to(devices[0])\n",
        "  net.train()\n",
        "  optimizer.zero_grad()\n",
        "  pred = net(X)\n",
        "  l = loss(pred, y)\n",
        "  l.sum().backward()\n",
        "  optimizer.step()\n",
        "  train_loss_sum = l.sum() \n",
        "  train_acc_sum = d2l.accuracy(pred, y) \n",
        "  return train_loss_sum, train_acc_sum\n",
        "\n",
        "def train(net, train_iter, test_iter, loss, trainer, num_epochs,devices=d2l.try_all_gpus()):\n",
        "  timer, num_batches = d2l.Timer(), len(train_iter)\n",
        "  net = nn.DataParallel(net, device_ids=devices).to(devices[0])\n",
        "  for epoch in range(num_epochs):\n",
        "    # Sum of training loss, sum of training accuracy, no. of examples, no. of predictions\n",
        "    metric = d2l.Accumulator(4)\n",
        "    for i, (features, labels) in enumerate(train_iter):\n",
        "      timer.start()\n",
        "      l,acc=train_batch(net,features,labels,loss,trainer,devices)\n",
        "      metric.add(l, acc, labels.shape[0], labels.numel())\n",
        "      timer.stop()\n",
        "    test_acc = evaluate_accuracy_gpu(net, test_iter)\n",
        "    print(f'epoch {epoch+1}: loss {metric[0] / metric[2]:.3f}, train acc 'f'{metric[1] / metric[3]:.3f}, test acc {test_acc:.3f}') \n",
        "  print(f'{metric[2] * num_epochs / timer.sum():.1f} examples/sec on 'f'{str(devices)}')\n",
        "\n",
        "def predict_sentiment(net, vocab, sequence):\n",
        "  \"\"\"Predict the sentiment of a text sequence.\"\"\"\n",
        "  sequence = torch.tensor(vocab[nltk.tokenize.word_tokenize(sequence)], device=d2l.try_gpu())[None,:]\n",
        "  label = torch.argmax(net(sequence), dim=1)\n",
        "  return 'positive' if label == 1 else 'negative'"
      ],
      "metadata": {
        "id": "Y0_QeqGzfXj3"
      },
      "execution_count": null,
      "outputs": []
    },
    {
      "cell_type": "code",
      "source": [
        "# 3 mins to run\n",
        "batch_size = 64\n",
        "train_iter, test_iter, vocab = load_data_imdb(batch_size)"
      ],
      "metadata": {
        "id": "p5iuoSgcmjTz"
      },
      "execution_count": null,
      "outputs": []
    },
    {
      "cell_type": "code",
      "source": [
        "lr, num_epochs = 0.001, 10\n",
        "trainer = torch.optim.Adam(net.parameters(), lr=lr)\n",
        "loss = nn.CrossEntropyLoss(reduction=\"none\")\n",
        "train(net, train_iter, test_iter, loss, trainer, num_epochs, devices)"
      ],
      "metadata": {
        "colab": {
          "base_uri": "https://localhost:8080/"
        },
        "id": "zH_VqxkAgGSb",
        "outputId": "ec7861ad-9726-48ec-881e-9f780601a3df"
      },
      "execution_count": null,
      "outputs": [
        {
          "output_type": "stream",
          "name": "stdout",
          "text": [
            "epoch 1: loss 0.518, train acc 0.750, test acc 0.848\n",
            "epoch 2: loss 0.294, train acc 0.882, test acc 0.871\n",
            "epoch 3: loss 0.208, train acc 0.920, test acc 0.881\n",
            "epoch 4: loss 0.154, train acc 0.943, test acc 0.879\n",
            "epoch 5: loss 0.113, train acc 0.960, test acc 0.879\n",
            "epoch 6: loss 0.077, train acc 0.975, test acc 0.867\n",
            "epoch 7: loss 0.061, train acc 0.980, test acc 0.863\n",
            "epoch 8: loss 0.042, train acc 0.986, test acc 0.866\n",
            "epoch 9: loss 0.031, train acc 0.990, test acc 0.864\n",
            "epoch 10: loss 0.026, train acc 0.992, test acc 0.851\n",
            "2445.1 examples/sec on [device(type='cuda', index=0)]\n"
          ]
        }
      ]
    },
    {
      "cell_type": "markdown",
      "source": [
        "## Variations"
      ],
      "metadata": {
        "id": "68o7S7Beg9MP"
      }
    },
    {
      "cell_type": "markdown",
      "source": [
        "### Remove learnable embedding"
      ],
      "metadata": {
        "id": "XkI8ark1hCZW"
      }
    },
    {
      "cell_type": "code",
      "source": [
        "class TextCNN(nn.Module):\n",
        "  def __init__(self, vocab_size, embed_size, kernel_sizes, num_channels,**kwargs):\n",
        "    super(TextCNN, self).__init__(**kwargs)\n",
        "    # The embedding layer not to be trained\n",
        "    self.constant_embedding = nn.Embedding(vocab_size, embed_size) \n",
        "    self.dropout = nn.Dropout(0.5)\n",
        "    self.decoder = nn.Linear(sum(num_channels), 2)\n",
        "    # The max-over-time pooling layer has no parameters, so this instance\n",
        "    # can be shared\n",
        "    self.pool = nn.AdaptiveAvgPool1d(1)\n",
        "    self.relu = nn.ReLU()\n",
        "\n",
        "    # Create multiple one-dimensional convolutional layers\n",
        "    self.convs = nn.ModuleList()\n",
        "    for c, k in zip(num_channels, kernel_sizes):\n",
        "      #in channels,out channels, kerenel width\n",
        "      self.convs.append(nn.Conv1d(embed_size, c, k))\n",
        "\n",
        "\n",
        "  def forward(self, inputs):\n",
        "    #inputs -> batch_size, max_len\n",
        "    # Concatenate two embedding layer outputs with shape \n",
        "    #(batch size, max_len, token vector dimension) along vectors\n",
        "\n",
        "    embeddings = self.constant_embedding(inputs)\n",
        "    #batch_size,in_channels= embedding_dims, width= max_len\n",
        "    embeddings = embeddings.permute(0, 2, 1)\n",
        "\n",
        "    #after pooling we get batch_size,out_channels_i,1 and squeeze the last dim\n",
        "    #after cat we get batch_size, sum (out_channels_i) i.e sum(num_channels)\n",
        "    encoding = torch.cat([torch.squeeze(self.relu(self.pool(conv(embeddings))), dim=-1) \n",
        "                          for conv in self.convs], dim=1)\n",
        "    \n",
        "    outputs = self.decoder(self.dropout(encoding)) \n",
        "    return outputs\n",
        "    \n",
        "\n"
      ],
      "metadata": {
        "id": "AhWxTidBg_VC"
      },
      "execution_count": 30,
      "outputs": []
    },
    {
      "cell_type": "code",
      "source": [
        "embed_size, kernel_sizes, nums_channels = 100, [3, 4, 5], [50, 100, 150] \n",
        "devices = d2l.try_all_gpus()\n",
        "net = TextCNN(len(vocab), embed_size, kernel_sizes, nums_channels)\n",
        "\n",
        "def init_weights(m):\n",
        "  if type(m) in (nn.Linear, nn.Conv1d):\n",
        "    nn.init.xavier_uniform_(m.weight) \n",
        "\n",
        "net.apply(init_weights)"
      ],
      "metadata": {
        "colab": {
          "base_uri": "https://localhost:8080/"
        },
        "id": "MMniDL4JiIWC",
        "outputId": "e6339cf1-984d-4382-bb43-981e094fb439"
      },
      "execution_count": 31,
      "outputs": [
        {
          "output_type": "execute_result",
          "data": {
            "text/plain": [
              "TextCNN(\n",
              "  (constant_embedding): Embedding(35813, 100)\n",
              "  (dropout): Dropout(p=0.5, inplace=False)\n",
              "  (decoder): Linear(in_features=300, out_features=2, bias=True)\n",
              "  (pool): AdaptiveAvgPool1d(output_size=1)\n",
              "  (relu): ReLU()\n",
              "  (convs): ModuleList(\n",
              "    (0): Conv1d(100, 50, kernel_size=(3,), stride=(1,))\n",
              "    (1): Conv1d(100, 100, kernel_size=(4,), stride=(1,))\n",
              "    (2): Conv1d(100, 150, kernel_size=(5,), stride=(1,))\n",
              "  )\n",
              ")"
            ]
          },
          "metadata": {},
          "execution_count": 31
        }
      ]
    },
    {
      "cell_type": "code",
      "source": [
        "#Make one set trainable \n",
        "embeds = glove_embedding[vocab.idx_to_token] \n",
        "net.constant_embedding.weight.data.copy_(embeds) \n",
        "net.constant_embedding.weight.requires_grad = False\n",
        "summary(net, (batch_size, 512),dtypes=[torch.long])"
      ],
      "metadata": {
        "colab": {
          "base_uri": "https://localhost:8080/"
        },
        "id": "Ae3sgSP9hUTO",
        "outputId": "7cad6a3a-b483-43d9-fe3d-0e68a16005bd"
      },
      "execution_count": 32,
      "outputs": [
        {
          "output_type": "execute_result",
          "data": {
            "text/plain": [
              "==========================================================================================\n",
              "Layer (type:depth-idx)                   Output Shape              Param #\n",
              "==========================================================================================\n",
              "TextCNN                                  [64, 2]                   --\n",
              "├─Embedding: 1-1                         [64, 512, 100]            (3,581,300)\n",
              "├─ModuleList: 1-4                        --                        130,300\n",
              "│    └─Conv1d: 2-1                       [64, 50, 510]             15,050\n",
              "├─AdaptiveAvgPool1d: 1-2                 [64, 50, 1]               --\n",
              "├─ReLU: 1-3                              [64, 50, 1]               --\n",
              "├─ModuleList: 1-4                        --                        130,300\n",
              "│    └─Conv1d: 2-2                       [64, 100, 509]            40,100\n",
              "├─ModuleList: 1-4                        --                        130,300\n",
              "├─AdaptiveAvgPool1d: 1-5                 [64, 100, 1]              --\n",
              "├─ReLU: 1-6                              [64, 100, 1]              --\n",
              "├─ModuleList: 1-4                        --                        130,300\n",
              "│    └─Conv1d: 2-3                       [64, 150, 508]            75,150\n",
              "├─AdaptiveAvgPool1d: 1-7                 [64, 150, 1]              --\n",
              "├─ReLU: 1-8                              [64, 150, 1]              --\n",
              "├─Dropout: 1-9                           [64, 300]                 --\n",
              "├─Linear: 1-10                           [64, 2]                   602\n",
              "==========================================================================================\n",
              "Total params: 3,712,202\n",
              "Trainable params: 130,902\n",
              "Non-trainable params: 3,581,300\n",
              "Total mult-adds (G): 4.47\n",
              "==========================================================================================\n",
              "Input size (MB): 0.26\n",
              "Forward/backward pass size (MB): 104.35\n",
              "Params size (MB): 14.85\n",
              "Estimated Total Size (MB): 119.46\n",
              "=========================================================================================="
            ]
          },
          "metadata": {},
          "execution_count": 32
        }
      ]
    },
    {
      "cell_type": "code",
      "source": [
        "trainer = torch.optim.Adam(net.parameters(), lr=0.001)\n",
        "loss = nn.CrossEntropyLoss(reduction=\"none\")\n",
        "num_epochs = 10\n",
        "train(net, train_iter, test_iter, loss, trainer, num_epochs, devices)"
      ],
      "metadata": {
        "colab": {
          "base_uri": "https://localhost:8080/"
        },
        "id": "UvvsnW5_hdg-",
        "outputId": "2e608435-d993-4c60-b38d-96e361a24564"
      },
      "execution_count": null,
      "outputs": [
        {
          "output_type": "stream",
          "name": "stdout",
          "text": [
            "epoch 1: loss 0.615, train acc 0.672, test acc 0.717\n",
            "epoch 2: loss 0.534, train acc 0.748, test acc 0.764\n",
            "epoch 3: loss 0.511, train acc 0.758, test acc 0.768\n",
            "epoch 4: loss 0.494, train acc 0.768, test acc 0.760\n",
            "epoch 5: loss 0.486, train acc 0.770, test acc 0.775\n",
            "epoch 6: loss 0.486, train acc 0.769, test acc 0.774\n",
            "epoch 7: loss 0.478, train acc 0.772, test acc 0.768\n",
            "epoch 8: loss 0.473, train acc 0.773, test acc 0.773\n",
            "epoch 9: loss 0.473, train acc 0.774, test acc 0.780\n",
            "epoch 10: loss 0.475, train acc 0.772, test acc 0.775\n",
            "6197.2 examples/sec on [device(type='cuda', index=0)]\n"
          ]
        }
      ]
    },
    {
      "cell_type": "markdown",
      "source": [
        "### Add positional encodings"
      ],
      "metadata": {
        "id": "XgufjSXIhlKR"
      }
    },
    {
      "cell_type": "markdown",
      "source": [
        "#### Add sinusoidal encodings \n",
        "\n",
        "Based on the original transformer paper"
      ],
      "metadata": {
        "id": "56YbhLyuhpcm"
      }
    },
    {
      "cell_type": "code",
      "source": [
        "class PositionalEncoding(nn.Module):\n",
        "  def __init__(self, num_hiddens, dropout, max_len=512):\n",
        "    super(PositionalEncoding, self).__init__()\n",
        "    self.dropout = nn.Dropout(dropout)\n",
        "    self.P = torch.zeros((1, max_len, num_hiddens))\n",
        "\n",
        "    # Reshape max_len to max_len X 1, hence rows signify each position in the sequence\n",
        "    #Columns of X and P must go upto num_hiddens, here starting from 0 we go upto num_hiddens skipping 2\n",
        "    #X-> batch_size,num_hiddens\n",
        "    X=torch.arange(max_len, dtype=torch.float32).reshape(-1,1)/ torch.pow(10000,torch.arange(0,num_hiddens,2,dtype=torch.float)/num_hiddens)\n",
        "    self.P[:, :, 0::2] = torch.sin(X) \n",
        "    self.P[:, :, 1::2] = torch.cos(X)\n",
        "\n",
        "  def forward(self, X):\n",
        "    #X->batch_size,max_len,num_hiddens\n",
        "    X = X + self.P[:, :X.shape[1], :].to(X.device) #Take p only upto max_len\n",
        "    return self.dropout(X)\n"
      ],
      "metadata": {
        "id": "Wj6QeSL7h3PQ"
      },
      "execution_count": 33,
      "outputs": []
    },
    {
      "cell_type": "code",
      "source": [
        "class TextCNN(nn.Module):\n",
        "  def __init__(self, vocab_size, embed_size, kernel_sizes, num_channels,**kwargs):\n",
        "    super(TextCNN, self).__init__(**kwargs)\n",
        "    self.embedding = nn.Embedding(vocab_size, embed_size)\n",
        "    # The embedding layer not to be trained\n",
        "    self.constant_embedding = nn.Embedding(vocab_size, embed_size) \n",
        "    self.positional_encoding = PositionalEncoding(embed_size, 0.2)\n",
        "    self.dropout = nn.Dropout(0.5)\n",
        "    self.decoder = nn.Linear(sum(num_channels), 2)\n",
        "    # The max-over-time pooling layer has no parameters, so this instance\n",
        "    # can be shared\n",
        "    self.pool = nn.AdaptiveAvgPool1d(1)\n",
        "    self.relu = nn.ReLU()\n",
        "\n",
        "    # Create multiple one-dimensional convolutional layers\n",
        "    self.convs = nn.ModuleList()\n",
        "    for c, k in zip(num_channels, kernel_sizes):\n",
        "      #in channels,out channels, kerenel width\n",
        "      self.convs.append(nn.Conv1d(2 * embed_size, c, k))\n",
        "\n",
        "\n",
        "  def forward(self, inputs):\n",
        "    #inputs -> batch_size, max_len\n",
        "    # Concatenate two embedding layer outputs with shape \n",
        "    #(batch size, max_len, token vector dimension) along vectors\n",
        "\n",
        "    embeddings = torch.cat((self.positional_encoding(self.embedding(inputs)),\n",
        "                            self.positional_encoding(self.constant_embedding(inputs))), dim=2)\n",
        "    #batch_size,  max_len, 2*embedding_dims\n",
        "\n",
        "\n",
        "    embeddings = embeddings.permute(0, 2, 1)\n",
        "\n",
        "\n",
        "    #after pooling we get batch_size,out_channels_i,1 and squeeze the last dim\n",
        "    #after cat we get batch_size, sum (out_channels_i) i.e sum(num_channels)\n",
        "    encoding = torch.cat([torch.squeeze(self.relu(self.pool(conv(embeddings))), dim=-1) \n",
        "                          for conv in self.convs], dim=1)\n",
        "    \n",
        "    outputs = self.decoder(self.dropout(encoding)) \n",
        "    return outputs\n",
        "    \n",
        "\n"
      ],
      "metadata": {
        "id": "HTyVCEpykFlV"
      },
      "execution_count": 34,
      "outputs": []
    },
    {
      "cell_type": "code",
      "source": [
        "embed_size, kernel_sizes, nums_channels = 100, [3, 4, 5], [50, 100, 150] \n",
        "devices = d2l.try_all_gpus()\n",
        "net = TextCNN(len(vocab), embed_size, kernel_sizes, nums_channels)\n",
        "\n",
        "def init_weights(m):\n",
        "  if type(m) in (nn.Linear, nn.Conv1d):\n",
        "    nn.init.xavier_uniform_(m.weight) \n",
        "\n",
        "net.apply(init_weights)\n",
        "\n",
        "#Make one set trainable \n",
        "embeds = glove_embedding[vocab.idx_to_token] \n",
        "net.embedding.weight.data.copy_(embeds) \n",
        "net.constant_embedding.weight.data.copy_(embeds) \n",
        "net.constant_embedding.weight.requires_grad = False\n",
        "\n",
        "summary(net, (batch_size, 512),dtypes=[torch.long])"
      ],
      "metadata": {
        "colab": {
          "base_uri": "https://localhost:8080/"
        },
        "id": "4vHEx1-ilXYT",
        "outputId": "bff00477-fde1-4f5e-cef5-0dfe4e482cf0"
      },
      "execution_count": 35,
      "outputs": [
        {
          "output_type": "execute_result",
          "data": {
            "text/plain": [
              "==========================================================================================\n",
              "Layer (type:depth-idx)                   Output Shape              Param #\n",
              "==========================================================================================\n",
              "TextCNN                                  [64, 2]                   3,351,050\n",
              "├─Embedding: 1-2                         [64, 512, 100]            (recursive)\n",
              "├─Embedding: 1-2                         [64, 512, 100]            (recursive)\n",
              "├─PositionalEncoding: 1-3                [64, 512, 100]            --\n",
              "│    └─Dropout: 2-1                      [64, 512, 100]            --\n",
              "├─Embedding: 1-4                         [64, 512, 100]            (3,581,300)\n",
              "├─PositionalEncoding: 1-5                [64, 512, 100]            --\n",
              "│    └─Dropout: 2-2                      [64, 512, 100]            --\n",
              "├─ModuleList: 1-6                        --                        260,300\n",
              "│    └─Conv1d: 2-3                       [64, 50, 510]             30,050\n",
              "├─ModuleList: 1-6                        --                        260,300\n",
              "├─AdaptiveAvgPool1d: 1-7                 [64, 50, 1]               --\n",
              "├─ReLU: 1-8                              [64, 50, 1]               --\n",
              "├─ModuleList: 1-6                        --                        260,300\n",
              "│    └─Conv1d: 2-4                       [64, 100, 509]            80,100\n",
              "├─AdaptiveAvgPool1d: 1-9                 [64, 100, 1]              --\n",
              "├─ReLU: 1-10                             [64, 100, 1]              --\n",
              "├─ModuleList: 1-6                        --                        260,300\n",
              "│    └─Conv1d: 2-5                       [64, 150, 508]            150,150\n",
              "├─AdaptiveAvgPool1d: 1-11                [64, 150, 1]              --\n",
              "├─ReLU: 1-12                             [64, 150, 1]              --\n",
              "├─Dropout: 1-13                          [64, 300]                 --\n",
              "├─Linear: 1-14                           [64, 2]                   602\n",
              "==========================================================================================\n",
              "Total params: 7,423,502\n",
              "Trainable params: 3,842,202\n",
              "Non-trainable params: 3,581,300\n",
              "Total mult-adds (G): 9.16\n",
              "==========================================================================================\n",
              "Input size (MB): 0.26\n",
              "Forward/backward pass size (MB): 104.35\n",
              "Params size (MB): 15.37\n",
              "Estimated Total Size (MB): 119.98\n",
              "=========================================================================================="
            ]
          },
          "metadata": {},
          "execution_count": 35
        }
      ]
    },
    {
      "cell_type": "code",
      "source": [
        "batch_size = 64\n",
        "lr, num_epochs = 0.001, 10\n",
        "trainer = torch.optim.Adam(net.parameters(), lr=lr)\n",
        "loss = nn.CrossEntropyLoss(reduction=\"none\")\n",
        "train(net, train_iter, test_iter, loss, trainer, num_epochs, devices)"
      ],
      "metadata": {
        "colab": {
          "base_uri": "https://localhost:8080/"
        },
        "id": "pytP1nEaliuE",
        "outputId": "ed51c6b4-63df-4e07-ce63-fe3350bcc703"
      },
      "execution_count": null,
      "outputs": [
        {
          "output_type": "stream",
          "name": "stdout",
          "text": [
            "epoch 1: loss 0.644, train acc 0.625, test acc 0.723\n",
            "epoch 2: loss 0.442, train acc 0.800, test acc 0.826\n",
            "epoch 3: loss 0.321, train acc 0.867, test acc 0.849\n",
            "epoch 4: loss 0.281, train acc 0.889, test acc 0.881\n",
            "epoch 5: loss 0.240, train acc 0.906, test acc 0.871\n",
            "epoch 6: loss 0.210, train acc 0.920, test acc 0.878\n",
            "epoch 7: loss 0.193, train acc 0.928, test acc 0.864\n",
            "epoch 8: loss 0.171, train acc 0.937, test acc 0.886\n",
            "epoch 9: loss 0.157, train acc 0.944, test acc 0.859\n",
            "epoch 10: loss 0.137, train acc 0.950, test acc 0.882\n",
            "2401.9 examples/sec on [device(type='cuda', index=0)]\n"
          ]
        }
      ]
    },
    {
      "cell_type": "markdown",
      "source": [
        "#### Add learnable position embeddings\n",
        "\n",
        "Based on the BERT paper"
      ],
      "metadata": {
        "id": "ru9_3W5MhxNu"
      }
    },
    {
      "cell_type": "code",
      "source": [
        "class TextCNN(nn.Module):\n",
        "  def __init__(self, vocab_size, embed_size, kernel_sizes, num_channels,**kwargs):\n",
        "    super(TextCNN, self).__init__(**kwargs)\n",
        "    self.embedding = nn.Embedding(vocab_size, embed_size)\n",
        "    # The embedding layer not to be trained\n",
        "    self.constant_embedding = nn.Embedding(vocab_size, embed_size) \n",
        "    #Learnable position embeddings\n",
        "    self.pos_embedding = nn.Parameter(torch.randn(1, 512,embed_size))\n",
        "\n",
        "    self.dropout = nn.Dropout(0.5)\n",
        "    self.decoder = nn.Linear(sum(num_channels), 2)\n",
        "    # The max-over-time pooling layer has no parameters, so this instance\n",
        "    # can be shared\n",
        "    self.pool = nn.AdaptiveAvgPool1d(1)\n",
        "    self.relu = nn.ReLU()\n",
        "\n",
        "    # Create multiple one-dimensional convolutional layers\n",
        "    self.convs = nn.ModuleList()\n",
        "    for c, k in zip(num_channels, kernel_sizes):\n",
        "      #in channels,out channels, kerenel width\n",
        "      self.convs.append(nn.Conv1d(2 * embed_size, c, k))\n",
        "\n",
        "\n",
        "  def forward(self, inputs):\n",
        "    #inputs -> batch_size, max_len\n",
        "    # Concatenate two embedding layer outputs with shape \n",
        "    #(batch size, max_len, token vector dimension) along vectors\n",
        "\n",
        "    embeddings = torch.cat(((self.embedding(inputs) + self.pos_embedding.data[:, :inputs.shape[1], :]),\n",
        "                            (self.constant_embedding(inputs) + self.pos_embedding.data[:, :inputs.shape[1], :])), dim=2)\n",
        "\n",
        "    #batch_size, max_len, 2*embedding_dims (in_channels)\n",
        "\n",
        "\n",
        "\n",
        "    embeddings = embeddings.permute(0, 2, 1)\n",
        "\n",
        "\n",
        "    #after pooling we get batch_size,out_channels_i,1 and squeeze the last dim\n",
        "    #after cat we get batch_size, sum (out_channels_i) i.e sum(num_channels)\n",
        "    encoding = torch.cat([torch.squeeze(self.relu(self.pool(conv(embeddings))), dim=-1) \n",
        "                          for conv in self.convs], dim=1)\n",
        "    \n",
        "    outputs = self.decoder(self.dropout(encoding)) \n",
        "    return outputs\n",
        "    \n",
        "\n"
      ],
      "metadata": {
        "id": "TATOwGPihoii"
      },
      "execution_count": 36,
      "outputs": []
    },
    {
      "cell_type": "code",
      "source": [
        "embed_size, kernel_sizes, nums_channels = 100, [3, 4, 5], [50, 100, 150] \n",
        "devices = d2l.try_all_gpus()\n",
        "net = TextCNN(len(vocab), embed_size, kernel_sizes, nums_channels)\n",
        "\n",
        "def init_weights(m):\n",
        "  if type(m) in (nn.Linear, nn.Conv1d):\n",
        "    nn.init.xavier_uniform_(m.weight) \n",
        "\n",
        "net.apply(init_weights)\n",
        "\n",
        "#Make one set trainable \n",
        "embeds = glove_embedding[vocab.idx_to_token] \n",
        "net.embedding.weight.data.copy_(embeds) \n",
        "net.constant_embedding.weight.data.copy_(embeds) \n",
        "net.constant_embedding.weight.requires_grad = False\n",
        "\n",
        "summary(net, (batch_size, 512),dtypes=[torch.long])"
      ],
      "metadata": {
        "colab": {
          "base_uri": "https://localhost:8080/"
        },
        "id": "gfJPchyihnox",
        "outputId": "42d7df19-62d3-4fff-d068-99ffb8b96f91"
      },
      "execution_count": 37,
      "outputs": [
        {
          "output_type": "execute_result",
          "data": {
            "text/plain": [
              "==========================================================================================\n",
              "Layer (type:depth-idx)                   Output Shape              Param #\n",
              "==========================================================================================\n",
              "TextCNN                                  [64, 2]                   --\n",
              "├─Embedding: 1-1                         [64, 512, 100]            3,581,300\n",
              "├─Embedding: 1-2                         [64, 512, 100]            (3,581,300)\n",
              "├─ModuleList: 1-5                        --                        260,300\n",
              "│    └─Conv1d: 2-1                       [64, 50, 510]             30,050\n",
              "├─AdaptiveAvgPool1d: 1-3                 [64, 50, 1]               --\n",
              "├─ReLU: 1-4                              [64, 50, 1]               --\n",
              "├─ModuleList: 1-5                        --                        260,300\n",
              "│    └─Conv1d: 2-2                       [64, 100, 509]            80,100\n",
              "├─ModuleList: 1-5                        --                        260,300\n",
              "├─AdaptiveAvgPool1d: 1-6                 [64, 100, 1]              --\n",
              "├─ReLU: 1-7                              [64, 100, 1]              --\n",
              "├─ModuleList: 1-5                        --                        260,300\n",
              "│    └─Conv1d: 2-3                       [64, 150, 508]            150,150\n",
              "├─AdaptiveAvgPool1d: 1-8                 [64, 150, 1]              --\n",
              "├─ReLU: 1-9                              [64, 150, 1]              --\n",
              "├─Dropout: 1-10                          [64, 300]                 --\n",
              "├─Linear: 1-11                           [64, 2]                   602\n",
              "==========================================================================================\n",
              "Total params: 7,474,702\n",
              "Trainable params: 3,893,402\n",
              "Non-trainable params: 3,581,300\n",
              "Total mult-adds (G): 8.93\n",
              "==========================================================================================\n",
              "Input size (MB): 0.26\n",
              "Forward/backward pass size (MB): 130.56\n",
              "Params size (MB): 29.69\n",
              "Estimated Total Size (MB): 160.52\n",
              "=========================================================================================="
            ]
          },
          "metadata": {},
          "execution_count": 37
        }
      ]
    },
    {
      "cell_type": "code",
      "source": [
        "# ~ 2 mins\n",
        "batch_size = 64\n",
        "lr, num_epochs = 0.001, 10\n",
        "trainer = torch.optim.Adam(net.parameters(), lr=lr)\n",
        "loss = nn.CrossEntropyLoss(reduction=\"none\")\n",
        "train(net, train_iter, test_iter, loss, trainer, num_epochs, devices)"
      ],
      "metadata": {
        "colab": {
          "base_uri": "https://localhost:8080/"
        },
        "id": "GBB6bZoToAfY",
        "outputId": "c56a5ce3-a2db-40f2-fd23-3729487b4c72"
      },
      "execution_count": null,
      "outputs": [
        {
          "output_type": "stream",
          "name": "stdout",
          "text": [
            "epoch 1: loss 0.525, train acc 0.736, test acc 0.837\n",
            "epoch 2: loss 0.302, train acc 0.876, test acc 0.877\n",
            "epoch 3: loss 0.214, train acc 0.916, test acc 0.882\n",
            "epoch 4: loss 0.163, train acc 0.939, test acc 0.886\n",
            "epoch 5: loss 0.115, train acc 0.957, test acc 0.881\n",
            "epoch 6: loss 0.084, train acc 0.972, test acc 0.878\n",
            "epoch 7: loss 0.062, train acc 0.980, test acc 0.872\n",
            "epoch 8: loss 0.048, train acc 0.984, test acc 0.872\n",
            "epoch 9: loss 0.031, train acc 0.991, test acc 0.868\n",
            "epoch 10: loss 0.024, train acc 0.993, test acc 0.867\n",
            "2389.8 examples/sec on [device(type='cuda', index=0)]\n"
          ]
        }
      ]
    }
  ]
}