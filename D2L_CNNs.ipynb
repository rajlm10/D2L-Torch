{
  "nbformat": 4,
  "nbformat_minor": 0,
  "metadata": {
    "colab": {
      "name": "D2L_CNNs.ipynb",
      "provenance": [],
      "authorship_tag": "ABX9TyMPE8XmgtXR6MeMnNz5teH5",
      "include_colab_link": true
    },
    "kernelspec": {
      "name": "python3",
      "display_name": "Python 3"
    },
    "language_info": {
      "name": "python"
    },
    "accelerator": "GPU",
    "widgets": {
      "application/vnd.jupyter.widget-state+json": {
        "423e1999b732427b9ecf62b030058395": {
          "model_module": "@jupyter-widgets/controls",
          "model_name": "HBoxModel",
          "model_module_version": "1.5.0",
          "state": {
            "_dom_classes": [],
            "_model_module": "@jupyter-widgets/controls",
            "_model_module_version": "1.5.0",
            "_model_name": "HBoxModel",
            "_view_count": null,
            "_view_module": "@jupyter-widgets/controls",
            "_view_module_version": "1.5.0",
            "_view_name": "HBoxView",
            "box_style": "",
            "children": [
              "IPY_MODEL_9ef243152ca24453b9600f3dd5b037af",
              "IPY_MODEL_559571b408f04bf1a762e2fcae49d4e3",
              "IPY_MODEL_a3d11eff04a849779bd4e683b599621b"
            ],
            "layout": "IPY_MODEL_347f2b12249f4fa69350e10ba87e2c4d"
          }
        },
        "9ef243152ca24453b9600f3dd5b037af": {
          "model_module": "@jupyter-widgets/controls",
          "model_name": "HTMLModel",
          "model_module_version": "1.5.0",
          "state": {
            "_dom_classes": [],
            "_model_module": "@jupyter-widgets/controls",
            "_model_module_version": "1.5.0",
            "_model_name": "HTMLModel",
            "_view_count": null,
            "_view_module": "@jupyter-widgets/controls",
            "_view_module_version": "1.5.0",
            "_view_name": "HTMLView",
            "description": "",
            "description_tooltip": null,
            "layout": "IPY_MODEL_86bdc905f6d44398a89deecf5958409c",
            "placeholder": "​",
            "style": "IPY_MODEL_006b4dc3b1e741019fd1fe362be05237",
            "value": ""
          }
        },
        "559571b408f04bf1a762e2fcae49d4e3": {
          "model_module": "@jupyter-widgets/controls",
          "model_name": "FloatProgressModel",
          "model_module_version": "1.5.0",
          "state": {
            "_dom_classes": [],
            "_model_module": "@jupyter-widgets/controls",
            "_model_module_version": "1.5.0",
            "_model_name": "FloatProgressModel",
            "_view_count": null,
            "_view_module": "@jupyter-widgets/controls",
            "_view_module_version": "1.5.0",
            "_view_name": "ProgressView",
            "bar_style": "success",
            "description": "",
            "description_tooltip": null,
            "layout": "IPY_MODEL_74bb4223f34f4426a57f0bad84352c5b",
            "max": 26421880,
            "min": 0,
            "orientation": "horizontal",
            "style": "IPY_MODEL_08923cd31d8746fd904b4d9537e72eac",
            "value": 26421880
          }
        },
        "a3d11eff04a849779bd4e683b599621b": {
          "model_module": "@jupyter-widgets/controls",
          "model_name": "HTMLModel",
          "model_module_version": "1.5.0",
          "state": {
            "_dom_classes": [],
            "_model_module": "@jupyter-widgets/controls",
            "_model_module_version": "1.5.0",
            "_model_name": "HTMLModel",
            "_view_count": null,
            "_view_module": "@jupyter-widgets/controls",
            "_view_module_version": "1.5.0",
            "_view_name": "HTMLView",
            "description": "",
            "description_tooltip": null,
            "layout": "IPY_MODEL_340056e94bb0419bb1549775a8c184e7",
            "placeholder": "​",
            "style": "IPY_MODEL_8b2f2846baf44f24b947f7f383c0c2e6",
            "value": " 26422272/? [00:04&lt;00:00, 9209192.48it/s]"
          }
        },
        "347f2b12249f4fa69350e10ba87e2c4d": {
          "model_module": "@jupyter-widgets/base",
          "model_name": "LayoutModel",
          "model_module_version": "1.2.0",
          "state": {
            "_model_module": "@jupyter-widgets/base",
            "_model_module_version": "1.2.0",
            "_model_name": "LayoutModel",
            "_view_count": null,
            "_view_module": "@jupyter-widgets/base",
            "_view_module_version": "1.2.0",
            "_view_name": "LayoutView",
            "align_content": null,
            "align_items": null,
            "align_self": null,
            "border": null,
            "bottom": null,
            "display": null,
            "flex": null,
            "flex_flow": null,
            "grid_area": null,
            "grid_auto_columns": null,
            "grid_auto_flow": null,
            "grid_auto_rows": null,
            "grid_column": null,
            "grid_gap": null,
            "grid_row": null,
            "grid_template_areas": null,
            "grid_template_columns": null,
            "grid_template_rows": null,
            "height": null,
            "justify_content": null,
            "justify_items": null,
            "left": null,
            "margin": null,
            "max_height": null,
            "max_width": null,
            "min_height": null,
            "min_width": null,
            "object_fit": null,
            "object_position": null,
            "order": null,
            "overflow": null,
            "overflow_x": null,
            "overflow_y": null,
            "padding": null,
            "right": null,
            "top": null,
            "visibility": null,
            "width": null
          }
        },
        "86bdc905f6d44398a89deecf5958409c": {
          "model_module": "@jupyter-widgets/base",
          "model_name": "LayoutModel",
          "model_module_version": "1.2.0",
          "state": {
            "_model_module": "@jupyter-widgets/base",
            "_model_module_version": "1.2.0",
            "_model_name": "LayoutModel",
            "_view_count": null,
            "_view_module": "@jupyter-widgets/base",
            "_view_module_version": "1.2.0",
            "_view_name": "LayoutView",
            "align_content": null,
            "align_items": null,
            "align_self": null,
            "border": null,
            "bottom": null,
            "display": null,
            "flex": null,
            "flex_flow": null,
            "grid_area": null,
            "grid_auto_columns": null,
            "grid_auto_flow": null,
            "grid_auto_rows": null,
            "grid_column": null,
            "grid_gap": null,
            "grid_row": null,
            "grid_template_areas": null,
            "grid_template_columns": null,
            "grid_template_rows": null,
            "height": null,
            "justify_content": null,
            "justify_items": null,
            "left": null,
            "margin": null,
            "max_height": null,
            "max_width": null,
            "min_height": null,
            "min_width": null,
            "object_fit": null,
            "object_position": null,
            "order": null,
            "overflow": null,
            "overflow_x": null,
            "overflow_y": null,
            "padding": null,
            "right": null,
            "top": null,
            "visibility": null,
            "width": null
          }
        },
        "006b4dc3b1e741019fd1fe362be05237": {
          "model_module": "@jupyter-widgets/controls",
          "model_name": "DescriptionStyleModel",
          "model_module_version": "1.5.0",
          "state": {
            "_model_module": "@jupyter-widgets/controls",
            "_model_module_version": "1.5.0",
            "_model_name": "DescriptionStyleModel",
            "_view_count": null,
            "_view_module": "@jupyter-widgets/base",
            "_view_module_version": "1.2.0",
            "_view_name": "StyleView",
            "description_width": ""
          }
        },
        "74bb4223f34f4426a57f0bad84352c5b": {
          "model_module": "@jupyter-widgets/base",
          "model_name": "LayoutModel",
          "model_module_version": "1.2.0",
          "state": {
            "_model_module": "@jupyter-widgets/base",
            "_model_module_version": "1.2.0",
            "_model_name": "LayoutModel",
            "_view_count": null,
            "_view_module": "@jupyter-widgets/base",
            "_view_module_version": "1.2.0",
            "_view_name": "LayoutView",
            "align_content": null,
            "align_items": null,
            "align_self": null,
            "border": null,
            "bottom": null,
            "display": null,
            "flex": null,
            "flex_flow": null,
            "grid_area": null,
            "grid_auto_columns": null,
            "grid_auto_flow": null,
            "grid_auto_rows": null,
            "grid_column": null,
            "grid_gap": null,
            "grid_row": null,
            "grid_template_areas": null,
            "grid_template_columns": null,
            "grid_template_rows": null,
            "height": null,
            "justify_content": null,
            "justify_items": null,
            "left": null,
            "margin": null,
            "max_height": null,
            "max_width": null,
            "min_height": null,
            "min_width": null,
            "object_fit": null,
            "object_position": null,
            "order": null,
            "overflow": null,
            "overflow_x": null,
            "overflow_y": null,
            "padding": null,
            "right": null,
            "top": null,
            "visibility": null,
            "width": null
          }
        },
        "08923cd31d8746fd904b4d9537e72eac": {
          "model_module": "@jupyter-widgets/controls",
          "model_name": "ProgressStyleModel",
          "model_module_version": "1.5.0",
          "state": {
            "_model_module": "@jupyter-widgets/controls",
            "_model_module_version": "1.5.0",
            "_model_name": "ProgressStyleModel",
            "_view_count": null,
            "_view_module": "@jupyter-widgets/base",
            "_view_module_version": "1.2.0",
            "_view_name": "StyleView",
            "bar_color": null,
            "description_width": ""
          }
        },
        "340056e94bb0419bb1549775a8c184e7": {
          "model_module": "@jupyter-widgets/base",
          "model_name": "LayoutModel",
          "model_module_version": "1.2.0",
          "state": {
            "_model_module": "@jupyter-widgets/base",
            "_model_module_version": "1.2.0",
            "_model_name": "LayoutModel",
            "_view_count": null,
            "_view_module": "@jupyter-widgets/base",
            "_view_module_version": "1.2.0",
            "_view_name": "LayoutView",
            "align_content": null,
            "align_items": null,
            "align_self": null,
            "border": null,
            "bottom": null,
            "display": null,
            "flex": null,
            "flex_flow": null,
            "grid_area": null,
            "grid_auto_columns": null,
            "grid_auto_flow": null,
            "grid_auto_rows": null,
            "grid_column": null,
            "grid_gap": null,
            "grid_row": null,
            "grid_template_areas": null,
            "grid_template_columns": null,
            "grid_template_rows": null,
            "height": null,
            "justify_content": null,
            "justify_items": null,
            "left": null,
            "margin": null,
            "max_height": null,
            "max_width": null,
            "min_height": null,
            "min_width": null,
            "object_fit": null,
            "object_position": null,
            "order": null,
            "overflow": null,
            "overflow_x": null,
            "overflow_y": null,
            "padding": null,
            "right": null,
            "top": null,
            "visibility": null,
            "width": null
          }
        },
        "8b2f2846baf44f24b947f7f383c0c2e6": {
          "model_module": "@jupyter-widgets/controls",
          "model_name": "DescriptionStyleModel",
          "model_module_version": "1.5.0",
          "state": {
            "_model_module": "@jupyter-widgets/controls",
            "_model_module_version": "1.5.0",
            "_model_name": "DescriptionStyleModel",
            "_view_count": null,
            "_view_module": "@jupyter-widgets/base",
            "_view_module_version": "1.2.0",
            "_view_name": "StyleView",
            "description_width": ""
          }
        },
        "f989305f4b7d49a3a527cfc01b635333": {
          "model_module": "@jupyter-widgets/controls",
          "model_name": "HBoxModel",
          "model_module_version": "1.5.0",
          "state": {
            "_dom_classes": [],
            "_model_module": "@jupyter-widgets/controls",
            "_model_module_version": "1.5.0",
            "_model_name": "HBoxModel",
            "_view_count": null,
            "_view_module": "@jupyter-widgets/controls",
            "_view_module_version": "1.5.0",
            "_view_name": "HBoxView",
            "box_style": "",
            "children": [
              "IPY_MODEL_b26c0b67fe8e4d12800df0fbb9042d49",
              "IPY_MODEL_86429a8e64b9413abd9ce7eeb7b567f3",
              "IPY_MODEL_03ab45fb83444078a0ab4e60370b8eae"
            ],
            "layout": "IPY_MODEL_3ca48bb0413648169b9ebcb320dbfd6e"
          }
        },
        "b26c0b67fe8e4d12800df0fbb9042d49": {
          "model_module": "@jupyter-widgets/controls",
          "model_name": "HTMLModel",
          "model_module_version": "1.5.0",
          "state": {
            "_dom_classes": [],
            "_model_module": "@jupyter-widgets/controls",
            "_model_module_version": "1.5.0",
            "_model_name": "HTMLModel",
            "_view_count": null,
            "_view_module": "@jupyter-widgets/controls",
            "_view_module_version": "1.5.0",
            "_view_name": "HTMLView",
            "description": "",
            "description_tooltip": null,
            "layout": "IPY_MODEL_85ee8de03ed84043894a3f9328361d7c",
            "placeholder": "​",
            "style": "IPY_MODEL_661e19b7eef6471e9ee5dee9484e906d",
            "value": ""
          }
        },
        "86429a8e64b9413abd9ce7eeb7b567f3": {
          "model_module": "@jupyter-widgets/controls",
          "model_name": "FloatProgressModel",
          "model_module_version": "1.5.0",
          "state": {
            "_dom_classes": [],
            "_model_module": "@jupyter-widgets/controls",
            "_model_module_version": "1.5.0",
            "_model_name": "FloatProgressModel",
            "_view_count": null,
            "_view_module": "@jupyter-widgets/controls",
            "_view_module_version": "1.5.0",
            "_view_name": "ProgressView",
            "bar_style": "success",
            "description": "",
            "description_tooltip": null,
            "layout": "IPY_MODEL_7e4eeb1a44bb479a8a947bda9e2af9b5",
            "max": 29515,
            "min": 0,
            "orientation": "horizontal",
            "style": "IPY_MODEL_540b941a8046443d9550a7637569850c",
            "value": 29515
          }
        },
        "03ab45fb83444078a0ab4e60370b8eae": {
          "model_module": "@jupyter-widgets/controls",
          "model_name": "HTMLModel",
          "model_module_version": "1.5.0",
          "state": {
            "_dom_classes": [],
            "_model_module": "@jupyter-widgets/controls",
            "_model_module_version": "1.5.0",
            "_model_name": "HTMLModel",
            "_view_count": null,
            "_view_module": "@jupyter-widgets/controls",
            "_view_module_version": "1.5.0",
            "_view_name": "HTMLView",
            "description": "",
            "description_tooltip": null,
            "layout": "IPY_MODEL_d46f4911de7a454994963f38ef18fcae",
            "placeholder": "​",
            "style": "IPY_MODEL_1e7bc5b43bcf4abc86f59e5dad8d8091",
            "value": " 29696/? [00:00&lt;00:00, 56061.13it/s]"
          }
        },
        "3ca48bb0413648169b9ebcb320dbfd6e": {
          "model_module": "@jupyter-widgets/base",
          "model_name": "LayoutModel",
          "model_module_version": "1.2.0",
          "state": {
            "_model_module": "@jupyter-widgets/base",
            "_model_module_version": "1.2.0",
            "_model_name": "LayoutModel",
            "_view_count": null,
            "_view_module": "@jupyter-widgets/base",
            "_view_module_version": "1.2.0",
            "_view_name": "LayoutView",
            "align_content": null,
            "align_items": null,
            "align_self": null,
            "border": null,
            "bottom": null,
            "display": null,
            "flex": null,
            "flex_flow": null,
            "grid_area": null,
            "grid_auto_columns": null,
            "grid_auto_flow": null,
            "grid_auto_rows": null,
            "grid_column": null,
            "grid_gap": null,
            "grid_row": null,
            "grid_template_areas": null,
            "grid_template_columns": null,
            "grid_template_rows": null,
            "height": null,
            "justify_content": null,
            "justify_items": null,
            "left": null,
            "margin": null,
            "max_height": null,
            "max_width": null,
            "min_height": null,
            "min_width": null,
            "object_fit": null,
            "object_position": null,
            "order": null,
            "overflow": null,
            "overflow_x": null,
            "overflow_y": null,
            "padding": null,
            "right": null,
            "top": null,
            "visibility": null,
            "width": null
          }
        },
        "85ee8de03ed84043894a3f9328361d7c": {
          "model_module": "@jupyter-widgets/base",
          "model_name": "LayoutModel",
          "model_module_version": "1.2.0",
          "state": {
            "_model_module": "@jupyter-widgets/base",
            "_model_module_version": "1.2.0",
            "_model_name": "LayoutModel",
            "_view_count": null,
            "_view_module": "@jupyter-widgets/base",
            "_view_module_version": "1.2.0",
            "_view_name": "LayoutView",
            "align_content": null,
            "align_items": null,
            "align_self": null,
            "border": null,
            "bottom": null,
            "display": null,
            "flex": null,
            "flex_flow": null,
            "grid_area": null,
            "grid_auto_columns": null,
            "grid_auto_flow": null,
            "grid_auto_rows": null,
            "grid_column": null,
            "grid_gap": null,
            "grid_row": null,
            "grid_template_areas": null,
            "grid_template_columns": null,
            "grid_template_rows": null,
            "height": null,
            "justify_content": null,
            "justify_items": null,
            "left": null,
            "margin": null,
            "max_height": null,
            "max_width": null,
            "min_height": null,
            "min_width": null,
            "object_fit": null,
            "object_position": null,
            "order": null,
            "overflow": null,
            "overflow_x": null,
            "overflow_y": null,
            "padding": null,
            "right": null,
            "top": null,
            "visibility": null,
            "width": null
          }
        },
        "661e19b7eef6471e9ee5dee9484e906d": {
          "model_module": "@jupyter-widgets/controls",
          "model_name": "DescriptionStyleModel",
          "model_module_version": "1.5.0",
          "state": {
            "_model_module": "@jupyter-widgets/controls",
            "_model_module_version": "1.5.0",
            "_model_name": "DescriptionStyleModel",
            "_view_count": null,
            "_view_module": "@jupyter-widgets/base",
            "_view_module_version": "1.2.0",
            "_view_name": "StyleView",
            "description_width": ""
          }
        },
        "7e4eeb1a44bb479a8a947bda9e2af9b5": {
          "model_module": "@jupyter-widgets/base",
          "model_name": "LayoutModel",
          "model_module_version": "1.2.0",
          "state": {
            "_model_module": "@jupyter-widgets/base",
            "_model_module_version": "1.2.0",
            "_model_name": "LayoutModel",
            "_view_count": null,
            "_view_module": "@jupyter-widgets/base",
            "_view_module_version": "1.2.0",
            "_view_name": "LayoutView",
            "align_content": null,
            "align_items": null,
            "align_self": null,
            "border": null,
            "bottom": null,
            "display": null,
            "flex": null,
            "flex_flow": null,
            "grid_area": null,
            "grid_auto_columns": null,
            "grid_auto_flow": null,
            "grid_auto_rows": null,
            "grid_column": null,
            "grid_gap": null,
            "grid_row": null,
            "grid_template_areas": null,
            "grid_template_columns": null,
            "grid_template_rows": null,
            "height": null,
            "justify_content": null,
            "justify_items": null,
            "left": null,
            "margin": null,
            "max_height": null,
            "max_width": null,
            "min_height": null,
            "min_width": null,
            "object_fit": null,
            "object_position": null,
            "order": null,
            "overflow": null,
            "overflow_x": null,
            "overflow_y": null,
            "padding": null,
            "right": null,
            "top": null,
            "visibility": null,
            "width": null
          }
        },
        "540b941a8046443d9550a7637569850c": {
          "model_module": "@jupyter-widgets/controls",
          "model_name": "ProgressStyleModel",
          "model_module_version": "1.5.0",
          "state": {
            "_model_module": "@jupyter-widgets/controls",
            "_model_module_version": "1.5.0",
            "_model_name": "ProgressStyleModel",
            "_view_count": null,
            "_view_module": "@jupyter-widgets/base",
            "_view_module_version": "1.2.0",
            "_view_name": "StyleView",
            "bar_color": null,
            "description_width": ""
          }
        },
        "d46f4911de7a454994963f38ef18fcae": {
          "model_module": "@jupyter-widgets/base",
          "model_name": "LayoutModel",
          "model_module_version": "1.2.0",
          "state": {
            "_model_module": "@jupyter-widgets/base",
            "_model_module_version": "1.2.0",
            "_model_name": "LayoutModel",
            "_view_count": null,
            "_view_module": "@jupyter-widgets/base",
            "_view_module_version": "1.2.0",
            "_view_name": "LayoutView",
            "align_content": null,
            "align_items": null,
            "align_self": null,
            "border": null,
            "bottom": null,
            "display": null,
            "flex": null,
            "flex_flow": null,
            "grid_area": null,
            "grid_auto_columns": null,
            "grid_auto_flow": null,
            "grid_auto_rows": null,
            "grid_column": null,
            "grid_gap": null,
            "grid_row": null,
            "grid_template_areas": null,
            "grid_template_columns": null,
            "grid_template_rows": null,
            "height": null,
            "justify_content": null,
            "justify_items": null,
            "left": null,
            "margin": null,
            "max_height": null,
            "max_width": null,
            "min_height": null,
            "min_width": null,
            "object_fit": null,
            "object_position": null,
            "order": null,
            "overflow": null,
            "overflow_x": null,
            "overflow_y": null,
            "padding": null,
            "right": null,
            "top": null,
            "visibility": null,
            "width": null
          }
        },
        "1e7bc5b43bcf4abc86f59e5dad8d8091": {
          "model_module": "@jupyter-widgets/controls",
          "model_name": "DescriptionStyleModel",
          "model_module_version": "1.5.0",
          "state": {
            "_model_module": "@jupyter-widgets/controls",
            "_model_module_version": "1.5.0",
            "_model_name": "DescriptionStyleModel",
            "_view_count": null,
            "_view_module": "@jupyter-widgets/base",
            "_view_module_version": "1.2.0",
            "_view_name": "StyleView",
            "description_width": ""
          }
        },
        "e746932856254161b25300e5118d762f": {
          "model_module": "@jupyter-widgets/controls",
          "model_name": "HBoxModel",
          "model_module_version": "1.5.0",
          "state": {
            "_dom_classes": [],
            "_model_module": "@jupyter-widgets/controls",
            "_model_module_version": "1.5.0",
            "_model_name": "HBoxModel",
            "_view_count": null,
            "_view_module": "@jupyter-widgets/controls",
            "_view_module_version": "1.5.0",
            "_view_name": "HBoxView",
            "box_style": "",
            "children": [
              "IPY_MODEL_78dbcc82112846c2a62f3a2c6a983f82",
              "IPY_MODEL_a9e48426b4164092a7fa61e4edef958a",
              "IPY_MODEL_a673229be48948959a563f33b288a58c"
            ],
            "layout": "IPY_MODEL_67329017694f4ec1950c7275aec80584"
          }
        },
        "78dbcc82112846c2a62f3a2c6a983f82": {
          "model_module": "@jupyter-widgets/controls",
          "model_name": "HTMLModel",
          "model_module_version": "1.5.0",
          "state": {
            "_dom_classes": [],
            "_model_module": "@jupyter-widgets/controls",
            "_model_module_version": "1.5.0",
            "_model_name": "HTMLModel",
            "_view_count": null,
            "_view_module": "@jupyter-widgets/controls",
            "_view_module_version": "1.5.0",
            "_view_name": "HTMLView",
            "description": "",
            "description_tooltip": null,
            "layout": "IPY_MODEL_3064cecc6f90498cb86aeb88c4e2fecf",
            "placeholder": "​",
            "style": "IPY_MODEL_de168cf705084740bffa9a696746f8c3",
            "value": ""
          }
        },
        "a9e48426b4164092a7fa61e4edef958a": {
          "model_module": "@jupyter-widgets/controls",
          "model_name": "FloatProgressModel",
          "model_module_version": "1.5.0",
          "state": {
            "_dom_classes": [],
            "_model_module": "@jupyter-widgets/controls",
            "_model_module_version": "1.5.0",
            "_model_name": "FloatProgressModel",
            "_view_count": null,
            "_view_module": "@jupyter-widgets/controls",
            "_view_module_version": "1.5.0",
            "_view_name": "ProgressView",
            "bar_style": "success",
            "description": "",
            "description_tooltip": null,
            "layout": "IPY_MODEL_14a834f849274f9cb176fdfc9c56c3ef",
            "max": 4422102,
            "min": 0,
            "orientation": "horizontal",
            "style": "IPY_MODEL_eaf572342e7e49b7b1e246772243ca1f",
            "value": 4422102
          }
        },
        "a673229be48948959a563f33b288a58c": {
          "model_module": "@jupyter-widgets/controls",
          "model_name": "HTMLModel",
          "model_module_version": "1.5.0",
          "state": {
            "_dom_classes": [],
            "_model_module": "@jupyter-widgets/controls",
            "_model_module_version": "1.5.0",
            "_model_name": "HTMLModel",
            "_view_count": null,
            "_view_module": "@jupyter-widgets/controls",
            "_view_module_version": "1.5.0",
            "_view_name": "HTMLView",
            "description": "",
            "description_tooltip": null,
            "layout": "IPY_MODEL_02af379b8ec84c32a2c83850a25c0851",
            "placeholder": "​",
            "style": "IPY_MODEL_00480f274e7b473cafe6511a37e07a3c",
            "value": " 4422656/? [00:02&lt;00:00, 3052977.54it/s]"
          }
        },
        "67329017694f4ec1950c7275aec80584": {
          "model_module": "@jupyter-widgets/base",
          "model_name": "LayoutModel",
          "model_module_version": "1.2.0",
          "state": {
            "_model_module": "@jupyter-widgets/base",
            "_model_module_version": "1.2.0",
            "_model_name": "LayoutModel",
            "_view_count": null,
            "_view_module": "@jupyter-widgets/base",
            "_view_module_version": "1.2.0",
            "_view_name": "LayoutView",
            "align_content": null,
            "align_items": null,
            "align_self": null,
            "border": null,
            "bottom": null,
            "display": null,
            "flex": null,
            "flex_flow": null,
            "grid_area": null,
            "grid_auto_columns": null,
            "grid_auto_flow": null,
            "grid_auto_rows": null,
            "grid_column": null,
            "grid_gap": null,
            "grid_row": null,
            "grid_template_areas": null,
            "grid_template_columns": null,
            "grid_template_rows": null,
            "height": null,
            "justify_content": null,
            "justify_items": null,
            "left": null,
            "margin": null,
            "max_height": null,
            "max_width": null,
            "min_height": null,
            "min_width": null,
            "object_fit": null,
            "object_position": null,
            "order": null,
            "overflow": null,
            "overflow_x": null,
            "overflow_y": null,
            "padding": null,
            "right": null,
            "top": null,
            "visibility": null,
            "width": null
          }
        },
        "3064cecc6f90498cb86aeb88c4e2fecf": {
          "model_module": "@jupyter-widgets/base",
          "model_name": "LayoutModel",
          "model_module_version": "1.2.0",
          "state": {
            "_model_module": "@jupyter-widgets/base",
            "_model_module_version": "1.2.0",
            "_model_name": "LayoutModel",
            "_view_count": null,
            "_view_module": "@jupyter-widgets/base",
            "_view_module_version": "1.2.0",
            "_view_name": "LayoutView",
            "align_content": null,
            "align_items": null,
            "align_self": null,
            "border": null,
            "bottom": null,
            "display": null,
            "flex": null,
            "flex_flow": null,
            "grid_area": null,
            "grid_auto_columns": null,
            "grid_auto_flow": null,
            "grid_auto_rows": null,
            "grid_column": null,
            "grid_gap": null,
            "grid_row": null,
            "grid_template_areas": null,
            "grid_template_columns": null,
            "grid_template_rows": null,
            "height": null,
            "justify_content": null,
            "justify_items": null,
            "left": null,
            "margin": null,
            "max_height": null,
            "max_width": null,
            "min_height": null,
            "min_width": null,
            "object_fit": null,
            "object_position": null,
            "order": null,
            "overflow": null,
            "overflow_x": null,
            "overflow_y": null,
            "padding": null,
            "right": null,
            "top": null,
            "visibility": null,
            "width": null
          }
        },
        "de168cf705084740bffa9a696746f8c3": {
          "model_module": "@jupyter-widgets/controls",
          "model_name": "DescriptionStyleModel",
          "model_module_version": "1.5.0",
          "state": {
            "_model_module": "@jupyter-widgets/controls",
            "_model_module_version": "1.5.0",
            "_model_name": "DescriptionStyleModel",
            "_view_count": null,
            "_view_module": "@jupyter-widgets/base",
            "_view_module_version": "1.2.0",
            "_view_name": "StyleView",
            "description_width": ""
          }
        },
        "14a834f849274f9cb176fdfc9c56c3ef": {
          "model_module": "@jupyter-widgets/base",
          "model_name": "LayoutModel",
          "model_module_version": "1.2.0",
          "state": {
            "_model_module": "@jupyter-widgets/base",
            "_model_module_version": "1.2.0",
            "_model_name": "LayoutModel",
            "_view_count": null,
            "_view_module": "@jupyter-widgets/base",
            "_view_module_version": "1.2.0",
            "_view_name": "LayoutView",
            "align_content": null,
            "align_items": null,
            "align_self": null,
            "border": null,
            "bottom": null,
            "display": null,
            "flex": null,
            "flex_flow": null,
            "grid_area": null,
            "grid_auto_columns": null,
            "grid_auto_flow": null,
            "grid_auto_rows": null,
            "grid_column": null,
            "grid_gap": null,
            "grid_row": null,
            "grid_template_areas": null,
            "grid_template_columns": null,
            "grid_template_rows": null,
            "height": null,
            "justify_content": null,
            "justify_items": null,
            "left": null,
            "margin": null,
            "max_height": null,
            "max_width": null,
            "min_height": null,
            "min_width": null,
            "object_fit": null,
            "object_position": null,
            "order": null,
            "overflow": null,
            "overflow_x": null,
            "overflow_y": null,
            "padding": null,
            "right": null,
            "top": null,
            "visibility": null,
            "width": null
          }
        },
        "eaf572342e7e49b7b1e246772243ca1f": {
          "model_module": "@jupyter-widgets/controls",
          "model_name": "ProgressStyleModel",
          "model_module_version": "1.5.0",
          "state": {
            "_model_module": "@jupyter-widgets/controls",
            "_model_module_version": "1.5.0",
            "_model_name": "ProgressStyleModel",
            "_view_count": null,
            "_view_module": "@jupyter-widgets/base",
            "_view_module_version": "1.2.0",
            "_view_name": "StyleView",
            "bar_color": null,
            "description_width": ""
          }
        },
        "02af379b8ec84c32a2c83850a25c0851": {
          "model_module": "@jupyter-widgets/base",
          "model_name": "LayoutModel",
          "model_module_version": "1.2.0",
          "state": {
            "_model_module": "@jupyter-widgets/base",
            "_model_module_version": "1.2.0",
            "_model_name": "LayoutModel",
            "_view_count": null,
            "_view_module": "@jupyter-widgets/base",
            "_view_module_version": "1.2.0",
            "_view_name": "LayoutView",
            "align_content": null,
            "align_items": null,
            "align_self": null,
            "border": null,
            "bottom": null,
            "display": null,
            "flex": null,
            "flex_flow": null,
            "grid_area": null,
            "grid_auto_columns": null,
            "grid_auto_flow": null,
            "grid_auto_rows": null,
            "grid_column": null,
            "grid_gap": null,
            "grid_row": null,
            "grid_template_areas": null,
            "grid_template_columns": null,
            "grid_template_rows": null,
            "height": null,
            "justify_content": null,
            "justify_items": null,
            "left": null,
            "margin": null,
            "max_height": null,
            "max_width": null,
            "min_height": null,
            "min_width": null,
            "object_fit": null,
            "object_position": null,
            "order": null,
            "overflow": null,
            "overflow_x": null,
            "overflow_y": null,
            "padding": null,
            "right": null,
            "top": null,
            "visibility": null,
            "width": null
          }
        },
        "00480f274e7b473cafe6511a37e07a3c": {
          "model_module": "@jupyter-widgets/controls",
          "model_name": "DescriptionStyleModel",
          "model_module_version": "1.5.0",
          "state": {
            "_model_module": "@jupyter-widgets/controls",
            "_model_module_version": "1.5.0",
            "_model_name": "DescriptionStyleModel",
            "_view_count": null,
            "_view_module": "@jupyter-widgets/base",
            "_view_module_version": "1.2.0",
            "_view_name": "StyleView",
            "description_width": ""
          }
        },
        "150c9a0ebd9d4eeea80c33a7d7f5ec13": {
          "model_module": "@jupyter-widgets/controls",
          "model_name": "HBoxModel",
          "model_module_version": "1.5.0",
          "state": {
            "_dom_classes": [],
            "_model_module": "@jupyter-widgets/controls",
            "_model_module_version": "1.5.0",
            "_model_name": "HBoxModel",
            "_view_count": null,
            "_view_module": "@jupyter-widgets/controls",
            "_view_module_version": "1.5.0",
            "_view_name": "HBoxView",
            "box_style": "",
            "children": [
              "IPY_MODEL_52f13134dce94d2bb653d2ab297f9367",
              "IPY_MODEL_13da983e656b4c45b36413d6574e02f8",
              "IPY_MODEL_a8f31af3ac734cda8100c781af2e58d7"
            ],
            "layout": "IPY_MODEL_f07b1d2e954c406ca84913ee37b6deed"
          }
        },
        "52f13134dce94d2bb653d2ab297f9367": {
          "model_module": "@jupyter-widgets/controls",
          "model_name": "HTMLModel",
          "model_module_version": "1.5.0",
          "state": {
            "_dom_classes": [],
            "_model_module": "@jupyter-widgets/controls",
            "_model_module_version": "1.5.0",
            "_model_name": "HTMLModel",
            "_view_count": null,
            "_view_module": "@jupyter-widgets/controls",
            "_view_module_version": "1.5.0",
            "_view_name": "HTMLView",
            "description": "",
            "description_tooltip": null,
            "layout": "IPY_MODEL_a28dc18c30c24636949b4c41be44c1e5",
            "placeholder": "​",
            "style": "IPY_MODEL_4c0a0fd2dce741b7b282964bf35a180d",
            "value": ""
          }
        },
        "13da983e656b4c45b36413d6574e02f8": {
          "model_module": "@jupyter-widgets/controls",
          "model_name": "FloatProgressModel",
          "model_module_version": "1.5.0",
          "state": {
            "_dom_classes": [],
            "_model_module": "@jupyter-widgets/controls",
            "_model_module_version": "1.5.0",
            "_model_name": "FloatProgressModel",
            "_view_count": null,
            "_view_module": "@jupyter-widgets/controls",
            "_view_module_version": "1.5.0",
            "_view_name": "ProgressView",
            "bar_style": "success",
            "description": "",
            "description_tooltip": null,
            "layout": "IPY_MODEL_18dbc06dd4e44e29a14860341017cf14",
            "max": 5148,
            "min": 0,
            "orientation": "horizontal",
            "style": "IPY_MODEL_edf11dbc0ae94ee4acce39f3d4ec682d",
            "value": 5148
          }
        },
        "a8f31af3ac734cda8100c781af2e58d7": {
          "model_module": "@jupyter-widgets/controls",
          "model_name": "HTMLModel",
          "model_module_version": "1.5.0",
          "state": {
            "_dom_classes": [],
            "_model_module": "@jupyter-widgets/controls",
            "_model_module_version": "1.5.0",
            "_model_name": "HTMLModel",
            "_view_count": null,
            "_view_module": "@jupyter-widgets/controls",
            "_view_module_version": "1.5.0",
            "_view_name": "HTMLView",
            "description": "",
            "description_tooltip": null,
            "layout": "IPY_MODEL_6762e92146f743139c069b051db6d279",
            "placeholder": "​",
            "style": "IPY_MODEL_519313b6b51347089d3d334fc0f6894d",
            "value": " 6144/? [00:00&lt;00:00, 147427.88it/s]"
          }
        },
        "f07b1d2e954c406ca84913ee37b6deed": {
          "model_module": "@jupyter-widgets/base",
          "model_name": "LayoutModel",
          "model_module_version": "1.2.0",
          "state": {
            "_model_module": "@jupyter-widgets/base",
            "_model_module_version": "1.2.0",
            "_model_name": "LayoutModel",
            "_view_count": null,
            "_view_module": "@jupyter-widgets/base",
            "_view_module_version": "1.2.0",
            "_view_name": "LayoutView",
            "align_content": null,
            "align_items": null,
            "align_self": null,
            "border": null,
            "bottom": null,
            "display": null,
            "flex": null,
            "flex_flow": null,
            "grid_area": null,
            "grid_auto_columns": null,
            "grid_auto_flow": null,
            "grid_auto_rows": null,
            "grid_column": null,
            "grid_gap": null,
            "grid_row": null,
            "grid_template_areas": null,
            "grid_template_columns": null,
            "grid_template_rows": null,
            "height": null,
            "justify_content": null,
            "justify_items": null,
            "left": null,
            "margin": null,
            "max_height": null,
            "max_width": null,
            "min_height": null,
            "min_width": null,
            "object_fit": null,
            "object_position": null,
            "order": null,
            "overflow": null,
            "overflow_x": null,
            "overflow_y": null,
            "padding": null,
            "right": null,
            "top": null,
            "visibility": null,
            "width": null
          }
        },
        "a28dc18c30c24636949b4c41be44c1e5": {
          "model_module": "@jupyter-widgets/base",
          "model_name": "LayoutModel",
          "model_module_version": "1.2.0",
          "state": {
            "_model_module": "@jupyter-widgets/base",
            "_model_module_version": "1.2.0",
            "_model_name": "LayoutModel",
            "_view_count": null,
            "_view_module": "@jupyter-widgets/base",
            "_view_module_version": "1.2.0",
            "_view_name": "LayoutView",
            "align_content": null,
            "align_items": null,
            "align_self": null,
            "border": null,
            "bottom": null,
            "display": null,
            "flex": null,
            "flex_flow": null,
            "grid_area": null,
            "grid_auto_columns": null,
            "grid_auto_flow": null,
            "grid_auto_rows": null,
            "grid_column": null,
            "grid_gap": null,
            "grid_row": null,
            "grid_template_areas": null,
            "grid_template_columns": null,
            "grid_template_rows": null,
            "height": null,
            "justify_content": null,
            "justify_items": null,
            "left": null,
            "margin": null,
            "max_height": null,
            "max_width": null,
            "min_height": null,
            "min_width": null,
            "object_fit": null,
            "object_position": null,
            "order": null,
            "overflow": null,
            "overflow_x": null,
            "overflow_y": null,
            "padding": null,
            "right": null,
            "top": null,
            "visibility": null,
            "width": null
          }
        },
        "4c0a0fd2dce741b7b282964bf35a180d": {
          "model_module": "@jupyter-widgets/controls",
          "model_name": "DescriptionStyleModel",
          "model_module_version": "1.5.0",
          "state": {
            "_model_module": "@jupyter-widgets/controls",
            "_model_module_version": "1.5.0",
            "_model_name": "DescriptionStyleModel",
            "_view_count": null,
            "_view_module": "@jupyter-widgets/base",
            "_view_module_version": "1.2.0",
            "_view_name": "StyleView",
            "description_width": ""
          }
        },
        "18dbc06dd4e44e29a14860341017cf14": {
          "model_module": "@jupyter-widgets/base",
          "model_name": "LayoutModel",
          "model_module_version": "1.2.0",
          "state": {
            "_model_module": "@jupyter-widgets/base",
            "_model_module_version": "1.2.0",
            "_model_name": "LayoutModel",
            "_view_count": null,
            "_view_module": "@jupyter-widgets/base",
            "_view_module_version": "1.2.0",
            "_view_name": "LayoutView",
            "align_content": null,
            "align_items": null,
            "align_self": null,
            "border": null,
            "bottom": null,
            "display": null,
            "flex": null,
            "flex_flow": null,
            "grid_area": null,
            "grid_auto_columns": null,
            "grid_auto_flow": null,
            "grid_auto_rows": null,
            "grid_column": null,
            "grid_gap": null,
            "grid_row": null,
            "grid_template_areas": null,
            "grid_template_columns": null,
            "grid_template_rows": null,
            "height": null,
            "justify_content": null,
            "justify_items": null,
            "left": null,
            "margin": null,
            "max_height": null,
            "max_width": null,
            "min_height": null,
            "min_width": null,
            "object_fit": null,
            "object_position": null,
            "order": null,
            "overflow": null,
            "overflow_x": null,
            "overflow_y": null,
            "padding": null,
            "right": null,
            "top": null,
            "visibility": null,
            "width": null
          }
        },
        "edf11dbc0ae94ee4acce39f3d4ec682d": {
          "model_module": "@jupyter-widgets/controls",
          "model_name": "ProgressStyleModel",
          "model_module_version": "1.5.0",
          "state": {
            "_model_module": "@jupyter-widgets/controls",
            "_model_module_version": "1.5.0",
            "_model_name": "ProgressStyleModel",
            "_view_count": null,
            "_view_module": "@jupyter-widgets/base",
            "_view_module_version": "1.2.0",
            "_view_name": "StyleView",
            "bar_color": null,
            "description_width": ""
          }
        },
        "6762e92146f743139c069b051db6d279": {
          "model_module": "@jupyter-widgets/base",
          "model_name": "LayoutModel",
          "model_module_version": "1.2.0",
          "state": {
            "_model_module": "@jupyter-widgets/base",
            "_model_module_version": "1.2.0",
            "_model_name": "LayoutModel",
            "_view_count": null,
            "_view_module": "@jupyter-widgets/base",
            "_view_module_version": "1.2.0",
            "_view_name": "LayoutView",
            "align_content": null,
            "align_items": null,
            "align_self": null,
            "border": null,
            "bottom": null,
            "display": null,
            "flex": null,
            "flex_flow": null,
            "grid_area": null,
            "grid_auto_columns": null,
            "grid_auto_flow": null,
            "grid_auto_rows": null,
            "grid_column": null,
            "grid_gap": null,
            "grid_row": null,
            "grid_template_areas": null,
            "grid_template_columns": null,
            "grid_template_rows": null,
            "height": null,
            "justify_content": null,
            "justify_items": null,
            "left": null,
            "margin": null,
            "max_height": null,
            "max_width": null,
            "min_height": null,
            "min_width": null,
            "object_fit": null,
            "object_position": null,
            "order": null,
            "overflow": null,
            "overflow_x": null,
            "overflow_y": null,
            "padding": null,
            "right": null,
            "top": null,
            "visibility": null,
            "width": null
          }
        },
        "519313b6b51347089d3d334fc0f6894d": {
          "model_module": "@jupyter-widgets/controls",
          "model_name": "DescriptionStyleModel",
          "model_module_version": "1.5.0",
          "state": {
            "_model_module": "@jupyter-widgets/controls",
            "_model_module_version": "1.5.0",
            "_model_name": "DescriptionStyleModel",
            "_view_count": null,
            "_view_module": "@jupyter-widgets/base",
            "_view_module_version": "1.2.0",
            "_view_name": "StyleView",
            "description_width": ""
          }
        },
        "70e75721e91940e7901b1a93bdcf7856": {
          "model_module": "@jupyter-widgets/controls",
          "model_name": "HBoxModel",
          "model_module_version": "1.5.0",
          "state": {
            "_dom_classes": [],
            "_model_module": "@jupyter-widgets/controls",
            "_model_module_version": "1.5.0",
            "_model_name": "HBoxModel",
            "_view_count": null,
            "_view_module": "@jupyter-widgets/controls",
            "_view_module_version": "1.5.0",
            "_view_name": "HBoxView",
            "box_style": "",
            "children": [
              "IPY_MODEL_ae909749df8c4446bd413ac66796aeeb",
              "IPY_MODEL_09b0466c6e62413c9b6cec8e12d65aaa",
              "IPY_MODEL_4da9c97f12ff40a9a6800be035e4fba6"
            ],
            "layout": "IPY_MODEL_927a4b777b254785b4542e2b28245b53"
          }
        },
        "ae909749df8c4446bd413ac66796aeeb": {
          "model_module": "@jupyter-widgets/controls",
          "model_name": "HTMLModel",
          "model_module_version": "1.5.0",
          "state": {
            "_dom_classes": [],
            "_model_module": "@jupyter-widgets/controls",
            "_model_module_version": "1.5.0",
            "_model_name": "HTMLModel",
            "_view_count": null,
            "_view_module": "@jupyter-widgets/controls",
            "_view_module_version": "1.5.0",
            "_view_name": "HTMLView",
            "description": "",
            "description_tooltip": null,
            "layout": "IPY_MODEL_d8b13844b63045cda79f7d2f2b243a42",
            "placeholder": "​",
            "style": "IPY_MODEL_51398103410645909b57051e68249bd0",
            "value": ""
          }
        },
        "09b0466c6e62413c9b6cec8e12d65aaa": {
          "model_module": "@jupyter-widgets/controls",
          "model_name": "FloatProgressModel",
          "model_module_version": "1.5.0",
          "state": {
            "_dom_classes": [],
            "_model_module": "@jupyter-widgets/controls",
            "_model_module_version": "1.5.0",
            "_model_name": "FloatProgressModel",
            "_view_count": null,
            "_view_module": "@jupyter-widgets/controls",
            "_view_module_version": "1.5.0",
            "_view_name": "ProgressView",
            "bar_style": "success",
            "description": "",
            "description_tooltip": null,
            "layout": "IPY_MODEL_28f234234aa1471ba44f545b1efbfbb3",
            "max": 26421880,
            "min": 0,
            "orientation": "horizontal",
            "style": "IPY_MODEL_904380572e0a416486688fbd4bb8a4d5",
            "value": 26421880
          }
        },
        "4da9c97f12ff40a9a6800be035e4fba6": {
          "model_module": "@jupyter-widgets/controls",
          "model_name": "HTMLModel",
          "model_module_version": "1.5.0",
          "state": {
            "_dom_classes": [],
            "_model_module": "@jupyter-widgets/controls",
            "_model_module_version": "1.5.0",
            "_model_name": "HTMLModel",
            "_view_count": null,
            "_view_module": "@jupyter-widgets/controls",
            "_view_module_version": "1.5.0",
            "_view_name": "HTMLView",
            "description": "",
            "description_tooltip": null,
            "layout": "IPY_MODEL_f7f358cadd3e49b79efdca062ac9dc3e",
            "placeholder": "​",
            "style": "IPY_MODEL_30419f1f5f4e4e99a1211732fb99933e",
            "value": " 26422272/? [00:00&lt;00:00, 70482505.30it/s]"
          }
        },
        "927a4b777b254785b4542e2b28245b53": {
          "model_module": "@jupyter-widgets/base",
          "model_name": "LayoutModel",
          "model_module_version": "1.2.0",
          "state": {
            "_model_module": "@jupyter-widgets/base",
            "_model_module_version": "1.2.0",
            "_model_name": "LayoutModel",
            "_view_count": null,
            "_view_module": "@jupyter-widgets/base",
            "_view_module_version": "1.2.0",
            "_view_name": "LayoutView",
            "align_content": null,
            "align_items": null,
            "align_self": null,
            "border": null,
            "bottom": null,
            "display": null,
            "flex": null,
            "flex_flow": null,
            "grid_area": null,
            "grid_auto_columns": null,
            "grid_auto_flow": null,
            "grid_auto_rows": null,
            "grid_column": null,
            "grid_gap": null,
            "grid_row": null,
            "grid_template_areas": null,
            "grid_template_columns": null,
            "grid_template_rows": null,
            "height": null,
            "justify_content": null,
            "justify_items": null,
            "left": null,
            "margin": null,
            "max_height": null,
            "max_width": null,
            "min_height": null,
            "min_width": null,
            "object_fit": null,
            "object_position": null,
            "order": null,
            "overflow": null,
            "overflow_x": null,
            "overflow_y": null,
            "padding": null,
            "right": null,
            "top": null,
            "visibility": null,
            "width": null
          }
        },
        "d8b13844b63045cda79f7d2f2b243a42": {
          "model_module": "@jupyter-widgets/base",
          "model_name": "LayoutModel",
          "model_module_version": "1.2.0",
          "state": {
            "_model_module": "@jupyter-widgets/base",
            "_model_module_version": "1.2.0",
            "_model_name": "LayoutModel",
            "_view_count": null,
            "_view_module": "@jupyter-widgets/base",
            "_view_module_version": "1.2.0",
            "_view_name": "LayoutView",
            "align_content": null,
            "align_items": null,
            "align_self": null,
            "border": null,
            "bottom": null,
            "display": null,
            "flex": null,
            "flex_flow": null,
            "grid_area": null,
            "grid_auto_columns": null,
            "grid_auto_flow": null,
            "grid_auto_rows": null,
            "grid_column": null,
            "grid_gap": null,
            "grid_row": null,
            "grid_template_areas": null,
            "grid_template_columns": null,
            "grid_template_rows": null,
            "height": null,
            "justify_content": null,
            "justify_items": null,
            "left": null,
            "margin": null,
            "max_height": null,
            "max_width": null,
            "min_height": null,
            "min_width": null,
            "object_fit": null,
            "object_position": null,
            "order": null,
            "overflow": null,
            "overflow_x": null,
            "overflow_y": null,
            "padding": null,
            "right": null,
            "top": null,
            "visibility": null,
            "width": null
          }
        },
        "51398103410645909b57051e68249bd0": {
          "model_module": "@jupyter-widgets/controls",
          "model_name": "DescriptionStyleModel",
          "model_module_version": "1.5.0",
          "state": {
            "_model_module": "@jupyter-widgets/controls",
            "_model_module_version": "1.5.0",
            "_model_name": "DescriptionStyleModel",
            "_view_count": null,
            "_view_module": "@jupyter-widgets/base",
            "_view_module_version": "1.2.0",
            "_view_name": "StyleView",
            "description_width": ""
          }
        },
        "28f234234aa1471ba44f545b1efbfbb3": {
          "model_module": "@jupyter-widgets/base",
          "model_name": "LayoutModel",
          "model_module_version": "1.2.0",
          "state": {
            "_model_module": "@jupyter-widgets/base",
            "_model_module_version": "1.2.0",
            "_model_name": "LayoutModel",
            "_view_count": null,
            "_view_module": "@jupyter-widgets/base",
            "_view_module_version": "1.2.0",
            "_view_name": "LayoutView",
            "align_content": null,
            "align_items": null,
            "align_self": null,
            "border": null,
            "bottom": null,
            "display": null,
            "flex": null,
            "flex_flow": null,
            "grid_area": null,
            "grid_auto_columns": null,
            "grid_auto_flow": null,
            "grid_auto_rows": null,
            "grid_column": null,
            "grid_gap": null,
            "grid_row": null,
            "grid_template_areas": null,
            "grid_template_columns": null,
            "grid_template_rows": null,
            "height": null,
            "justify_content": null,
            "justify_items": null,
            "left": null,
            "margin": null,
            "max_height": null,
            "max_width": null,
            "min_height": null,
            "min_width": null,
            "object_fit": null,
            "object_position": null,
            "order": null,
            "overflow": null,
            "overflow_x": null,
            "overflow_y": null,
            "padding": null,
            "right": null,
            "top": null,
            "visibility": null,
            "width": null
          }
        },
        "904380572e0a416486688fbd4bb8a4d5": {
          "model_module": "@jupyter-widgets/controls",
          "model_name": "ProgressStyleModel",
          "model_module_version": "1.5.0",
          "state": {
            "_model_module": "@jupyter-widgets/controls",
            "_model_module_version": "1.5.0",
            "_model_name": "ProgressStyleModel",
            "_view_count": null,
            "_view_module": "@jupyter-widgets/base",
            "_view_module_version": "1.2.0",
            "_view_name": "StyleView",
            "bar_color": null,
            "description_width": ""
          }
        },
        "f7f358cadd3e49b79efdca062ac9dc3e": {
          "model_module": "@jupyter-widgets/base",
          "model_name": "LayoutModel",
          "model_module_version": "1.2.0",
          "state": {
            "_model_module": "@jupyter-widgets/base",
            "_model_module_version": "1.2.0",
            "_model_name": "LayoutModel",
            "_view_count": null,
            "_view_module": "@jupyter-widgets/base",
            "_view_module_version": "1.2.0",
            "_view_name": "LayoutView",
            "align_content": null,
            "align_items": null,
            "align_self": null,
            "border": null,
            "bottom": null,
            "display": null,
            "flex": null,
            "flex_flow": null,
            "grid_area": null,
            "grid_auto_columns": null,
            "grid_auto_flow": null,
            "grid_auto_rows": null,
            "grid_column": null,
            "grid_gap": null,
            "grid_row": null,
            "grid_template_areas": null,
            "grid_template_columns": null,
            "grid_template_rows": null,
            "height": null,
            "justify_content": null,
            "justify_items": null,
            "left": null,
            "margin": null,
            "max_height": null,
            "max_width": null,
            "min_height": null,
            "min_width": null,
            "object_fit": null,
            "object_position": null,
            "order": null,
            "overflow": null,
            "overflow_x": null,
            "overflow_y": null,
            "padding": null,
            "right": null,
            "top": null,
            "visibility": null,
            "width": null
          }
        },
        "30419f1f5f4e4e99a1211732fb99933e": {
          "model_module": "@jupyter-widgets/controls",
          "model_name": "DescriptionStyleModel",
          "model_module_version": "1.5.0",
          "state": {
            "_model_module": "@jupyter-widgets/controls",
            "_model_module_version": "1.5.0",
            "_model_name": "DescriptionStyleModel",
            "_view_count": null,
            "_view_module": "@jupyter-widgets/base",
            "_view_module_version": "1.2.0",
            "_view_name": "StyleView",
            "description_width": ""
          }
        },
        "4ad9212c98244ba7910ac6ad8aa9fe5b": {
          "model_module": "@jupyter-widgets/controls",
          "model_name": "HBoxModel",
          "model_module_version": "1.5.0",
          "state": {
            "_dom_classes": [],
            "_model_module": "@jupyter-widgets/controls",
            "_model_module_version": "1.5.0",
            "_model_name": "HBoxModel",
            "_view_count": null,
            "_view_module": "@jupyter-widgets/controls",
            "_view_module_version": "1.5.0",
            "_view_name": "HBoxView",
            "box_style": "",
            "children": [
              "IPY_MODEL_0f9e90cd791f45b994bb743b1859f60d",
              "IPY_MODEL_ebb01311b97b49fa9d8a82043bbf6168",
              "IPY_MODEL_313b5f2d199e43818a35b3c5e10a3a1e"
            ],
            "layout": "IPY_MODEL_c2326c2f56474f619fd242ea34610c50"
          }
        },
        "0f9e90cd791f45b994bb743b1859f60d": {
          "model_module": "@jupyter-widgets/controls",
          "model_name": "HTMLModel",
          "model_module_version": "1.5.0",
          "state": {
            "_dom_classes": [],
            "_model_module": "@jupyter-widgets/controls",
            "_model_module_version": "1.5.0",
            "_model_name": "HTMLModel",
            "_view_count": null,
            "_view_module": "@jupyter-widgets/controls",
            "_view_module_version": "1.5.0",
            "_view_name": "HTMLView",
            "description": "",
            "description_tooltip": null,
            "layout": "IPY_MODEL_59f84936b9fd41ea9be9742137f5a16d",
            "placeholder": "​",
            "style": "IPY_MODEL_d0b761af025c483c98e37333ba765776",
            "value": ""
          }
        },
        "ebb01311b97b49fa9d8a82043bbf6168": {
          "model_module": "@jupyter-widgets/controls",
          "model_name": "FloatProgressModel",
          "model_module_version": "1.5.0",
          "state": {
            "_dom_classes": [],
            "_model_module": "@jupyter-widgets/controls",
            "_model_module_version": "1.5.0",
            "_model_name": "FloatProgressModel",
            "_view_count": null,
            "_view_module": "@jupyter-widgets/controls",
            "_view_module_version": "1.5.0",
            "_view_name": "ProgressView",
            "bar_style": "success",
            "description": "",
            "description_tooltip": null,
            "layout": "IPY_MODEL_e318ac18466a4bbaa33ce377941b6a6d",
            "max": 29515,
            "min": 0,
            "orientation": "horizontal",
            "style": "IPY_MODEL_9e9b48fc5a2247bd8f4c947e3ae2e3bf",
            "value": 29515
          }
        },
        "313b5f2d199e43818a35b3c5e10a3a1e": {
          "model_module": "@jupyter-widgets/controls",
          "model_name": "HTMLModel",
          "model_module_version": "1.5.0",
          "state": {
            "_dom_classes": [],
            "_model_module": "@jupyter-widgets/controls",
            "_model_module_version": "1.5.0",
            "_model_name": "HTMLModel",
            "_view_count": null,
            "_view_module": "@jupyter-widgets/controls",
            "_view_module_version": "1.5.0",
            "_view_name": "HTMLView",
            "description": "",
            "description_tooltip": null,
            "layout": "IPY_MODEL_3df67c6809434dbb82cb5992398d1142",
            "placeholder": "​",
            "style": "IPY_MODEL_88e488ec35a64db481dee5e4290fca7f",
            "value": " 29696/? [00:00&lt;00:00, 782517.24it/s]"
          }
        },
        "c2326c2f56474f619fd242ea34610c50": {
          "model_module": "@jupyter-widgets/base",
          "model_name": "LayoutModel",
          "model_module_version": "1.2.0",
          "state": {
            "_model_module": "@jupyter-widgets/base",
            "_model_module_version": "1.2.0",
            "_model_name": "LayoutModel",
            "_view_count": null,
            "_view_module": "@jupyter-widgets/base",
            "_view_module_version": "1.2.0",
            "_view_name": "LayoutView",
            "align_content": null,
            "align_items": null,
            "align_self": null,
            "border": null,
            "bottom": null,
            "display": null,
            "flex": null,
            "flex_flow": null,
            "grid_area": null,
            "grid_auto_columns": null,
            "grid_auto_flow": null,
            "grid_auto_rows": null,
            "grid_column": null,
            "grid_gap": null,
            "grid_row": null,
            "grid_template_areas": null,
            "grid_template_columns": null,
            "grid_template_rows": null,
            "height": null,
            "justify_content": null,
            "justify_items": null,
            "left": null,
            "margin": null,
            "max_height": null,
            "max_width": null,
            "min_height": null,
            "min_width": null,
            "object_fit": null,
            "object_position": null,
            "order": null,
            "overflow": null,
            "overflow_x": null,
            "overflow_y": null,
            "padding": null,
            "right": null,
            "top": null,
            "visibility": null,
            "width": null
          }
        },
        "59f84936b9fd41ea9be9742137f5a16d": {
          "model_module": "@jupyter-widgets/base",
          "model_name": "LayoutModel",
          "model_module_version": "1.2.0",
          "state": {
            "_model_module": "@jupyter-widgets/base",
            "_model_module_version": "1.2.0",
            "_model_name": "LayoutModel",
            "_view_count": null,
            "_view_module": "@jupyter-widgets/base",
            "_view_module_version": "1.2.0",
            "_view_name": "LayoutView",
            "align_content": null,
            "align_items": null,
            "align_self": null,
            "border": null,
            "bottom": null,
            "display": null,
            "flex": null,
            "flex_flow": null,
            "grid_area": null,
            "grid_auto_columns": null,
            "grid_auto_flow": null,
            "grid_auto_rows": null,
            "grid_column": null,
            "grid_gap": null,
            "grid_row": null,
            "grid_template_areas": null,
            "grid_template_columns": null,
            "grid_template_rows": null,
            "height": null,
            "justify_content": null,
            "justify_items": null,
            "left": null,
            "margin": null,
            "max_height": null,
            "max_width": null,
            "min_height": null,
            "min_width": null,
            "object_fit": null,
            "object_position": null,
            "order": null,
            "overflow": null,
            "overflow_x": null,
            "overflow_y": null,
            "padding": null,
            "right": null,
            "top": null,
            "visibility": null,
            "width": null
          }
        },
        "d0b761af025c483c98e37333ba765776": {
          "model_module": "@jupyter-widgets/controls",
          "model_name": "DescriptionStyleModel",
          "model_module_version": "1.5.0",
          "state": {
            "_model_module": "@jupyter-widgets/controls",
            "_model_module_version": "1.5.0",
            "_model_name": "DescriptionStyleModel",
            "_view_count": null,
            "_view_module": "@jupyter-widgets/base",
            "_view_module_version": "1.2.0",
            "_view_name": "StyleView",
            "description_width": ""
          }
        },
        "e318ac18466a4bbaa33ce377941b6a6d": {
          "model_module": "@jupyter-widgets/base",
          "model_name": "LayoutModel",
          "model_module_version": "1.2.0",
          "state": {
            "_model_module": "@jupyter-widgets/base",
            "_model_module_version": "1.2.0",
            "_model_name": "LayoutModel",
            "_view_count": null,
            "_view_module": "@jupyter-widgets/base",
            "_view_module_version": "1.2.0",
            "_view_name": "LayoutView",
            "align_content": null,
            "align_items": null,
            "align_self": null,
            "border": null,
            "bottom": null,
            "display": null,
            "flex": null,
            "flex_flow": null,
            "grid_area": null,
            "grid_auto_columns": null,
            "grid_auto_flow": null,
            "grid_auto_rows": null,
            "grid_column": null,
            "grid_gap": null,
            "grid_row": null,
            "grid_template_areas": null,
            "grid_template_columns": null,
            "grid_template_rows": null,
            "height": null,
            "justify_content": null,
            "justify_items": null,
            "left": null,
            "margin": null,
            "max_height": null,
            "max_width": null,
            "min_height": null,
            "min_width": null,
            "object_fit": null,
            "object_position": null,
            "order": null,
            "overflow": null,
            "overflow_x": null,
            "overflow_y": null,
            "padding": null,
            "right": null,
            "top": null,
            "visibility": null,
            "width": null
          }
        },
        "9e9b48fc5a2247bd8f4c947e3ae2e3bf": {
          "model_module": "@jupyter-widgets/controls",
          "model_name": "ProgressStyleModel",
          "model_module_version": "1.5.0",
          "state": {
            "_model_module": "@jupyter-widgets/controls",
            "_model_module_version": "1.5.0",
            "_model_name": "ProgressStyleModel",
            "_view_count": null,
            "_view_module": "@jupyter-widgets/base",
            "_view_module_version": "1.2.0",
            "_view_name": "StyleView",
            "bar_color": null,
            "description_width": ""
          }
        },
        "3df67c6809434dbb82cb5992398d1142": {
          "model_module": "@jupyter-widgets/base",
          "model_name": "LayoutModel",
          "model_module_version": "1.2.0",
          "state": {
            "_model_module": "@jupyter-widgets/base",
            "_model_module_version": "1.2.0",
            "_model_name": "LayoutModel",
            "_view_count": null,
            "_view_module": "@jupyter-widgets/base",
            "_view_module_version": "1.2.0",
            "_view_name": "LayoutView",
            "align_content": null,
            "align_items": null,
            "align_self": null,
            "border": null,
            "bottom": null,
            "display": null,
            "flex": null,
            "flex_flow": null,
            "grid_area": null,
            "grid_auto_columns": null,
            "grid_auto_flow": null,
            "grid_auto_rows": null,
            "grid_column": null,
            "grid_gap": null,
            "grid_row": null,
            "grid_template_areas": null,
            "grid_template_columns": null,
            "grid_template_rows": null,
            "height": null,
            "justify_content": null,
            "justify_items": null,
            "left": null,
            "margin": null,
            "max_height": null,
            "max_width": null,
            "min_height": null,
            "min_width": null,
            "object_fit": null,
            "object_position": null,
            "order": null,
            "overflow": null,
            "overflow_x": null,
            "overflow_y": null,
            "padding": null,
            "right": null,
            "top": null,
            "visibility": null,
            "width": null
          }
        },
        "88e488ec35a64db481dee5e4290fca7f": {
          "model_module": "@jupyter-widgets/controls",
          "model_name": "DescriptionStyleModel",
          "model_module_version": "1.5.0",
          "state": {
            "_model_module": "@jupyter-widgets/controls",
            "_model_module_version": "1.5.0",
            "_model_name": "DescriptionStyleModel",
            "_view_count": null,
            "_view_module": "@jupyter-widgets/base",
            "_view_module_version": "1.2.0",
            "_view_name": "StyleView",
            "description_width": ""
          }
        },
        "235a68f6d2c146d6b5de0de3dc37fb1d": {
          "model_module": "@jupyter-widgets/controls",
          "model_name": "HBoxModel",
          "model_module_version": "1.5.0",
          "state": {
            "_dom_classes": [],
            "_model_module": "@jupyter-widgets/controls",
            "_model_module_version": "1.5.0",
            "_model_name": "HBoxModel",
            "_view_count": null,
            "_view_module": "@jupyter-widgets/controls",
            "_view_module_version": "1.5.0",
            "_view_name": "HBoxView",
            "box_style": "",
            "children": [
              "IPY_MODEL_f025c461b41e40fdbdac0e6583e610f6",
              "IPY_MODEL_8307bfd7ca5645ed8a83bf5f9dcbfc4f",
              "IPY_MODEL_d95400c9ef3340719c1858c5b0ab71a4"
            ],
            "layout": "IPY_MODEL_8c7c8bff59664d5791172b9519d83c57"
          }
        },
        "f025c461b41e40fdbdac0e6583e610f6": {
          "model_module": "@jupyter-widgets/controls",
          "model_name": "HTMLModel",
          "model_module_version": "1.5.0",
          "state": {
            "_dom_classes": [],
            "_model_module": "@jupyter-widgets/controls",
            "_model_module_version": "1.5.0",
            "_model_name": "HTMLModel",
            "_view_count": null,
            "_view_module": "@jupyter-widgets/controls",
            "_view_module_version": "1.5.0",
            "_view_name": "HTMLView",
            "description": "",
            "description_tooltip": null,
            "layout": "IPY_MODEL_3f942ecb2baa40e2a523d3110bbf268a",
            "placeholder": "​",
            "style": "IPY_MODEL_8a1605fb074c497f907d83a18a01052b",
            "value": ""
          }
        },
        "8307bfd7ca5645ed8a83bf5f9dcbfc4f": {
          "model_module": "@jupyter-widgets/controls",
          "model_name": "FloatProgressModel",
          "model_module_version": "1.5.0",
          "state": {
            "_dom_classes": [],
            "_model_module": "@jupyter-widgets/controls",
            "_model_module_version": "1.5.0",
            "_model_name": "FloatProgressModel",
            "_view_count": null,
            "_view_module": "@jupyter-widgets/controls",
            "_view_module_version": "1.5.0",
            "_view_name": "ProgressView",
            "bar_style": "success",
            "description": "",
            "description_tooltip": null,
            "layout": "IPY_MODEL_24a843425cb84d658f8d0e5fe99e5543",
            "max": 4422102,
            "min": 0,
            "orientation": "horizontal",
            "style": "IPY_MODEL_fc9f845383fa407da713d6bb7791a684",
            "value": 4422102
          }
        },
        "d95400c9ef3340719c1858c5b0ab71a4": {
          "model_module": "@jupyter-widgets/controls",
          "model_name": "HTMLModel",
          "model_module_version": "1.5.0",
          "state": {
            "_dom_classes": [],
            "_model_module": "@jupyter-widgets/controls",
            "_model_module_version": "1.5.0",
            "_model_name": "HTMLModel",
            "_view_count": null,
            "_view_module": "@jupyter-widgets/controls",
            "_view_module_version": "1.5.0",
            "_view_name": "HTMLView",
            "description": "",
            "description_tooltip": null,
            "layout": "IPY_MODEL_933b380f1fd740ec89a0ced652edb461",
            "placeholder": "​",
            "style": "IPY_MODEL_ad7dade3ac5c4f20bea87f93dcc5894c",
            "value": " 4422656/? [00:00&lt;00:00, 6062157.71it/s]"
          }
        },
        "8c7c8bff59664d5791172b9519d83c57": {
          "model_module": "@jupyter-widgets/base",
          "model_name": "LayoutModel",
          "model_module_version": "1.2.0",
          "state": {
            "_model_module": "@jupyter-widgets/base",
            "_model_module_version": "1.2.0",
            "_model_name": "LayoutModel",
            "_view_count": null,
            "_view_module": "@jupyter-widgets/base",
            "_view_module_version": "1.2.0",
            "_view_name": "LayoutView",
            "align_content": null,
            "align_items": null,
            "align_self": null,
            "border": null,
            "bottom": null,
            "display": null,
            "flex": null,
            "flex_flow": null,
            "grid_area": null,
            "grid_auto_columns": null,
            "grid_auto_flow": null,
            "grid_auto_rows": null,
            "grid_column": null,
            "grid_gap": null,
            "grid_row": null,
            "grid_template_areas": null,
            "grid_template_columns": null,
            "grid_template_rows": null,
            "height": null,
            "justify_content": null,
            "justify_items": null,
            "left": null,
            "margin": null,
            "max_height": null,
            "max_width": null,
            "min_height": null,
            "min_width": null,
            "object_fit": null,
            "object_position": null,
            "order": null,
            "overflow": null,
            "overflow_x": null,
            "overflow_y": null,
            "padding": null,
            "right": null,
            "top": null,
            "visibility": null,
            "width": null
          }
        },
        "3f942ecb2baa40e2a523d3110bbf268a": {
          "model_module": "@jupyter-widgets/base",
          "model_name": "LayoutModel",
          "model_module_version": "1.2.0",
          "state": {
            "_model_module": "@jupyter-widgets/base",
            "_model_module_version": "1.2.0",
            "_model_name": "LayoutModel",
            "_view_count": null,
            "_view_module": "@jupyter-widgets/base",
            "_view_module_version": "1.2.0",
            "_view_name": "LayoutView",
            "align_content": null,
            "align_items": null,
            "align_self": null,
            "border": null,
            "bottom": null,
            "display": null,
            "flex": null,
            "flex_flow": null,
            "grid_area": null,
            "grid_auto_columns": null,
            "grid_auto_flow": null,
            "grid_auto_rows": null,
            "grid_column": null,
            "grid_gap": null,
            "grid_row": null,
            "grid_template_areas": null,
            "grid_template_columns": null,
            "grid_template_rows": null,
            "height": null,
            "justify_content": null,
            "justify_items": null,
            "left": null,
            "margin": null,
            "max_height": null,
            "max_width": null,
            "min_height": null,
            "min_width": null,
            "object_fit": null,
            "object_position": null,
            "order": null,
            "overflow": null,
            "overflow_x": null,
            "overflow_y": null,
            "padding": null,
            "right": null,
            "top": null,
            "visibility": null,
            "width": null
          }
        },
        "8a1605fb074c497f907d83a18a01052b": {
          "model_module": "@jupyter-widgets/controls",
          "model_name": "DescriptionStyleModel",
          "model_module_version": "1.5.0",
          "state": {
            "_model_module": "@jupyter-widgets/controls",
            "_model_module_version": "1.5.0",
            "_model_name": "DescriptionStyleModel",
            "_view_count": null,
            "_view_module": "@jupyter-widgets/base",
            "_view_module_version": "1.2.0",
            "_view_name": "StyleView",
            "description_width": ""
          }
        },
        "24a843425cb84d658f8d0e5fe99e5543": {
          "model_module": "@jupyter-widgets/base",
          "model_name": "LayoutModel",
          "model_module_version": "1.2.0",
          "state": {
            "_model_module": "@jupyter-widgets/base",
            "_model_module_version": "1.2.0",
            "_model_name": "LayoutModel",
            "_view_count": null,
            "_view_module": "@jupyter-widgets/base",
            "_view_module_version": "1.2.0",
            "_view_name": "LayoutView",
            "align_content": null,
            "align_items": null,
            "align_self": null,
            "border": null,
            "bottom": null,
            "display": null,
            "flex": null,
            "flex_flow": null,
            "grid_area": null,
            "grid_auto_columns": null,
            "grid_auto_flow": null,
            "grid_auto_rows": null,
            "grid_column": null,
            "grid_gap": null,
            "grid_row": null,
            "grid_template_areas": null,
            "grid_template_columns": null,
            "grid_template_rows": null,
            "height": null,
            "justify_content": null,
            "justify_items": null,
            "left": null,
            "margin": null,
            "max_height": null,
            "max_width": null,
            "min_height": null,
            "min_width": null,
            "object_fit": null,
            "object_position": null,
            "order": null,
            "overflow": null,
            "overflow_x": null,
            "overflow_y": null,
            "padding": null,
            "right": null,
            "top": null,
            "visibility": null,
            "width": null
          }
        },
        "fc9f845383fa407da713d6bb7791a684": {
          "model_module": "@jupyter-widgets/controls",
          "model_name": "ProgressStyleModel",
          "model_module_version": "1.5.0",
          "state": {
            "_model_module": "@jupyter-widgets/controls",
            "_model_module_version": "1.5.0",
            "_model_name": "ProgressStyleModel",
            "_view_count": null,
            "_view_module": "@jupyter-widgets/base",
            "_view_module_version": "1.2.0",
            "_view_name": "StyleView",
            "bar_color": null,
            "description_width": ""
          }
        },
        "933b380f1fd740ec89a0ced652edb461": {
          "model_module": "@jupyter-widgets/base",
          "model_name": "LayoutModel",
          "model_module_version": "1.2.0",
          "state": {
            "_model_module": "@jupyter-widgets/base",
            "_model_module_version": "1.2.0",
            "_model_name": "LayoutModel",
            "_view_count": null,
            "_view_module": "@jupyter-widgets/base",
            "_view_module_version": "1.2.0",
            "_view_name": "LayoutView",
            "align_content": null,
            "align_items": null,
            "align_self": null,
            "border": null,
            "bottom": null,
            "display": null,
            "flex": null,
            "flex_flow": null,
            "grid_area": null,
            "grid_auto_columns": null,
            "grid_auto_flow": null,
            "grid_auto_rows": null,
            "grid_column": null,
            "grid_gap": null,
            "grid_row": null,
            "grid_template_areas": null,
            "grid_template_columns": null,
            "grid_template_rows": null,
            "height": null,
            "justify_content": null,
            "justify_items": null,
            "left": null,
            "margin": null,
            "max_height": null,
            "max_width": null,
            "min_height": null,
            "min_width": null,
            "object_fit": null,
            "object_position": null,
            "order": null,
            "overflow": null,
            "overflow_x": null,
            "overflow_y": null,
            "padding": null,
            "right": null,
            "top": null,
            "visibility": null,
            "width": null
          }
        },
        "ad7dade3ac5c4f20bea87f93dcc5894c": {
          "model_module": "@jupyter-widgets/controls",
          "model_name": "DescriptionStyleModel",
          "model_module_version": "1.5.0",
          "state": {
            "_model_module": "@jupyter-widgets/controls",
            "_model_module_version": "1.5.0",
            "_model_name": "DescriptionStyleModel",
            "_view_count": null,
            "_view_module": "@jupyter-widgets/base",
            "_view_module_version": "1.2.0",
            "_view_name": "StyleView",
            "description_width": ""
          }
        },
        "ea1ab81de76e4cf38ed6b9bc37d6d8d6": {
          "model_module": "@jupyter-widgets/controls",
          "model_name": "HBoxModel",
          "model_module_version": "1.5.0",
          "state": {
            "_dom_classes": [],
            "_model_module": "@jupyter-widgets/controls",
            "_model_module_version": "1.5.0",
            "_model_name": "HBoxModel",
            "_view_count": null,
            "_view_module": "@jupyter-widgets/controls",
            "_view_module_version": "1.5.0",
            "_view_name": "HBoxView",
            "box_style": "",
            "children": [
              "IPY_MODEL_9e68d40c24434c398286fceb5754dc02",
              "IPY_MODEL_bd46c7e81e3d430e9bf79b02df8689ee",
              "IPY_MODEL_244795c43e154ae0b153bd3ec721a5a0"
            ],
            "layout": "IPY_MODEL_2d0f9ba7776c496ba3cc5bf864cb33c6"
          }
        },
        "9e68d40c24434c398286fceb5754dc02": {
          "model_module": "@jupyter-widgets/controls",
          "model_name": "HTMLModel",
          "model_module_version": "1.5.0",
          "state": {
            "_dom_classes": [],
            "_model_module": "@jupyter-widgets/controls",
            "_model_module_version": "1.5.0",
            "_model_name": "HTMLModel",
            "_view_count": null,
            "_view_module": "@jupyter-widgets/controls",
            "_view_module_version": "1.5.0",
            "_view_name": "HTMLView",
            "description": "",
            "description_tooltip": null,
            "layout": "IPY_MODEL_85e648a7dd344dd6b1a47b80a658512a",
            "placeholder": "​",
            "style": "IPY_MODEL_1bbc483cbf65427c9bb05e701ec5b34c",
            "value": ""
          }
        },
        "bd46c7e81e3d430e9bf79b02df8689ee": {
          "model_module": "@jupyter-widgets/controls",
          "model_name": "FloatProgressModel",
          "model_module_version": "1.5.0",
          "state": {
            "_dom_classes": [],
            "_model_module": "@jupyter-widgets/controls",
            "_model_module_version": "1.5.0",
            "_model_name": "FloatProgressModel",
            "_view_count": null,
            "_view_module": "@jupyter-widgets/controls",
            "_view_module_version": "1.5.0",
            "_view_name": "ProgressView",
            "bar_style": "success",
            "description": "",
            "description_tooltip": null,
            "layout": "IPY_MODEL_3795b0916a354ba7aebd0b270708d25d",
            "max": 5148,
            "min": 0,
            "orientation": "horizontal",
            "style": "IPY_MODEL_607172d1ab39402882cfb02b1982b37a",
            "value": 5148
          }
        },
        "244795c43e154ae0b153bd3ec721a5a0": {
          "model_module": "@jupyter-widgets/controls",
          "model_name": "HTMLModel",
          "model_module_version": "1.5.0",
          "state": {
            "_dom_classes": [],
            "_model_module": "@jupyter-widgets/controls",
            "_model_module_version": "1.5.0",
            "_model_name": "HTMLModel",
            "_view_count": null,
            "_view_module": "@jupyter-widgets/controls",
            "_view_module_version": "1.5.0",
            "_view_name": "HTMLView",
            "description": "",
            "description_tooltip": null,
            "layout": "IPY_MODEL_87bbc21549ab45cab7d6ccdbb9d40cf3",
            "placeholder": "​",
            "style": "IPY_MODEL_ac42fa76d20e4229a147bcd331aff570",
            "value": " 6144/? [00:00&lt;00:00, 106763.41it/s]"
          }
        },
        "2d0f9ba7776c496ba3cc5bf864cb33c6": {
          "model_module": "@jupyter-widgets/base",
          "model_name": "LayoutModel",
          "model_module_version": "1.2.0",
          "state": {
            "_model_module": "@jupyter-widgets/base",
            "_model_module_version": "1.2.0",
            "_model_name": "LayoutModel",
            "_view_count": null,
            "_view_module": "@jupyter-widgets/base",
            "_view_module_version": "1.2.0",
            "_view_name": "LayoutView",
            "align_content": null,
            "align_items": null,
            "align_self": null,
            "border": null,
            "bottom": null,
            "display": null,
            "flex": null,
            "flex_flow": null,
            "grid_area": null,
            "grid_auto_columns": null,
            "grid_auto_flow": null,
            "grid_auto_rows": null,
            "grid_column": null,
            "grid_gap": null,
            "grid_row": null,
            "grid_template_areas": null,
            "grid_template_columns": null,
            "grid_template_rows": null,
            "height": null,
            "justify_content": null,
            "justify_items": null,
            "left": null,
            "margin": null,
            "max_height": null,
            "max_width": null,
            "min_height": null,
            "min_width": null,
            "object_fit": null,
            "object_position": null,
            "order": null,
            "overflow": null,
            "overflow_x": null,
            "overflow_y": null,
            "padding": null,
            "right": null,
            "top": null,
            "visibility": null,
            "width": null
          }
        },
        "85e648a7dd344dd6b1a47b80a658512a": {
          "model_module": "@jupyter-widgets/base",
          "model_name": "LayoutModel",
          "model_module_version": "1.2.0",
          "state": {
            "_model_module": "@jupyter-widgets/base",
            "_model_module_version": "1.2.0",
            "_model_name": "LayoutModel",
            "_view_count": null,
            "_view_module": "@jupyter-widgets/base",
            "_view_module_version": "1.2.0",
            "_view_name": "LayoutView",
            "align_content": null,
            "align_items": null,
            "align_self": null,
            "border": null,
            "bottom": null,
            "display": null,
            "flex": null,
            "flex_flow": null,
            "grid_area": null,
            "grid_auto_columns": null,
            "grid_auto_flow": null,
            "grid_auto_rows": null,
            "grid_column": null,
            "grid_gap": null,
            "grid_row": null,
            "grid_template_areas": null,
            "grid_template_columns": null,
            "grid_template_rows": null,
            "height": null,
            "justify_content": null,
            "justify_items": null,
            "left": null,
            "margin": null,
            "max_height": null,
            "max_width": null,
            "min_height": null,
            "min_width": null,
            "object_fit": null,
            "object_position": null,
            "order": null,
            "overflow": null,
            "overflow_x": null,
            "overflow_y": null,
            "padding": null,
            "right": null,
            "top": null,
            "visibility": null,
            "width": null
          }
        },
        "1bbc483cbf65427c9bb05e701ec5b34c": {
          "model_module": "@jupyter-widgets/controls",
          "model_name": "DescriptionStyleModel",
          "model_module_version": "1.5.0",
          "state": {
            "_model_module": "@jupyter-widgets/controls",
            "_model_module_version": "1.5.0",
            "_model_name": "DescriptionStyleModel",
            "_view_count": null,
            "_view_module": "@jupyter-widgets/base",
            "_view_module_version": "1.2.0",
            "_view_name": "StyleView",
            "description_width": ""
          }
        },
        "3795b0916a354ba7aebd0b270708d25d": {
          "model_module": "@jupyter-widgets/base",
          "model_name": "LayoutModel",
          "model_module_version": "1.2.0",
          "state": {
            "_model_module": "@jupyter-widgets/base",
            "_model_module_version": "1.2.0",
            "_model_name": "LayoutModel",
            "_view_count": null,
            "_view_module": "@jupyter-widgets/base",
            "_view_module_version": "1.2.0",
            "_view_name": "LayoutView",
            "align_content": null,
            "align_items": null,
            "align_self": null,
            "border": null,
            "bottom": null,
            "display": null,
            "flex": null,
            "flex_flow": null,
            "grid_area": null,
            "grid_auto_columns": null,
            "grid_auto_flow": null,
            "grid_auto_rows": null,
            "grid_column": null,
            "grid_gap": null,
            "grid_row": null,
            "grid_template_areas": null,
            "grid_template_columns": null,
            "grid_template_rows": null,
            "height": null,
            "justify_content": null,
            "justify_items": null,
            "left": null,
            "margin": null,
            "max_height": null,
            "max_width": null,
            "min_height": null,
            "min_width": null,
            "object_fit": null,
            "object_position": null,
            "order": null,
            "overflow": null,
            "overflow_x": null,
            "overflow_y": null,
            "padding": null,
            "right": null,
            "top": null,
            "visibility": null,
            "width": null
          }
        },
        "607172d1ab39402882cfb02b1982b37a": {
          "model_module": "@jupyter-widgets/controls",
          "model_name": "ProgressStyleModel",
          "model_module_version": "1.5.0",
          "state": {
            "_model_module": "@jupyter-widgets/controls",
            "_model_module_version": "1.5.0",
            "_model_name": "ProgressStyleModel",
            "_view_count": null,
            "_view_module": "@jupyter-widgets/base",
            "_view_module_version": "1.2.0",
            "_view_name": "StyleView",
            "bar_color": null,
            "description_width": ""
          }
        },
        "87bbc21549ab45cab7d6ccdbb9d40cf3": {
          "model_module": "@jupyter-widgets/base",
          "model_name": "LayoutModel",
          "model_module_version": "1.2.0",
          "state": {
            "_model_module": "@jupyter-widgets/base",
            "_model_module_version": "1.2.0",
            "_model_name": "LayoutModel",
            "_view_count": null,
            "_view_module": "@jupyter-widgets/base",
            "_view_module_version": "1.2.0",
            "_view_name": "LayoutView",
            "align_content": null,
            "align_items": null,
            "align_self": null,
            "border": null,
            "bottom": null,
            "display": null,
            "flex": null,
            "flex_flow": null,
            "grid_area": null,
            "grid_auto_columns": null,
            "grid_auto_flow": null,
            "grid_auto_rows": null,
            "grid_column": null,
            "grid_gap": null,
            "grid_row": null,
            "grid_template_areas": null,
            "grid_template_columns": null,
            "grid_template_rows": null,
            "height": null,
            "justify_content": null,
            "justify_items": null,
            "left": null,
            "margin": null,
            "max_height": null,
            "max_width": null,
            "min_height": null,
            "min_width": null,
            "object_fit": null,
            "object_position": null,
            "order": null,
            "overflow": null,
            "overflow_x": null,
            "overflow_y": null,
            "padding": null,
            "right": null,
            "top": null,
            "visibility": null,
            "width": null
          }
        },
        "ac42fa76d20e4229a147bcd331aff570": {
          "model_module": "@jupyter-widgets/controls",
          "model_name": "DescriptionStyleModel",
          "model_module_version": "1.5.0",
          "state": {
            "_model_module": "@jupyter-widgets/controls",
            "_model_module_version": "1.5.0",
            "_model_name": "DescriptionStyleModel",
            "_view_count": null,
            "_view_module": "@jupyter-widgets/base",
            "_view_module_version": "1.2.0",
            "_view_name": "StyleView",
            "description_width": ""
          }
        }
      }
    }
  },
  "cells": [
    {
      "cell_type": "markdown",
      "metadata": {
        "id": "view-in-github",
        "colab_type": "text"
      },
      "source": [
        "<a href=\"https://colab.research.google.com/github/rajlm10/D2L-Torch/blob/main/D2L_CNNs.ipynb\" target=\"_parent\"><img src=\"https://colab.research.google.com/assets/colab-badge.svg\" alt=\"Open In Colab\"/></a>"
      ]
    },
    {
      "cell_type": "code",
      "execution_count": 1,
      "metadata": {
        "id": "GnxbebtEM7j5"
      },
      "outputs": [],
      "source": [
        "import torch\n",
        "from torch import nn\n",
        "import torchvision\n",
        "from torchvision import transforms\n",
        "from torch.utils import data"
      ]
    },
    {
      "cell_type": "markdown",
      "source": [
        "#Utils "
      ],
      "metadata": {
        "id": "6JMZBYEqOgVb"
      }
    },
    {
      "cell_type": "code",
      "source": [
        "import multiprocessing\n",
        "def get_workers():\n",
        "  return multiprocessing.cpu_count()\n"
      ],
      "metadata": {
        "id": "9efuaBydNBLz"
      },
      "execution_count": 2,
      "outputs": []
    },
    {
      "cell_type": "code",
      "source": [
        "class Accumulator: \n",
        "  \"\"\"For accumulating sums over `n` variables.\"\"\" \n",
        "  def __init__(self, n):\n",
        "    self.data = [0.0] * n \n",
        "    \n",
        "  def add(self, *args):\n",
        "    self.data = [a + float(b) for a, b in zip(self.data, args)] \n",
        "    \n",
        "  def reset(self):\n",
        "    self.data = [0.0] * len(self.data)\n",
        "  \n",
        "  def __getitem__(self, idx): \n",
        "    return self.data[idx]"
      ],
      "metadata": {
        "id": "eivMCoJLNWU4"
      },
      "execution_count": 3,
      "outputs": []
    },
    {
      "cell_type": "code",
      "source": [
        "def load_fashion_mnist(batch_size,resize=None):\n",
        "  trans=[transforms.ToTensor()]\n",
        "  if resize:\n",
        "    trans.insert(0,transforms.Resize(resize))\n",
        "  trans=transforms.Compose(trans)\n",
        "\n",
        "  mnist_train=torchvision.datasets.FashionMNIST(root=\"../data\", train=True, transform=trans, download=True)\n",
        "  mnist_test=torchvision.datasets.FashionMNIST(root=\"../data\", train=False, transform=trans, download=True)\n",
        "\n",
        "  return data.DataLoader(mnist_train,batch_size,shuffle=True,num_workers=get_workers()),data.DataLoader(mnist_test,batch_size,shuffle=False,num_workers=get_workers())\n",
        "\n"
      ],
      "metadata": {
        "id": "foYW7vqONZHI"
      },
      "execution_count": 4,
      "outputs": []
    },
    {
      "cell_type": "code",
      "source": [
        "def accuracy(y_hat,y):\n",
        "  \"\"\"Compute the number of correct predictions.\"\"\" \n",
        "  if y_hat.shape[0]>1 and y_hat.shape[1]>1:\n",
        "    y_hat=y_hat.argmax(axis=1)\n",
        "  cmp=y_hat.type(y.dtype)==y\n",
        "  return float(cmp.type(y.dtype).sum())"
      ],
      "metadata": {
        "id": "b5LjV-dSNdPF"
      },
      "execution_count": 5,
      "outputs": []
    },
    {
      "cell_type": "code",
      "source": [
        "def evaluate_accuracy_gpu(net,test_iter,device=None):\n",
        "  \"\"\"Compute the accuracy for a model on a dataset using a GPU.\"\"\"\n",
        "  if isinstance (net,nn.Module):\n",
        "    net.eval()\n",
        "    if not device:\n",
        "      device=next(iter(net.parameters())).device\n",
        "\n",
        "    # No. of correct predictions, no. of predictions \n",
        "    metric =Accumulator(2)\n",
        "\n",
        "    with torch.no_grad():\n",
        "      for X,y in test_iter:\n",
        "        if isinstance(X, list):\n",
        "          # Required for BERT Fine-tuning (to be covered later) \n",
        "          X = [x.to(device) for x in X]\n",
        "\n",
        "        else:\n",
        "          X=X.to(device)\n",
        "        \n",
        "        y=y.to(device)\n",
        "        metric.add(accuracy(net(X), y), y.numel())\n",
        "      \n",
        "    return metric[0] / metric[1]"
      ],
      "metadata": {
        "id": "Wn9rSMQeNfR8"
      },
      "execution_count": 6,
      "outputs": []
    },
    {
      "cell_type": "code",
      "source": [
        "def try_gpu(i=0):\n",
        "  \"\"\"Return gpu(i) if exists, otherwise return cpu().\"\"\" \n",
        "  if torch.cuda.device_count() >= i + 1:\n",
        "    return torch.device(f'cuda:{i}') \n",
        "  return torch.device('cpu')"
      ],
      "metadata": {
        "id": "HWSiZH_xNobp"
      },
      "execution_count": 7,
      "outputs": []
    },
    {
      "cell_type": "code",
      "source": [
        "def train(net,train_iter,test_iter,loss,optimizer,num_epochs,learning_rate,device):\n",
        "  def init_weights(layer):\n",
        "    if isinstance(layer,nn.Linear) or isinstance(layer,nn.Conv2d):\n",
        "      nn.init.xavier_uniform_(layer.weight)\n",
        "  net.apply(init_weights)\n",
        "  print('training on', device)\n",
        "  net.to(device)\n",
        "\n",
        "  for epoch in range(num_epochs):\n",
        "    metric=Accumulator(3) # Sum of training loss, sum of training accuracy, no. of examples\n",
        "    net.train()\n",
        "\n",
        "    for X,y in train_iter:\n",
        "      X,y=X.to(device), y.to(device)\n",
        "      optimizer.zero_grad()\n",
        "      y_hat=net(X)\n",
        "      l=loss(y_hat,y)\n",
        "      l.backward()\n",
        "      optimizer.step()\n",
        "\n",
        "      with torch.no_grad():\n",
        "        metric.add(l * X.shape[0], accuracy(y_hat, y), X.shape[0])\n",
        "\n",
        "      train_l = metric[0] / metric[2]\n",
        "      train_acc = metric[1] / metric[2]\n",
        "\n",
        "    test_acc = evaluate_accuracy_gpu(net, test_iter)\n",
        "\n",
        "    print(f'epcoch:{epoch+1} 'f'loss {train_l:.3f}, train acc {train_acc:.3f},'f'test acc {test_acc:.3f}')"
      ],
      "metadata": {
        "id": "95dN6njONsQ6"
      },
      "execution_count": 22,
      "outputs": []
    },
    {
      "cell_type": "markdown",
      "source": [
        "# AlexNet \n",
        "\n",
        "![image.png](data:image/png;base64,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)"
      ],
      "metadata": {
        "id": "qIGWX9PtOjdk"
      }
    },
    {
      "cell_type": "code",
      "source": [
        "net=nn.Sequential(\n",
        "    nn.Conv2d(1,96,kernel_size=11,stride=4,padding=1),nn.ReLU(),\n",
        "    nn.MaxPool2d(kernel_size=3,stride=2),\n",
        "    nn.Conv2d(96,256,kernel_size=5,padding=2),nn.ReLU(),\n",
        "    nn.MaxPool2d(kernel_size=3,stride=2),\n",
        "    nn.Conv2d(256,384,kernel_size=3,padding=1),nn.ReLU(),\n",
        "    nn.Conv2d(384,384,kernel_size=3,padding=1),nn.ReLU(),\n",
        "    nn.Conv2d(384,256,kernel_size=3,padding=1),nn.ReLU(),\n",
        "    nn.MaxPool2d(kernel_size=3,stride=2),\n",
        "    nn.Flatten(),\n",
        "    nn.Linear(6400, 4096), nn.ReLU(),\n",
        "    nn.Dropout(p=0.5),\n",
        "    nn.Linear(4096, 4096), nn.ReLU(),\n",
        "    nn.Dropout(p=0.5),\n",
        "    nn.Linear(4096, 10)\n",
        "    )\n"
      ],
      "metadata": {
        "id": "ekCU6MqPOxcx"
      },
      "execution_count": null,
      "outputs": []
    },
    {
      "cell_type": "code",
      "source": [
        "X = torch.randn(1, 1, 224, 224) \n",
        "for layer in net:\n",
        "  X=layer(X)\n",
        "  print(layer.__class__.__name__,'output shape:\\t',X.shape)"
      ],
      "metadata": {
        "colab": {
          "base_uri": "https://localhost:8080/"
        },
        "id": "CBy0s6ETQzYy",
        "outputId": "dff10e1c-6e4d-4d10-8085-7f7d40b0d301"
      },
      "execution_count": null,
      "outputs": [
        {
          "output_type": "stream",
          "name": "stdout",
          "text": [
            "Conv2d output shape:\t torch.Size([1, 96, 54, 54])\n",
            "ReLU output shape:\t torch.Size([1, 96, 54, 54])\n",
            "MaxPool2d output shape:\t torch.Size([1, 96, 26, 26])\n",
            "Conv2d output shape:\t torch.Size([1, 256, 26, 26])\n",
            "ReLU output shape:\t torch.Size([1, 256, 26, 26])\n",
            "MaxPool2d output shape:\t torch.Size([1, 256, 12, 12])\n",
            "Conv2d output shape:\t torch.Size([1, 384, 12, 12])\n",
            "ReLU output shape:\t torch.Size([1, 384, 12, 12])\n",
            "Conv2d output shape:\t torch.Size([1, 384, 12, 12])\n",
            "ReLU output shape:\t torch.Size([1, 384, 12, 12])\n",
            "Conv2d output shape:\t torch.Size([1, 256, 12, 12])\n",
            "ReLU output shape:\t torch.Size([1, 256, 12, 12])\n",
            "MaxPool2d output shape:\t torch.Size([1, 256, 5, 5])\n",
            "Flatten output shape:\t torch.Size([1, 6400])\n",
            "Linear output shape:\t torch.Size([1, 4096])\n",
            "ReLU output shape:\t torch.Size([1, 4096])\n",
            "Dropout output shape:\t torch.Size([1, 4096])\n",
            "Linear output shape:\t torch.Size([1, 4096])\n",
            "ReLU output shape:\t torch.Size([1, 4096])\n",
            "Dropout output shape:\t torch.Size([1, 4096])\n",
            "Linear output shape:\t torch.Size([1, 10])\n"
          ]
        }
      ]
    },
    {
      "cell_type": "code",
      "source": [
        "batch_size=128\n",
        "lr, num_epochs = 0.01, 10\n",
        "\n",
        "train_iter, test_iter = load_fashion_mnist(batch_size=batch_size,resize=224)\n",
        "loss=nn.CrossEntropyLoss()\n",
        "optimizer=torch.optim.SGD(net.parameters(),lr)\n",
        "\n"
      ],
      "metadata": {
        "colab": {
          "base_uri": "https://localhost:8080/",
          "height": 423,
          "referenced_widgets": [
            "423e1999b732427b9ecf62b030058395",
            "9ef243152ca24453b9600f3dd5b037af",
            "559571b408f04bf1a762e2fcae49d4e3",
            "a3d11eff04a849779bd4e683b599621b",
            "347f2b12249f4fa69350e10ba87e2c4d",
            "86bdc905f6d44398a89deecf5958409c",
            "006b4dc3b1e741019fd1fe362be05237",
            "74bb4223f34f4426a57f0bad84352c5b",
            "08923cd31d8746fd904b4d9537e72eac",
            "340056e94bb0419bb1549775a8c184e7",
            "8b2f2846baf44f24b947f7f383c0c2e6",
            "f989305f4b7d49a3a527cfc01b635333",
            "b26c0b67fe8e4d12800df0fbb9042d49",
            "86429a8e64b9413abd9ce7eeb7b567f3",
            "03ab45fb83444078a0ab4e60370b8eae",
            "3ca48bb0413648169b9ebcb320dbfd6e",
            "85ee8de03ed84043894a3f9328361d7c",
            "661e19b7eef6471e9ee5dee9484e906d",
            "7e4eeb1a44bb479a8a947bda9e2af9b5",
            "540b941a8046443d9550a7637569850c",
            "d46f4911de7a454994963f38ef18fcae",
            "1e7bc5b43bcf4abc86f59e5dad8d8091",
            "e746932856254161b25300e5118d762f",
            "78dbcc82112846c2a62f3a2c6a983f82",
            "a9e48426b4164092a7fa61e4edef958a",
            "a673229be48948959a563f33b288a58c",
            "67329017694f4ec1950c7275aec80584",
            "3064cecc6f90498cb86aeb88c4e2fecf",
            "de168cf705084740bffa9a696746f8c3",
            "14a834f849274f9cb176fdfc9c56c3ef",
            "eaf572342e7e49b7b1e246772243ca1f",
            "02af379b8ec84c32a2c83850a25c0851",
            "00480f274e7b473cafe6511a37e07a3c",
            "150c9a0ebd9d4eeea80c33a7d7f5ec13",
            "52f13134dce94d2bb653d2ab297f9367",
            "13da983e656b4c45b36413d6574e02f8",
            "a8f31af3ac734cda8100c781af2e58d7",
            "f07b1d2e954c406ca84913ee37b6deed",
            "a28dc18c30c24636949b4c41be44c1e5",
            "4c0a0fd2dce741b7b282964bf35a180d",
            "18dbc06dd4e44e29a14860341017cf14",
            "edf11dbc0ae94ee4acce39f3d4ec682d",
            "6762e92146f743139c069b051db6d279",
            "519313b6b51347089d3d334fc0f6894d"
          ]
        },
        "id": "e8IVxRzqQ7xQ",
        "outputId": "db7299e9-f420-4582-859d-b5705300ee2b"
      },
      "execution_count": null,
      "outputs": [
        {
          "output_type": "stream",
          "name": "stdout",
          "text": [
            "Downloading http://fashion-mnist.s3-website.eu-central-1.amazonaws.com/train-images-idx3-ubyte.gz\n",
            "Downloading http://fashion-mnist.s3-website.eu-central-1.amazonaws.com/train-images-idx3-ubyte.gz to ../data/FashionMNIST/raw/train-images-idx3-ubyte.gz\n"
          ]
        },
        {
          "output_type": "display_data",
          "data": {
            "text/plain": [
              "  0%|          | 0/26421880 [00:00<?, ?it/s]"
            ],
            "application/vnd.jupyter.widget-view+json": {
              "version_major": 2,
              "version_minor": 0,
              "model_id": "423e1999b732427b9ecf62b030058395"
            }
          },
          "metadata": {}
        },
        {
          "output_type": "stream",
          "name": "stdout",
          "text": [
            "Extracting ../data/FashionMNIST/raw/train-images-idx3-ubyte.gz to ../data/FashionMNIST/raw\n",
            "\n",
            "Downloading http://fashion-mnist.s3-website.eu-central-1.amazonaws.com/train-labels-idx1-ubyte.gz\n",
            "Downloading http://fashion-mnist.s3-website.eu-central-1.amazonaws.com/train-labels-idx1-ubyte.gz to ../data/FashionMNIST/raw/train-labels-idx1-ubyte.gz\n"
          ]
        },
        {
          "output_type": "display_data",
          "data": {
            "text/plain": [
              "  0%|          | 0/29515 [00:00<?, ?it/s]"
            ],
            "application/vnd.jupyter.widget-view+json": {
              "version_major": 2,
              "version_minor": 0,
              "model_id": "f989305f4b7d49a3a527cfc01b635333"
            }
          },
          "metadata": {}
        },
        {
          "output_type": "stream",
          "name": "stdout",
          "text": [
            "Extracting ../data/FashionMNIST/raw/train-labels-idx1-ubyte.gz to ../data/FashionMNIST/raw\n",
            "\n",
            "Downloading http://fashion-mnist.s3-website.eu-central-1.amazonaws.com/t10k-images-idx3-ubyte.gz\n",
            "Downloading http://fashion-mnist.s3-website.eu-central-1.amazonaws.com/t10k-images-idx3-ubyte.gz to ../data/FashionMNIST/raw/t10k-images-idx3-ubyte.gz\n"
          ]
        },
        {
          "output_type": "display_data",
          "data": {
            "text/plain": [
              "  0%|          | 0/4422102 [00:00<?, ?it/s]"
            ],
            "application/vnd.jupyter.widget-view+json": {
              "version_major": 2,
              "version_minor": 0,
              "model_id": "e746932856254161b25300e5118d762f"
            }
          },
          "metadata": {}
        },
        {
          "output_type": "stream",
          "name": "stdout",
          "text": [
            "Extracting ../data/FashionMNIST/raw/t10k-images-idx3-ubyte.gz to ../data/FashionMNIST/raw\n",
            "\n",
            "Downloading http://fashion-mnist.s3-website.eu-central-1.amazonaws.com/t10k-labels-idx1-ubyte.gz\n",
            "Downloading http://fashion-mnist.s3-website.eu-central-1.amazonaws.com/t10k-labels-idx1-ubyte.gz to ../data/FashionMNIST/raw/t10k-labels-idx1-ubyte.gz\n"
          ]
        },
        {
          "output_type": "display_data",
          "data": {
            "text/plain": [
              "  0%|          | 0/5148 [00:00<?, ?it/s]"
            ],
            "application/vnd.jupyter.widget-view+json": {
              "version_major": 2,
              "version_minor": 0,
              "model_id": "150c9a0ebd9d4eeea80c33a7d7f5ec13"
            }
          },
          "metadata": {}
        },
        {
          "output_type": "stream",
          "name": "stdout",
          "text": [
            "Extracting ../data/FashionMNIST/raw/t10k-labels-idx1-ubyte.gz to ../data/FashionMNIST/raw\n",
            "\n"
          ]
        }
      ]
    },
    {
      "cell_type": "code",
      "source": [
        "train(net, train_iter, test_iter,loss,optimizer, num_epochs, lr, try_gpu())"
      ],
      "metadata": {
        "colab": {
          "base_uri": "https://localhost:8080/"
        },
        "id": "MjRR7x-RRcz9",
        "outputId": "49f70d70-27c8-4a80-ae53-5ed95bf6c418"
      },
      "execution_count": null,
      "outputs": [
        {
          "output_type": "stream",
          "name": "stdout",
          "text": [
            "training on cuda:0\n",
            "epcoch:1 loss 1.322, train acc 0.510,test acc 0.707\n",
            "epcoch:2 loss 0.658, train acc 0.754,test acc 0.792\n",
            "epcoch:3 loss 0.543, train acc 0.797,test acc 0.812\n",
            "epcoch:4 loss 0.477, train acc 0.825,test acc 0.826\n",
            "epcoch:5 loss 0.433, train acc 0.841,test acc 0.856\n",
            "epcoch:6 loss 0.400, train acc 0.853,test acc 0.855\n",
            "epcoch:7 loss 0.379, train acc 0.861,test acc 0.867\n",
            "epcoch:8 loss 0.360, train acc 0.868,test acc 0.875\n",
            "epcoch:9 loss 0.343, train acc 0.874,test acc 0.870\n",
            "epcoch:10 loss 0.330, train acc 0.878,test acc 0.882\n"
          ]
        }
      ]
    },
    {
      "cell_type": "markdown",
      "source": [
        "# VGG-11\n",
        "\n"
      ],
      "metadata": {
        "id": "k_pdO4U-R_ke"
      }
    },
    {
      "cell_type": "code",
      "source": [
        "def vgg_block(num_convs,in_channels,out_channels):\n",
        "  layers=[]\n",
        "  for _ in range(num_convs):\n",
        "    layers.append(nn.Conv2d(in_channels,out_channels,kernel_size=3,padding=1))\n",
        "    layers.append(nn.ReLU())\n",
        "    in_channels=out_channels\n",
        "  \n",
        "  layers.append(nn.MaxPool2d(kernel_size=2,stride=2))\n",
        "  return nn.Sequential(*layers)"
      ],
      "metadata": {
        "id": "VXilQuv1SZJy"
      },
      "execution_count": null,
      "outputs": []
    },
    {
      "cell_type": "markdown",
      "source": [
        "The following variable conv_arch consists of a list of tuples (one per block), where each contains two values: the number of convolutional layers and the number of output channels, which are precisely the arguments required to call the vgg_block function. The fully-connected part of the VGG network is identical to that covered in AlexNet\n",
        "\n",
        " **Since this network uses 8 convolutional layers and 3 fully-connected layers, it is often called VGG-11.**"
      ],
      "metadata": {
        "id": "F6BmQWrjTil0"
      }
    },
    {
      "cell_type": "code",
      "source": [
        "conv_arch = ((1, 64), (1, 128), (2, 256), (2, 512), (2, 512))"
      ],
      "metadata": {
        "id": "iWPAIrwRTHWK"
      },
      "execution_count": null,
      "outputs": []
    },
    {
      "cell_type": "code",
      "source": [
        "def vgg(conv_arch):\n",
        "  conv_blocks=[]\n",
        "  in_channels=1\n",
        "\n",
        "  for num_convs,out_channels in conv_arch:\n",
        "    conv_blocks.append(vgg_block(num_convs,in_channels,out_channels))\n",
        "    in_channels=out_channels\n",
        "  \n",
        "  return nn.Sequential(*conv_blocks,\n",
        "                       nn.Flatten(),\n",
        "                       nn.Linear(out_channels * 7 * 7, 4096),nn.ReLU(), nn.Dropout(0.5),\n",
        "                       nn.Linear(4096, 4096), nn.ReLU(), nn.Dropout(0.5), \n",
        "                       nn.Linear(4096, 10)\n",
        "                       )\n",
        "  \n",
        "net = vgg(conv_arch)\n",
        "\n"
      ],
      "metadata": {
        "id": "VIrQzikATrqN"
      },
      "execution_count": null,
      "outputs": []
    },
    {
      "cell_type": "code",
      "source": [
        "X = torch.randn(size=(1, 1, 224, 224)) \n",
        "for blk in net:\n",
        "  X = blk(X)\n",
        "  print(blk.__class__.__name__,'output shape:\\t',X.shape)"
      ],
      "metadata": {
        "colab": {
          "base_uri": "https://localhost:8080/"
        },
        "id": "pLw8O9UeUeeo",
        "outputId": "73cb954a-ae12-4a17-d062-a98e8b38399c"
      },
      "execution_count": null,
      "outputs": [
        {
          "output_type": "stream",
          "name": "stdout",
          "text": [
            "Sequential output shape:\t torch.Size([1, 64, 112, 112])\n",
            "Sequential output shape:\t torch.Size([1, 128, 56, 56])\n",
            "Sequential output shape:\t torch.Size([1, 256, 28, 28])\n",
            "Sequential output shape:\t torch.Size([1, 512, 14, 14])\n",
            "Sequential output shape:\t torch.Size([1, 512, 7, 7])\n",
            "Flatten output shape:\t torch.Size([1, 25088])\n",
            "Linear output shape:\t torch.Size([1, 4096])\n",
            "ReLU output shape:\t torch.Size([1, 4096])\n",
            "Dropout output shape:\t torch.Size([1, 4096])\n",
            "Linear output shape:\t torch.Size([1, 4096])\n",
            "ReLU output shape:\t torch.Size([1, 4096])\n",
            "Dropout output shape:\t torch.Size([1, 4096])\n",
            "Linear output shape:\t torch.Size([1, 10])\n"
          ]
        }
      ]
    },
    {
      "cell_type": "code",
      "source": [
        "lr, num_epochs, batch_size = 0.01, 1, 128\n",
        "train_iter, test_iter = load_fashion_mnist(batch_size, resize=224)\n",
        "loss=nn.CrossEntropyLoss()\n",
        "optimizer=torch.optim.SGD(net.parameters(),lr)"
      ],
      "metadata": {
        "id": "MW0Eb_WzU0-y"
      },
      "execution_count": null,
      "outputs": []
    },
    {
      "cell_type": "code",
      "source": [
        "train(net, train_iter, test_iter,loss,optimizer, num_epochs, lr, try_gpu())"
      ],
      "metadata": {
        "colab": {
          "base_uri": "https://localhost:8080/"
        },
        "id": "mWniX-rMU3Bz",
        "outputId": "080bc5d4-8375-4d04-edec-96f6ca502b7e"
      },
      "execution_count": null,
      "outputs": [
        {
          "output_type": "stream",
          "name": "stdout",
          "text": [
            "training on cuda:0\n",
            "epcoch:1 loss 1.607, train acc 0.431,test acc 0.711\n"
          ]
        }
      ]
    },
    {
      "cell_type": "markdown",
      "source": [
        "# Network in Network \n",
        "\n",
        "![image.png](data:image/png;base64,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)"
      ],
      "metadata": {
        "id": "72LDAMnzVUyN"
      }
    },
    {
      "cell_type": "markdown",
      "source": [
        "The original NiN network was proposed shortly after AlexNet and clearly draws some inspiration. NiN uses convolutional layers with window shapes of 11×11, 5×5, and 3×3, and the corresponding numbers of output channels are the same as in AlexNet. Each NiN block is followed by a maximum pooling layer with a stride of 2 and a window shape of 3 × 3."
      ],
      "metadata": {
        "id": "G8msGuOfViDH"
      }
    },
    {
      "cell_type": "code",
      "source": [
        "def nin_block(in_channels, out_channels, kernel_size, strides, padding):\n",
        "  return nn.Sequential(\n",
        "                  nn.Conv2d(in_channels, out_channels, kernel_size, strides, padding), nn.ReLU(),\n",
        "                  nn.Conv2d(out_channels, out_channels, kernel_size=1), nn.ReLU(),\n",
        "                  nn.Conv2d(out_channels, out_channels, kernel_size=1), nn.ReLU()\n",
        "                  )\n",
        "  "
      ],
      "metadata": {
        "id": "BSJyxE_AVwP0"
      },
      "execution_count": null,
      "outputs": []
    },
    {
      "cell_type": "code",
      "source": [
        "net=nn.Sequential(\n",
        "    nin_block(1, 96, kernel_size=11, strides=4, padding=0),\n",
        "    nn.MaxPool2d(3, stride=2),\n",
        "    nin_block(96, 256, kernel_size=5, strides=1, padding=2),\n",
        "    nn.MaxPool2d(3, stride=2),\n",
        "    nin_block(256, 384, kernel_size=3, strides=1, padding=1),\n",
        "    nn.MaxPool2d(3, stride=2),\n",
        "    nn.Dropout(0.5),\n",
        "    # There are 10 label classes\n",
        "    nin_block(384, 10, kernel_size=3, strides=1, padding=1), #Transform to batch_size X labels X h X w\n",
        "    nn.AdaptiveAvgPool2d((1, 1)), #Transform to batch_size X labels X 1 X 1\n",
        "    nn.Flatten() # Transform to batch_size X labels\n",
        ")"
      ],
      "metadata": {
        "id": "5rQRSBDsWJ9b"
      },
      "execution_count": null,
      "outputs": []
    },
    {
      "cell_type": "code",
      "source": [
        "X = torch.rand(size=(1, 1, 224, 224)) \n",
        "for layer in net:\n",
        "  X = layer(X)\n",
        "  print(layer.__class__.__name__,'output shape:\\t', X.shape)"
      ],
      "metadata": {
        "colab": {
          "base_uri": "https://localhost:8080/"
        },
        "id": "le6Vrf0wW6aC",
        "outputId": "93e959df-5535-4231-cc64-915d55c6e13c"
      },
      "execution_count": null,
      "outputs": [
        {
          "output_type": "stream",
          "name": "stdout",
          "text": [
            "Sequential output shape:\t torch.Size([1, 96, 54, 54])\n",
            "MaxPool2d output shape:\t torch.Size([1, 96, 26, 26])\n",
            "Sequential output shape:\t torch.Size([1, 256, 26, 26])\n",
            "MaxPool2d output shape:\t torch.Size([1, 256, 12, 12])\n",
            "Sequential output shape:\t torch.Size([1, 384, 12, 12])\n",
            "MaxPool2d output shape:\t torch.Size([1, 384, 5, 5])\n",
            "Dropout output shape:\t torch.Size([1, 384, 5, 5])\n",
            "Sequential output shape:\t torch.Size([1, 10, 5, 5])\n",
            "AdaptiveAvgPool2d output shape:\t torch.Size([1, 10, 1, 1])\n",
            "Flatten output shape:\t torch.Size([1, 10])\n"
          ]
        }
      ]
    },
    {
      "cell_type": "code",
      "source": [
        "lr, num_epochs, batch_size = 0.1, 5, 128\n",
        "train_iter, test_iter = load_fashion_mnist(batch_size, resize=224)\n",
        "loss=nn.CrossEntropyLoss()\n",
        "optimizer=torch.optim.SGD(net.parameters(),lr)"
      ],
      "metadata": {
        "id": "6zsfmUDWXQCk"
      },
      "execution_count": null,
      "outputs": []
    },
    {
      "cell_type": "code",
      "source": [
        "train(net, train_iter, test_iter,loss,optimizer, num_epochs, lr, try_gpu())"
      ],
      "metadata": {
        "colab": {
          "base_uri": "https://localhost:8080/"
        },
        "id": "8j-4rBl6XUyE",
        "outputId": "20f5e78f-349f-4894-e2f6-065ec6859ce2"
      },
      "execution_count": null,
      "outputs": [
        {
          "output_type": "stream",
          "name": "stdout",
          "text": [
            "training on cuda:0\n",
            "epcoch:1 loss 2.303, train acc 0.100,test acc 0.100\n",
            "epcoch:2 loss 2.235, train acc 0.123,test acc 0.150\n",
            "epcoch:3 loss 1.799, train acc 0.324,test acc 0.281\n",
            "epcoch:4 loss 1.564, train acc 0.433,test acc 0.458\n",
            "epcoch:5 loss 1.490, train acc 0.453,test acc 0.465\n"
          ]
        }
      ]
    },
    {
      "cell_type": "markdown",
      "source": [
        "# Inception\n",
        "\n",
        "![image.png](data:image/png;base64,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)"
      ],
      "metadata": {
        "id": "v2kmcp0cXePj"
      }
    },
    {
      "cell_type": "markdown",
      "source": [
        "The four paths all use appropriate padding to give the input and output the same height and width. Finally, the outputs along each path are concatenated along the channel dimension and comprise the blockʼs output. **The commonly-tuned hyperparameters of the Inception block are the number of output channels per layer.**"
      ],
      "metadata": {
        "id": "daibjeZLXsAX"
      }
    },
    {
      "cell_type": "code",
      "source": [
        "from torch.nn import functional as F #Use this\n",
        "\n",
        "class Inception(nn.Module):\n",
        "  # `c1`--`c4` are the number of output channels for each path \n",
        "  def __init__(self, in_channels, c1, c2, c3, c4, **kwargs):\n",
        "    super(Inception, self).__init__(**kwargs)\n",
        "    # Path 1 is a single 1 x 1 convolutional layer\n",
        "    self.p1_1 = nn.Conv2d(in_channels, c1, kernel_size=1)\n",
        "\n",
        "    # Path 2 is a 1 x 1 convolutional layer followed by a 3 x 3\n",
        "    # convolutional layer\n",
        "    self.p2_1 = nn.Conv2d(in_channels, c2[0], kernel_size=1) \n",
        "    self.p2_2 = nn.Conv2d(c2[0], c2[1], kernel_size=3, padding=1) \n",
        "    \n",
        "    # Path 3 is a 1 x 1 convolutional layer followed by a 5 x 5\n",
        "    # convolutional layer\n",
        "    self.p3_1 = nn.Conv2d(in_channels, c3[0], kernel_size=1) \n",
        "    self.p3_2 = nn.Conv2d(c3[0], c3[1], kernel_size=5, padding=2) \n",
        "    \n",
        "    # Path 4 is a 3 x 3 maximum pooling layer followed by a 1 x 1 # convolutional layer\n",
        "    self.p4_1 = nn.MaxPool2d(kernel_size=3, stride=1, padding=1) \n",
        "    self.p4_2 = nn.Conv2d(in_channels, c4, kernel_size=1)\n",
        "\n",
        "  def forward(self,X):\n",
        "    p1=F.relu(self.p1_1(X))\n",
        "    p2=F.relu(self.p2_2(self.p2_1(X)))\n",
        "    p3=F.relu(self.p3_2(self.p3_1(X)))\n",
        "    p4=F.relu(self.p4_2(self.p4_1(X)))\n",
        "    #Concatenate the outputs on the channel dimension\n",
        "    return torch.cat((p1,p2,p3,p4),dim=1)"
      ],
      "metadata": {
        "id": "xXUByiaKXiC8"
      },
      "execution_count": null,
      "outputs": []
    },
    {
      "cell_type": "markdown",
      "source": [
        "![image.png](data:image/png;base64,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)"
      ],
      "metadata": {
        "id": "G-_aksYvaeEh"
      }
    },
    {
      "cell_type": "code",
      "source": [
        "b1 = nn.Sequential(\n",
        "    nn.Conv2d(1, 64, kernel_size=7, stride=2, padding=3), nn.ReLU(),\n",
        "    nn.MaxPool2d(kernel_size=3, stride=2, padding=1)\n",
        "    )"
      ],
      "metadata": {
        "id": "VfyknXpHaWtK"
      },
      "execution_count": null,
      "outputs": []
    },
    {
      "cell_type": "code",
      "source": [
        "b2 = nn.Sequential(\n",
        "    nn.Conv2d(64, 64, kernel_size=1), nn.ReLU(),\n",
        "    nn.Conv2d(64, 192, kernel_size=3, padding=1), nn.ReLU(),\n",
        "    nn.MaxPool2d(kernel_size=3, stride=2, padding=1))"
      ],
      "metadata": {
        "id": "wkVK9aqHaze5"
      },
      "execution_count": null,
      "outputs": []
    },
    {
      "cell_type": "markdown",
      "source": [
        "The third module connects two complete Inception blocks in series. The number of output channels of the first Inception block is 64 + 128 + 32 + 32 = 256, and the number-of-output-channel ratioamongthefourpathsis64 : 128 : 32 : 32 = 2 : 4 : 1 : 1. The second and third paths first reduce the number of input channels to 96/192 = 1/2 and 16/192 = 1/12, respectively, and then connect the second convolutional layer. The number of output channels of the second Inception block is increased to 128 + 192 + 96 + 64 = 480, and the number-of-output-channel ratio among thefourpathsis128 : 192 : 96 : 64 = 4 : 6 : 3 : 2. The second and third paths first reduce the number of input channels to 128/256 = 1/2 and 32/256 = 1/8, respectively."
      ],
      "metadata": {
        "id": "GOxyL7LBbFAi"
      }
    },
    {
      "cell_type": "code",
      "source": [
        "b3 = nn.Sequential(\n",
        "    Inception(192, 64, (96, 128), (16, 32), 32),\n",
        "    Inception(256, 128, (128, 192), (32, 96), 64),\n",
        "    nn.MaxPool2d(kernel_size=3, stride=2, padding=1)\n",
        "    )"
      ],
      "metadata": {
        "id": "lpjZdOGabMYJ"
      },
      "execution_count": null,
      "outputs": []
    },
    {
      "cell_type": "markdown",
      "source": [
        "The fourth module is more complicated. It connects five Inception blocks in series, and they have 192+208+48+64 = 512, 160+224+64+64 = 512, 128+256+64+64 = 512, 112+288+64+64 = 528, and 256+320+128+128 = 832 output channels, respectively. The number of channels assigned to these paths is similar to that in the third module: the second path with the 3×3 convolutional layer outputs the largest number of channels, followed by the first path with only the 1 × 1 convolutional layer, the third path with the 5×5 convolutional layer, and the fourth path with the 3×3 maximum pooling layer. The second and third paths will first reduce the number of channels according to the ratio. These ratios are slightly different in different Inception blocks."
      ],
      "metadata": {
        "id": "gCCPFcZ7coVM"
      }
    },
    {
      "cell_type": "code",
      "source": [
        "b4 = nn.Sequential(\n",
        "    Inception(480, 192, (96, 208), (16, 48), 64),\n",
        "    Inception(512, 160, (112, 224), (24, 64), 64),\n",
        "    Inception(512, 128, (128, 256), (24, 64), 64),\n",
        "    Inception(512, 112, (144, 288), (32, 64), 64),\n",
        "    Inception(528, 256, (160, 320), (32, 128), 128),\n",
        "    nn.MaxPool2d(kernel_size=3, stride=2, padding=1)\n",
        "    )"
      ],
      "metadata": {
        "id": "rNc2vo7hcqZj"
      },
      "execution_count": null,
      "outputs": []
    },
    {
      "cell_type": "markdown",
      "source": [
        "The fifth module has two Inception blocks with 256 + 320 + 128 + 128 = 832 and 384 + 384 + 128 + 128 = 1024 output channels. The number of channels assigned to each path is the same as that in the third and fourth modules, but differs in specific values. It should be noted that the fifth block is followed by the output layer. **This block uses the global average pooling layer to change the height and width of each channel to 1, just as in NiN. Finally, we turn the output into a two-dimensional array followed by a fully-connected layer whose number of outputs is the number of label classes.**"
      ],
      "metadata": {
        "id": "CF1UuRWRc64W"
      }
    },
    {
      "cell_type": "code",
      "source": [
        "b5 = nn.Sequential(\n",
        "    Inception(832, 256, (160, 320), (32, 128), 128),\n",
        "    Inception(832, 384, (192, 384), (48, 128), 128),\n",
        "    nn.AdaptiveAvgPool2d((1,1)),\n",
        "    nn.Flatten())\n"
      ],
      "metadata": {
        "id": "U7fAK_GwdMqT"
      },
      "execution_count": null,
      "outputs": []
    },
    {
      "cell_type": "code",
      "source": [
        "net = nn.Sequential(b1, b2, b3, b4, b5, nn.Linear(1024, 10))"
      ],
      "metadata": {
        "id": "7tLPqo97dW8W"
      },
      "execution_count": null,
      "outputs": []
    },
    {
      "cell_type": "code",
      "source": [
        "X = torch.rand(size=(1, 1, 96, 96)) \n",
        "for layer in net:\n",
        "  X = layer(X)\n",
        "  print(layer.__class__.__name__,'output shape:\\t', X.shape)"
      ],
      "metadata": {
        "colab": {
          "base_uri": "https://localhost:8080/"
        },
        "id": "KBuoZu7wdpkp",
        "outputId": "6ca74b2a-eca5-4e81-805b-0c43168db272"
      },
      "execution_count": null,
      "outputs": [
        {
          "output_type": "stream",
          "name": "stdout",
          "text": [
            "Sequential output shape:\t torch.Size([1, 64, 24, 24])\n",
            "Sequential output shape:\t torch.Size([1, 192, 12, 12])\n",
            "Sequential output shape:\t torch.Size([1, 480, 6, 6])\n",
            "Sequential output shape:\t torch.Size([1, 832, 3, 3])\n",
            "Sequential output shape:\t torch.Size([1, 1024])\n",
            "Linear output shape:\t torch.Size([1, 10])\n"
          ]
        }
      ]
    },
    {
      "cell_type": "code",
      "source": [
        "lr, num_epochs, batch_size = 0.1, 1, 128\n",
        "train_iter, test_iter = load_fashion_mnist(batch_size, resize=224)\n",
        "loss=nn.CrossEntropyLoss()\n",
        "optimizer=torch.optim.SGD(net.parameters(),lr)"
      ],
      "metadata": {
        "id": "IZMgKd_KdzVR"
      },
      "execution_count": null,
      "outputs": []
    },
    {
      "cell_type": "code",
      "source": [
        "train(net, train_iter, test_iter,loss,optimizer, num_epochs, lr, try_gpu())"
      ],
      "metadata": {
        "colab": {
          "base_uri": "https://localhost:8080/"
        },
        "id": "KydqqS7ddz-N",
        "outputId": "0c719ea2-a4c3-437a-8ace-b8b1ab789813"
      },
      "execution_count": null,
      "outputs": [
        {
          "output_type": "stream",
          "name": "stdout",
          "text": [
            "training on cuda:0\n",
            "epcoch:1 loss 2.263, train acc 0.151,test acc 0.215\n"
          ]
        }
      ]
    },
    {
      "cell_type": "markdown",
      "source": [
        "# Batch Normalisation"
      ],
      "metadata": {
        "id": "SyDlEkRKTmD6"
      }
    },
    {
      "cell_type": "code",
      "source": [
        "def batch_norm(X,scale,shift,moving_mean,moving_var,eps,momentum):\n",
        "  # Use `is_grad_enabled` to determine whether the current mode is training # mode or prediction mode\n",
        "  if not torch.is_grad_enabled():\n",
        "    # If it is prediction mode, directly use the mean and variance\n",
        "    # obtained by moving average\n",
        "    X_hat = (X - moving_mean) / torch.sqrt(moving_var + eps)\n",
        "\n",
        "  else:\n",
        "    assert len(X.shape) in (2, 4) \n",
        "    if len(X.shape) == 2:\n",
        "      # When using a fully-connected layer, calculate the mean and # variance on the feature dimension\n",
        "      mean = X.mean(dim=0)\n",
        "      var = ((X - mean) ** 2).mean(dim=0)\n",
        "    \n",
        "    else:\n",
        "      # When using a two-dimensional convolutional layer, calculate the\n",
        "      # mean and variance on the channel dimension (axis=1). Here we\n",
        "      # need to maintain the shape of `X`, so that the broadcasting # operation can be carried out later\n",
        "      mean = X.mean(dim=(0, 2, 3), keepdim=True)\n",
        "      var = ((X - mean) ** 2).mean(dim=(0, 2, 3), keepdim=True)\n",
        "\n",
        "    # In training mode, the current mean and variance are used for the # standardization\n",
        "    X_hat = (X - mean) / torch.sqrt(var + eps)\n",
        "    # Update the mean and variance using moving average\n",
        "    moving_mean = momentum * moving_mean + (1.0 - momentum) * mean\n",
        "    moving_var = momentum * moving_var + (1.0 - momentum) * var\n",
        "\n",
        "  Y=scale*X_hat+shift\n",
        "  return Y,moving_mean,moving_var\n"
      ],
      "metadata": {
        "id": "MuR2aXpaTqOq"
      },
      "execution_count": null,
      "outputs": []
    },
    {
      "cell_type": "code",
      "source": [
        "class BatchNorm(nn.Module):\n",
        "  # `num_features`: the number of outputs for a fully-connected layer\n",
        "  # or the number of output channels for a convolutional layer. \n",
        "  #`num_dims`: # 2 for a fully-connected layer and 4 for a convolutional layer\n",
        "  def __init__(self,num_features,num_dims):\n",
        "    super().__init__()\n",
        "    if num_dims == 2:\n",
        "      shape = (1, num_features) \n",
        "    else:\n",
        "      shape = (1, num_features, 1, 1)\n",
        "    # The scale parameter and the shift parameter (model parameters) are\n",
        "    # initialized to 1 and 0, respectively\n",
        "    self.scale = nn.Parameter(torch.ones(shape))\n",
        "    self.shift = nn.Parameter(torch.zeros(shape))\n",
        "    # The variables that are not model parameters are initialized to 0 and 1 \n",
        "    self.moving_mean = torch.zeros(shape)\n",
        "    self.moving_var = torch.ones(shape)\n",
        "\n",
        "  def forward(self,X):\n",
        "    # If `X` is not on the main memory, copy `moving_mean` and \n",
        "    # `moving_var` to the device where `X` is located\n",
        "    if self.moving_mean.device != X.device:\n",
        "      self.moving_mean = self.moving_mean.to(X.device)\n",
        "      self.moving_var = self.moving_var.to(X.device)\n",
        "    # Save the updated `moving_mean` and `moving_var` \n",
        "    Y, self.moving_mean, self.moving_var = batch_norm(X, self.scale, self.shift, self.moving_mean,self.moving_var, eps=1e-5, momentum=0.9) \n",
        "    return Y\n"
      ],
      "metadata": {
        "id": "MBPBzNjAU8GI"
      },
      "execution_count": null,
      "outputs": []
    },
    {
      "cell_type": "code",
      "source": [
        "y_try,m_mean_try,m_std_try=batch_norm(torch.rand(5,10), nn.Parameter(torch.ones((1,10))),nn.Parameter(torch.zeros((1,10))), torch.zeros((1,10)),torch.ones((1,10)), eps=1e-5, momentum=0.9) "
      ],
      "metadata": {
        "id": "jdbptT4baqdF"
      },
      "execution_count": null,
      "outputs": []
    },
    {
      "cell_type": "markdown",
      "source": [
        "##Batch Norm After Activation"
      ],
      "metadata": {
        "id": "hYW8ZP0tck_a"
      }
    },
    {
      "cell_type": "code",
      "source": [
        "net = nn.Sequential(\n",
        "    nn.Conv2d(1, 6, kernel_size=5),nn.Sigmoid(),BatchNorm(6, num_dims=4),\n",
        "    nn.AvgPool2d(kernel_size=2, stride=2),\n",
        "    nn.Conv2d(6, 16, kernel_size=5), nn.Sigmoid(),BatchNorm(16, num_dims=4),\n",
        "    nn.AvgPool2d(kernel_size=2, stride=2),\n",
        "    nn.Flatten(),\n",
        "    nn.Linear(16*4*4, 120),nn.Sigmoid(),BatchNorm(120, num_dims=2),\n",
        "    nn.Linear(120, 84),nn.Sigmoid(),BatchNorm(84, num_dims=2), \n",
        "    nn.Linear(84, 10))"
      ],
      "metadata": {
        "id": "zEGNzkWBXMOZ"
      },
      "execution_count": null,
      "outputs": []
    },
    {
      "cell_type": "code",
      "source": [
        "lr, num_epochs, batch_size = 1.0, 10, 256\n",
        "train_iter, test_iter = load_fashion_mnist(batch_size)\n",
        "loss=nn.CrossEntropyLoss()\n",
        "optimizer=torch.optim.SGD(net.parameters(),lr)"
      ],
      "metadata": {
        "id": "9Lw9OkAyYW7v"
      },
      "execution_count": null,
      "outputs": []
    },
    {
      "cell_type": "code",
      "source": [
        "train(net, train_iter, test_iter,loss,optimizer, num_epochs, lr, try_gpu())"
      ],
      "metadata": {
        "colab": {
          "base_uri": "https://localhost:8080/"
        },
        "id": "nfEo_yHrYawv",
        "outputId": "208dbbbf-af49-4bae-b43c-ffd95160554c"
      },
      "execution_count": null,
      "outputs": [
        {
          "output_type": "stream",
          "name": "stdout",
          "text": [
            "training on cuda:0\n",
            "epcoch:1 loss 0.828, train acc 0.714,test acc 0.768\n",
            "epcoch:2 loss 0.451, train acc 0.830,test acc 0.840\n",
            "epcoch:3 loss 0.385, train acc 0.857,test acc 0.841\n",
            "epcoch:4 loss 0.353, train acc 0.869,test acc 0.843\n",
            "epcoch:5 loss 0.329, train acc 0.877,test acc 0.830\n",
            "epcoch:6 loss 0.312, train acc 0.884,test acc 0.866\n",
            "epcoch:7 loss 0.298, train acc 0.890,test acc 0.878\n",
            "epcoch:8 loss 0.288, train acc 0.893,test acc 0.869\n",
            "epcoch:9 loss 0.275, train acc 0.897,test acc 0.858\n",
            "epcoch:10 loss 0.266, train acc 0.900,test acc 0.880\n"
          ]
        }
      ]
    },
    {
      "cell_type": "code",
      "source": [
        "net[2].scale, net[2].shift,net[2].scale.shape, net[2].shift.shape"
      ],
      "metadata": {
        "colab": {
          "base_uri": "https://localhost:8080/"
        },
        "id": "_2UDaMKPeeyo",
        "outputId": "8d2fc9e7-a0bc-49cd-f1c3-7fb137c48e48"
      },
      "execution_count": null,
      "outputs": [
        {
          "output_type": "execute_result",
          "data": {
            "text/plain": [
              "(Parameter containing:\n",
              " tensor([[[[ 1.1882]],\n",
              " \n",
              "          [[ 0.5413]],\n",
              " \n",
              "          [[ 0.6186]],\n",
              " \n",
              "          [[-0.5357]],\n",
              " \n",
              "          [[ 2.2327]],\n",
              " \n",
              "          [[ 2.0171]]]], device='cuda:0', requires_grad=True),\n",
              " Parameter containing:\n",
              " tensor([[[[ 0.1562]],\n",
              " \n",
              "          [[ 0.0850]],\n",
              " \n",
              "          [[ 0.1506]],\n",
              " \n",
              "          [[-0.9512]],\n",
              " \n",
              "          [[-0.4452]],\n",
              " \n",
              "          [[ 0.2629]]]], device='cuda:0', requires_grad=True),\n",
              " torch.Size([1, 6, 1, 1]),\n",
              " torch.Size([1, 6, 1, 1]))"
            ]
          },
          "metadata": {},
          "execution_count": 47
        }
      ]
    },
    {
      "cell_type": "code",
      "source": [
        "net = nn.Sequential(\n",
        "    nn.Conv2d(1, 6, kernel_size=5),nn.Sigmoid(),nn.BatchNorm2d(6),\n",
        "    nn.AvgPool2d(kernel_size=2, stride=2),\n",
        "    nn.Conv2d(6, 16, kernel_size=5),nn.Sigmoid(),nn.BatchNorm2d(16),\n",
        "    nn.AvgPool2d(kernel_size=2, stride=2),\n",
        "    nn.Flatten(),\n",
        "    nn.Linear(256, 120),nn.Sigmoid(),nn.BatchNorm1d(120),\n",
        "    nn.Linear(120, 84), nn.Sigmoid(),nn.BatchNorm1d(84),\n",
        "    nn.Linear(84, 10))"
      ],
      "metadata": {
        "id": "cpNr_7vleqId"
      },
      "execution_count": null,
      "outputs": []
    },
    {
      "cell_type": "code",
      "source": [
        "lr, num_epochs, batch_size = 1.0, 10, 256\n",
        "train_iter, test_iter = load_fashion_mnist(batch_size)\n",
        "loss=nn.CrossEntropyLoss()\n",
        "optimizer=torch.optim.SGD(net.parameters(),lr)\n",
        "train(net, train_iter, test_iter,loss,optimizer, num_epochs, lr, try_gpu())"
      ],
      "metadata": {
        "colab": {
          "base_uri": "https://localhost:8080/"
        },
        "id": "ByhkuL7Fe3eo",
        "outputId": "6e4c8589-a7a5-4dce-896d-aa9059b74698"
      },
      "execution_count": null,
      "outputs": [
        {
          "output_type": "stream",
          "name": "stdout",
          "text": [
            "training on cuda:0\n",
            "epcoch:1 loss 0.750, train acc 0.733,test acc 0.811\n",
            "epcoch:2 loss 0.431, train acc 0.840,test acc 0.834\n",
            "epcoch:3 loss 0.371, train acc 0.862,test acc 0.829\n",
            "epcoch:4 loss 0.342, train acc 0.871,test acc 0.797\n",
            "epcoch:5 loss 0.321, train acc 0.880,test acc 0.841\n",
            "epcoch:6 loss 0.305, train acc 0.885,test acc 0.841\n",
            "epcoch:7 loss 0.294, train acc 0.889,test acc 0.870\n",
            "epcoch:8 loss 0.285, train acc 0.892,test acc 0.859\n",
            "epcoch:9 loss 0.275, train acc 0.896,test acc 0.879\n",
            "epcoch:10 loss 0.267, train acc 0.900,test acc 0.864\n"
          ]
        }
      ]
    },
    {
      "cell_type": "markdown",
      "source": [
        "##Batch Norm Before Activation"
      ],
      "metadata": {
        "id": "Kn8I9aX6cqCs"
      }
    },
    {
      "cell_type": "code",
      "source": [
        "net = nn.Sequential(\n",
        "    nn.Conv2d(1, 6, kernel_size=5),BatchNorm(6, num_dims=4),nn.Sigmoid(),\n",
        "    nn.AvgPool2d(kernel_size=2, stride=2),\n",
        "    nn.Conv2d(6, 16, kernel_size=5),BatchNorm(16, num_dims=4),nn.Sigmoid(),\n",
        "    nn.AvgPool2d(kernel_size=2, stride=2),\n",
        "    nn.Flatten(),\n",
        "    nn.Linear(16*4*4, 120),BatchNorm(120, num_dims=2),nn.Sigmoid(),\n",
        "    nn.Linear(120, 84),BatchNorm(84, num_dims=2),nn.Sigmoid(),\n",
        "    nn.Linear(84, 10))"
      ],
      "metadata": {
        "id": "9vtctEd3cjls"
      },
      "execution_count": null,
      "outputs": []
    },
    {
      "cell_type": "code",
      "source": [
        "lr, num_epochs, batch_size = 1.0, 10, 256\n",
        "train_iter, test_iter = load_fashion_mnist(batch_size)\n",
        "loss=nn.CrossEntropyLoss()\n",
        "optimizer=torch.optim.SGD(net.parameters(),lr)"
      ],
      "metadata": {
        "id": "Tky1y405c4NH"
      },
      "execution_count": null,
      "outputs": []
    },
    {
      "cell_type": "code",
      "source": [
        "train(net, train_iter, test_iter,loss,optimizer, num_epochs, lr, try_gpu())"
      ],
      "metadata": {
        "colab": {
          "base_uri": "https://localhost:8080/"
        },
        "id": "fw005hTcc5Vm",
        "outputId": "4b8a1adc-fe38-47d7-cd54-f2a854f967c8"
      },
      "execution_count": null,
      "outputs": [
        {
          "output_type": "stream",
          "name": "stdout",
          "text": [
            "training on cuda:0\n",
            "epcoch:1 loss 0.748, train acc 0.732,test acc 0.755\n",
            "epcoch:2 loss 0.485, train acc 0.822,test acc 0.759\n",
            "epcoch:3 loss 0.408, train acc 0.851,test acc 0.815\n",
            "epcoch:4 loss 0.371, train acc 0.865,test acc 0.846\n",
            "epcoch:5 loss 0.339, train acc 0.875,test acc 0.846\n",
            "epcoch:6 loss 0.321, train acc 0.882,test acc 0.835\n",
            "epcoch:7 loss 0.305, train acc 0.888,test acc 0.847\n",
            "epcoch:8 loss 0.295, train acc 0.891,test acc 0.871\n",
            "epcoch:9 loss 0.277, train acc 0.898,test acc 0.819\n",
            "epcoch:10 loss 0.273, train acc 0.899,test acc 0.864\n"
          ]
        }
      ]
    },
    {
      "cell_type": "code",
      "source": [
        "net[1].scale, net[1].shift"
      ],
      "metadata": {
        "colab": {
          "base_uri": "https://localhost:8080/"
        },
        "id": "H1gBcUeQemA-",
        "outputId": "5927aef6-377a-4e57-af7f-9439ac0f324c"
      },
      "execution_count": null,
      "outputs": [
        {
          "output_type": "execute_result",
          "data": {
            "text/plain": [
              "(Parameter containing:\n",
              " tensor([[[[2.6900]],\n",
              " \n",
              "          [[0.3682]],\n",
              " \n",
              "          [[2.1615]],\n",
              " \n",
              "          [[2.6361]],\n",
              " \n",
              "          [[2.7074]],\n",
              " \n",
              "          [[3.7171]]]], device='cuda:0', requires_grad=True),\n",
              " Parameter containing:\n",
              " tensor([[[[-2.7606]],\n",
              " \n",
              "          [[ 0.2276]],\n",
              " \n",
              "          [[-2.5669]],\n",
              " \n",
              "          [[ 3.0449]],\n",
              " \n",
              "          [[ 2.8688]],\n",
              " \n",
              "          [[-0.0693]]]], device='cuda:0', requires_grad=True))"
            ]
          },
          "metadata": {},
          "execution_count": 53
        }
      ]
    },
    {
      "cell_type": "code",
      "source": [
        "net = nn.Sequential(\n",
        "    nn.Conv2d(1, 6, kernel_size=5),\n",
        "    nn.BatchNorm2d(6), nn.Sigmoid(),\n",
        "    nn.AvgPool2d(kernel_size=2, stride=2),\n",
        "    nn.Conv2d(6, 16, kernel_size=5), nn.BatchNorm2d(16), nn.Sigmoid(),\n",
        "    nn.AvgPool2d(kernel_size=2, stride=2),\n",
        "    nn.Flatten(),\n",
        "    nn.Linear(256, 120),nn.BatchNorm1d(120),nn.Sigmoid(),\n",
        "    nn.Linear(120, 84), nn.BatchNorm1d(84), nn.Sigmoid(),\n",
        "    nn.Linear(84, 10))"
      ],
      "metadata": {
        "id": "fhuDweB2e6qB"
      },
      "execution_count": null,
      "outputs": []
    },
    {
      "cell_type": "code",
      "source": [
        "lr, num_epochs, batch_size = 1.0, 10, 256\n",
        "train_iter, test_iter = load_fashion_mnist(batch_size)\n",
        "loss=nn.CrossEntropyLoss()\n",
        "optimizer=torch.optim.SGD(net.parameters(),lr)\n",
        "train(net, train_iter, test_iter,loss,optimizer, num_epochs, lr, try_gpu())"
      ],
      "metadata": {
        "colab": {
          "base_uri": "https://localhost:8080/"
        },
        "id": "sPyabwnpe8WX",
        "outputId": "0c4c5c15-e1c5-4683-bfbc-911458c336b8"
      },
      "execution_count": null,
      "outputs": [
        {
          "output_type": "stream",
          "name": "stdout",
          "text": [
            "training on cuda:0\n",
            "epcoch:1 loss 0.741, train acc 0.732,test acc 0.751\n",
            "epcoch:2 loss 0.483, train acc 0.824,test acc 0.807\n",
            "epcoch:3 loss 0.417, train acc 0.848,test acc 0.819\n",
            "epcoch:4 loss 0.376, train acc 0.861,test acc 0.836\n",
            "epcoch:5 loss 0.346, train acc 0.873,test acc 0.804\n",
            "epcoch:6 loss 0.325, train acc 0.882,test acc 0.858\n",
            "epcoch:7 loss 0.312, train acc 0.885,test acc 0.846\n",
            "epcoch:8 loss 0.299, train acc 0.890,test acc 0.851\n",
            "epcoch:9 loss 0.288, train acc 0.893,test acc 0.817\n",
            "epcoch:10 loss 0.282, train acc 0.896,test acc 0.870\n"
          ]
        }
      ]
    },
    {
      "cell_type": "markdown",
      "source": [
        "# Resnet\n",
        "\n",
        "![image.png](data:image/png;base64,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)"
      ],
      "metadata": {
        "id": "m4MUiTEoxIuW"
      }
    },
    {
      "cell_type": "markdown",
      "source": [
        "The residual block has two 3 × 3 con- volutional layers with the same number of output channels. Each convolutional layer is followed by a batch normalization layer and a ReLU activation function. Then, we skip these two convolution operations and add the input directly before the final ReLU activation function. This kind of design requires that the output of the two convolutional layers has to be of the same shape as the input, so that they can be added together. If we want to change the number of channels, we need\n",
        "to introduce an additional 1 × 1 convolutional layer to transform the input into the desired shape for the addition operation.\n",
        "\n",
        "**This code generates two types of networks: one where we add the input to the output before ap- plying the ReLU nonlinearity whenever use_1x1conv=False, and one where use_1X1conv=True so that we adjust channels and resolution**"
      ],
      "metadata": {
        "id": "5rHcUm7AxTAH"
      }
    },
    {
      "cell_type": "code",
      "source": [
        "from torch.nn import functional as F\n",
        "class Residual(nn.Module):\n",
        "  def __init__(self,in_channels,out_channels,use_1x1conv=False,strides=1):\n",
        "    super().__init__()\n",
        "    self.conv1=nn.Conv2d(in_channels,out_channels,kernel_size=3,padding=1,stride=strides)\n",
        "    self.conv2=nn.Conv2d(out_channels,out_channels,kernel_size=3,padding=1)\n",
        "\n",
        "    if use_1x1conv:\n",
        "      self.conv3=nn.Conv2d(in_channels,out_channels,kernel_size=1,stride=strides)\n",
        "    else:\n",
        "      self.conv3=None\n",
        "    \n",
        "    self.bn1 = nn.BatchNorm2d(out_channels)\n",
        "    self.bn2 = nn.BatchNorm2d(out_channels)\n",
        "\n",
        "  def forward(self,X):\n",
        "    Y=self.bn1(F.relu(self.conv1(X)))\n",
        "    Y=self.conv2(Y)\n",
        "    if self.conv3:\n",
        "      X=self.conv3(X)\n",
        "    Y+=X\n",
        "    return self.bn2(F.relu(Y))\n"
      ],
      "metadata": {
        "id": "mV22i_LWxSWL"
      },
      "execution_count": null,
      "outputs": []
    },
    {
      "cell_type": "code",
      "source": [
        "blk = Residual(3,3)\n",
        "X = torch.rand(4, 3, 6, 6) \n",
        "Y = blk(X)\n",
        "Y.shape"
      ],
      "metadata": {
        "colab": {
          "base_uri": "https://localhost:8080/"
        },
        "id": "KWow72wNxKUg",
        "outputId": "351ff119-495f-4e08-a706-637f4e25cb40"
      },
      "execution_count": null,
      "outputs": [
        {
          "output_type": "execute_result",
          "data": {
            "text/plain": [
              "torch.Size([4, 3, 6, 6])"
            ]
          },
          "metadata": {},
          "execution_count": 21
        }
      ]
    },
    {
      "cell_type": "code",
      "source": [
        "#We also have the option to halve the output height and width while increasing the number of\n",
        "#output channels.\n",
        "blk = Residual(3,6, use_1x1conv=True, strides=2) \n",
        "blk(X).shape"
      ],
      "metadata": {
        "colab": {
          "base_uri": "https://localhost:8080/"
        },
        "id": "nPI6yf_szp4Z",
        "outputId": "22371619-c19d-4e90-c9ce-8fe7b76cb5fe"
      },
      "execution_count": null,
      "outputs": [
        {
          "output_type": "execute_result",
          "data": {
            "text/plain": [
              "torch.Size([4, 6, 3, 3])"
            ]
          },
          "metadata": {},
          "execution_count": 22
        }
      ]
    },
    {
      "cell_type": "markdown",
      "source": [
        "The first two layers of ResNet are the same as those of the GoogLeNet we described before: the 7×7 convolutional layer with 64 output channels and a stride of 2 is followed by the 3×3 maximum pooling layer with a stride of 2. The difference is the batch normalization layer added after each ReLU layer in ResNet.ResNet uses four modules made up of residual blocks, each of which uses several residual blocks with the same number of output channels. The number of channels in the first module is the same as the number of input channels. Since a maximum pooling layer with a stride of 2 has already been used, it is not necessary to reduce the height and width. In the first residual block for each of the subsequent modules, the number of channels is doubled compared with that of the previous module, and the height and width are halved."
      ],
      "metadata": {
        "id": "EQxG0pGI1CwC"
      }
    },
    {
      "cell_type": "code",
      "source": [
        "b1 = nn.Sequential(nn.Conv2d(1, 64, kernel_size=7, stride=2, padding=3),nn.ReLU(),nn.BatchNorm2d(64),\n",
        "                  nn.MaxPool2d(kernel_size=3, stride=2, padding=1)\n",
        "                  )\n"
      ],
      "metadata": {
        "id": "88WZSmHA02r_"
      },
      "execution_count": null,
      "outputs": []
    },
    {
      "cell_type": "code",
      "source": [
        "def resnet_block(input_channels, num_channels, num_residuals, first_block=False):\n",
        "  blk = []\n",
        "  for i in range(num_residuals):\n",
        "    if i == 0 and not first_block: \n",
        "      blk.append(Residual(input_channels, num_channels,use_1x1conv=True, strides=2))\n",
        "    else:\n",
        "      blk.append(Residual(num_channels, num_channels))\n",
        "  return blk"
      ],
      "metadata": {
        "id": "ot3m_jod1Y8j"
      },
      "execution_count": null,
      "outputs": []
    },
    {
      "cell_type": "code",
      "source": [
        "b2 = nn.Sequential(*resnet_block(64, 64, 2, first_block=True)) #2X2 conv layers\n",
        "b3 = nn.Sequential(*resnet_block(64, 128, 2))  #2 X 3 conv layers\n",
        "b4 = nn.Sequential(*resnet_block(128, 256, 2)) #2 X 3 conv layers\n",
        "b5 = nn.Sequential(*resnet_block(256, 512, 2)) #2 X 3 conv layers"
      ],
      "metadata": {
        "id": "qS1w8WaL2amp"
      },
      "execution_count": null,
      "outputs": []
    },
    {
      "cell_type": "code",
      "source": [
        "net = nn.Sequential(b1, b2, b3, b4, b5, nn.AdaptiveAvgPool2d((1,1)),nn.Flatten(), nn.Linear(512, 10))"
      ],
      "metadata": {
        "id": "TcB2kVO13FR2"
      },
      "execution_count": null,
      "outputs": []
    },
    {
      "cell_type": "code",
      "source": [
        "X = torch.rand(size=(1, 1, 224, 224)) \n",
        "for layer in net:\n",
        "  X = layer(X)\n",
        "  print(layer.__class__.__name__,'output shape:\\t', X.shape)"
      ],
      "metadata": {
        "colab": {
          "base_uri": "https://localhost:8080/"
        },
        "id": "Sefd9_YB3Tdj",
        "outputId": "3e07a3ac-d3dd-4562-e2ea-2ce825e55b3e"
      },
      "execution_count": null,
      "outputs": [
        {
          "output_type": "stream",
          "name": "stdout",
          "text": [
            "Sequential output shape:\t torch.Size([1, 64, 56, 56])\n",
            "Sequential output shape:\t torch.Size([1, 64, 56, 56])\n",
            "Sequential output shape:\t torch.Size([1, 128, 28, 28])\n",
            "Sequential output shape:\t torch.Size([1, 256, 14, 14])\n",
            "Sequential output shape:\t torch.Size([1, 512, 7, 7])\n",
            "AdaptiveAvgPool2d output shape:\t torch.Size([1, 512, 1, 1])\n",
            "Flatten output shape:\t torch.Size([1, 512])\n",
            "Linear output shape:\t torch.Size([1, 10])\n"
          ]
        }
      ]
    },
    {
      "cell_type": "code",
      "source": [
        "lr, num_epochs, batch_size = 0.05, 7, 256\n",
        "train_iter, test_iter = load_fashion_mnist(batch_size, resize=96)\n",
        "loss=nn.CrossEntropyLoss()\n",
        "optimizer=torch.optim.SGD(net.parameters(),lr)"
      ],
      "metadata": {
        "colab": {
          "base_uri": "https://localhost:8080/",
          "height": 423,
          "referenced_widgets": [
            "70e75721e91940e7901b1a93bdcf7856",
            "ae909749df8c4446bd413ac66796aeeb",
            "09b0466c6e62413c9b6cec8e12d65aaa",
            "4da9c97f12ff40a9a6800be035e4fba6",
            "927a4b777b254785b4542e2b28245b53",
            "d8b13844b63045cda79f7d2f2b243a42",
            "51398103410645909b57051e68249bd0",
            "28f234234aa1471ba44f545b1efbfbb3",
            "904380572e0a416486688fbd4bb8a4d5",
            "f7f358cadd3e49b79efdca062ac9dc3e",
            "30419f1f5f4e4e99a1211732fb99933e",
            "4ad9212c98244ba7910ac6ad8aa9fe5b",
            "0f9e90cd791f45b994bb743b1859f60d",
            "ebb01311b97b49fa9d8a82043bbf6168",
            "313b5f2d199e43818a35b3c5e10a3a1e",
            "c2326c2f56474f619fd242ea34610c50",
            "59f84936b9fd41ea9be9742137f5a16d",
            "d0b761af025c483c98e37333ba765776",
            "e318ac18466a4bbaa33ce377941b6a6d",
            "9e9b48fc5a2247bd8f4c947e3ae2e3bf",
            "3df67c6809434dbb82cb5992398d1142",
            "88e488ec35a64db481dee5e4290fca7f",
            "235a68f6d2c146d6b5de0de3dc37fb1d",
            "f025c461b41e40fdbdac0e6583e610f6",
            "8307bfd7ca5645ed8a83bf5f9dcbfc4f",
            "d95400c9ef3340719c1858c5b0ab71a4",
            "8c7c8bff59664d5791172b9519d83c57",
            "3f942ecb2baa40e2a523d3110bbf268a",
            "8a1605fb074c497f907d83a18a01052b",
            "24a843425cb84d658f8d0e5fe99e5543",
            "fc9f845383fa407da713d6bb7791a684",
            "933b380f1fd740ec89a0ced652edb461",
            "ad7dade3ac5c4f20bea87f93dcc5894c",
            "ea1ab81de76e4cf38ed6b9bc37d6d8d6",
            "9e68d40c24434c398286fceb5754dc02",
            "bd46c7e81e3d430e9bf79b02df8689ee",
            "244795c43e154ae0b153bd3ec721a5a0",
            "2d0f9ba7776c496ba3cc5bf864cb33c6",
            "85e648a7dd344dd6b1a47b80a658512a",
            "1bbc483cbf65427c9bb05e701ec5b34c",
            "3795b0916a354ba7aebd0b270708d25d",
            "607172d1ab39402882cfb02b1982b37a",
            "87bbc21549ab45cab7d6ccdbb9d40cf3",
            "ac42fa76d20e4229a147bcd331aff570"
          ]
        },
        "id": "QzVm2v9H3LP4",
        "outputId": "99ef9d10-26c7-4acf-cc45-23f3ea5084df"
      },
      "execution_count": null,
      "outputs": [
        {
          "output_type": "stream",
          "name": "stdout",
          "text": [
            "Downloading http://fashion-mnist.s3-website.eu-central-1.amazonaws.com/train-images-idx3-ubyte.gz\n",
            "Downloading http://fashion-mnist.s3-website.eu-central-1.amazonaws.com/train-images-idx3-ubyte.gz to ../data/FashionMNIST/raw/train-images-idx3-ubyte.gz\n"
          ]
        },
        {
          "output_type": "display_data",
          "data": {
            "text/plain": [
              "  0%|          | 0/26421880 [00:00<?, ?it/s]"
            ],
            "application/vnd.jupyter.widget-view+json": {
              "version_major": 2,
              "version_minor": 0,
              "model_id": "70e75721e91940e7901b1a93bdcf7856"
            }
          },
          "metadata": {}
        },
        {
          "output_type": "stream",
          "name": "stdout",
          "text": [
            "Extracting ../data/FashionMNIST/raw/train-images-idx3-ubyte.gz to ../data/FashionMNIST/raw\n",
            "\n",
            "Downloading http://fashion-mnist.s3-website.eu-central-1.amazonaws.com/train-labels-idx1-ubyte.gz\n",
            "Downloading http://fashion-mnist.s3-website.eu-central-1.amazonaws.com/train-labels-idx1-ubyte.gz to ../data/FashionMNIST/raw/train-labels-idx1-ubyte.gz\n"
          ]
        },
        {
          "output_type": "display_data",
          "data": {
            "text/plain": [
              "  0%|          | 0/29515 [00:00<?, ?it/s]"
            ],
            "application/vnd.jupyter.widget-view+json": {
              "version_major": 2,
              "version_minor": 0,
              "model_id": "4ad9212c98244ba7910ac6ad8aa9fe5b"
            }
          },
          "metadata": {}
        },
        {
          "output_type": "stream",
          "name": "stdout",
          "text": [
            "Extracting ../data/FashionMNIST/raw/train-labels-idx1-ubyte.gz to ../data/FashionMNIST/raw\n",
            "\n",
            "Downloading http://fashion-mnist.s3-website.eu-central-1.amazonaws.com/t10k-images-idx3-ubyte.gz\n",
            "Downloading http://fashion-mnist.s3-website.eu-central-1.amazonaws.com/t10k-images-idx3-ubyte.gz to ../data/FashionMNIST/raw/t10k-images-idx3-ubyte.gz\n"
          ]
        },
        {
          "output_type": "display_data",
          "data": {
            "text/plain": [
              "  0%|          | 0/4422102 [00:00<?, ?it/s]"
            ],
            "application/vnd.jupyter.widget-view+json": {
              "version_major": 2,
              "version_minor": 0,
              "model_id": "235a68f6d2c146d6b5de0de3dc37fb1d"
            }
          },
          "metadata": {}
        },
        {
          "output_type": "stream",
          "name": "stdout",
          "text": [
            "Extracting ../data/FashionMNIST/raw/t10k-images-idx3-ubyte.gz to ../data/FashionMNIST/raw\n",
            "\n",
            "Downloading http://fashion-mnist.s3-website.eu-central-1.amazonaws.com/t10k-labels-idx1-ubyte.gz\n",
            "Downloading http://fashion-mnist.s3-website.eu-central-1.amazonaws.com/t10k-labels-idx1-ubyte.gz to ../data/FashionMNIST/raw/t10k-labels-idx1-ubyte.gz\n"
          ]
        },
        {
          "output_type": "display_data",
          "data": {
            "text/plain": [
              "  0%|          | 0/5148 [00:00<?, ?it/s]"
            ],
            "application/vnd.jupyter.widget-view+json": {
              "version_major": 2,
              "version_minor": 0,
              "model_id": "ea1ab81de76e4cf38ed6b9bc37d6d8d6"
            }
          },
          "metadata": {}
        },
        {
          "output_type": "stream",
          "name": "stdout",
          "text": [
            "Extracting ../data/FashionMNIST/raw/t10k-labels-idx1-ubyte.gz to ../data/FashionMNIST/raw\n",
            "\n"
          ]
        }
      ]
    },
    {
      "cell_type": "code",
      "source": [
        "train(net, train_iter, test_iter,loss,optimizer, num_epochs, lr, try_gpu())"
      ],
      "metadata": {
        "colab": {
          "base_uri": "https://localhost:8080/"
        },
        "id": "ZsNALvpr3PQy",
        "outputId": "b2284544-fc25-4852-8f69-ed40becb63e5"
      },
      "execution_count": null,
      "outputs": [
        {
          "output_type": "stream",
          "name": "stdout",
          "text": [
            "training on cuda:0\n",
            "epcoch:1 loss 0.431, train acc 0.846,test acc 0.837\n",
            "epcoch:2 loss 0.255, train acc 0.906,test acc 0.867\n",
            "epcoch:3 loss 0.193, train acc 0.929,test acc 0.901\n",
            "epcoch:4 loss 0.149, train acc 0.946,test acc 0.904\n",
            "epcoch:5 loss 0.111, train acc 0.962,test acc 0.907\n",
            "epcoch:6 loss 0.078, train acc 0.974,test acc 0.857\n",
            "epcoch:7 loss 0.052, train acc 0.983,test acc 0.914\n"
          ]
        }
      ]
    },
    {
      "cell_type": "markdown",
      "source": [
        "# DenseNet \n",
        "\n",
        "![image.png](data:image/png;base64,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)"
      ],
      "metadata": {
        "id": "evJxNnL_rWiD"
      }
    },
    {
      "cell_type": "markdown",
      "source": [
        "![image.png](data:image/png;base64,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)"
      ],
      "metadata": {
        "id": "xSim8FKBrt-c"
      }
    },
    {
      "cell_type": "code",
      "source": [
        "def conv_block(input_channels, num_channels): \n",
        "  return nn.Sequential(nn.ReLU(),nn.BatchNorm2d(input_channels),nn.Conv2d(input_channels, num_channels, kernel_size=3, padding=1))"
      ],
      "metadata": {
        "id": "Ii0jK-cqrgV0"
      },
      "execution_count": 9,
      "outputs": []
    },
    {
      "cell_type": "code",
      "source": [
        "layer = []\n",
        "\n",
        "for i in range(2):\n",
        "  layer.append(conv_block(10 * i + 3, 10))\n",
        "\n",
        "net = nn.Sequential(*layer)\n",
        "net"
      ],
      "metadata": {
        "colab": {
          "base_uri": "https://localhost:8080/"
        },
        "id": "Yir_exhuswje",
        "outputId": "540d18ad-8a69-4de9-8de6-57ce5d4daeb6"
      },
      "execution_count": 10,
      "outputs": [
        {
          "output_type": "execute_result",
          "data": {
            "text/plain": [
              "Sequential(\n",
              "  (0): Sequential(\n",
              "    (0): ReLU()\n",
              "    (1): BatchNorm2d(3, eps=1e-05, momentum=0.1, affine=True, track_running_stats=True)\n",
              "    (2): Conv2d(3, 10, kernel_size=(3, 3), stride=(1, 1), padding=(1, 1))\n",
              "  )\n",
              "  (1): Sequential(\n",
              "    (0): ReLU()\n",
              "    (1): BatchNorm2d(13, eps=1e-05, momentum=0.1, affine=True, track_running_stats=True)\n",
              "    (2): Conv2d(13, 10, kernel_size=(3, 3), stride=(1, 1), padding=(1, 1))\n",
              "  )\n",
              ")"
            ]
          },
          "metadata": {},
          "execution_count": 10
        }
      ]
    },
    {
      "cell_type": "markdown",
      "source": [
        "When using an input with 3 channels, we will get an output with 3+2×10 = 23 channels. The number of convolution block channels controls the growth in the number of output channels relative to the number of input channels. This is also referred to as the growth rate.\n"
      ],
      "metadata": {
        "id": "c4xT2rCcwJIe"
      }
    },
    {
      "cell_type": "code",
      "source": [
        "X = torch.randn(4, 3, 8, 8)\n",
        "for blk in net:\n",
        "  Y = blk(X)\n",
        "  # Concatenate the input and output of each block on the channel # dimension\n",
        "  print(X.shape,Y.shape)\n",
        "  X = torch.cat((X, Y), dim=1)\n",
        "  print(layer.__class__.__name__,'output shape:\\t',X.shape)"
      ],
      "metadata": {
        "colab": {
          "base_uri": "https://localhost:8080/"
        },
        "id": "Lo2J1MGqtwyB",
        "outputId": "9526468a-52ba-4e0e-dc29-e1444659a9bf"
      },
      "execution_count": 13,
      "outputs": [
        {
          "output_type": "stream",
          "name": "stdout",
          "text": [
            "torch.Size([4, 3, 8, 8]) torch.Size([4, 10, 8, 8])\n",
            "list output shape:\t torch.Size([4, 13, 8, 8])\n",
            "torch.Size([4, 13, 8, 8]) torch.Size([4, 10, 8, 8])\n",
            "list output shape:\t torch.Size([4, 23, 8, 8])\n"
          ]
        }
      ]
    },
    {
      "cell_type": "code",
      "source": [
        "class DenseBlock(nn.Module):\n",
        "  def __init__(self, num_convs, input_channels, out_channels):\n",
        "    super(DenseBlock, self).__init__()\n",
        "    layer=[]\n",
        "    for i in range(num_convs):\n",
        "      layer.append(conv_block(out_channels*i+input_channels,out_channels))\n",
        "    self.net=nn.Sequential(*layer)\n",
        "\n",
        "  def forward(self,X):\n",
        "    for blk in self.net:\n",
        "      Y=blk(X)\n",
        "      # Concatenate the input and output of each block on the channel dimension\n",
        "      X = torch.cat((X, Y), dim=1)\n",
        "    return X\n"
      ],
      "metadata": {
        "id": "iGdRObJowiZK"
      },
      "execution_count": 14,
      "outputs": []
    },
    {
      "cell_type": "markdown",
      "source": [
        "A transition layer is used to control the complexity of the model. It reduces the number of channels by using the 1 × 1 convolutional layer and halves the height and width of the average pooling layer with a stride of 2, further reducing the complexity of the model."
      ],
      "metadata": {
        "id": "BpTAwiz00QtE"
      }
    },
    {
      "cell_type": "code",
      "source": [
        "def transition_block(input_channels, out_channels):\n",
        "  return nn.Sequential(\n",
        "      nn.ReLU(),nn.BatchNorm2d(input_channels),nn.Conv2d(input_channels, out_channels, kernel_size=1),\n",
        "      nn.AvgPool2d(kernel_size=2, stride=2)\n",
        "      )"
      ],
      "metadata": {
        "id": "3iLb3miT0NXG"
      },
      "execution_count": 15,
      "outputs": []
    },
    {
      "cell_type": "code",
      "source": [
        "b1 = nn.Sequential(\n",
        "    nn.Conv2d(1, 64, kernel_size=7, stride=2, padding=3), nn.ReLU(),nn.BatchNorm2d(64), \n",
        "    nn.MaxPool2d(kernel_size=3, stride=2, padding=1)\n",
        "    )"
      ],
      "metadata": {
        "id": "Csfec8td0gHV"
      },
      "execution_count": 16,
      "outputs": []
    },
    {
      "cell_type": "markdown",
      "source": [
        "Then, similar to the four modules made up of residual blocks that ResNet uses, DenseNet uses four dense blocks. Similar to ResNet, we can set the number of convolutional layers used in each dense block. Here, we set it to 4, consistent with the ResNet-18 model in Section 7.6. Furthermore, we set the number of channels (i.e., growth rate) for the convolutional layers in the dense block to 32, so 128 channels will be added to each dense block.\n",
        "In ResNet, the height and width are reduced between each module by a residual block with a stride of 2. Here, we use the transition layer to halve the height and width and halve the number of channels."
      ],
      "metadata": {
        "id": "CRRaqvdD06C7"
      }
    },
    {
      "cell_type": "code",
      "source": [
        "# `num_channels`: the current number of channels\n",
        "num_channels, growth_rate = 64, 32 \n",
        "num_convs_in_dense_blocks = [4, 4, 4, 4]\n",
        "blks = []\n",
        "for i, num_convs in enumerate(num_convs_in_dense_blocks):\n",
        "  print(num_channels)\n",
        "  blks.append(DenseBlock(num_convs, num_channels, growth_rate))\n",
        "  # This is the number of output channels in the previous dense block \n",
        "  num_channels += num_convs * growth_rate\n",
        "  print(num_channels)\n",
        "  # A transition layer that halves the number of channels is added between # the dense blocks\n",
        "  if i != len(num_convs_in_dense_blocks) - 1:\n",
        "    blks.append(transition_block(num_channels, num_channels // 2)) \n",
        "    num_channels = num_channels // 2\n",
        "    print(num_channels)\n",
        "  print()\n",
        "\n"
      ],
      "metadata": {
        "colab": {
          "base_uri": "https://localhost:8080/"
        },
        "id": "QU8joJ3E01SH",
        "outputId": "0e59d577-df77-45a5-ffd4-f2768efcd3fd"
      },
      "execution_count": 23,
      "outputs": [
        {
          "output_type": "stream",
          "name": "stdout",
          "text": [
            "64\n",
            "192\n",
            "96\n",
            "\n",
            "96\n",
            "224\n",
            "112\n",
            "\n",
            "112\n",
            "240\n",
            "120\n",
            "\n",
            "120\n",
            "248\n",
            "\n"
          ]
        }
      ]
    },
    {
      "cell_type": "code",
      "source": [
        "net = nn.Sequential( b1, *blks,\n",
        "                    nn.ReLU(),nn.BatchNorm2d(num_channels),\n",
        "                    nn.AdaptiveMaxPool2d((1, 1)), nn.Flatten(),\n",
        "                    nn.Linear(num_channels, 10))\n",
        "\n",
        "net"
      ],
      "metadata": {
        "id": "FDSvE8XP2AAO"
      },
      "execution_count": null,
      "outputs": []
    },
    {
      "cell_type": "code",
      "source": [
        "lr, num_epochs, batch_size = 0.1, 10, 256\n",
        "train_iter, test_iter = load_fashion_mnist(batch_size, resize=96) \n",
        "loss=nn.CrossEntropyLoss()\n",
        "optimizer=torch.optim.SGD(net.parameters(),lr)\n",
        "train(net, train_iter, test_iter,loss,optimizer, num_epochs, lr, try_gpu())"
      ],
      "metadata": {
        "colab": {
          "base_uri": "https://localhost:8080/"
        },
        "id": "FjUwdEEl2w90",
        "outputId": "47038c09-529e-44d1-e894-761135002e22"
      },
      "execution_count": 25,
      "outputs": [
        {
          "output_type": "stream",
          "name": "stdout",
          "text": [
            "training on cuda:0\n",
            "epcoch:1 loss 0.798, train acc 0.777,test acc 0.838\n",
            "epcoch:2 loss 0.339, train acc 0.874,test acc 0.849\n",
            "epcoch:3 loss 0.281, train acc 0.896,test acc 0.872\n",
            "epcoch:4 loss 0.249, train acc 0.908,test acc 0.827\n",
            "epcoch:5 loss 0.224, train acc 0.917,test acc 0.803\n",
            "epcoch:6 loss 0.207, train acc 0.924,test acc 0.706\n",
            "epcoch:7 loss 0.193, train acc 0.929,test acc 0.899\n",
            "epcoch:8 loss 0.177, train acc 0.936,test acc 0.878\n",
            "epcoch:9 loss 0.167, train acc 0.939,test acc 0.917\n",
            "epcoch:10 loss 0.155, train acc 0.944,test acc 0.731\n"
          ]
        }
      ]
    }
  ]
}