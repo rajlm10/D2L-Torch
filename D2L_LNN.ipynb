{
  "nbformat": 4,
  "nbformat_minor": 0,
  "metadata": {
    "colab": {
      "name": "D2L_LNN.ipynb",
      "provenance": [],
      "authorship_tag": "ABX9TyOnuIEhWL7ot0EdyP4eVi/6",
      "include_colab_link": true
    },
    "kernelspec": {
      "name": "python3",
      "display_name": "Python 3"
    },
    "language_info": {
      "name": "python"
    }
  },
  "cells": [
    {
      "cell_type": "markdown",
      "metadata": {
        "id": "view-in-github",
        "colab_type": "text"
      },
      "source": [
        "<a href=\"https://colab.research.google.com/github/rajlm10/D2L-Torch/blob/main/D2L_LNN.ipynb\" target=\"_parent\"><img src=\"https://colab.research.google.com/assets/colab-badge.svg\" alt=\"Open In Colab\"/></a>"
      ]
    },
    {
      "cell_type": "code",
      "execution_count": 1,
      "metadata": {
        "id": "JGyE2GSxRQg5"
      },
      "outputs": [],
      "source": [
        "import torch\n",
        "from torch.utils import data\n",
        "import numpy as np"
      ]
    },
    {
      "cell_type": "code",
      "source": [
        "def generate_data(w,b,samples):\n",
        "  \"\"\"Generate y = Xw + b +  Gaussian noise.\"\"\"\n",
        "  X=torch.normal(0,1,(samples,len(w)))\n",
        "  y=torch.matmul(X,w)+ b\n",
        "  y+=torch.normal(0,0.01,y.shape)\n",
        "  return X, y.reshape(-1,1)\n"
      ],
      "metadata": {
        "id": "7rBDoxxvRg02"
      },
      "execution_count": 2,
      "outputs": []
    },
    {
      "cell_type": "code",
      "source": [
        "true_w = torch.tensor([2, -3.4])\n",
        "true_b = 4.2\n",
        "features, labels = generate_data(true_w, true_b, 1000)"
      ],
      "metadata": {
        "id": "CXuN6MkqSNjw"
      },
      "execution_count": 4,
      "outputs": []
    },
    {
      "cell_type": "code",
      "source": [
        "def create_iterator(dataset,batch_size,is_train=True):\n",
        "  dataset=data.TensorDataset(*dataset)\n",
        "\n",
        "  return data.DataLoader(dataset,batch_size,shuffle=is_train)"
      ],
      "metadata": {
        "id": "hLS0ti_jSZfC"
      },
      "execution_count": 22,
      "outputs": []
    },
    {
      "cell_type": "code",
      "source": [
        "data_iter=create_iterator((features,labels),10,True)\n",
        "next(iter(data_iter))"
      ],
      "metadata": {
        "colab": {
          "base_uri": "https://localhost:8080/"
        },
        "id": "GBjqrN8yS1OG",
        "outputId": "d01bb5cc-06c0-412f-d470-43564dc7da1a"
      },
      "execution_count": 24,
      "outputs": [
        {
          "output_type": "execute_result",
          "data": {
            "text/plain": [
              "[tensor([[-0.2900,  1.5004],\n",
              "         [-0.5602,  0.1621],\n",
              "         [ 0.6776,  0.1689],\n",
              "         [ 0.2050, -0.4512],\n",
              "         [ 1.5926,  2.4947],\n",
              "         [ 1.0554,  0.6057],\n",
              "         [-0.9335, -0.0710],\n",
              "         [-1.1466,  0.0096],\n",
              "         [-0.0272,  0.0818],\n",
              "         [ 0.7346,  0.0961]]), tensor([[-1.4670],\n",
              "         [ 2.5116],\n",
              "         [ 4.9676],\n",
              "         [ 6.1549],\n",
              "         [-1.0749],\n",
              "         [ 4.2580],\n",
              "         [ 2.5624],\n",
              "         [ 1.8775],\n",
              "         [ 3.8652],\n",
              "         [ 5.3483]])]"
            ]
          },
          "metadata": {},
          "execution_count": 24
        }
      ]
    },
    {
      "cell_type": "code",
      "source": [
        "data_iter"
      ],
      "metadata": {
        "colab": {
          "base_uri": "https://localhost:8080/"
        },
        "id": "mg_Pl63kTDGX",
        "outputId": "3c9c618b-6502-4729-d6b2-9d78959d06e3"
      },
      "execution_count": 25,
      "outputs": [
        {
          "output_type": "execute_result",
          "data": {
            "text/plain": [
              "<torch.utils.data.dataloader.DataLoader at 0x7f2071cee190>"
            ]
          },
          "metadata": {},
          "execution_count": 25
        }
      ]
    },
    {
      "cell_type": "code",
      "source": [
        "features.shape,labels.shape"
      ],
      "metadata": {
        "colab": {
          "base_uri": "https://localhost:8080/"
        },
        "id": "jlU0avdEUIim",
        "outputId": "49a53a1e-4237-48bf-9f78-cfdb60f7b682"
      },
      "execution_count": 27,
      "outputs": [
        {
          "output_type": "execute_result",
          "data": {
            "text/plain": [
              "(torch.Size([1000, 2]), torch.Size([1000, 1]))"
            ]
          },
          "metadata": {},
          "execution_count": 27
        }
      ]
    },
    {
      "cell_type": "code",
      "source": [
        "from torch import nn\n",
        "\n",
        "net=nn.Sequential(nn.Linear(features.shape[1],labels.shape[1]))"
      ],
      "metadata": {
        "id": "WZHA8B87T4MO"
      },
      "execution_count": 28,
      "outputs": []
    },
    {
      "cell_type": "code",
      "source": [
        "#Initialize model params\n",
        "net[0]"
      ],
      "metadata": {
        "colab": {
          "base_uri": "https://localhost:8080/"
        },
        "id": "RRMq_1ZNUMsd",
        "outputId": "b18d017b-f039-4539-fdbd-83b1027687d4"
      },
      "execution_count": 29,
      "outputs": [
        {
          "output_type": "execute_result",
          "data": {
            "text/plain": [
              "Linear(in_features=2, out_features=1, bias=True)"
            ]
          },
          "metadata": {},
          "execution_count": 29
        }
      ]
    },
    {
      "cell_type": "code",
      "source": [
        "net[0].weight,net[0].bias"
      ],
      "metadata": {
        "colab": {
          "base_uri": "https://localhost:8080/"
        },
        "id": "-JS6F0F0US9z",
        "outputId": "73ef1e68-8943-419a-a176-f50d783c7d0b"
      },
      "execution_count": 31,
      "outputs": [
        {
          "output_type": "execute_result",
          "data": {
            "text/plain": [
              "(Parameter containing:\n",
              " tensor([[0.1584, 0.0882]], requires_grad=True), Parameter containing:\n",
              " tensor([0.0942], requires_grad=True))"
            ]
          },
          "metadata": {},
          "execution_count": 31
        }
      ]
    },
    {
      "cell_type": "code",
      "source": [
        "net[0].weight.data.normal_(0, 0.01) \n",
        "net[0].bias.data.fill_(0)\n",
        "net[0].weight,net[0].bias"
      ],
      "metadata": {
        "colab": {
          "base_uri": "https://localhost:8080/"
        },
        "id": "lfulGnZpUZAK",
        "outputId": "d032da88-f728-4aa8-ef46-55b03111ac14"
      },
      "execution_count": 32,
      "outputs": [
        {
          "output_type": "execute_result",
          "data": {
            "text/plain": [
              "(Parameter containing:\n",
              " tensor([[-0.0020,  0.0064]], requires_grad=True), Parameter containing:\n",
              " tensor([0.], requires_grad=True))"
            ]
          },
          "metadata": {},
          "execution_count": 32
        }
      ]
    },
    {
      "cell_type": "code",
      "source": [
        "net.parameters()"
      ],
      "metadata": {
        "colab": {
          "base_uri": "https://localhost:8080/"
        },
        "id": "_zqajPzqUpOv",
        "outputId": "42e53bab-ed76-4c0d-a82a-b75c209ca895"
      },
      "execution_count": 33,
      "outputs": [
        {
          "output_type": "execute_result",
          "data": {
            "text/plain": [
              "<generator object Module.parameters at 0x7f2071ae05d0>"
            ]
          },
          "metadata": {},
          "execution_count": 33
        }
      ]
    },
    {
      "cell_type": "code",
      "source": [
        "loss=nn.MSELoss()\n",
        "\n",
        "trainer=torch.optim.SGD(net.parameters(),lr=0.03)"
      ],
      "metadata": {
        "id": "KDtrsWX6UhHv"
      },
      "execution_count": 34,
      "outputs": []
    },
    {
      "cell_type": "code",
      "source": [
        "net(next(iter(data_iter))[0]).shape,next(iter(data_iter))[1].shape"
      ],
      "metadata": {
        "colab": {
          "base_uri": "https://localhost:8080/"
        },
        "id": "ARhPOswrVBbI",
        "outputId": "0cebf247-3d75-4c25-9d51-e585b0437ca0"
      },
      "execution_count": 36,
      "outputs": [
        {
          "output_type": "execute_result",
          "data": {
            "text/plain": [
              "(torch.Size([10, 1]), torch.Size([10, 1]))"
            ]
          },
          "metadata": {},
          "execution_count": 36
        }
      ]
    },
    {
      "cell_type": "code",
      "source": [
        "loss(net(next(iter(data_iter))[0]),next(iter(data_iter))[1])"
      ],
      "metadata": {
        "colab": {
          "base_uri": "https://localhost:8080/"
        },
        "id": "qLWLw8FTVjPN",
        "outputId": "f1c9f620-4aa3-489f-d8bc-d2e304f57bac"
      },
      "execution_count": 37,
      "outputs": [
        {
          "output_type": "execute_result",
          "data": {
            "text/plain": [
              "tensor(17.2331, grad_fn=<MseLossBackward0>)"
            ]
          },
          "metadata": {},
          "execution_count": 37
        }
      ]
    },
    {
      "cell_type": "code",
      "source": [
        "for epoch in range(3):\n",
        "  for X,y in data_iter:\n",
        "    l=loss(net(X),y) # yhat,y_true\n",
        "    trainer.zero_grad()\n",
        "    l.backward()\n",
        "    trainer.step()\n",
        "\n",
        "  l=loss(net(features),labels)\n",
        "  print(f'''Loss for epoch {epoch+1} is {l}''')"
      ],
      "metadata": {
        "colab": {
          "base_uri": "https://localhost:8080/"
        },
        "id": "MN2gaOoUUuVf",
        "outputId": "875f0273-81ff-40ff-a758-8f7ede5ca6bd"
      },
      "execution_count": 38,
      "outputs": [
        {
          "output_type": "stream",
          "name": "stdout",
          "text": [
            "Loss for epoch 1 is 0.0002844185510184616\n",
            "Loss for epoch 2 is 9.692551248008385e-05\n",
            "Loss for epoch 3 is 9.706428681965917e-05\n"
          ]
        }
      ]
    }
  ]
}